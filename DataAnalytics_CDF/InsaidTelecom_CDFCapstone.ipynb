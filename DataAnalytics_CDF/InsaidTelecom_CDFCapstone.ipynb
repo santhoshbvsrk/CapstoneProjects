{
  "nbformat": 4,
  "nbformat_minor": 0,
  "metadata": {
    "accelerator": "GPU",
    "colab": {
      "name": "InsaidTelecom-CDFCapstone.ipynb",
      "provenance": [],
      "collapsed_sections": [],
      "authorship_tag": "ABX9TyNcG9X2XyHcBMvoi/cfF/Ku",
      "include_colab_link": true
    },
    "kernelspec": {
      "display_name": "Python 3",
      "name": "python3"
    },
    "language_info": {
      "name": "python"
    }
  },
  "cells": [
    {
      "cell_type": "markdown",
      "metadata": {
        "id": "view-in-github",
        "colab_type": "text"
      },
      "source": [
        "<a href=\"https://colab.research.google.com/github/santhoshbvsrk/CapstoneProjects/blob/main/DataAnalytics_CDF/InsaidTelecom_CDFCapstone.ipynb\" target=\"_parent\"><img src=\"https://colab.research.google.com/assets/colab-badge.svg\" alt=\"Open In Colab\"/></a>"
      ]
    },
    {
      "cell_type": "markdown",
      "metadata": {
        "id": "9QXzNhYu958b"
      },
      "source": [
        " \n",
        "\n",
        "*  As the dataset is huge, we'll zip it, upload the zip file to google drive and mount your google drive to colab, unzip it to access data from your colab.\n",
        "\n",
        "\n",
        "*   Import the drive package from google.colab library to mount your google drive on to google colab.\n",
        "\n",
        "\n",
        "\n"
      ]
    },
    {
      "cell_type": "code",
      "metadata": {
        "id": "QHCIGBMs6ENg"
      },
      "source": [
        "from google.colab import drive\n",
        "drive.mount ('/content/gdrive')"
      ],
      "execution_count": null,
      "outputs": []
    },
    {
      "cell_type": "markdown",
      "metadata": {
        "id": "x6BVhtcc-Icy"
      },
      "source": [
        "\n",
        "\n",
        "*   Once mounting is completed, mention the path of your zip file which contains the data to read."
      ]
    },
    {
      "cell_type": "code",
      "metadata": {
        "id": "GRHBT_Ui6sYq"
      },
      "source": [
        "!unzip gdrive/My\\ Drive/CDF_Capstone_Project1/events_data.zip"
      ],
      "execution_count": null,
      "outputs": []
    },
    {
      "cell_type": "markdown",
      "metadata": {
        "id": "fmURhSSH-YLT"
      },
      "source": [
        "\n",
        "\n",
        "*   Once mounting and unzipping is completed successfully, you should be able to see the zip file contains in your colab folder.\n"
      ]
    },
    {
      "cell_type": "code",
      "metadata": {
        "id": "LxY5H2kh9m-g"
      },
      "source": [
        "import pandas as pd \n",
        "import numpy as np"
      ],
      "execution_count": null,
      "outputs": []
    },
    {
      "cell_type": "code",
      "metadata": {
        "id": "S1u996mX9qa1"
      },
      "source": [
        "events_data_df=pd.read_csv(\"events_data.csv\")\n",
        "events_data_df.head()"
      ],
      "execution_count": null,
      "outputs": []
    },
    {
      "cell_type": "code",
      "metadata": {
        "colab": {
          "background_save": true
        },
        "id": "sU5F2mCFnomJ",
        "outputId": "75204a3e-f2f9-4051-d166-eb486278b935"
      },
      "source": [
        "events_data_df['state'].value_counts()"
      ],
      "execution_count": null,
      "outputs": [
        {
          "output_type": "execute_result",
          "data": {
            "text/plain": [
              "Delhi                       751733\n",
              "Maharashtra                 677105\n",
              "TamilNadu                   436282\n",
              "AndhraPradesh               321332\n",
              "MadhyaPradesh               232690\n",
              "Rajasthan                   196361\n",
              "WestBengal                  196161\n",
              "Karnataka                    99058\n",
              "UttarPradesh                 94750\n",
              "Gujarat                      42881\n",
              "Bihar                        35472\n",
              "Punjab                       26195\n",
              "Kerala                       23148\n",
              "Haryana                      21053\n",
              "Jharkhand                    18060\n",
              "Orissa                       15904\n",
              "Telangana                    12784\n",
              "Assam                        12021\n",
              "Chhattisgarh                  9754\n",
              "Uttaranchal                   7720\n",
              "JammuandKashmir               5385\n",
              "Goa                           3250\n",
              "Nagaland                      2298\n",
              "Pondicherry                   1741\n",
              "Mizoram                       1613\n",
              "AndamanandNicobarIslands      1515\n",
              "Meghalaya                     1515\n",
              "HimachalPradesh               1409\n",
              "Manipur                        989\n",
              "Chandigarh                     894\n",
              "Tripura                        892\n",
              "ArunachalPradesh               608\n",
              "Name: state, dtype: int64"
            ]
          },
          "metadata": {
            "tags": []
          },
          "execution_count": 0
        }
      ]
    },
    {
      "cell_type": "markdown",
      "metadata": {
        "id": "sI9plkARzHBD"
      },
      "source": [
        "Filtering out events_data for only 6 states as per the requirement given."
      ]
    },
    {
      "cell_type": "code",
      "metadata": {
        "colab": {
          "background_save": true
        },
        "id": "h63K94kLtzMK"
      },
      "source": [
        "events_data_filtered_df= events_data_df[(events_data_df.state == 'WestBengal') | (events_data_df.state == 'Karnataka') | (events_data_df.state == 'Gujarat') | (events_data_df.state == 'Bihar') | (events_data_df.state == 'Punjab') | (events_data_df.state == 'Kerala')]"
      ],
      "execution_count": null,
      "outputs": []
    },
    {
      "cell_type": "code",
      "metadata": {
        "colab": {
          "background_save": true
        },
        "id": "Z4Ab05fzCRTB",
        "outputId": "8ed2c5ae-0277-4891-d442-ef5784cb9b1a"
      },
      "source": [
        "events_data_filtered_df.info()"
      ],
      "execution_count": null,
      "outputs": [
        {
          "output_type": "stream",
          "text": [
            "<class 'pandas.core.frame.DataFrame'>\n",
            "Int64Index: 422915 entries, 1 to 3252921\n",
            "Data columns (total 7 columns):\n",
            " #   Column     Non-Null Count   Dtype  \n",
            "---  ------     --------------   -----  \n",
            " 0   event_id   422915 non-null  int64  \n",
            " 1   device_id  422867 non-null  float64\n",
            " 2   timestamp  422915 non-null  object \n",
            " 3   longitude  422873 non-null  float64\n",
            " 4   latitude   422873 non-null  float64\n",
            " 5   city       422915 non-null  object \n",
            " 6   state      422915 non-null  object \n",
            "dtypes: float64(3), int64(1), object(3)\n",
            "memory usage: 25.8+ MB\n"
          ],
          "name": "stdout"
        }
      ]
    },
    {
      "cell_type": "markdown",
      "metadata": {
        "id": "JN7DDhsnqTuS"
      },
      "source": [
        "Installing mysql connector for python"
      ]
    },
    {
      "cell_type": "code",
      "metadata": {
        "colab": {
          "background_save": true
        },
        "id": "zqVHeEOaqKlP",
        "outputId": "73d4f4cd-d03d-4039-c035-71e85a502a38"
      },
      "source": [
        "pip install mysql-connector-python-rf"
      ],
      "execution_count": null,
      "outputs": [
        {
          "output_type": "stream",
          "text": [
            "Collecting mysql-connector-python-rf\n",
            "\u001b[?25l  Downloading https://files.pythonhosted.org/packages/21/79/2ff01ab7aa08db3a16b70b990c579c1024c6b2a734263cc7513a758867de/mysql-connector-python-rf-2.2.2.tar.gz (11.9MB)\n",
            "\u001b[K     |████████████████████████████████| 11.9MB 12.8MB/s \n",
            "\u001b[?25hBuilding wheels for collected packages: mysql-connector-python-rf\n",
            "  Building wheel for mysql-connector-python-rf (setup.py) ... \u001b[?25l\u001b[?25hdone\n",
            "  Created wheel for mysql-connector-python-rf: filename=mysql_connector_python_rf-2.2.2-cp37-cp37m-linux_x86_64.whl size=249456 sha256=520c8f18fdbdd6429d5d2ca0eefeaf1d9cbab3399d9f1ef4a9a1a992dbdbbde3\n",
            "  Stored in directory: /root/.cache/pip/wheels/87/58/fb/d95c84fad7e1bebfed324c13e107ebb08e1997c9226532859a\n",
            "Successfully built mysql-connector-python-rf\n",
            "Installing collected packages: mysql-connector-python-rf\n",
            "Successfully installed mysql-connector-python-rf-2.2.2\n"
          ],
          "name": "stdout"
        }
      ]
    },
    {
      "cell_type": "markdown",
      "metadata": {
        "id": "ncnH2UjaDZpf"
      },
      "source": [
        "import package to connect to mysql and loading data from tables to dataframes"
      ]
    },
    {
      "cell_type": "code",
      "metadata": {
        "colab": {
          "background_save": true
        },
        "id": "yzCEUtQfExr-",
        "outputId": "3c212322-0c4e-4449-b5ac-b545779b8b52"
      },
      "source": [
        "import mysql.connector\n",
        "\n",
        "#this is to connect to mysql database\n",
        "mydb = mysql.connector.connect(\n",
        "  host=\"cpanel.insaid.co\",\n",
        "  user=\"student\",\n",
        "  password=\"student\",\n",
        "  database=\"Capstone1\"\n",
        ")\n",
        "\n",
        "#declaring a cursor variable of database to hold data of a specific table\n",
        "mycursor = mydb.cursor()\n",
        "\n",
        "#mycursor variable holds the entire data from gender_age_train table\n",
        "mycursor.execute(\"SELECT * FROM gender_age_train\")\n",
        "\n",
        "#using fetchall function to get data from cursor and populating in another variable\n",
        "myresult = mycursor.fetchall()\n",
        "\n",
        "#inserting table data from variable into a dataframe\n",
        "gender_age_train_df = pd.DataFrame(myresult,columns=['device_id','Gender','Age','Age_Group'])\n",
        "\n",
        "#mycursor variable holds the entire data from phone_brand_device_model table\n",
        "mycursor.execute(\"SELECT * FROM phone_brand_device_model\")\n",
        "\n",
        "#using fetchall function to get data from cursor and populating in another variable, this overwrites data from previous load\n",
        "myresult = mycursor.fetchall()\n",
        "\n",
        "#inserting table data from variable into a dataframe\n",
        "phone_brand_device_model_df = pd.DataFrame(myresult,columns=['device_id','Brand','Model'])\n",
        "\n",
        "#printing sample data from the dataframes\n",
        "print(\"Data from Gender_Age_Train Table\")\n",
        "print(\"---------------------------------\")\n",
        "print(gender_age_train_df.head())\n",
        "print(\"**************************************\")\n",
        "print(\"\\n\")\n",
        "print(\"Data from Phone_Brand_Device_Model Table\")\n",
        "print(\"-----------------------------------------\")\n",
        "print(phone_brand_device_model_df.head())\n",
        "print(\"**************************************\")"
      ],
      "execution_count": null,
      "outputs": [
        {
          "output_type": "stream",
          "text": [
            "Data from Gender_Age_Train Table\n",
            "---------------------------------\n",
            "             device_id Gender  Age Age_Group\n",
            "0 -8076087639492063270      M   35    M32-38\n",
            "1 -2897161552818060146      M   35    M32-38\n",
            "2 -8260683887967679142      M   35    M32-38\n",
            "3 -4938849341048082022      M   30    M29-31\n",
            "4   245133531816851882      M   30    M29-31\n",
            "**************************************\n",
            "\n",
            "\n",
            "Data from Phone_Brand_Device_Model Table\n",
            "-----------------------------------------\n",
            "             device_id Brand    Model\n",
            "0  1877775838486905855  vivo      Y13\n",
            "1 -3766087376657242966    小米     V183\n",
            "2 -6238937574958215831  OPPO      R7s\n",
            "3  8973197758510677470    三星    A368t\n",
            "4 -2015528097870762664    小米  红米Note2\n",
            "**************************************\n"
          ],
          "name": "stdout"
        }
      ]
    },
    {
      "cell_type": "code",
      "metadata": {
        "colab": {
          "background_save": true
        },
        "id": "TRHAsDT8MHz9",
        "outputId": "3b6d5b66-023c-4256-e109-02fd1fca501c"
      },
      "source": [
        "events_data_filtered_df.info()"
      ],
      "execution_count": null,
      "outputs": [
        {
          "output_type": "stream",
          "text": [
            "<class 'pandas.core.frame.DataFrame'>\n",
            "Int64Index: 422915 entries, 1 to 3252921\n",
            "Data columns (total 7 columns):\n",
            " #   Column     Non-Null Count   Dtype  \n",
            "---  ------     --------------   -----  \n",
            " 0   event_id   422915 non-null  int64  \n",
            " 1   device_id  422867 non-null  float64\n",
            " 2   timestamp  422915 non-null  object \n",
            " 3   longitude  422873 non-null  float64\n",
            " 4   latitude   422873 non-null  float64\n",
            " 5   city       422915 non-null  object \n",
            " 6   state      422915 non-null  object \n",
            "dtypes: float64(3), int64(1), object(3)\n",
            "memory usage: 25.8+ MB\n"
          ],
          "name": "stdout"
        }
      ]
    },
    {
      "cell_type": "code",
      "metadata": {
        "colab": {
          "background_save": true
        },
        "id": "ONMl2ZzuMTuB",
        "outputId": "872eeb8b-3883-446a-b989-b5275fd18b33"
      },
      "source": [
        "gender_age_train_df.info()"
      ],
      "execution_count": null,
      "outputs": [
        {
          "output_type": "stream",
          "text": [
            "<class 'pandas.core.frame.DataFrame'>\n",
            "RangeIndex: 74645 entries, 0 to 74644\n",
            "Data columns (total 4 columns):\n",
            " #   Column     Non-Null Count  Dtype \n",
            "---  ------     --------------  ----- \n",
            " 0   device_id  74645 non-null  int64 \n",
            " 1   Gender     74645 non-null  object\n",
            " 2   Age        74645 non-null  int64 \n",
            " 3   Age_Group  74645 non-null  object\n",
            "dtypes: int64(2), object(2)\n",
            "memory usage: 2.3+ MB\n"
          ],
          "name": "stdout"
        }
      ]
    },
    {
      "cell_type": "code",
      "metadata": {
        "colab": {
          "background_save": true
        },
        "id": "RmQCvNB1MT2r",
        "outputId": "38877ebb-b353-4aea-ded6-5a32254188c1"
      },
      "source": [
        "phone_brand_device_model_df.info()"
      ],
      "execution_count": null,
      "outputs": [
        {
          "output_type": "stream",
          "text": [
            "<class 'pandas.core.frame.DataFrame'>\n",
            "RangeIndex: 87726 entries, 0 to 87725\n",
            "Data columns (total 3 columns):\n",
            " #   Column     Non-Null Count  Dtype \n",
            "---  ------     --------------  ----- \n",
            " 0   device_id  87726 non-null  int64 \n",
            " 1   Brand      87726 non-null  object\n",
            " 2   Model      87726 non-null  object\n",
            "dtypes: int64(1), object(2)\n",
            "memory usage: 2.0+ MB\n"
          ],
          "name": "stdout"
        }
      ]
    },
    {
      "cell_type": "code",
      "metadata": {
        "colab": {
          "base_uri": "https://localhost:8080/"
        },
        "id": "2Qco7DdQ8bW2",
        "outputId": "2f33d3a3-f8af-4f11-8a9f-cfe83eaa4204"
      },
      "source": [
        "gender_age_train_df['Gender'].value_counts()"
      ],
      "execution_count": null,
      "outputs": [
        {
          "output_type": "execute_result",
          "data": {
            "text/plain": [
              "M    47904\n",
              "F    26741\n",
              "Name: Gender, dtype: int64"
            ]
          },
          "metadata": {
            "tags": []
          },
          "execution_count": 18
        }
      ]
    },
    {
      "cell_type": "markdown",
      "metadata": {
        "id": "Zj4cuU7m7iZo"
      },
      "source": [
        "No entries in gender_age_train dataframe with null Gender"
      ]
    },
    {
      "cell_type": "code",
      "metadata": {
        "colab": {
          "base_uri": "https://localhost:8080/"
        },
        "id": "jVr0tdAt8zca",
        "outputId": "d6bfb5bc-2605-4c85-9e62-7f4b47fa5625"
      },
      "source": [
        "phone_brand_device_model_df['Brand'].value_counts(ascending=False)"
      ],
      "execution_count": null,
      "outputs": [
        {
          "output_type": "execute_result",
          "data": {
            "text/plain": [
              "小米      21645\n",
              "三星      19211\n",
              "华为      15181\n",
              "vivo     7596\n",
              "OPPO     6717\n",
              "        ...  \n",
              "E人E本        1\n",
              "丰米          1\n",
              "西门子         1\n",
              "世纪星         1\n",
              "恒宇丰         1\n",
              "Name: Brand, Length: 116, dtype: int64"
            ]
          },
          "metadata": {
            "tags": []
          },
          "execution_count": 19
        }
      ]
    },
    {
      "cell_type": "markdown",
      "metadata": {
        "id": "eIiWW9cW7mD5"
      },
      "source": [
        "No records in phone_brand_device_model dataframe with null Brand"
      ]
    },
    {
      "cell_type": "markdown",
      "metadata": {
        "id": "LKuMGCZxWh5g"
      },
      "source": [
        "Merging Dataframes on device_id to create a single dataframe which contains customer age, gender, mobile brand and model"
      ]
    },
    {
      "cell_type": "code",
      "metadata": {
        "colab": {
          "base_uri": "https://localhost:8080/",
          "height": 391
        },
        "id": "R-0klUXfWP4o",
        "outputId": "37fb0ee9-b4b1-4815-e714-6b26219889a9"
      },
      "source": [
        "device_data_df=pd.merge(events_data_filtered_df,gender_age_train_df,on='device_id',how='inner') #performing inner join to fetch only matching device_id records\n",
        "device_data_df.fillna(0,inplace=True) #replacing null values in the columns with 0\n",
        "device_data_df"
      ],
      "execution_count": null,
      "outputs": [
        {
          "output_type": "execute_result",
          "data": {
            "text/html": [
              "<div>\n",
              "<style scoped>\n",
              "    .dataframe tbody tr th:only-of-type {\n",
              "        vertical-align: middle;\n",
              "    }\n",
              "\n",
              "    .dataframe tbody tr th {\n",
              "        vertical-align: top;\n",
              "    }\n",
              "\n",
              "    .dataframe thead th {\n",
              "        text-align: right;\n",
              "    }\n",
              "</style>\n",
              "<table border=\"1\" class=\"dataframe\">\n",
              "  <thead>\n",
              "    <tr style=\"text-align: right;\">\n",
              "      <th></th>\n",
              "      <th>event_id</th>\n",
              "      <th>device_id</th>\n",
              "      <th>timestamp</th>\n",
              "      <th>longitude</th>\n",
              "      <th>latitude</th>\n",
              "      <th>city</th>\n",
              "      <th>state</th>\n",
              "      <th>Gender</th>\n",
              "      <th>Age</th>\n",
              "      <th>Age_Group</th>\n",
              "    </tr>\n",
              "  </thead>\n",
              "  <tbody>\n",
              "    <tr>\n",
              "      <th>0</th>\n",
              "      <td>1836426</td>\n",
              "      <td>3.872522e+18</td>\n",
              "      <td>2016-05-01 20:29:14</td>\n",
              "      <td>71.294802</td>\n",
              "      <td>21.661309</td>\n",
              "      <td>Amreli</td>\n",
              "      <td>Gujarat</td>\n",
              "      <td>M</td>\n",
              "      <td>20</td>\n",
              "      <td>M22-</td>\n",
              "    </tr>\n",
              "    <tr>\n",
              "      <th>1</th>\n",
              "      <td>225132</td>\n",
              "      <td>3.872522e+18</td>\n",
              "      <td>2016-05-01 12:52:44</td>\n",
              "      <td>71.294802</td>\n",
              "      <td>21.661309</td>\n",
              "      <td>Amreli</td>\n",
              "      <td>Gujarat</td>\n",
              "      <td>M</td>\n",
              "      <td>20</td>\n",
              "      <td>M22-</td>\n",
              "    </tr>\n",
              "    <tr>\n",
              "      <th>2</th>\n",
              "      <td>815723</td>\n",
              "      <td>3.872522e+18</td>\n",
              "      <td>2016-05-01 12:28:56</td>\n",
              "      <td>71.294802</td>\n",
              "      <td>21.661309</td>\n",
              "      <td>Amreli</td>\n",
              "      <td>Gujarat</td>\n",
              "      <td>M</td>\n",
              "      <td>20</td>\n",
              "      <td>M22-</td>\n",
              "    </tr>\n",
              "    <tr>\n",
              "      <th>3</th>\n",
              "      <td>1300157</td>\n",
              "      <td>3.872522e+18</td>\n",
              "      <td>2016-05-04 23:24:57</td>\n",
              "      <td>71.294802</td>\n",
              "      <td>21.661309</td>\n",
              "      <td>Amreli</td>\n",
              "      <td>Gujarat</td>\n",
              "      <td>M</td>\n",
              "      <td>20</td>\n",
              "      <td>M22-</td>\n",
              "    </tr>\n",
              "    <tr>\n",
              "      <th>4</th>\n",
              "      <td>233682</td>\n",
              "      <td>3.872522e+18</td>\n",
              "      <td>2016-05-04 19:09:26</td>\n",
              "      <td>71.294802</td>\n",
              "      <td>21.661309</td>\n",
              "      <td>Amreli</td>\n",
              "      <td>Gujarat</td>\n",
              "      <td>M</td>\n",
              "      <td>20</td>\n",
              "      <td>M22-</td>\n",
              "    </tr>\n",
              "    <tr>\n",
              "      <th>...</th>\n",
              "      <td>...</td>\n",
              "      <td>...</td>\n",
              "      <td>...</td>\n",
              "      <td>...</td>\n",
              "      <td>...</td>\n",
              "      <td>...</td>\n",
              "      <td>...</td>\n",
              "      <td>...</td>\n",
              "      <td>...</td>\n",
              "      <td>...</td>\n",
              "    </tr>\n",
              "    <tr>\n",
              "      <th>2636</th>\n",
              "      <td>1530731</td>\n",
              "      <td>-2.288468e+17</td>\n",
              "      <td>2016-05-07 10:35:00</td>\n",
              "      <td>88.413496</td>\n",
              "      <td>22.561318</td>\n",
              "      <td>Chakdaha</td>\n",
              "      <td>WestBengal</td>\n",
              "      <td>F</td>\n",
              "      <td>63</td>\n",
              "      <td>F43+</td>\n",
              "    </tr>\n",
              "    <tr>\n",
              "      <th>2637</th>\n",
              "      <td>2967042</td>\n",
              "      <td>-2.288468e+17</td>\n",
              "      <td>2016-05-01 08:08:46</td>\n",
              "      <td>88.413496</td>\n",
              "      <td>22.561318</td>\n",
              "      <td>Chakdaha</td>\n",
              "      <td>WestBengal</td>\n",
              "      <td>F</td>\n",
              "      <td>63</td>\n",
              "      <td>F43+</td>\n",
              "    </tr>\n",
              "    <tr>\n",
              "      <th>2638</th>\n",
              "      <td>1334106</td>\n",
              "      <td>-2.734689e+18</td>\n",
              "      <td>2016-05-05 10:00:05</td>\n",
              "      <td>72.616658</td>\n",
              "      <td>23.056911</td>\n",
              "      <td>Ahmadabad</td>\n",
              "      <td>Gujarat</td>\n",
              "      <td>M</td>\n",
              "      <td>27</td>\n",
              "      <td>M27-28</td>\n",
              "    </tr>\n",
              "    <tr>\n",
              "      <th>2639</th>\n",
              "      <td>1776773</td>\n",
              "      <td>3.711362e+18</td>\n",
              "      <td>2016-05-02 15:54:13</td>\n",
              "      <td>70.861036</td>\n",
              "      <td>22.872394</td>\n",
              "      <td>Morvi</td>\n",
              "      <td>Gujarat</td>\n",
              "      <td>M</td>\n",
              "      <td>31</td>\n",
              "      <td>M29-31</td>\n",
              "    </tr>\n",
              "    <tr>\n",
              "      <th>2640</th>\n",
              "      <td>1608869</td>\n",
              "      <td>3.501847e+18</td>\n",
              "      <td>2016-05-04 13:27:20</td>\n",
              "      <td>72.607350</td>\n",
              "      <td>23.763381</td>\n",
              "      <td>Visnagar</td>\n",
              "      <td>Gujarat</td>\n",
              "      <td>M</td>\n",
              "      <td>28</td>\n",
              "      <td>M27-28</td>\n",
              "    </tr>\n",
              "  </tbody>\n",
              "</table>\n",
              "<p>2641 rows × 10 columns</p>\n",
              "</div>"
            ],
            "text/plain": [
              "      event_id     device_id            timestamp  ...  Gender  Age Age_Group\n",
              "0      1836426  3.872522e+18  2016-05-01 20:29:14  ...       M   20      M22-\n",
              "1       225132  3.872522e+18  2016-05-01 12:52:44  ...       M   20      M22-\n",
              "2       815723  3.872522e+18  2016-05-01 12:28:56  ...       M   20      M22-\n",
              "3      1300157  3.872522e+18  2016-05-04 23:24:57  ...       M   20      M22-\n",
              "4       233682  3.872522e+18  2016-05-04 19:09:26  ...       M   20      M22-\n",
              "...        ...           ...                  ...  ...     ...  ...       ...\n",
              "2636   1530731 -2.288468e+17  2016-05-07 10:35:00  ...       F   63      F43+\n",
              "2637   2967042 -2.288468e+17  2016-05-01 08:08:46  ...       F   63      F43+\n",
              "2638   1334106 -2.734689e+18  2016-05-05 10:00:05  ...       M   27    M27-28\n",
              "2639   1776773  3.711362e+18  2016-05-02 15:54:13  ...       M   31    M29-31\n",
              "2640   1608869  3.501847e+18  2016-05-04 13:27:20  ...       M   28    M27-28\n",
              "\n",
              "[2641 rows x 10 columns]"
            ]
          },
          "metadata": {
            "tags": []
          },
          "execution_count": 49
        }
      ]
    },
    {
      "cell_type": "code",
      "metadata": {
        "colab": {
          "base_uri": "https://localhost:8080/",
          "height": 391
        },
        "id": "k2byoyqqXjqP",
        "outputId": "0d846858-25e5-448e-c0ef-a7ad6edd40ca"
      },
      "source": [
        "device_data_df=pd.merge(device_data_df,phone_brand_device_model_df,on='device_id',how='inner')\n",
        "device_data_df.fillna(0,inplace=True)\n",
        "device_data_df"
      ],
      "execution_count": null,
      "outputs": [
        {
          "output_type": "execute_result",
          "data": {
            "text/html": [
              "<div>\n",
              "<style scoped>\n",
              "    .dataframe tbody tr th:only-of-type {\n",
              "        vertical-align: middle;\n",
              "    }\n",
              "\n",
              "    .dataframe tbody tr th {\n",
              "        vertical-align: top;\n",
              "    }\n",
              "\n",
              "    .dataframe thead th {\n",
              "        text-align: right;\n",
              "    }\n",
              "</style>\n",
              "<table border=\"1\" class=\"dataframe\">\n",
              "  <thead>\n",
              "    <tr style=\"text-align: right;\">\n",
              "      <th></th>\n",
              "      <th>event_id</th>\n",
              "      <th>device_id</th>\n",
              "      <th>timestamp</th>\n",
              "      <th>longitude</th>\n",
              "      <th>latitude</th>\n",
              "      <th>city</th>\n",
              "      <th>state</th>\n",
              "      <th>Gender</th>\n",
              "      <th>Age</th>\n",
              "      <th>Age_Group</th>\n",
              "      <th>Brand</th>\n",
              "      <th>Model</th>\n",
              "    </tr>\n",
              "  </thead>\n",
              "  <tbody>\n",
              "    <tr>\n",
              "      <th>0</th>\n",
              "      <td>1836426</td>\n",
              "      <td>3.872522e+18</td>\n",
              "      <td>2016-05-01 20:29:14</td>\n",
              "      <td>71.294802</td>\n",
              "      <td>21.661309</td>\n",
              "      <td>Amreli</td>\n",
              "      <td>Gujarat</td>\n",
              "      <td>M</td>\n",
              "      <td>20</td>\n",
              "      <td>M22-</td>\n",
              "      <td>酷派</td>\n",
              "      <td>8702</td>\n",
              "    </tr>\n",
              "    <tr>\n",
              "      <th>1</th>\n",
              "      <td>225132</td>\n",
              "      <td>3.872522e+18</td>\n",
              "      <td>2016-05-01 12:52:44</td>\n",
              "      <td>71.294802</td>\n",
              "      <td>21.661309</td>\n",
              "      <td>Amreli</td>\n",
              "      <td>Gujarat</td>\n",
              "      <td>M</td>\n",
              "      <td>20</td>\n",
              "      <td>M22-</td>\n",
              "      <td>酷派</td>\n",
              "      <td>8702</td>\n",
              "    </tr>\n",
              "    <tr>\n",
              "      <th>2</th>\n",
              "      <td>815723</td>\n",
              "      <td>3.872522e+18</td>\n",
              "      <td>2016-05-01 12:28:56</td>\n",
              "      <td>71.294802</td>\n",
              "      <td>21.661309</td>\n",
              "      <td>Amreli</td>\n",
              "      <td>Gujarat</td>\n",
              "      <td>M</td>\n",
              "      <td>20</td>\n",
              "      <td>M22-</td>\n",
              "      <td>酷派</td>\n",
              "      <td>8702</td>\n",
              "    </tr>\n",
              "    <tr>\n",
              "      <th>3</th>\n",
              "      <td>1300157</td>\n",
              "      <td>3.872522e+18</td>\n",
              "      <td>2016-05-04 23:24:57</td>\n",
              "      <td>71.294802</td>\n",
              "      <td>21.661309</td>\n",
              "      <td>Amreli</td>\n",
              "      <td>Gujarat</td>\n",
              "      <td>M</td>\n",
              "      <td>20</td>\n",
              "      <td>M22-</td>\n",
              "      <td>酷派</td>\n",
              "      <td>8702</td>\n",
              "    </tr>\n",
              "    <tr>\n",
              "      <th>4</th>\n",
              "      <td>233682</td>\n",
              "      <td>3.872522e+18</td>\n",
              "      <td>2016-05-04 19:09:26</td>\n",
              "      <td>71.294802</td>\n",
              "      <td>21.661309</td>\n",
              "      <td>Amreli</td>\n",
              "      <td>Gujarat</td>\n",
              "      <td>M</td>\n",
              "      <td>20</td>\n",
              "      <td>M22-</td>\n",
              "      <td>酷派</td>\n",
              "      <td>8702</td>\n",
              "    </tr>\n",
              "    <tr>\n",
              "      <th>...</th>\n",
              "      <td>...</td>\n",
              "      <td>...</td>\n",
              "      <td>...</td>\n",
              "      <td>...</td>\n",
              "      <td>...</td>\n",
              "      <td>...</td>\n",
              "      <td>...</td>\n",
              "      <td>...</td>\n",
              "      <td>...</td>\n",
              "      <td>...</td>\n",
              "      <td>...</td>\n",
              "      <td>...</td>\n",
              "    </tr>\n",
              "    <tr>\n",
              "      <th>2636</th>\n",
              "      <td>1530731</td>\n",
              "      <td>-2.288468e+17</td>\n",
              "      <td>2016-05-07 10:35:00</td>\n",
              "      <td>88.413496</td>\n",
              "      <td>22.561318</td>\n",
              "      <td>Chakdaha</td>\n",
              "      <td>WestBengal</td>\n",
              "      <td>F</td>\n",
              "      <td>63</td>\n",
              "      <td>F43+</td>\n",
              "      <td>魅族</td>\n",
              "      <td>MX3</td>\n",
              "    </tr>\n",
              "    <tr>\n",
              "      <th>2637</th>\n",
              "      <td>2967042</td>\n",
              "      <td>-2.288468e+17</td>\n",
              "      <td>2016-05-01 08:08:46</td>\n",
              "      <td>88.413496</td>\n",
              "      <td>22.561318</td>\n",
              "      <td>Chakdaha</td>\n",
              "      <td>WestBengal</td>\n",
              "      <td>F</td>\n",
              "      <td>63</td>\n",
              "      <td>F43+</td>\n",
              "      <td>魅族</td>\n",
              "      <td>MX3</td>\n",
              "    </tr>\n",
              "    <tr>\n",
              "      <th>2638</th>\n",
              "      <td>1334106</td>\n",
              "      <td>-2.734689e+18</td>\n",
              "      <td>2016-05-05 10:00:05</td>\n",
              "      <td>72.616658</td>\n",
              "      <td>23.056911</td>\n",
              "      <td>Ahmadabad</td>\n",
              "      <td>Gujarat</td>\n",
              "      <td>M</td>\n",
              "      <td>27</td>\n",
              "      <td>M27-28</td>\n",
              "      <td>华为</td>\n",
              "      <td>荣耀3X畅玩版</td>\n",
              "    </tr>\n",
              "    <tr>\n",
              "      <th>2639</th>\n",
              "      <td>1776773</td>\n",
              "      <td>3.711362e+18</td>\n",
              "      <td>2016-05-02 15:54:13</td>\n",
              "      <td>70.861036</td>\n",
              "      <td>22.872394</td>\n",
              "      <td>Morvi</td>\n",
              "      <td>Gujarat</td>\n",
              "      <td>M</td>\n",
              "      <td>31</td>\n",
              "      <td>M29-31</td>\n",
              "      <td>三星</td>\n",
              "      <td>Galaxy S6</td>\n",
              "    </tr>\n",
              "    <tr>\n",
              "      <th>2640</th>\n",
              "      <td>1608869</td>\n",
              "      <td>3.501847e+18</td>\n",
              "      <td>2016-05-04 13:27:20</td>\n",
              "      <td>72.607350</td>\n",
              "      <td>23.763381</td>\n",
              "      <td>Visnagar</td>\n",
              "      <td>Gujarat</td>\n",
              "      <td>M</td>\n",
              "      <td>28</td>\n",
              "      <td>M27-28</td>\n",
              "      <td>小米</td>\n",
              "      <td>E5</td>\n",
              "    </tr>\n",
              "  </tbody>\n",
              "</table>\n",
              "<p>2641 rows × 12 columns</p>\n",
              "</div>"
            ],
            "text/plain": [
              "      event_id     device_id            timestamp  ...  Age_Group  Brand      Model\n",
              "0      1836426  3.872522e+18  2016-05-01 20:29:14  ...       M22-     酷派       8702\n",
              "1       225132  3.872522e+18  2016-05-01 12:52:44  ...       M22-     酷派       8702\n",
              "2       815723  3.872522e+18  2016-05-01 12:28:56  ...       M22-     酷派       8702\n",
              "3      1300157  3.872522e+18  2016-05-04 23:24:57  ...       M22-     酷派       8702\n",
              "4       233682  3.872522e+18  2016-05-04 19:09:26  ...       M22-     酷派       8702\n",
              "...        ...           ...                  ...  ...        ...    ...        ...\n",
              "2636   1530731 -2.288468e+17  2016-05-07 10:35:00  ...       F43+     魅族        MX3\n",
              "2637   2967042 -2.288468e+17  2016-05-01 08:08:46  ...       F43+     魅族        MX3\n",
              "2638   1334106 -2.734689e+18  2016-05-05 10:00:05  ...     M27-28     华为    荣耀3X畅玩版\n",
              "2639   1776773  3.711362e+18  2016-05-02 15:54:13  ...     M29-31     三星  Galaxy S6\n",
              "2640   1608869  3.501847e+18  2016-05-04 13:27:20  ...     M27-28     小米         E5\n",
              "\n",
              "[2641 rows x 12 columns]"
            ]
          },
          "metadata": {
            "tags": []
          },
          "execution_count": 50
        }
      ]
    },
    {
      "cell_type": "code",
      "metadata": {
        "colab": {
          "base_uri": "https://localhost:8080/"
        },
        "id": "iX_EB_jr_ylh",
        "outputId": "1c51f258-df27-487b-b2e6-c3c79ed3cf81"
      },
      "source": [
        "device_data_df['device_id'].value_counts()"
      ],
      "execution_count": null,
      "outputs": [
        {
          "output_type": "execute_result",
          "data": {
            "text/plain": [
              " 1.274328e+17    285\n",
              "-1.116277e+18    224\n",
              " 7.636862e+16    151\n",
              "-2.876037e+15     76\n",
              " 4.566137e+14     75\n",
              "                ... \n",
              " 3.711362e+18      1\n",
              " 3.299619e+17      1\n",
              "-2.056028e+17      1\n",
              "-9.869566e+15      1\n",
              " 1.512378e+18      1\n",
              "Name: device_id, Length: 120, dtype: int64"
            ]
          },
          "metadata": {
            "tags": []
          },
          "execution_count": 42
        }
      ]
    },
    {
      "cell_type": "markdown",
      "metadata": {
        "id": "Zrx31Y7F-1Z_"
      },
      "source": [
        "1.   Only 2641 records have matching device_id from all the 3 dataframes.\n",
        "2.   Of 2641 matching records there are 120 unique DeviceIDs which mean that there are multiple events for few Devices.\n"
      ]
    },
    {
      "cell_type": "code",
      "metadata": {
        "colab": {
          "base_uri": "https://localhost:8080/"
        },
        "id": "1cka-Rj-82D5",
        "outputId": "cca6902c-54d3-4c2e-a4cd-78667868596d"
      },
      "source": [
        "device_data_df['Model'].value_counts(ascending=True)"
      ],
      "execution_count": null,
      "outputs": [
        {
          "output_type": "execute_result",
          "data": {
            "text/plain": [
              "E5              1\n",
              "T1              1\n",
              "Z9              1\n",
              "超级手机1           1\n",
              "红米note增强版       2\n",
              "             ... \n",
              "荣耀畅玩4         115\n",
              "MI 3          137\n",
              "Galaxy Win    151\n",
              "红米Note2       224\n",
              "红米note        306\n",
              "Name: Model, Length: 85, dtype: int64"
            ]
          },
          "metadata": {
            "tags": []
          },
          "execution_count": 36
        }
      ]
    },
    {
      "cell_type": "code",
      "metadata": {
        "colab": {
          "base_uri": "https://localhost:8080/"
        },
        "id": "r0GsJkREYA9q",
        "outputId": "d3d7572e-c92b-42d2-8444-bd27e8c921b3"
      },
      "source": [
        "device_data_df['Brand'].value_counts(ascending=True)"
      ],
      "execution_count": null,
      "outputs": [
        {
          "output_type": "execute_result",
          "data": {
            "text/plain": [
              "锤子        1\n",
              "酷比魔方      8\n",
              "努比亚       9\n",
              "亿通       17\n",
              "一加       35\n",
              "HTC      57\n",
              "乐视       72\n",
              "魅族       94\n",
              "OPPO     95\n",
              "酷派      161\n",
              "vivo    205\n",
              "华为      369\n",
              "三星      577\n",
              "小米      941\n",
              "Name: Brand, dtype: int64"
            ]
          },
          "metadata": {
            "tags": []
          },
          "execution_count": 43
        }
      ]
    },
    {
      "cell_type": "markdown",
      "metadata": {
        "id": "DoHBTfIjA_Ol"
      },
      "source": [
        "Upon merging all the 3 dataframes we've data for around 85 models from 14 Brands."
      ]
    },
    {
      "cell_type": "code",
      "metadata": {
        "colab": {
          "base_uri": "https://localhost:8080/"
        },
        "id": "KEdLTRMuBUzR",
        "outputId": "bbdb493a-9cb6-4944-d8f7-ed220e08f1b3"
      },
      "source": [
        "device_data_df['state'].value_counts()"
      ],
      "execution_count": null,
      "outputs": [
        {
          "output_type": "execute_result",
          "data": {
            "text/plain": [
              "WestBengal    959\n",
              "Gujarat       707\n",
              "Karnataka     572\n",
              "Bihar         300\n",
              "Kerala         71\n",
              "Punjab         32\n",
              "Name: state, dtype: int64"
            ]
          },
          "metadata": {
            "tags": []
          },
          "execution_count": 45
        }
      ]
    },
    {
      "cell_type": "markdown",
      "metadata": {
        "id": "j9A8BifHBgBG"
      },
      "source": [
        "# Observations\n",
        "\n",
        "\n",
        "1.   There are \n",
        "2.   List item\n",
        "\n"
      ]
    }
  ]
}