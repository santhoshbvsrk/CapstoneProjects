{
  "nbformat": 4,
  "nbformat_minor": 0,
  "metadata": {
    "colab": {
      "name": "InsaidTelecom-CDFCapstone.ipynb",
      "provenance": [],
      "collapsed_sections": [],
      "authorship_tag": "ABX9TyNBgXkjh+16xZvDB+P/ozJz",
      "include_colab_link": true
    },
    "kernelspec": {
      "name": "python3",
      "display_name": "Python 3"
    },
    "language_info": {
      "name": "python"
    }
  },
  "cells": [
    {
      "cell_type": "markdown",
      "metadata": {
        "id": "view-in-github",
        "colab_type": "text"
      },
      "source": [
        "<a href=\"https://colab.research.google.com/github/santhoshbvsrk/CapstoneProjects/blob/main/DataAnalytics_CDF/InsaidTelecom_CDFCapstone.ipynb\" target=\"_parent\"><img src=\"https://colab.research.google.com/assets/colab-badge.svg\" alt=\"Open In Colab\"/></a>"
      ]
    },
    {
      "cell_type": "markdown",
      "metadata": {
        "id": "9QXzNhYu958b"
      },
      "source": [
        " \n",
        "\n",
        "*  As the dataset is huge, we'll zip it, upload the zip file to google drive and mount your google drive to colab, unzip it to access data from your colab.\n",
        "\n",
        "\n",
        "*   Import the drive package from google.colab library to mount your google drive on to google colab.\n",
        "\n",
        "\n",
        "\n"
      ]
    },
    {
      "cell_type": "code",
      "metadata": {
        "colab": {
          "base_uri": "https://localhost:8080/"
        },
        "id": "QHCIGBMs6ENg",
        "outputId": "024cd7aa-bad9-48f7-bcf7-11f5d1671ce4"
      },
      "source": [
        "from google.colab import drive\n",
        "drive.mount ('/content/gdrive')"
      ],
      "execution_count": 1,
      "outputs": [
        {
          "output_type": "stream",
          "text": [
            "Mounted at /content/gdrive\n"
          ],
          "name": "stdout"
        }
      ]
    },
    {
      "cell_type": "markdown",
      "metadata": {
        "id": "x6BVhtcc-Icy"
      },
      "source": [
        "\n",
        "\n",
        "*   Once mounting is completed, mention the path of your zip file which contains the data to read."
      ]
    },
    {
      "cell_type": "code",
      "metadata": {
        "colab": {
          "base_uri": "https://localhost:8080/"
        },
        "id": "GRHBT_Ui6sYq",
        "outputId": "96567122-2594-4fbf-d03f-ed6e8f0dd33e"
      },
      "source": [
        "!unzip gdrive/My\\ Drive/CDF_Capstone_Project1/events_data.zip"
      ],
      "execution_count": 4,
      "outputs": [
        {
          "output_type": "stream",
          "text": [
            "Archive:  gdrive/My Drive/CDF_Capstone_Project1/events_data.zip\n",
            "  inflating: events_data.csv         \n"
          ],
          "name": "stdout"
        }
      ]
    },
    {
      "cell_type": "markdown",
      "metadata": {
        "id": "fmURhSSH-YLT"
      },
      "source": [
        "\n",
        "\n",
        "*   Once mounting and unzipping is completed successfully, you should be able to see the zip file contains in your colab folder.\n"
      ]
    },
    {
      "cell_type": "code",
      "metadata": {
        "id": "LxY5H2kh9m-g"
      },
      "source": [
        "import pandas as pd \n",
        "import numpy as np"
      ],
      "execution_count": 5,
      "outputs": []
    },
    {
      "cell_type": "code",
      "metadata": {
        "colab": {
          "base_uri": "https://localhost:8080/",
          "height": 191
        },
        "id": "S1u996mX9qa1",
        "outputId": "cfe2b0dd-432d-4c81-c3a0-536ccfa2e90d"
      },
      "source": [
        "df=pd.read_csv(\"events_data.csv\")\n",
        "df.head()"
      ],
      "execution_count": 6,
      "outputs": [
        {
          "output_type": "execute_result",
          "data": {
            "text/html": [
              "<div>\n",
              "<style scoped>\n",
              "    .dataframe tbody tr th:only-of-type {\n",
              "        vertical-align: middle;\n",
              "    }\n",
              "\n",
              "    .dataframe tbody tr th {\n",
              "        vertical-align: top;\n",
              "    }\n",
              "\n",
              "    .dataframe thead th {\n",
              "        text-align: right;\n",
              "    }\n",
              "</style>\n",
              "<table border=\"1\" class=\"dataframe\">\n",
              "  <thead>\n",
              "    <tr style=\"text-align: right;\">\n",
              "      <th></th>\n",
              "      <th>event_id</th>\n",
              "      <th>device_id</th>\n",
              "      <th>timestamp</th>\n",
              "      <th>longitude</th>\n",
              "      <th>latitude</th>\n",
              "      <th>city</th>\n",
              "      <th>state</th>\n",
              "    </tr>\n",
              "  </thead>\n",
              "  <tbody>\n",
              "    <tr>\n",
              "      <th>0</th>\n",
              "      <td>2765368</td>\n",
              "      <td>2.973348e+18</td>\n",
              "      <td>2016-05-07 22:52:05</td>\n",
              "      <td>77.225676</td>\n",
              "      <td>28.730140</td>\n",
              "      <td>Delhi</td>\n",
              "      <td>Delhi</td>\n",
              "    </tr>\n",
              "    <tr>\n",
              "      <th>1</th>\n",
              "      <td>2955066</td>\n",
              "      <td>4.734221e+18</td>\n",
              "      <td>2016-05-01 20:44:16</td>\n",
              "      <td>88.388361</td>\n",
              "      <td>22.660325</td>\n",
              "      <td>Calcutta</td>\n",
              "      <td>WestBengal</td>\n",
              "    </tr>\n",
              "    <tr>\n",
              "      <th>2</th>\n",
              "      <td>605968</td>\n",
              "      <td>-3.264500e+18</td>\n",
              "      <td>2016-05-02 14:23:04</td>\n",
              "      <td>77.256809</td>\n",
              "      <td>28.757906</td>\n",
              "      <td>Delhi</td>\n",
              "      <td>Delhi</td>\n",
              "    </tr>\n",
              "    <tr>\n",
              "      <th>3</th>\n",
              "      <td>448114</td>\n",
              "      <td>5.731369e+18</td>\n",
              "      <td>2016-05-03 13:21:16</td>\n",
              "      <td>80.343613</td>\n",
              "      <td>13.153332</td>\n",
              "      <td>Chennai</td>\n",
              "      <td>TamilNadu</td>\n",
              "    </tr>\n",
              "    <tr>\n",
              "      <th>4</th>\n",
              "      <td>665740</td>\n",
              "      <td>3.388880e+17</td>\n",
              "      <td>2016-05-06 03:51:05</td>\n",
              "      <td>85.997745</td>\n",
              "      <td>23.842609</td>\n",
              "      <td>Bokaro</td>\n",
              "      <td>Jharkhand</td>\n",
              "    </tr>\n",
              "  </tbody>\n",
              "</table>\n",
              "</div>"
            ],
            "text/plain": [
              "   event_id     device_id            timestamp  ...   latitude      city       state\n",
              "0   2765368  2.973348e+18  2016-05-07 22:52:05  ...  28.730140     Delhi       Delhi\n",
              "1   2955066  4.734221e+18  2016-05-01 20:44:16  ...  22.660325  Calcutta  WestBengal\n",
              "2    605968 -3.264500e+18  2016-05-02 14:23:04  ...  28.757906     Delhi       Delhi\n",
              "3    448114  5.731369e+18  2016-05-03 13:21:16  ...  13.153332   Chennai   TamilNadu\n",
              "4    665740  3.388880e+17  2016-05-06 03:51:05  ...  23.842609    Bokaro   Jharkhand\n",
              "\n",
              "[5 rows x 7 columns]"
            ]
          },
          "metadata": {
            "tags": []
          },
          "execution_count": 6
        }
      ]
    },
    {
      "cell_type": "code",
      "metadata": {
        "colab": {
          "base_uri": "https://localhost:8080/"
        },
        "id": "Z4Ab05fzCRTB",
        "outputId": "50e6b77b-d5ce-43e0-9ba1-d2bdded00ded"
      },
      "source": [
        "df.info()"
      ],
      "execution_count": 7,
      "outputs": [
        {
          "output_type": "stream",
          "text": [
            "<class 'pandas.core.frame.DataFrame'>\n",
            "RangeIndex: 3252950 entries, 0 to 3252949\n",
            "Data columns (total 7 columns):\n",
            " #   Column     Dtype  \n",
            "---  ------     -----  \n",
            " 0   event_id   int64  \n",
            " 1   device_id  float64\n",
            " 2   timestamp  object \n",
            " 3   longitude  float64\n",
            " 4   latitude   float64\n",
            " 5   city       object \n",
            " 6   state      object \n",
            "dtypes: float64(3), int64(1), object(3)\n",
            "memory usage: 173.7+ MB\n"
          ],
          "name": "stdout"
        }
      ]
    },
    {
      "cell_type": "markdown",
      "metadata": {
        "id": "ncnH2UjaDZpf"
      },
      "source": [
        "import package to connect to MySql."
      ]
    },
    {
      "cell_type": "code",
      "metadata": {
        "colab": {
          "base_uri": "https://localhost:8080/"
        },
        "id": "yzCEUtQfExr-",
        "outputId": "02d69504-5990-48f4-c2ef-038f1219cc73"
      },
      "source": [
        "import mysql.connector\n",
        "\n",
        "#this is to connect to mysql database\n",
        "mydb = mysql.connector.connect(\n",
        "  host=\"cpanel.insaid.co\",\n",
        "  user=\"student\",\n",
        "  password=\"student\",\n",
        "  database=\"Capstone1\"\n",
        ")\n",
        "\n",
        "#declaring a cursor variable of database to hold data of a specific table\n",
        "mycursor = mydb.cursor()\n",
        "\n",
        "#mycursor variable holds the entire data from gender_age_train table\n",
        "mycursor.execute(\"SELECT * FROM gender_age_train\")\n",
        "\n",
        "#using fetchall function to get data from cursor and populating in another variable\n",
        "myresult = mycursor.fetchall()\n",
        "\n",
        "#inserting table data from variable into a dataframe\n",
        "gender_age_train_df = pd.DataFrame(myresult,columns=['DeviceID','Gender','Age','Age_Group'])\n",
        "\n",
        "#mycursor variable holds the entire data from phone_brand_device_model table\n",
        "mycursor.execute(\"SELECT * FROM phone_brand_device_model\")\n",
        "\n",
        "#using fetchall function to get data from cursor and populating in another variable, this overwrites data from previous load\n",
        "myresult = mycursor.fetchall()\n",
        "\n",
        "#inserting table data from variable into a dataframe\n",
        "phone_brand_device_model_df = pd.DataFrame(myresult,columns=['DeviceID','Brand','Model'])\n",
        "\n",
        "#printing sample data from the dataframes\n",
        "print(\"Data from Gender_Age_Train Table\")\n",
        "print(gender_age_train_df.head())\n",
        "print(\"**************************************\")\n",
        "print(\"\\n\")\n",
        "print(\"Data from Phone_Brand_Device_Model Table\")\n",
        "print(phone_brand_device_model_df.head())\n",
        "print(\"**************************************\")"
      ],
      "execution_count": 32,
      "outputs": [
        {
          "output_type": "stream",
          "text": [
            "Data from Gender_Age_Train Table\n",
            "              DeviceID Gender  Age Age_Group\n",
            "0 -8076087639492063270      M   35    M32-38\n",
            "1 -2897161552818060146      M   35    M32-38\n",
            "2 -8260683887967679142      M   35    M32-38\n",
            "3 -4938849341048082022      M   30    M29-31\n",
            "4   245133531816851882      M   30    M29-31\n",
            "**************************************\n",
            "\n",
            "\n",
            "Data from Phone_Brand_Device_Model Table\n",
            "              DeviceID Brand    Model\n",
            "0  1877775838486905855  vivo      Y13\n",
            "1 -3766087376657242966    小米     V183\n",
            "2 -6238937574958215831  OPPO      R7s\n",
            "3  8973197758510677470    三星    A368t\n",
            "4 -2015528097870762664    小米  红米Note2\n",
            "**************************************\n"
          ],
          "name": "stdout"
        }
      ]
    }
  ]
}