{
  "nbformat": 4,
  "nbformat_minor": 0,
  "metadata": {
    "colab": {
      "name": "InsaidTelecom-CDFCapstone.ipynb",
      "provenance": [],
      "collapsed_sections": [],
      "authorship_tag": "ABX9TyOhQTLjZCbPSqkmguzV9WmI",
      "include_colab_link": true
    },
    "kernelspec": {
      "name": "python3",
      "display_name": "Python 3"
    },
    "language_info": {
      "name": "python"
    }
  },
  "cells": [
    {
      "cell_type": "markdown",
      "metadata": {
        "id": "view-in-github",
        "colab_type": "text"
      },
      "source": [
        "<a href=\"https://colab.research.google.com/github/santhoshbvsrk/CapstoneProjects/blob/main/DataAnalytics_CDF/InsaidTelecom_CDFCapstone.ipynb\" target=\"_parent\"><img src=\"https://colab.research.google.com/assets/colab-badge.svg\" alt=\"Open In Colab\"/></a>"
      ]
    },
    {
      "cell_type": "markdown",
      "metadata": {
        "id": "9QXzNhYu958b"
      },
      "source": [
        " \n",
        "\n",
        "*  As the dataset is huge, we'll zip it, upload the zip file to google drive and mount your google drive to colab, unzip it to access data from your colab.\n",
        "\n",
        "\n",
        "*   Import the drive package from google.colab library to mount your google drive on to google colab.\n",
        "\n",
        "\n",
        "\n"
      ]
    },
    {
      "cell_type": "code",
      "metadata": {
        "colab": {
          "base_uri": "https://localhost:8080/"
        },
        "id": "QHCIGBMs6ENg",
        "outputId": "89c93fdb-665e-4065-b5cf-a1f17b9b36e0"
      },
      "source": [
        "from google.colab import drive\n",
        "drive.mount ('/content/gdrive')"
      ],
      "execution_count": 4,
      "outputs": [
        {
          "output_type": "stream",
          "text": [
            "Mounted at /content/gdrive\n"
          ],
          "name": "stdout"
        }
      ]
    },
    {
      "cell_type": "markdown",
      "metadata": {
        "id": "x6BVhtcc-Icy"
      },
      "source": [
        "\n",
        "\n",
        "*   Once mounting is completed, mention the path of your zip file which contains the data to read."
      ]
    },
    {
      "cell_type": "code",
      "metadata": {
        "colab": {
          "base_uri": "https://localhost:8080/"
        },
        "id": "GRHBT_Ui6sYq",
        "outputId": "634a3b21-ab30-4010-b3a6-be7903dfa2cd"
      },
      "source": [
        "!unzip gdrive/My\\ Drive/CDF_Capstone_Project1/events_data.zip"
      ],
      "execution_count": 5,
      "outputs": [
        {
          "output_type": "stream",
          "text": [
            "Archive:  gdrive/My Drive/CDF_Capstone_Project1/events_data.zip\n",
            "  inflating: events_data.csv         \n"
          ],
          "name": "stdout"
        }
      ]
    },
    {
      "cell_type": "markdown",
      "metadata": {
        "id": "fmURhSSH-YLT"
      },
      "source": [
        "\n",
        "\n",
        "*   Once mounting and unzipping is completed successfully, you should be able to see the zip file contains in your colab folder.\n"
      ]
    },
    {
      "cell_type": "code",
      "metadata": {
        "id": "LxY5H2kh9m-g"
      },
      "source": [
        "import pandas as pd \n",
        "import numpy as np"
      ],
      "execution_count": 6,
      "outputs": []
    },
    {
      "cell_type": "code",
      "metadata": {
        "colab": {
          "base_uri": "https://localhost:8080/",
          "height": 191
        },
        "id": "S1u996mX9qa1",
        "outputId": "e08cf637-9261-429a-ce8f-adbc43f122cd"
      },
      "source": [
        "events_data_df=pd.read_csv(\"events_data.csv\")\n",
        "events_data_df.head()"
      ],
      "execution_count": 10,
      "outputs": [
        {
          "output_type": "execute_result",
          "data": {
            "text/html": [
              "<div>\n",
              "<style scoped>\n",
              "    .dataframe tbody tr th:only-of-type {\n",
              "        vertical-align: middle;\n",
              "    }\n",
              "\n",
              "    .dataframe tbody tr th {\n",
              "        vertical-align: top;\n",
              "    }\n",
              "\n",
              "    .dataframe thead th {\n",
              "        text-align: right;\n",
              "    }\n",
              "</style>\n",
              "<table border=\"1\" class=\"dataframe\">\n",
              "  <thead>\n",
              "    <tr style=\"text-align: right;\">\n",
              "      <th></th>\n",
              "      <th>event_id</th>\n",
              "      <th>device_id</th>\n",
              "      <th>timestamp</th>\n",
              "      <th>longitude</th>\n",
              "      <th>latitude</th>\n",
              "      <th>city</th>\n",
              "      <th>state</th>\n",
              "    </tr>\n",
              "  </thead>\n",
              "  <tbody>\n",
              "    <tr>\n",
              "      <th>0</th>\n",
              "      <td>2765368</td>\n",
              "      <td>2.973348e+18</td>\n",
              "      <td>2016-05-07 22:52:05</td>\n",
              "      <td>77.225676</td>\n",
              "      <td>28.730140</td>\n",
              "      <td>Delhi</td>\n",
              "      <td>Delhi</td>\n",
              "    </tr>\n",
              "    <tr>\n",
              "      <th>1</th>\n",
              "      <td>2955066</td>\n",
              "      <td>4.734221e+18</td>\n",
              "      <td>2016-05-01 20:44:16</td>\n",
              "      <td>88.388361</td>\n",
              "      <td>22.660325</td>\n",
              "      <td>Calcutta</td>\n",
              "      <td>WestBengal</td>\n",
              "    </tr>\n",
              "    <tr>\n",
              "      <th>2</th>\n",
              "      <td>605968</td>\n",
              "      <td>-3.264500e+18</td>\n",
              "      <td>2016-05-02 14:23:04</td>\n",
              "      <td>77.256809</td>\n",
              "      <td>28.757906</td>\n",
              "      <td>Delhi</td>\n",
              "      <td>Delhi</td>\n",
              "    </tr>\n",
              "    <tr>\n",
              "      <th>3</th>\n",
              "      <td>448114</td>\n",
              "      <td>5.731369e+18</td>\n",
              "      <td>2016-05-03 13:21:16</td>\n",
              "      <td>80.343613</td>\n",
              "      <td>13.153332</td>\n",
              "      <td>Chennai</td>\n",
              "      <td>TamilNadu</td>\n",
              "    </tr>\n",
              "    <tr>\n",
              "      <th>4</th>\n",
              "      <td>665740</td>\n",
              "      <td>3.388880e+17</td>\n",
              "      <td>2016-05-06 03:51:05</td>\n",
              "      <td>85.997745</td>\n",
              "      <td>23.842609</td>\n",
              "      <td>Bokaro</td>\n",
              "      <td>Jharkhand</td>\n",
              "    </tr>\n",
              "  </tbody>\n",
              "</table>\n",
              "</div>"
            ],
            "text/plain": [
              "   event_id     device_id            timestamp  ...   latitude      city       state\n",
              "0   2765368  2.973348e+18  2016-05-07 22:52:05  ...  28.730140     Delhi       Delhi\n",
              "1   2955066  4.734221e+18  2016-05-01 20:44:16  ...  22.660325  Calcutta  WestBengal\n",
              "2    605968 -3.264500e+18  2016-05-02 14:23:04  ...  28.757906     Delhi       Delhi\n",
              "3    448114  5.731369e+18  2016-05-03 13:21:16  ...  13.153332   Chennai   TamilNadu\n",
              "4    665740  3.388880e+17  2016-05-06 03:51:05  ...  23.842609    Bokaro   Jharkhand\n",
              "\n",
              "[5 rows x 7 columns]"
            ]
          },
          "metadata": {
            "tags": []
          },
          "execution_count": 10
        }
      ]
    },
    {
      "cell_type": "code",
      "metadata": {
        "colab": {
          "base_uri": "https://localhost:8080/"
        },
        "id": "sU5F2mCFnomJ",
        "outputId": "c4f39492-6028-4cf9-d72b-3e40543d3b71"
      },
      "source": [
        "events_data_df['state'].value_counts()"
      ],
      "execution_count": 12,
      "outputs": [
        {
          "output_type": "execute_result",
          "data": {
            "text/plain": [
              "Delhi                       751733\n",
              "Maharashtra                 677105\n",
              "TamilNadu                   436282\n",
              "AndhraPradesh               321332\n",
              "MadhyaPradesh               232690\n",
              "Rajasthan                   196361\n",
              "WestBengal                  196161\n",
              "Karnataka                    99058\n",
              "UttarPradesh                 94750\n",
              "Gujarat                      42881\n",
              "Bihar                        35472\n",
              "Punjab                       26195\n",
              "Kerala                       23148\n",
              "Haryana                      21053\n",
              "Jharkhand                    18060\n",
              "Orissa                       15904\n",
              "Telangana                    12784\n",
              "Assam                        12021\n",
              "Chhattisgarh                  9754\n",
              "Uttaranchal                   7720\n",
              "JammuandKashmir               5385\n",
              "Goa                           3250\n",
              "Nagaland                      2298\n",
              "Pondicherry                   1741\n",
              "Mizoram                       1613\n",
              "Meghalaya                     1515\n",
              "AndamanandNicobarIslands      1515\n",
              "HimachalPradesh               1409\n",
              "Manipur                        989\n",
              "Chandigarh                     894\n",
              "Tripura                        892\n",
              "ArunachalPradesh               608\n",
              "Name: state, dtype: int64"
            ]
          },
          "metadata": {
            "tags": []
          },
          "execution_count": 12
        }
      ]
    },
    {
      "cell_type": "markdown",
      "metadata": {
        "id": "sI9plkARzHBD"
      },
      "source": [
        "Filtering out events_data for only 6 states as per the requirement given."
      ]
    },
    {
      "cell_type": "code",
      "metadata": {
        "id": "h63K94kLtzMK"
      },
      "source": [
        "events_data_filtered_df= events_data_df[(events_data_df.state == 'WestBengal') | (events_data_df.state == 'Karnataka') | (events_data_df.state == 'Gujarat') | (events_data_df.state == 'Bihar') | (events_data_df.state == 'Punjab') | (events_data_df.state == 'Kerala')]"
      ],
      "execution_count": 23,
      "outputs": []
    },
    {
      "cell_type": "code",
      "metadata": {
        "colab": {
          "base_uri": "https://localhost:8080/"
        },
        "id": "Z4Ab05fzCRTB",
        "outputId": "43d62116-52f0-4a3e-e1db-3b51dd59c65d"
      },
      "source": [
        "events_data_filtered_df.info()"
      ],
      "execution_count": 24,
      "outputs": [
        {
          "output_type": "stream",
          "text": [
            "<class 'pandas.core.frame.DataFrame'>\n",
            "Int64Index: 422915 entries, 1 to 3252921\n",
            "Data columns (total 7 columns):\n",
            " #   Column     Non-Null Count   Dtype  \n",
            "---  ------     --------------   -----  \n",
            " 0   event_id   422915 non-null  int64  \n",
            " 1   device_id  422867 non-null  float64\n",
            " 2   timestamp  422915 non-null  object \n",
            " 3   longitude  422873 non-null  float64\n",
            " 4   latitude   422873 non-null  float64\n",
            " 5   city       422915 non-null  object \n",
            " 6   state      422915 non-null  object \n",
            "dtypes: float64(3), int64(1), object(3)\n",
            "memory usage: 25.8+ MB\n"
          ],
          "name": "stdout"
        }
      ]
    },
    {
      "cell_type": "markdown",
      "metadata": {
        "id": "JN7DDhsnqTuS"
      },
      "source": [
        "Installing mysql connector for python"
      ]
    },
    {
      "cell_type": "code",
      "metadata": {
        "colab": {
          "base_uri": "https://localhost:8080/"
        },
        "id": "zqVHeEOaqKlP",
        "outputId": "01637f33-35ad-46d7-9d77-2f8479acbc30"
      },
      "source": [
        "pip install mysql-connector-python-rf"
      ],
      "execution_count": 27,
      "outputs": [
        {
          "output_type": "stream",
          "text": [
            "Requirement already satisfied: mysql-connector-python-rf in /usr/local/lib/python3.7/dist-packages (2.2.2)\n"
          ],
          "name": "stdout"
        }
      ]
    },
    {
      "cell_type": "markdown",
      "metadata": {
        "id": "ncnH2UjaDZpf"
      },
      "source": [
        "import package to connect to mysql and loading data from tables to dataframes"
      ]
    },
    {
      "cell_type": "code",
      "metadata": {
        "colab": {
          "base_uri": "https://localhost:8080/"
        },
        "id": "yzCEUtQfExr-",
        "outputId": "479603cf-5508-4212-d6b0-1decd4cf6e8e"
      },
      "source": [
        "import mysql.connector\n",
        "\n",
        "#this is to connect to mysql database\n",
        "mydb = mysql.connector.connect(\n",
        "  host=\"cpanel.insaid.co\",\n",
        "  user=\"student\",\n",
        "  password=\"student\",\n",
        "  database=\"Capstone1\"\n",
        ")\n",
        "\n",
        "#declaring a cursor variable of database to hold data of a specific table\n",
        "mycursor = mydb.cursor()\n",
        "\n",
        "#mycursor variable holds the entire data from gender_age_train table\n",
        "mycursor.execute(\"SELECT * FROM gender_age_train\")\n",
        "\n",
        "#using fetchall function to get data from cursor and populating in another variable\n",
        "myresult = mycursor.fetchall()\n",
        "\n",
        "#inserting table data from variable into a dataframe\n",
        "gender_age_train_df = pd.DataFrame(myresult,columns=['device_id','Gender','Age','Age_Group'])\n",
        "\n",
        "#mycursor variable holds the entire data from phone_brand_device_model table\n",
        "mycursor.execute(\"SELECT * FROM phone_brand_device_model\")\n",
        "\n",
        "#using fetchall function to get data from cursor and populating in another variable, this overwrites data from previous load\n",
        "myresult = mycursor.fetchall()\n",
        "\n",
        "#inserting table data from variable into a dataframe\n",
        "phone_brand_device_model_df = pd.DataFrame(myresult,columns=['device_id','Brand','Model'])\n",
        "\n",
        "#printing sample data from the dataframes\n",
        "print(\"Data from Gender_Age_Train Table\")\n",
        "print(\"---------------------------------\")\n",
        "print(gender_age_train_df.head())\n",
        "print(\"**************************************\")\n",
        "print(\"\\n\")\n",
        "print(\"Data from Phone_Brand_Device_Model Table\")\n",
        "print(\"-----------------------------------------\")\n",
        "print(phone_brand_device_model_df.head())\n",
        "print(\"**************************************\")"
      ],
      "execution_count": 28,
      "outputs": [
        {
          "output_type": "stream",
          "text": [
            "Data from Gender_Age_Train Table\n",
            "---------------------------------\n",
            "             device_id Gender  Age Age_Group\n",
            "0 -8076087639492063270      M   35    M32-38\n",
            "1 -2897161552818060146      M   35    M32-38\n",
            "2 -8260683887967679142      M   35    M32-38\n",
            "3 -4938849341048082022      M   30    M29-31\n",
            "4   245133531816851882      M   30    M29-31\n",
            "**************************************\n",
            "\n",
            "\n",
            "Data from Phone_Brand_Device_Model Table\n",
            "-----------------------------------------\n",
            "             device_id Brand    Model\n",
            "0  1877775838486905855  vivo      Y13\n",
            "1 -3766087376657242966    小米     V183\n",
            "2 -6238937574958215831  OPPO      R7s\n",
            "3  8973197758510677470    三星    A368t\n",
            "4 -2015528097870762664    小米  红米Note2\n",
            "**************************************\n"
          ],
          "name": "stdout"
        }
      ]
    },
    {
      "cell_type": "code",
      "metadata": {
        "colab": {
          "base_uri": "https://localhost:8080/"
        },
        "id": "TRHAsDT8MHz9",
        "outputId": "623ed4c1-ac18-4766-8241-7e9e5442a699"
      },
      "source": [
        "events_data_filtered_df.info()"
      ],
      "execution_count": 25,
      "outputs": [
        {
          "output_type": "stream",
          "text": [
            "<class 'pandas.core.frame.DataFrame'>\n",
            "Int64Index: 422915 entries, 1 to 3252921\n",
            "Data columns (total 7 columns):\n",
            " #   Column     Non-Null Count   Dtype  \n",
            "---  ------     --------------   -----  \n",
            " 0   event_id   422915 non-null  int64  \n",
            " 1   device_id  422867 non-null  float64\n",
            " 2   timestamp  422915 non-null  object \n",
            " 3   longitude  422873 non-null  float64\n",
            " 4   latitude   422873 non-null  float64\n",
            " 5   city       422915 non-null  object \n",
            " 6   state      422915 non-null  object \n",
            "dtypes: float64(3), int64(1), object(3)\n",
            "memory usage: 25.8+ MB\n"
          ],
          "name": "stdout"
        }
      ]
    },
    {
      "cell_type": "code",
      "metadata": {
        "colab": {
          "base_uri": "https://localhost:8080/"
        },
        "id": "ONMl2ZzuMTuB",
        "outputId": "072a4965-e7c1-4ff2-e21a-376dd6e7ecb0"
      },
      "source": [
        "gender_age_train_df.info()"
      ],
      "execution_count": null,
      "outputs": [
        {
          "output_type": "stream",
          "text": [
            "<class 'pandas.core.frame.DataFrame'>\n",
            "RangeIndex: 74645 entries, 0 to 74644\n",
            "Data columns (total 4 columns):\n",
            " #   Column     Non-Null Count  Dtype \n",
            "---  ------     --------------  ----- \n",
            " 0   device_id  74645 non-null  int64 \n",
            " 1   Gender     74645 non-null  object\n",
            " 2   Age        74645 non-null  int64 \n",
            " 3   Age_Group  74645 non-null  object\n",
            "dtypes: int64(2), object(2)\n",
            "memory usage: 2.3+ MB\n"
          ],
          "name": "stdout"
        }
      ]
    },
    {
      "cell_type": "code",
      "metadata": {
        "colab": {
          "base_uri": "https://localhost:8080/"
        },
        "id": "RmQCvNB1MT2r",
        "outputId": "3deafb99-c9c7-400b-d5ff-0b404d8cddc4"
      },
      "source": [
        "phone_brand_device_model_df.info()"
      ],
      "execution_count": null,
      "outputs": [
        {
          "output_type": "stream",
          "text": [
            "<class 'pandas.core.frame.DataFrame'>\n",
            "RangeIndex: 87726 entries, 0 to 87725\n",
            "Data columns (total 3 columns):\n",
            " #   Column     Non-Null Count  Dtype \n",
            "---  ------     --------------  ----- \n",
            " 0   device_id  87726 non-null  int64 \n",
            " 1   Brand      87726 non-null  object\n",
            " 2   Model      87726 non-null  object\n",
            "dtypes: int64(1), object(2)\n",
            "memory usage: 2.0+ MB\n"
          ],
          "name": "stdout"
        }
      ]
    },
    {
      "cell_type": "markdown",
      "metadata": {
        "id": "9qxDJOoLUS_j"
      },
      "source": [
        "Checking how many device_id from gender_age_train_df are present in events_data_df"
      ]
    },
    {
      "cell_type": "code",
      "metadata": {
        "id": "lrL-0R3HUqGZ",
        "colab": {
          "base_uri": "https://localhost:8080/"
        },
        "outputId": "c7bfeefe-575e-4814-e865-e9816cf1652f"
      },
      "source": [
        "count=0\n",
        "for id in gender_age_train_df['device_id']:\n",
        "  events_data_filtered_df[events_data_filtered_df['device_id']==id]\n",
        "  count=count+1\n",
        "  \n",
        "print(\"Number of DeviceIds common in EventsData & GenderAgeTrain are: \",count)"
      ],
      "execution_count": 29,
      "outputs": [
        {
          "output_type": "stream",
          "text": [
            "Number of DeviceIds common in EventsData & GenderAgeTrain are:  74645\n"
          ],
          "name": "stdout"
        }
      ]
    },
    {
      "cell_type": "code",
      "metadata": {
        "colab": {
          "base_uri": "https://localhost:8080/"
        },
        "id": "fIAlWwBXMv7a",
        "outputId": "fa282af4-7c35-488b-e690-201d7a38ee7b"
      },
      "source": [
        "count=0\n",
        "for id in phone_brand_device_model_df['device_id']:\n",
        "  events_data_filtered_df[events_data_filtered_df['device_id']==id]\n",
        "  count=count+1\n",
        "  \n",
        "print(\"Number of DeviceIds common in EventsData & PhoneBrandDeviceModel are: \",count)"
      ],
      "execution_count": 30,
      "outputs": [
        {
          "output_type": "stream",
          "text": [
            "Number of DeviceIds common in EventsData & PhoneBrandDeviceModel are:  87726\n"
          ],
          "name": "stdout"
        }
      ]
    },
    {
      "cell_type": "markdown",
      "metadata": {
        "id": "HdyKoyYoW_is"
      },
      "source": [
        "From this we can say that all the device_id present in phone_brand_device_model_df are present in events_data_df"
      ]
    },
    {
      "cell_type": "code",
      "metadata": {
        "colab": {
          "base_uri": "https://localhost:8080/"
        },
        "id": "dBWGiPAfvMN2",
        "outputId": "3e142809-eb97-4940-ca31-7b73dabbbe8f"
      },
      "source": [
        "events_data_df['device_id'].value_counts(ascending=False)"
      ],
      "execution_count": null,
      "outputs": [
        {
          "output_type": "execute_result",
          "data": {
            "text/plain": [
              " 5.536513e+18    33426\n",
              "-4.792366e+18    14568\n",
              " 4.428421e+17     6731\n",
              "-6.242501e+18     4150\n",
              "-8.340098e+18     3973\n",
              "                 ...  \n",
              " 1.811198e+18        1\n",
              "-6.853438e+18        1\n",
              "-6.429648e+17        1\n",
              " 4.889676e+18        1\n",
              "-4.243579e+18        1\n",
              "Name: device_id, Length: 60865, dtype: int64"
            ]
          },
          "metadata": {
            "tags": []
          },
          "execution_count": 35
        }
      ]
    },
    {
      "cell_type": "code",
      "metadata": {
        "colab": {
          "base_uri": "https://localhost:8080/"
        },
        "id": "0dgXDGfl3m29",
        "outputId": "e070cf55-a033-4883-9dbd-d9eac6ae3c56"
      },
      "source": [
        "gender_age_train_df['device_id'].value_counts(ascending=False)"
      ],
      "execution_count": null,
      "outputs": [
        {
          "output_type": "execute_result",
          "data": {
            "text/plain": [
              " 2257159551899998892    1\n",
              "-5859103589956090399    1\n",
              "-1824840104697287357    1\n",
              " 4676982795249941605    1\n",
              "-4498445842577775035    1\n",
              "                       ..\n",
              " 1973456509863984167    1\n",
              "-6615755711424206170    1\n",
              " 7038954467068358105    1\n",
              " 452720611336482113     1\n",
              " 8954493586702958652    1\n",
              "Name: device_id, Length: 74645, dtype: int64"
            ]
          },
          "metadata": {
            "tags": []
          },
          "execution_count": 36
        }
      ]
    },
    {
      "cell_type": "code",
      "metadata": {
        "colab": {
          "base_uri": "https://localhost:8080/"
        },
        "id": "LBVuVwcw7TO4",
        "outputId": "355c14c0-4c2f-407c-fbfd-0235be41abc3"
      },
      "source": [
        "phone_brand_device_model_df['device_id'].value_counts(ascending=False)"
      ],
      "execution_count": null,
      "outputs": [
        {
          "output_type": "execute_result",
          "data": {
            "text/plain": [
              " 4297421574931963628    1\n",
              "-6683447465042266790    1\n",
              "-2025398450464681486    1\n",
              "-2104282943635898244    1\n",
              "-1079794670707116889    1\n",
              "                       ..\n",
              "-8243778303410121446    1\n",
              " 4963348570238922413    1\n",
              " 2156147271872893762    1\n",
              "-3354736606620104853    1\n",
              " 8954493586702958652    1\n",
              "Name: device_id, Length: 87726, dtype: int64"
            ]
          },
          "metadata": {
            "tags": []
          },
          "execution_count": 37
        }
      ]
    },
    {
      "cell_type": "code",
      "metadata": {
        "colab": {
          "base_uri": "https://localhost:8080/"
        },
        "id": "2Qco7DdQ8bW2",
        "outputId": "6a7a5297-6cc3-47e7-e80e-4191484b05ea"
      },
      "source": [
        "gender_age_train_df['Gender'].value_counts()"
      ],
      "execution_count": null,
      "outputs": [
        {
          "output_type": "execute_result",
          "data": {
            "text/plain": [
              "M    47904\n",
              "F    26741\n",
              "Name: Gender, dtype: int64"
            ]
          },
          "metadata": {
            "tags": []
          },
          "execution_count": 38
        }
      ]
    },
    {
      "cell_type": "code",
      "metadata": {
        "colab": {
          "base_uri": "https://localhost:8080/"
        },
        "id": "jVr0tdAt8zca",
        "outputId": "0e891d8d-8995-434a-9a83-042043292ccd"
      },
      "source": [
        "phone_brand_device_model_df['Brand'].value_counts(ascending=False)"
      ],
      "execution_count": null,
      "outputs": [
        {
          "output_type": "execute_result",
          "data": {
            "text/plain": [
              "小米      21645\n",
              "三星      19211\n",
              "华为      15181\n",
              "vivo     7596\n",
              "OPPO     6717\n",
              "        ...  \n",
              "欧沃          1\n",
              "瑞高          1\n",
              "E人E本        1\n",
              "世纪星         1\n",
              "西门子         1\n",
              "Name: Brand, Length: 116, dtype: int64"
            ]
          },
          "metadata": {
            "tags": []
          },
          "execution_count": 41
        }
      ]
    },
    {
      "cell_type": "markdown",
      "metadata": {
        "id": "LKuMGCZxWh5g"
      },
      "source": [
        "Merging Dataframes on device_id to create a single dataframe which contains customer age, gender, mobile brand and model"
      ]
    },
    {
      "cell_type": "code",
      "metadata": {
        "colab": {
          "base_uri": "https://localhost:8080/",
          "height": 391
        },
        "id": "R-0klUXfWP4o",
        "outputId": "ac295983-272a-46c8-e9bb-ddd5c747c896"
      },
      "source": [
        "device_data_df=pd.merge(events_data_filtered_df,gender_age_train_df,on='device_id',how='left')\n",
        "device_data_df.fillna(0,inplace=True)\n",
        "device_data_df"
      ],
      "execution_count": 31,
      "outputs": [
        {
          "output_type": "execute_result",
          "data": {
            "text/html": [
              "<div>\n",
              "<style scoped>\n",
              "    .dataframe tbody tr th:only-of-type {\n",
              "        vertical-align: middle;\n",
              "    }\n",
              "\n",
              "    .dataframe tbody tr th {\n",
              "        vertical-align: top;\n",
              "    }\n",
              "\n",
              "    .dataframe thead th {\n",
              "        text-align: right;\n",
              "    }\n",
              "</style>\n",
              "<table border=\"1\" class=\"dataframe\">\n",
              "  <thead>\n",
              "    <tr style=\"text-align: right;\">\n",
              "      <th></th>\n",
              "      <th>event_id</th>\n",
              "      <th>device_id</th>\n",
              "      <th>timestamp</th>\n",
              "      <th>longitude</th>\n",
              "      <th>latitude</th>\n",
              "      <th>city</th>\n",
              "      <th>state</th>\n",
              "      <th>Gender</th>\n",
              "      <th>Age</th>\n",
              "      <th>Age_Group</th>\n",
              "    </tr>\n",
              "  </thead>\n",
              "  <tbody>\n",
              "    <tr>\n",
              "      <th>0</th>\n",
              "      <td>2955066</td>\n",
              "      <td>4.734221e+18</td>\n",
              "      <td>2016-05-01 20:44:16</td>\n",
              "      <td>88.388361</td>\n",
              "      <td>22.660325</td>\n",
              "      <td>Calcutta</td>\n",
              "      <td>WestBengal</td>\n",
              "      <td>0</td>\n",
              "      <td>0.0</td>\n",
              "      <td>0</td>\n",
              "    </tr>\n",
              "    <tr>\n",
              "      <th>1</th>\n",
              "      <td>769546</td>\n",
              "      <td>-1.817502e+18</td>\n",
              "      <td>2016-05-01 14:07:23</td>\n",
              "      <td>88.371813</td>\n",
              "      <td>22.662852</td>\n",
              "      <td>Calcutta</td>\n",
              "      <td>WestBengal</td>\n",
              "      <td>0</td>\n",
              "      <td>0.0</td>\n",
              "      <td>0</td>\n",
              "    </tr>\n",
              "    <tr>\n",
              "      <th>2</th>\n",
              "      <td>1750603</td>\n",
              "      <td>-5.598137e+18</td>\n",
              "      <td>2016-05-05 15:47:03</td>\n",
              "      <td>70.212684</td>\n",
              "      <td>23.118370</td>\n",
              "      <td>Gandhidham</td>\n",
              "      <td>Gujarat</td>\n",
              "      <td>0</td>\n",
              "      <td>0.0</td>\n",
              "      <td>0</td>\n",
              "    </tr>\n",
              "    <tr>\n",
              "      <th>3</th>\n",
              "      <td>3085968</td>\n",
              "      <td>-3.808297e+18</td>\n",
              "      <td>2016-05-07 01:25:47</td>\n",
              "      <td>75.513019</td>\n",
              "      <td>11.812367</td>\n",
              "      <td>Thalassery</td>\n",
              "      <td>Kerala</td>\n",
              "      <td>0</td>\n",
              "      <td>0.0</td>\n",
              "      <td>0</td>\n",
              "    </tr>\n",
              "    <tr>\n",
              "      <th>4</th>\n",
              "      <td>1407594</td>\n",
              "      <td>-2.995508e+18</td>\n",
              "      <td>2016-05-03 20:01:35</td>\n",
              "      <td>77.805194</td>\n",
              "      <td>13.533295</td>\n",
              "      <td>ChikBallapur</td>\n",
              "      <td>Karnataka</td>\n",
              "      <td>0</td>\n",
              "      <td>0.0</td>\n",
              "      <td>0</td>\n",
              "    </tr>\n",
              "    <tr>\n",
              "      <th>...</th>\n",
              "      <td>...</td>\n",
              "      <td>...</td>\n",
              "      <td>...</td>\n",
              "      <td>...</td>\n",
              "      <td>...</td>\n",
              "      <td>...</td>\n",
              "      <td>...</td>\n",
              "      <td>...</td>\n",
              "      <td>...</td>\n",
              "      <td>...</td>\n",
              "    </tr>\n",
              "    <tr>\n",
              "      <th>422910</th>\n",
              "      <td>1031712</td>\n",
              "      <td>6.508989e+18</td>\n",
              "      <td>2016-05-07 07:41:16</td>\n",
              "      <td>88.455452</td>\n",
              "      <td>22.592247</td>\n",
              "      <td>Calcutta</td>\n",
              "      <td>WestBengal</td>\n",
              "      <td>0</td>\n",
              "      <td>0.0</td>\n",
              "      <td>0</td>\n",
              "    </tr>\n",
              "    <tr>\n",
              "      <th>422911</th>\n",
              "      <td>1171498</td>\n",
              "      <td>-7.054270e+18</td>\n",
              "      <td>2016-05-03 08:20:05</td>\n",
              "      <td>87.724372</td>\n",
              "      <td>23.758061</td>\n",
              "      <td>Bolpur</td>\n",
              "      <td>WestBengal</td>\n",
              "      <td>0</td>\n",
              "      <td>0.0</td>\n",
              "      <td>0</td>\n",
              "    </tr>\n",
              "    <tr>\n",
              "      <th>422912</th>\n",
              "      <td>1960324</td>\n",
              "      <td>-7.434462e+17</td>\n",
              "      <td>2016-05-04 07:50:26</td>\n",
              "      <td>75.801837</td>\n",
              "      <td>31.290245</td>\n",
              "      <td>Phagwara</td>\n",
              "      <td>Punjab</td>\n",
              "      <td>0</td>\n",
              "      <td>0.0</td>\n",
              "      <td>0</td>\n",
              "    </tr>\n",
              "    <tr>\n",
              "      <th>422913</th>\n",
              "      <td>2243954</td>\n",
              "      <td>-3.275168e+18</td>\n",
              "      <td>2016-05-07 17:05:59</td>\n",
              "      <td>76.691761</td>\n",
              "      <td>14.403747</td>\n",
              "      <td>Challakere</td>\n",
              "      <td>Karnataka</td>\n",
              "      <td>0</td>\n",
              "      <td>0.0</td>\n",
              "      <td>0</td>\n",
              "    </tr>\n",
              "    <tr>\n",
              "      <th>422914</th>\n",
              "      <td>2805817</td>\n",
              "      <td>6.738526e+18</td>\n",
              "      <td>2016-05-05 14:13:58</td>\n",
              "      <td>77.575243</td>\n",
              "      <td>13.007633</td>\n",
              "      <td>Bangalore</td>\n",
              "      <td>Karnataka</td>\n",
              "      <td>0</td>\n",
              "      <td>0.0</td>\n",
              "      <td>0</td>\n",
              "    </tr>\n",
              "  </tbody>\n",
              "</table>\n",
              "<p>422915 rows × 10 columns</p>\n",
              "</div>"
            ],
            "text/plain": [
              "        event_id     device_id            timestamp  ...  Gender  Age Age_Group\n",
              "0        2955066  4.734221e+18  2016-05-01 20:44:16  ...       0  0.0         0\n",
              "1         769546 -1.817502e+18  2016-05-01 14:07:23  ...       0  0.0         0\n",
              "2        1750603 -5.598137e+18  2016-05-05 15:47:03  ...       0  0.0         0\n",
              "3        3085968 -3.808297e+18  2016-05-07 01:25:47  ...       0  0.0         0\n",
              "4        1407594 -2.995508e+18  2016-05-03 20:01:35  ...       0  0.0         0\n",
              "...          ...           ...                  ...  ...     ...  ...       ...\n",
              "422910   1031712  6.508989e+18  2016-05-07 07:41:16  ...       0  0.0         0\n",
              "422911   1171498 -7.054270e+18  2016-05-03 08:20:05  ...       0  0.0         0\n",
              "422912   1960324 -7.434462e+17  2016-05-04 07:50:26  ...       0  0.0         0\n",
              "422913   2243954 -3.275168e+18  2016-05-07 17:05:59  ...       0  0.0         0\n",
              "422914   2805817  6.738526e+18  2016-05-05 14:13:58  ...       0  0.0         0\n",
              "\n",
              "[422915 rows x 10 columns]"
            ]
          },
          "metadata": {
            "tags": []
          },
          "execution_count": 31
        }
      ]
    },
    {
      "cell_type": "code",
      "metadata": {
        "colab": {
          "base_uri": "https://localhost:8080/",
          "height": 391
        },
        "id": "k2byoyqqXjqP",
        "outputId": "45b2f5f5-9562-4501-ea47-4674f02f1f03"
      },
      "source": [
        "device_data_df=pd.merge(device_data_df,phone_brand_device_model_df,on='device_id',how='left')\n",
        "device_data_df.fillna(0,inplace=True)\n",
        "device_data_df"
      ],
      "execution_count": 32,
      "outputs": [
        {
          "output_type": "execute_result",
          "data": {
            "text/html": [
              "<div>\n",
              "<style scoped>\n",
              "    .dataframe tbody tr th:only-of-type {\n",
              "        vertical-align: middle;\n",
              "    }\n",
              "\n",
              "    .dataframe tbody tr th {\n",
              "        vertical-align: top;\n",
              "    }\n",
              "\n",
              "    .dataframe thead th {\n",
              "        text-align: right;\n",
              "    }\n",
              "</style>\n",
              "<table border=\"1\" class=\"dataframe\">\n",
              "  <thead>\n",
              "    <tr style=\"text-align: right;\">\n",
              "      <th></th>\n",
              "      <th>event_id</th>\n",
              "      <th>device_id</th>\n",
              "      <th>timestamp</th>\n",
              "      <th>longitude</th>\n",
              "      <th>latitude</th>\n",
              "      <th>city</th>\n",
              "      <th>state</th>\n",
              "      <th>Gender</th>\n",
              "      <th>Age</th>\n",
              "      <th>Age_Group</th>\n",
              "      <th>Brand</th>\n",
              "      <th>Model</th>\n",
              "    </tr>\n",
              "  </thead>\n",
              "  <tbody>\n",
              "    <tr>\n",
              "      <th>0</th>\n",
              "      <td>2955066</td>\n",
              "      <td>4.734221e+18</td>\n",
              "      <td>2016-05-01 20:44:16</td>\n",
              "      <td>88.388361</td>\n",
              "      <td>22.660325</td>\n",
              "      <td>Calcutta</td>\n",
              "      <td>WestBengal</td>\n",
              "      <td>0</td>\n",
              "      <td>0.0</td>\n",
              "      <td>0</td>\n",
              "      <td>0</td>\n",
              "      <td>0</td>\n",
              "    </tr>\n",
              "    <tr>\n",
              "      <th>1</th>\n",
              "      <td>769546</td>\n",
              "      <td>-1.817502e+18</td>\n",
              "      <td>2016-05-01 14:07:23</td>\n",
              "      <td>88.371813</td>\n",
              "      <td>22.662852</td>\n",
              "      <td>Calcutta</td>\n",
              "      <td>WestBengal</td>\n",
              "      <td>0</td>\n",
              "      <td>0.0</td>\n",
              "      <td>0</td>\n",
              "      <td>0</td>\n",
              "      <td>0</td>\n",
              "    </tr>\n",
              "    <tr>\n",
              "      <th>2</th>\n",
              "      <td>1750603</td>\n",
              "      <td>-5.598137e+18</td>\n",
              "      <td>2016-05-05 15:47:03</td>\n",
              "      <td>70.212684</td>\n",
              "      <td>23.118370</td>\n",
              "      <td>Gandhidham</td>\n",
              "      <td>Gujarat</td>\n",
              "      <td>0</td>\n",
              "      <td>0.0</td>\n",
              "      <td>0</td>\n",
              "      <td>0</td>\n",
              "      <td>0</td>\n",
              "    </tr>\n",
              "    <tr>\n",
              "      <th>3</th>\n",
              "      <td>3085968</td>\n",
              "      <td>-3.808297e+18</td>\n",
              "      <td>2016-05-07 01:25:47</td>\n",
              "      <td>75.513019</td>\n",
              "      <td>11.812367</td>\n",
              "      <td>Thalassery</td>\n",
              "      <td>Kerala</td>\n",
              "      <td>0</td>\n",
              "      <td>0.0</td>\n",
              "      <td>0</td>\n",
              "      <td>0</td>\n",
              "      <td>0</td>\n",
              "    </tr>\n",
              "    <tr>\n",
              "      <th>4</th>\n",
              "      <td>1407594</td>\n",
              "      <td>-2.995508e+18</td>\n",
              "      <td>2016-05-03 20:01:35</td>\n",
              "      <td>77.805194</td>\n",
              "      <td>13.533295</td>\n",
              "      <td>ChikBallapur</td>\n",
              "      <td>Karnataka</td>\n",
              "      <td>0</td>\n",
              "      <td>0.0</td>\n",
              "      <td>0</td>\n",
              "      <td>0</td>\n",
              "      <td>0</td>\n",
              "    </tr>\n",
              "    <tr>\n",
              "      <th>...</th>\n",
              "      <td>...</td>\n",
              "      <td>...</td>\n",
              "      <td>...</td>\n",
              "      <td>...</td>\n",
              "      <td>...</td>\n",
              "      <td>...</td>\n",
              "      <td>...</td>\n",
              "      <td>...</td>\n",
              "      <td>...</td>\n",
              "      <td>...</td>\n",
              "      <td>...</td>\n",
              "      <td>...</td>\n",
              "    </tr>\n",
              "    <tr>\n",
              "      <th>422910</th>\n",
              "      <td>1031712</td>\n",
              "      <td>6.508989e+18</td>\n",
              "      <td>2016-05-07 07:41:16</td>\n",
              "      <td>88.455452</td>\n",
              "      <td>22.592247</td>\n",
              "      <td>Calcutta</td>\n",
              "      <td>WestBengal</td>\n",
              "      <td>0</td>\n",
              "      <td>0.0</td>\n",
              "      <td>0</td>\n",
              "      <td>0</td>\n",
              "      <td>0</td>\n",
              "    </tr>\n",
              "    <tr>\n",
              "      <th>422911</th>\n",
              "      <td>1171498</td>\n",
              "      <td>-7.054270e+18</td>\n",
              "      <td>2016-05-03 08:20:05</td>\n",
              "      <td>87.724372</td>\n",
              "      <td>23.758061</td>\n",
              "      <td>Bolpur</td>\n",
              "      <td>WestBengal</td>\n",
              "      <td>0</td>\n",
              "      <td>0.0</td>\n",
              "      <td>0</td>\n",
              "      <td>0</td>\n",
              "      <td>0</td>\n",
              "    </tr>\n",
              "    <tr>\n",
              "      <th>422912</th>\n",
              "      <td>1960324</td>\n",
              "      <td>-7.434462e+17</td>\n",
              "      <td>2016-05-04 07:50:26</td>\n",
              "      <td>75.801837</td>\n",
              "      <td>31.290245</td>\n",
              "      <td>Phagwara</td>\n",
              "      <td>Punjab</td>\n",
              "      <td>0</td>\n",
              "      <td>0.0</td>\n",
              "      <td>0</td>\n",
              "      <td>0</td>\n",
              "      <td>0</td>\n",
              "    </tr>\n",
              "    <tr>\n",
              "      <th>422913</th>\n",
              "      <td>2243954</td>\n",
              "      <td>-3.275168e+18</td>\n",
              "      <td>2016-05-07 17:05:59</td>\n",
              "      <td>76.691761</td>\n",
              "      <td>14.403747</td>\n",
              "      <td>Challakere</td>\n",
              "      <td>Karnataka</td>\n",
              "      <td>0</td>\n",
              "      <td>0.0</td>\n",
              "      <td>0</td>\n",
              "      <td>0</td>\n",
              "      <td>0</td>\n",
              "    </tr>\n",
              "    <tr>\n",
              "      <th>422914</th>\n",
              "      <td>2805817</td>\n",
              "      <td>6.738526e+18</td>\n",
              "      <td>2016-05-05 14:13:58</td>\n",
              "      <td>77.575243</td>\n",
              "      <td>13.007633</td>\n",
              "      <td>Bangalore</td>\n",
              "      <td>Karnataka</td>\n",
              "      <td>0</td>\n",
              "      <td>0.0</td>\n",
              "      <td>0</td>\n",
              "      <td>0</td>\n",
              "      <td>0</td>\n",
              "    </tr>\n",
              "  </tbody>\n",
              "</table>\n",
              "<p>422915 rows × 12 columns</p>\n",
              "</div>"
            ],
            "text/plain": [
              "        event_id     device_id            timestamp  ...  Age_Group  Brand Model\n",
              "0        2955066  4.734221e+18  2016-05-01 20:44:16  ...          0      0     0\n",
              "1         769546 -1.817502e+18  2016-05-01 14:07:23  ...          0      0     0\n",
              "2        1750603 -5.598137e+18  2016-05-05 15:47:03  ...          0      0     0\n",
              "3        3085968 -3.808297e+18  2016-05-07 01:25:47  ...          0      0     0\n",
              "4        1407594 -2.995508e+18  2016-05-03 20:01:35  ...          0      0     0\n",
              "...          ...           ...                  ...  ...        ...    ...   ...\n",
              "422910   1031712  6.508989e+18  2016-05-07 07:41:16  ...          0      0     0\n",
              "422911   1171498 -7.054270e+18  2016-05-03 08:20:05  ...          0      0     0\n",
              "422912   1960324 -7.434462e+17  2016-05-04 07:50:26  ...          0      0     0\n",
              "422913   2243954 -3.275168e+18  2016-05-07 17:05:59  ...          0      0     0\n",
              "422914   2805817  6.738526e+18  2016-05-05 14:13:58  ...          0      0     0\n",
              "\n",
              "[422915 rows x 12 columns]"
            ]
          },
          "metadata": {
            "tags": []
          },
          "execution_count": 32
        }
      ]
    },
    {
      "cell_type": "code",
      "metadata": {
        "colab": {
          "base_uri": "https://localhost:8080/",
          "height": 391
        },
        "id": "2BK_iI7EXsF2",
        "outputId": "1faf8a9e-b05d-49e5-87a9-4ed6bff63ca1"
      },
      "source": [
        "device_data_df[device_data_df['Gender']!=0]"
      ],
      "execution_count": 33,
      "outputs": [
        {
          "output_type": "execute_result",
          "data": {
            "text/html": [
              "<div>\n",
              "<style scoped>\n",
              "    .dataframe tbody tr th:only-of-type {\n",
              "        vertical-align: middle;\n",
              "    }\n",
              "\n",
              "    .dataframe tbody tr th {\n",
              "        vertical-align: top;\n",
              "    }\n",
              "\n",
              "    .dataframe thead th {\n",
              "        text-align: right;\n",
              "    }\n",
              "</style>\n",
              "<table border=\"1\" class=\"dataframe\">\n",
              "  <thead>\n",
              "    <tr style=\"text-align: right;\">\n",
              "      <th></th>\n",
              "      <th>event_id</th>\n",
              "      <th>device_id</th>\n",
              "      <th>timestamp</th>\n",
              "      <th>longitude</th>\n",
              "      <th>latitude</th>\n",
              "      <th>city</th>\n",
              "      <th>state</th>\n",
              "      <th>Gender</th>\n",
              "      <th>Age</th>\n",
              "      <th>Age_Group</th>\n",
              "      <th>Brand</th>\n",
              "      <th>Model</th>\n",
              "    </tr>\n",
              "  </thead>\n",
              "  <tbody>\n",
              "    <tr>\n",
              "      <th>48</th>\n",
              "      <td>1836426</td>\n",
              "      <td>3.872522e+18</td>\n",
              "      <td>2016-05-01 20:29:14</td>\n",
              "      <td>71.294802</td>\n",
              "      <td>21.661309</td>\n",
              "      <td>Amreli</td>\n",
              "      <td>Gujarat</td>\n",
              "      <td>M</td>\n",
              "      <td>20.0</td>\n",
              "      <td>M22-</td>\n",
              "      <td>酷派</td>\n",
              "      <td>8702</td>\n",
              "    </tr>\n",
              "    <tr>\n",
              "      <th>174</th>\n",
              "      <td>1282493</td>\n",
              "      <td>-2.049813e+16</td>\n",
              "      <td>2016-05-06 12:44:06</td>\n",
              "      <td>86.667205</td>\n",
              "      <td>26.202617</td>\n",
              "      <td>Supaul</td>\n",
              "      <td>Bihar</td>\n",
              "      <td>F</td>\n",
              "      <td>23.0</td>\n",
              "      <td>F23-</td>\n",
              "      <td>小米</td>\n",
              "      <td>MI 3</td>\n",
              "    </tr>\n",
              "    <tr>\n",
              "      <th>216</th>\n",
              "      <td>2742349</td>\n",
              "      <td>-2.682955e+17</td>\n",
              "      <td>2016-05-06 10:53:24</td>\n",
              "      <td>86.541317</td>\n",
              "      <td>25.416015</td>\n",
              "      <td>Munger</td>\n",
              "      <td>Bihar</td>\n",
              "      <td>M</td>\n",
              "      <td>20.0</td>\n",
              "      <td>M22-</td>\n",
              "      <td>vivo</td>\n",
              "      <td>X5Max+</td>\n",
              "    </tr>\n",
              "    <tr>\n",
              "      <th>226</th>\n",
              "      <td>2120949</td>\n",
              "      <td>-4.051268e+18</td>\n",
              "      <td>2016-05-05 20:49:49</td>\n",
              "      <td>77.641865</td>\n",
              "      <td>13.033248</td>\n",
              "      <td>Bangalore</td>\n",
              "      <td>Karnataka</td>\n",
              "      <td>F</td>\n",
              "      <td>25.0</td>\n",
              "      <td>F24-26</td>\n",
              "      <td>小米</td>\n",
              "      <td>MI 2</td>\n",
              "    </tr>\n",
              "    <tr>\n",
              "      <th>262</th>\n",
              "      <td>1876942</td>\n",
              "      <td>7.285787e+17</td>\n",
              "      <td>2016-05-01 04:48:23</td>\n",
              "      <td>87.395537</td>\n",
              "      <td>22.421895</td>\n",
              "      <td>Kharagpur</td>\n",
              "      <td>WestBengal</td>\n",
              "      <td>F</td>\n",
              "      <td>21.0</td>\n",
              "      <td>F23-</td>\n",
              "      <td>三星</td>\n",
              "      <td>Galaxy A5</td>\n",
              "    </tr>\n",
              "    <tr>\n",
              "      <th>...</th>\n",
              "      <td>...</td>\n",
              "      <td>...</td>\n",
              "      <td>...</td>\n",
              "      <td>...</td>\n",
              "      <td>...</td>\n",
              "      <td>...</td>\n",
              "      <td>...</td>\n",
              "      <td>...</td>\n",
              "      <td>...</td>\n",
              "      <td>...</td>\n",
              "      <td>...</td>\n",
              "      <td>...</td>\n",
              "    </tr>\n",
              "    <tr>\n",
              "      <th>421468</th>\n",
              "      <td>1162172</td>\n",
              "      <td>-1.447736e+18</td>\n",
              "      <td>2016-05-06 21:50:43</td>\n",
              "      <td>88.414450</td>\n",
              "      <td>22.642348</td>\n",
              "      <td>Calcutta</td>\n",
              "      <td>WestBengal</td>\n",
              "      <td>M</td>\n",
              "      <td>31.0</td>\n",
              "      <td>M29-31</td>\n",
              "      <td>vivo</td>\n",
              "      <td>Y13iL</td>\n",
              "    </tr>\n",
              "    <tr>\n",
              "      <th>421626</th>\n",
              "      <td>112913</td>\n",
              "      <td>-1.575782e+16</td>\n",
              "      <td>2016-05-05 22:11:15</td>\n",
              "      <td>88.406220</td>\n",
              "      <td>22.626918</td>\n",
              "      <td>Calcutta</td>\n",
              "      <td>WestBengal</td>\n",
              "      <td>M</td>\n",
              "      <td>34.0</td>\n",
              "      <td>M32-38</td>\n",
              "      <td>vivo</td>\n",
              "      <td>X5SL</td>\n",
              "    </tr>\n",
              "    <tr>\n",
              "      <th>422118</th>\n",
              "      <td>3016221</td>\n",
              "      <td>3.863012e+16</td>\n",
              "      <td>2016-05-04 22:32:15</td>\n",
              "      <td>77.601329</td>\n",
              "      <td>13.021293</td>\n",
              "      <td>Bangalore</td>\n",
              "      <td>Karnataka</td>\n",
              "      <td>M</td>\n",
              "      <td>32.0</td>\n",
              "      <td>M32-38</td>\n",
              "      <td>小米</td>\n",
              "      <td>MI 3</td>\n",
              "    </tr>\n",
              "    <tr>\n",
              "      <th>422192</th>\n",
              "      <td>253485</td>\n",
              "      <td>-1.116277e+18</td>\n",
              "      <td>2016-05-02 14:32:24</td>\n",
              "      <td>69.677548</td>\n",
              "      <td>21.729910</td>\n",
              "      <td>Porbandar</td>\n",
              "      <td>Gujarat</td>\n",
              "      <td>M</td>\n",
              "      <td>26.0</td>\n",
              "      <td>M23-26</td>\n",
              "      <td>小米</td>\n",
              "      <td>红米Note2</td>\n",
              "    </tr>\n",
              "    <tr>\n",
              "      <th>422357</th>\n",
              "      <td>1104956</td>\n",
              "      <td>3.197798e+16</td>\n",
              "      <td>2016-05-02 23:46:52</td>\n",
              "      <td>75.935655</td>\n",
              "      <td>10.817131</td>\n",
              "      <td>Ponnani</td>\n",
              "      <td>Kerala</td>\n",
              "      <td>F</td>\n",
              "      <td>20.0</td>\n",
              "      <td>F23-</td>\n",
              "      <td>OPPO</td>\n",
              "      <td>R3</td>\n",
              "    </tr>\n",
              "  </tbody>\n",
              "</table>\n",
              "<p>2641 rows × 12 columns</p>\n",
              "</div>"
            ],
            "text/plain": [
              "        event_id     device_id            timestamp  ...  Age_Group  Brand      Model\n",
              "48       1836426  3.872522e+18  2016-05-01 20:29:14  ...       M22-     酷派       8702\n",
              "174      1282493 -2.049813e+16  2016-05-06 12:44:06  ...       F23-     小米       MI 3\n",
              "216      2742349 -2.682955e+17  2016-05-06 10:53:24  ...       M22-   vivo     X5Max+\n",
              "226      2120949 -4.051268e+18  2016-05-05 20:49:49  ...     F24-26     小米       MI 2\n",
              "262      1876942  7.285787e+17  2016-05-01 04:48:23  ...       F23-     三星  Galaxy A5\n",
              "...          ...           ...                  ...  ...        ...    ...        ...\n",
              "421468   1162172 -1.447736e+18  2016-05-06 21:50:43  ...     M29-31   vivo      Y13iL\n",
              "421626    112913 -1.575782e+16  2016-05-05 22:11:15  ...     M32-38   vivo       X5SL\n",
              "422118   3016221  3.863012e+16  2016-05-04 22:32:15  ...     M32-38     小米       MI 3\n",
              "422192    253485 -1.116277e+18  2016-05-02 14:32:24  ...     M23-26     小米    红米Note2\n",
              "422357   1104956  3.197798e+16  2016-05-02 23:46:52  ...       F23-   OPPO         R3\n",
              "\n",
              "[2641 rows x 12 columns]"
            ]
          },
          "metadata": {
            "tags": []
          },
          "execution_count": 33
        }
      ]
    },
    {
      "cell_type": "code",
      "metadata": {
        "colab": {
          "base_uri": "https://localhost:8080/",
          "height": 391
        },
        "id": "r0GsJkREYA9q",
        "outputId": "c82c31ec-9a4c-48d6-e42d-9fb8dc8daff2"
      },
      "source": [
        "device_data_df[device_data_df['Brand']!=0]"
      ],
      "execution_count": 34,
      "outputs": [
        {
          "output_type": "execute_result",
          "data": {
            "text/html": [
              "<div>\n",
              "<style scoped>\n",
              "    .dataframe tbody tr th:only-of-type {\n",
              "        vertical-align: middle;\n",
              "    }\n",
              "\n",
              "    .dataframe tbody tr th {\n",
              "        vertical-align: top;\n",
              "    }\n",
              "\n",
              "    .dataframe thead th {\n",
              "        text-align: right;\n",
              "    }\n",
              "</style>\n",
              "<table border=\"1\" class=\"dataframe\">\n",
              "  <thead>\n",
              "    <tr style=\"text-align: right;\">\n",
              "      <th></th>\n",
              "      <th>event_id</th>\n",
              "      <th>device_id</th>\n",
              "      <th>timestamp</th>\n",
              "      <th>longitude</th>\n",
              "      <th>latitude</th>\n",
              "      <th>city</th>\n",
              "      <th>state</th>\n",
              "      <th>Gender</th>\n",
              "      <th>Age</th>\n",
              "      <th>Age_Group</th>\n",
              "      <th>Brand</th>\n",
              "      <th>Model</th>\n",
              "    </tr>\n",
              "  </thead>\n",
              "  <tbody>\n",
              "    <tr>\n",
              "      <th>48</th>\n",
              "      <td>1836426</td>\n",
              "      <td>3.872522e+18</td>\n",
              "      <td>2016-05-01 20:29:14</td>\n",
              "      <td>71.294802</td>\n",
              "      <td>21.661309</td>\n",
              "      <td>Amreli</td>\n",
              "      <td>Gujarat</td>\n",
              "      <td>M</td>\n",
              "      <td>20.0</td>\n",
              "      <td>M22-</td>\n",
              "      <td>酷派</td>\n",
              "      <td>8702</td>\n",
              "    </tr>\n",
              "    <tr>\n",
              "      <th>174</th>\n",
              "      <td>1282493</td>\n",
              "      <td>-2.049813e+16</td>\n",
              "      <td>2016-05-06 12:44:06</td>\n",
              "      <td>86.667205</td>\n",
              "      <td>26.202617</td>\n",
              "      <td>Supaul</td>\n",
              "      <td>Bihar</td>\n",
              "      <td>F</td>\n",
              "      <td>23.0</td>\n",
              "      <td>F23-</td>\n",
              "      <td>小米</td>\n",
              "      <td>MI 3</td>\n",
              "    </tr>\n",
              "    <tr>\n",
              "      <th>216</th>\n",
              "      <td>2742349</td>\n",
              "      <td>-2.682955e+17</td>\n",
              "      <td>2016-05-06 10:53:24</td>\n",
              "      <td>86.541317</td>\n",
              "      <td>25.416015</td>\n",
              "      <td>Munger</td>\n",
              "      <td>Bihar</td>\n",
              "      <td>M</td>\n",
              "      <td>20.0</td>\n",
              "      <td>M22-</td>\n",
              "      <td>vivo</td>\n",
              "      <td>X5Max+</td>\n",
              "    </tr>\n",
              "    <tr>\n",
              "      <th>226</th>\n",
              "      <td>2120949</td>\n",
              "      <td>-4.051268e+18</td>\n",
              "      <td>2016-05-05 20:49:49</td>\n",
              "      <td>77.641865</td>\n",
              "      <td>13.033248</td>\n",
              "      <td>Bangalore</td>\n",
              "      <td>Karnataka</td>\n",
              "      <td>F</td>\n",
              "      <td>25.0</td>\n",
              "      <td>F24-26</td>\n",
              "      <td>小米</td>\n",
              "      <td>MI 2</td>\n",
              "    </tr>\n",
              "    <tr>\n",
              "      <th>262</th>\n",
              "      <td>1876942</td>\n",
              "      <td>7.285787e+17</td>\n",
              "      <td>2016-05-01 04:48:23</td>\n",
              "      <td>87.395537</td>\n",
              "      <td>22.421895</td>\n",
              "      <td>Kharagpur</td>\n",
              "      <td>WestBengal</td>\n",
              "      <td>F</td>\n",
              "      <td>21.0</td>\n",
              "      <td>F23-</td>\n",
              "      <td>三星</td>\n",
              "      <td>Galaxy A5</td>\n",
              "    </tr>\n",
              "    <tr>\n",
              "      <th>...</th>\n",
              "      <td>...</td>\n",
              "      <td>...</td>\n",
              "      <td>...</td>\n",
              "      <td>...</td>\n",
              "      <td>...</td>\n",
              "      <td>...</td>\n",
              "      <td>...</td>\n",
              "      <td>...</td>\n",
              "      <td>...</td>\n",
              "      <td>...</td>\n",
              "      <td>...</td>\n",
              "      <td>...</td>\n",
              "    </tr>\n",
              "    <tr>\n",
              "      <th>421468</th>\n",
              "      <td>1162172</td>\n",
              "      <td>-1.447736e+18</td>\n",
              "      <td>2016-05-06 21:50:43</td>\n",
              "      <td>88.414450</td>\n",
              "      <td>22.642348</td>\n",
              "      <td>Calcutta</td>\n",
              "      <td>WestBengal</td>\n",
              "      <td>M</td>\n",
              "      <td>31.0</td>\n",
              "      <td>M29-31</td>\n",
              "      <td>vivo</td>\n",
              "      <td>Y13iL</td>\n",
              "    </tr>\n",
              "    <tr>\n",
              "      <th>421626</th>\n",
              "      <td>112913</td>\n",
              "      <td>-1.575782e+16</td>\n",
              "      <td>2016-05-05 22:11:15</td>\n",
              "      <td>88.406220</td>\n",
              "      <td>22.626918</td>\n",
              "      <td>Calcutta</td>\n",
              "      <td>WestBengal</td>\n",
              "      <td>M</td>\n",
              "      <td>34.0</td>\n",
              "      <td>M32-38</td>\n",
              "      <td>vivo</td>\n",
              "      <td>X5SL</td>\n",
              "    </tr>\n",
              "    <tr>\n",
              "      <th>422118</th>\n",
              "      <td>3016221</td>\n",
              "      <td>3.863012e+16</td>\n",
              "      <td>2016-05-04 22:32:15</td>\n",
              "      <td>77.601329</td>\n",
              "      <td>13.021293</td>\n",
              "      <td>Bangalore</td>\n",
              "      <td>Karnataka</td>\n",
              "      <td>M</td>\n",
              "      <td>32.0</td>\n",
              "      <td>M32-38</td>\n",
              "      <td>小米</td>\n",
              "      <td>MI 3</td>\n",
              "    </tr>\n",
              "    <tr>\n",
              "      <th>422192</th>\n",
              "      <td>253485</td>\n",
              "      <td>-1.116277e+18</td>\n",
              "      <td>2016-05-02 14:32:24</td>\n",
              "      <td>69.677548</td>\n",
              "      <td>21.729910</td>\n",
              "      <td>Porbandar</td>\n",
              "      <td>Gujarat</td>\n",
              "      <td>M</td>\n",
              "      <td>26.0</td>\n",
              "      <td>M23-26</td>\n",
              "      <td>小米</td>\n",
              "      <td>红米Note2</td>\n",
              "    </tr>\n",
              "    <tr>\n",
              "      <th>422357</th>\n",
              "      <td>1104956</td>\n",
              "      <td>3.197798e+16</td>\n",
              "      <td>2016-05-02 23:46:52</td>\n",
              "      <td>75.935655</td>\n",
              "      <td>10.817131</td>\n",
              "      <td>Ponnani</td>\n",
              "      <td>Kerala</td>\n",
              "      <td>F</td>\n",
              "      <td>20.0</td>\n",
              "      <td>F23-</td>\n",
              "      <td>OPPO</td>\n",
              "      <td>R3</td>\n",
              "    </tr>\n",
              "  </tbody>\n",
              "</table>\n",
              "<p>2641 rows × 12 columns</p>\n",
              "</div>"
            ],
            "text/plain": [
              "        event_id     device_id            timestamp  ...  Age_Group  Brand      Model\n",
              "48       1836426  3.872522e+18  2016-05-01 20:29:14  ...       M22-     酷派       8702\n",
              "174      1282493 -2.049813e+16  2016-05-06 12:44:06  ...       F23-     小米       MI 3\n",
              "216      2742349 -2.682955e+17  2016-05-06 10:53:24  ...       M22-   vivo     X5Max+\n",
              "226      2120949 -4.051268e+18  2016-05-05 20:49:49  ...     F24-26     小米       MI 2\n",
              "262      1876942  7.285787e+17  2016-05-01 04:48:23  ...       F23-     三星  Galaxy A5\n",
              "...          ...           ...                  ...  ...        ...    ...        ...\n",
              "421468   1162172 -1.447736e+18  2016-05-06 21:50:43  ...     M29-31   vivo      Y13iL\n",
              "421626    112913 -1.575782e+16  2016-05-05 22:11:15  ...     M32-38   vivo       X5SL\n",
              "422118   3016221  3.863012e+16  2016-05-04 22:32:15  ...     M32-38     小米       MI 3\n",
              "422192    253485 -1.116277e+18  2016-05-02 14:32:24  ...     M23-26     小米    红米Note2\n",
              "422357   1104956  3.197798e+16  2016-05-02 23:46:52  ...       F23-   OPPO         R3\n",
              "\n",
              "[2641 rows x 12 columns]"
            ]
          },
          "metadata": {
            "tags": []
          },
          "execution_count": 34
        }
      ]
    }
  ]
}