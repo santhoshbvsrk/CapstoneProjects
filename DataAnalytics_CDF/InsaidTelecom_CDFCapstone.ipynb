{
  "nbformat": 4,
  "nbformat_minor": 0,
  "metadata": {
    "colab": {
      "name": "InsaidTelecom-CDFCapstone.ipynb",
      "provenance": [],
      "collapsed_sections": [],
      "authorship_tag": "ABX9TyMGm/8f+IiS/qE1vGwrGrKD",
      "include_colab_link": true
    },
    "kernelspec": {
      "name": "python3",
      "display_name": "Python 3"
    },
    "language_info": {
      "name": "python"
    }
  },
  "cells": [
    {
      "cell_type": "markdown",
      "metadata": {
        "id": "view-in-github",
        "colab_type": "text"
      },
      "source": [
        "<a href=\"https://colab.research.google.com/github/santhoshbvsrk/CapstoneProjects/blob/main/DataAnalytics_CDF/InsaidTelecom_CDFCapstone.ipynb\" target=\"_parent\"><img src=\"https://colab.research.google.com/assets/colab-badge.svg\" alt=\"Open In Colab\"/></a>"
      ]
    },
    {
      "cell_type": "markdown",
      "metadata": {
        "id": "9QXzNhYu958b"
      },
      "source": [
        " \n",
        "\n",
        "*  As the dataset is huge, we'll zip it, upload the zip file to google drive and mount your google drive to colab, unzip it to access data from your colab.\n",
        "\n",
        "\n",
        "*   Import the drive package from google.colab library to mount your google drive on to google colab.\n",
        "\n",
        "\n",
        "\n"
      ]
    },
    {
      "cell_type": "code",
      "metadata": {
        "colab": {
          "base_uri": "https://localhost:8080/"
        },
        "id": "QHCIGBMs6ENg",
        "outputId": "fbc534d6-dddd-427e-be14-7587f043b3aa"
      },
      "source": [
        "from google.colab import drive\n",
        "drive.mount ('/content/gdrive')"
      ],
      "execution_count": 1,
      "outputs": [
        {
          "output_type": "stream",
          "text": [
            "Mounted at /content/gdrive\n"
          ],
          "name": "stdout"
        }
      ]
    },
    {
      "cell_type": "markdown",
      "metadata": {
        "id": "x6BVhtcc-Icy"
      },
      "source": [
        "\n",
        "\n",
        "*   Once mounting is completed, mention the path of your zip file which contains the data to read."
      ]
    },
    {
      "cell_type": "code",
      "metadata": {
        "colab": {
          "base_uri": "https://localhost:8080/"
        },
        "id": "GRHBT_Ui6sYq",
        "outputId": "549667ab-5606-4bbe-c2ba-40707c77edfd"
      },
      "source": [
        "!unzip gdrive/My\\ Drive/CDF_Capstone_Project1/events_data.zip"
      ],
      "execution_count": 2,
      "outputs": [
        {
          "output_type": "stream",
          "text": [
            "Archive:  gdrive/My Drive/CDF_Capstone_Project1/events_data.zip\n",
            "  inflating: events_data.csv         \n"
          ],
          "name": "stdout"
        }
      ]
    },
    {
      "cell_type": "markdown",
      "metadata": {
        "id": "fmURhSSH-YLT"
      },
      "source": [
        "\n",
        "\n",
        "*   Once mounting and unzipping is completed successfully, you should be able to see the zip file contains in your colab folder.\n"
      ]
    },
    {
      "cell_type": "code",
      "metadata": {
        "id": "LxY5H2kh9m-g"
      },
      "source": [
        "import pandas as pd \n",
        "import numpy as np"
      ],
      "execution_count": 3,
      "outputs": []
    },
    {
      "cell_type": "code",
      "metadata": {
        "colab": {
          "base_uri": "https://localhost:8080/",
          "height": 191
        },
        "id": "S1u996mX9qa1",
        "outputId": "11eb2e49-f8c0-4006-a028-ef60831eeacb"
      },
      "source": [
        "events_data_df=pd.read_csv(\"events_data.csv\")\n",
        "events_data_df.head()"
      ],
      "execution_count": 4,
      "outputs": [
        {
          "output_type": "execute_result",
          "data": {
            "text/html": [
              "<div>\n",
              "<style scoped>\n",
              "    .dataframe tbody tr th:only-of-type {\n",
              "        vertical-align: middle;\n",
              "    }\n",
              "\n",
              "    .dataframe tbody tr th {\n",
              "        vertical-align: top;\n",
              "    }\n",
              "\n",
              "    .dataframe thead th {\n",
              "        text-align: right;\n",
              "    }\n",
              "</style>\n",
              "<table border=\"1\" class=\"dataframe\">\n",
              "  <thead>\n",
              "    <tr style=\"text-align: right;\">\n",
              "      <th></th>\n",
              "      <th>event_id</th>\n",
              "      <th>device_id</th>\n",
              "      <th>timestamp</th>\n",
              "      <th>longitude</th>\n",
              "      <th>latitude</th>\n",
              "      <th>city</th>\n",
              "      <th>state</th>\n",
              "    </tr>\n",
              "  </thead>\n",
              "  <tbody>\n",
              "    <tr>\n",
              "      <th>0</th>\n",
              "      <td>2765368</td>\n",
              "      <td>2.973348e+18</td>\n",
              "      <td>2016-05-07 22:52:05</td>\n",
              "      <td>77.225676</td>\n",
              "      <td>28.730140</td>\n",
              "      <td>Delhi</td>\n",
              "      <td>Delhi</td>\n",
              "    </tr>\n",
              "    <tr>\n",
              "      <th>1</th>\n",
              "      <td>2955066</td>\n",
              "      <td>4.734221e+18</td>\n",
              "      <td>2016-05-01 20:44:16</td>\n",
              "      <td>88.388361</td>\n",
              "      <td>22.660325</td>\n",
              "      <td>Calcutta</td>\n",
              "      <td>WestBengal</td>\n",
              "    </tr>\n",
              "    <tr>\n",
              "      <th>2</th>\n",
              "      <td>605968</td>\n",
              "      <td>-3.264500e+18</td>\n",
              "      <td>2016-05-02 14:23:04</td>\n",
              "      <td>77.256809</td>\n",
              "      <td>28.757906</td>\n",
              "      <td>Delhi</td>\n",
              "      <td>Delhi</td>\n",
              "    </tr>\n",
              "    <tr>\n",
              "      <th>3</th>\n",
              "      <td>448114</td>\n",
              "      <td>5.731369e+18</td>\n",
              "      <td>2016-05-03 13:21:16</td>\n",
              "      <td>80.343613</td>\n",
              "      <td>13.153332</td>\n",
              "      <td>Chennai</td>\n",
              "      <td>TamilNadu</td>\n",
              "    </tr>\n",
              "    <tr>\n",
              "      <th>4</th>\n",
              "      <td>665740</td>\n",
              "      <td>3.388880e+17</td>\n",
              "      <td>2016-05-06 03:51:05</td>\n",
              "      <td>85.997745</td>\n",
              "      <td>23.842609</td>\n",
              "      <td>Bokaro</td>\n",
              "      <td>Jharkhand</td>\n",
              "    </tr>\n",
              "  </tbody>\n",
              "</table>\n",
              "</div>"
            ],
            "text/plain": [
              "   event_id     device_id            timestamp  ...   latitude      city       state\n",
              "0   2765368  2.973348e+18  2016-05-07 22:52:05  ...  28.730140     Delhi       Delhi\n",
              "1   2955066  4.734221e+18  2016-05-01 20:44:16  ...  22.660325  Calcutta  WestBengal\n",
              "2    605968 -3.264500e+18  2016-05-02 14:23:04  ...  28.757906     Delhi       Delhi\n",
              "3    448114  5.731369e+18  2016-05-03 13:21:16  ...  13.153332   Chennai   TamilNadu\n",
              "4    665740  3.388880e+17  2016-05-06 03:51:05  ...  23.842609    Bokaro   Jharkhand\n",
              "\n",
              "[5 rows x 7 columns]"
            ]
          },
          "metadata": {
            "tags": []
          },
          "execution_count": 4
        }
      ]
    },
    {
      "cell_type": "code",
      "metadata": {
        "colab": {
          "base_uri": "https://localhost:8080/"
        },
        "id": "Z4Ab05fzCRTB",
        "outputId": "12c14dd7-0645-49d6-b360-929d4fcae27d"
      },
      "source": [
        "events_data_df.info()"
      ],
      "execution_count": 5,
      "outputs": [
        {
          "output_type": "stream",
          "text": [
            "<class 'pandas.core.frame.DataFrame'>\n",
            "RangeIndex: 3252950 entries, 0 to 3252949\n",
            "Data columns (total 7 columns):\n",
            " #   Column     Dtype  \n",
            "---  ------     -----  \n",
            " 0   event_id   int64  \n",
            " 1   device_id  float64\n",
            " 2   timestamp  object \n",
            " 3   longitude  float64\n",
            " 4   latitude   float64\n",
            " 5   city       object \n",
            " 6   state      object \n",
            "dtypes: float64(3), int64(1), object(3)\n",
            "memory usage: 173.7+ MB\n"
          ],
          "name": "stdout"
        }
      ]
    },
    {
      "cell_type": "markdown",
      "metadata": {
        "id": "JN7DDhsnqTuS"
      },
      "source": [
        "Installing mysql connector for python"
      ]
    },
    {
      "cell_type": "code",
      "metadata": {
        "colab": {
          "base_uri": "https://localhost:8080/"
        },
        "id": "zqVHeEOaqKlP",
        "outputId": "04061dc8-d765-40e1-9ec0-bd6263480fdf"
      },
      "source": [
        "pip install mysql-connector-python-rf"
      ],
      "execution_count": 7,
      "outputs": [
        {
          "output_type": "stream",
          "text": [
            "Collecting mysql-connector-python-rf\n",
            "\u001b[?25l  Downloading https://files.pythonhosted.org/packages/21/79/2ff01ab7aa08db3a16b70b990c579c1024c6b2a734263cc7513a758867de/mysql-connector-python-rf-2.2.2.tar.gz (11.9MB)\n",
            "\u001b[K     |████████████████████████████████| 11.9MB 5.5MB/s \n",
            "\u001b[?25hBuilding wheels for collected packages: mysql-connector-python-rf\n",
            "  Building wheel for mysql-connector-python-rf (setup.py) ... \u001b[?25l\u001b[?25hdone\n",
            "  Created wheel for mysql-connector-python-rf: filename=mysql_connector_python_rf-2.2.2-cp37-cp37m-linux_x86_64.whl size=249456 sha256=590e6a04454095c5b94adb35990b9838f4f32c5456d4c1d1462f830f1413dcdb\n",
            "  Stored in directory: /root/.cache/pip/wheels/87/58/fb/d95c84fad7e1bebfed324c13e107ebb08e1997c9226532859a\n",
            "Successfully built mysql-connector-python-rf\n",
            "Installing collected packages: mysql-connector-python-rf\n",
            "Successfully installed mysql-connector-python-rf-2.2.2\n"
          ],
          "name": "stdout"
        }
      ]
    },
    {
      "cell_type": "markdown",
      "metadata": {
        "id": "ncnH2UjaDZpf"
      },
      "source": [
        "import package to connect to mysql and loading data from tables to dataframes"
      ]
    },
    {
      "cell_type": "code",
      "metadata": {
        "colab": {
          "base_uri": "https://localhost:8080/"
        },
        "id": "yzCEUtQfExr-",
        "outputId": "1cdcc1b5-f3dc-4ddf-8721-6d648ae3857e"
      },
      "source": [
        "import mysql.connector\n",
        "\n",
        "#this is to connect to mysql database\n",
        "mydb = mysql.connector.connect(\n",
        "  host=\"cpanel.insaid.co\",\n",
        "  user=\"student\",\n",
        "  password=\"student\",\n",
        "  database=\"Capstone1\"\n",
        ")\n",
        "\n",
        "#declaring a cursor variable of database to hold data of a specific table\n",
        "mycursor = mydb.cursor()\n",
        "\n",
        "#mycursor variable holds the entire data from gender_age_train table\n",
        "mycursor.execute(\"SELECT * FROM gender_age_train\")\n",
        "\n",
        "#using fetchall function to get data from cursor and populating in another variable\n",
        "myresult = mycursor.fetchall()\n",
        "\n",
        "#inserting table data from variable into a dataframe\n",
        "gender_age_train_df = pd.DataFrame(myresult,columns=['device_id','Gender','Age','Age_Group'])\n",
        "\n",
        "#mycursor variable holds the entire data from phone_brand_device_model table\n",
        "mycursor.execute(\"SELECT * FROM phone_brand_device_model\")\n",
        "\n",
        "#using fetchall function to get data from cursor and populating in another variable, this overwrites data from previous load\n",
        "myresult = mycursor.fetchall()\n",
        "\n",
        "#inserting table data from variable into a dataframe\n",
        "phone_brand_device_model_df = pd.DataFrame(myresult,columns=['device_id','Brand','Model'])\n",
        "\n",
        "#printing sample data from the dataframes\n",
        "print(\"Data from Gender_Age_Train Table\")\n",
        "print(\"---------------------------------\")\n",
        "print(gender_age_train_df.head())\n",
        "print(\"**************************************\")\n",
        "print(\"\\n\")\n",
        "print(\"Data from Phone_Brand_Device_Model Table\")\n",
        "print(\"-----------------------------------------\")\n",
        "print(phone_brand_device_model_df.head())\n",
        "print(\"**************************************\")"
      ],
      "execution_count": 8,
      "outputs": [
        {
          "output_type": "stream",
          "text": [
            "Data from Gender_Age_Train Table\n",
            "---------------------------------\n",
            "             device_id Gender  Age Age_Group\n",
            "0 -8076087639492063270      M   35    M32-38\n",
            "1 -2897161552818060146      M   35    M32-38\n",
            "2 -8260683887967679142      M   35    M32-38\n",
            "3 -4938849341048082022      M   30    M29-31\n",
            "4   245133531816851882      M   30    M29-31\n",
            "**************************************\n",
            "\n",
            "\n",
            "Data from Phone_Brand_Device_Model Table\n",
            "-----------------------------------------\n",
            "             device_id Brand    Model\n",
            "0  1877775838486905855  vivo      Y13\n",
            "1 -3766087376657242966    小米     V183\n",
            "2 -6238937574958215831  OPPO      R7s\n",
            "3  8973197758510677470    三星    A368t\n",
            "4 -2015528097870762664    小米  红米Note2\n",
            "**************************************\n"
          ],
          "name": "stdout"
        }
      ]
    },
    {
      "cell_type": "code",
      "metadata": {
        "colab": {
          "base_uri": "https://localhost:8080/"
        },
        "id": "TRHAsDT8MHz9",
        "outputId": "a63dd3d8-d429-4a13-e79c-c4d99816d9c6"
      },
      "source": [
        "events_data_df.info()"
      ],
      "execution_count": 9,
      "outputs": [
        {
          "output_type": "stream",
          "text": [
            "<class 'pandas.core.frame.DataFrame'>\n",
            "RangeIndex: 3252950 entries, 0 to 3252949\n",
            "Data columns (total 7 columns):\n",
            " #   Column     Dtype  \n",
            "---  ------     -----  \n",
            " 0   event_id   int64  \n",
            " 1   device_id  float64\n",
            " 2   timestamp  object \n",
            " 3   longitude  float64\n",
            " 4   latitude   float64\n",
            " 5   city       object \n",
            " 6   state      object \n",
            "dtypes: float64(3), int64(1), object(3)\n",
            "memory usage: 173.7+ MB\n"
          ],
          "name": "stdout"
        }
      ]
    },
    {
      "cell_type": "code",
      "metadata": {
        "colab": {
          "base_uri": "https://localhost:8080/"
        },
        "id": "ONMl2ZzuMTuB",
        "outputId": "072a4965-e7c1-4ff2-e21a-376dd6e7ecb0"
      },
      "source": [
        "gender_age_train_df.info()"
      ],
      "execution_count": 10,
      "outputs": [
        {
          "output_type": "stream",
          "text": [
            "<class 'pandas.core.frame.DataFrame'>\n",
            "RangeIndex: 74645 entries, 0 to 74644\n",
            "Data columns (total 4 columns):\n",
            " #   Column     Non-Null Count  Dtype \n",
            "---  ------     --------------  ----- \n",
            " 0   device_id  74645 non-null  int64 \n",
            " 1   Gender     74645 non-null  object\n",
            " 2   Age        74645 non-null  int64 \n",
            " 3   Age_Group  74645 non-null  object\n",
            "dtypes: int64(2), object(2)\n",
            "memory usage: 2.3+ MB\n"
          ],
          "name": "stdout"
        }
      ]
    },
    {
      "cell_type": "code",
      "metadata": {
        "colab": {
          "base_uri": "https://localhost:8080/"
        },
        "id": "RmQCvNB1MT2r",
        "outputId": "3deafb99-c9c7-400b-d5ff-0b404d8cddc4"
      },
      "source": [
        "phone_brand_device_model_df.info()"
      ],
      "execution_count": 11,
      "outputs": [
        {
          "output_type": "stream",
          "text": [
            "<class 'pandas.core.frame.DataFrame'>\n",
            "RangeIndex: 87726 entries, 0 to 87725\n",
            "Data columns (total 3 columns):\n",
            " #   Column     Non-Null Count  Dtype \n",
            "---  ------     --------------  ----- \n",
            " 0   device_id  87726 non-null  int64 \n",
            " 1   Brand      87726 non-null  object\n",
            " 2   Model      87726 non-null  object\n",
            "dtypes: int64(1), object(2)\n",
            "memory usage: 2.0+ MB\n"
          ],
          "name": "stdout"
        }
      ]
    },
    {
      "cell_type": "markdown",
      "metadata": {
        "id": "9qxDJOoLUS_j"
      },
      "source": [
        "Checking how many device_id from gender_age_train_df are present in events_data_df"
      ]
    },
    {
      "cell_type": "code",
      "metadata": {
        "id": "lrL-0R3HUqGZ",
        "colab": {
          "base_uri": "https://localhost:8080/"
        },
        "outputId": "5aa7cb37-e8dc-4a8e-c6d3-ff2fe49acbc7"
      },
      "source": [
        "count=0\n",
        "for id in gender_age_train_df['device_id']:\n",
        "  events_data_df[events_data_df['device_id']==id]\n",
        "  count=count+1\n",
        "  \n",
        "print(\"Number of DeviceIds common in EventsData & GenderAgeTrain are: \",count)"
      ],
      "execution_count": 12,
      "outputs": [
        {
          "output_type": "stream",
          "text": [
            "Number of DeviceIds common in EventsData & GenderAgeTrain are:  74645\n"
          ],
          "name": "stdout"
        }
      ]
    },
    {
      "cell_type": "markdown",
      "metadata": {
        "id": "ztyeioeXUcx3"
      },
      "source": [
        "From this we can say that all the device_id present in gender_age_train_df are present in events_data_df"
      ]
    },
    {
      "cell_type": "code",
      "metadata": {
        "colab": {
          "base_uri": "https://localhost:8080/"
        },
        "id": "fIAlWwBXMv7a",
        "outputId": "476ce58a-21cb-449c-9bf4-1840f35b0f2f"
      },
      "source": [
        "count=0\n",
        "for id in phone_brand_device_model_df['device_id']:\n",
        "  events_data_df[events_data_df['device_id']==id]\n",
        "  count=count+1\n",
        "  \n",
        "print(\"Number of DeviceIds common in EventsData & PhoneBrandDeviceModel are: \",count)"
      ],
      "execution_count": 13,
      "outputs": [
        {
          "output_type": "stream",
          "text": [
            "Number of DeviceIds common in EventsData & PhoneBrandDeviceModel are:  87726\n"
          ],
          "name": "stdout"
        }
      ]
    },
    {
      "cell_type": "markdown",
      "metadata": {
        "id": "HdyKoyYoW_is"
      },
      "source": [
        "From this we can say that all the device_id present in phone_brand_device_model_df are present in events_data_df"
      ]
    },
    {
      "cell_type": "code",
      "metadata": {
        "colab": {
          "base_uri": "https://localhost:8080/"
        },
        "id": "dBWGiPAfvMN2",
        "outputId": "3e142809-eb97-4940-ca31-7b73dabbbe8f"
      },
      "source": [
        "events_data_df['device_id'].value_counts(ascending=False)"
      ],
      "execution_count": 35,
      "outputs": [
        {
          "output_type": "execute_result",
          "data": {
            "text/plain": [
              " 5.536513e+18    33426\n",
              "-4.792366e+18    14568\n",
              " 4.428421e+17     6731\n",
              "-6.242501e+18     4150\n",
              "-8.340098e+18     3973\n",
              "                 ...  \n",
              " 1.811198e+18        1\n",
              "-6.853438e+18        1\n",
              "-6.429648e+17        1\n",
              " 4.889676e+18        1\n",
              "-4.243579e+18        1\n",
              "Name: device_id, Length: 60865, dtype: int64"
            ]
          },
          "metadata": {
            "tags": []
          },
          "execution_count": 35
        }
      ]
    },
    {
      "cell_type": "code",
      "metadata": {
        "colab": {
          "base_uri": "https://localhost:8080/"
        },
        "id": "0dgXDGfl3m29",
        "outputId": "e070cf55-a033-4883-9dbd-d9eac6ae3c56"
      },
      "source": [
        "gender_age_train_df['device_id'].value_counts(ascending=False)"
      ],
      "execution_count": 36,
      "outputs": [
        {
          "output_type": "execute_result",
          "data": {
            "text/plain": [
              " 2257159551899998892    1\n",
              "-5859103589956090399    1\n",
              "-1824840104697287357    1\n",
              " 4676982795249941605    1\n",
              "-4498445842577775035    1\n",
              "                       ..\n",
              " 1973456509863984167    1\n",
              "-6615755711424206170    1\n",
              " 7038954467068358105    1\n",
              " 452720611336482113     1\n",
              " 8954493586702958652    1\n",
              "Name: device_id, Length: 74645, dtype: int64"
            ]
          },
          "metadata": {
            "tags": []
          },
          "execution_count": 36
        }
      ]
    },
    {
      "cell_type": "code",
      "metadata": {
        "colab": {
          "base_uri": "https://localhost:8080/"
        },
        "id": "LBVuVwcw7TO4",
        "outputId": "355c14c0-4c2f-407c-fbfd-0235be41abc3"
      },
      "source": [
        "phone_brand_device_model_df['device_id'].value_counts(ascending=False)"
      ],
      "execution_count": 37,
      "outputs": [
        {
          "output_type": "execute_result",
          "data": {
            "text/plain": [
              " 4297421574931963628    1\n",
              "-6683447465042266790    1\n",
              "-2025398450464681486    1\n",
              "-2104282943635898244    1\n",
              "-1079794670707116889    1\n",
              "                       ..\n",
              "-8243778303410121446    1\n",
              " 4963348570238922413    1\n",
              " 2156147271872893762    1\n",
              "-3354736606620104853    1\n",
              " 8954493586702958652    1\n",
              "Name: device_id, Length: 87726, dtype: int64"
            ]
          },
          "metadata": {
            "tags": []
          },
          "execution_count": 37
        }
      ]
    },
    {
      "cell_type": "code",
      "metadata": {
        "colab": {
          "base_uri": "https://localhost:8080/"
        },
        "id": "2Qco7DdQ8bW2",
        "outputId": "6a7a5297-6cc3-47e7-e80e-4191484b05ea"
      },
      "source": [
        "gender_age_train_df['Gender'].value_counts()"
      ],
      "execution_count": 38,
      "outputs": [
        {
          "output_type": "execute_result",
          "data": {
            "text/plain": [
              "M    47904\n",
              "F    26741\n",
              "Name: Gender, dtype: int64"
            ]
          },
          "metadata": {
            "tags": []
          },
          "execution_count": 38
        }
      ]
    },
    {
      "cell_type": "code",
      "metadata": {
        "colab": {
          "base_uri": "https://localhost:8080/"
        },
        "id": "jVr0tdAt8zca",
        "outputId": "0e891d8d-8995-434a-9a83-042043292ccd"
      },
      "source": [
        "phone_brand_device_model_df['Brand'].value_counts(ascending=False)"
      ],
      "execution_count": 41,
      "outputs": [
        {
          "output_type": "execute_result",
          "data": {
            "text/plain": [
              "小米      21645\n",
              "三星      19211\n",
              "华为      15181\n",
              "vivo     7596\n",
              "OPPO     6717\n",
              "        ...  \n",
              "欧沃          1\n",
              "瑞高          1\n",
              "E人E本        1\n",
              "世纪星         1\n",
              "西门子         1\n",
              "Name: Brand, Length: 116, dtype: int64"
            ]
          },
          "metadata": {
            "tags": []
          },
          "execution_count": 41
        }
      ]
    },
    {
      "cell_type": "markdown",
      "metadata": {
        "id": "LKuMGCZxWh5g"
      },
      "source": [
        "Merging Dataframes on device_id to create a single dataframe which contains customer age, gender, mobile brand and model"
      ]
    },
    {
      "cell_type": "code",
      "metadata": {
        "colab": {
          "base_uri": "https://localhost:8080/",
          "height": 391
        },
        "id": "R-0klUXfWP4o",
        "outputId": "d07d5dce-1c08-42ab-e8c1-b0ca0e620153"
      },
      "source": [
        "device_data_df=pd.merge(events_data_df,gender_age_train_df,on='device_id',how='left')\n",
        "device_data_df.fillna(0,inplace=True)\n",
        "device_data_df"
      ],
      "execution_count": null,
      "outputs": [
        {
          "output_type": "execute_result",
          "data": {
            "text/html": [
              "<div>\n",
              "<style scoped>\n",
              "    .dataframe tbody tr th:only-of-type {\n",
              "        vertical-align: middle;\n",
              "    }\n",
              "\n",
              "    .dataframe tbody tr th {\n",
              "        vertical-align: top;\n",
              "    }\n",
              "\n",
              "    .dataframe thead th {\n",
              "        text-align: right;\n",
              "    }\n",
              "</style>\n",
              "<table border=\"1\" class=\"dataframe\">\n",
              "  <thead>\n",
              "    <tr style=\"text-align: right;\">\n",
              "      <th></th>\n",
              "      <th>event_id</th>\n",
              "      <th>device_id</th>\n",
              "      <th>timestamp</th>\n",
              "      <th>longitude</th>\n",
              "      <th>latitude</th>\n",
              "      <th>city</th>\n",
              "      <th>state</th>\n",
              "      <th>Gender</th>\n",
              "      <th>Age</th>\n",
              "      <th>Age_Group</th>\n",
              "    </tr>\n",
              "  </thead>\n",
              "  <tbody>\n",
              "    <tr>\n",
              "      <th>0</th>\n",
              "      <td>2765368</td>\n",
              "      <td>2.973348e+18</td>\n",
              "      <td>2016-05-07 22:52:05</td>\n",
              "      <td>77.225676</td>\n",
              "      <td>28.730140</td>\n",
              "      <td>Delhi</td>\n",
              "      <td>Delhi</td>\n",
              "      <td>M</td>\n",
              "      <td>35.0</td>\n",
              "      <td>M32-38</td>\n",
              "    </tr>\n",
              "    <tr>\n",
              "      <th>1</th>\n",
              "      <td>2955066</td>\n",
              "      <td>4.734221e+18</td>\n",
              "      <td>2016-05-01 20:44:16</td>\n",
              "      <td>88.388361</td>\n",
              "      <td>22.660325</td>\n",
              "      <td>Calcutta</td>\n",
              "      <td>WestBengal</td>\n",
              "      <td>0</td>\n",
              "      <td>0.0</td>\n",
              "      <td>0</td>\n",
              "    </tr>\n",
              "    <tr>\n",
              "      <th>2</th>\n",
              "      <td>605968</td>\n",
              "      <td>-3.264500e+18</td>\n",
              "      <td>2016-05-02 14:23:04</td>\n",
              "      <td>77.256809</td>\n",
              "      <td>28.757906</td>\n",
              "      <td>Delhi</td>\n",
              "      <td>Delhi</td>\n",
              "      <td>0</td>\n",
              "      <td>0.0</td>\n",
              "      <td>0</td>\n",
              "    </tr>\n",
              "    <tr>\n",
              "      <th>3</th>\n",
              "      <td>448114</td>\n",
              "      <td>5.731369e+18</td>\n",
              "      <td>2016-05-03 13:21:16</td>\n",
              "      <td>80.343613</td>\n",
              "      <td>13.153332</td>\n",
              "      <td>Chennai</td>\n",
              "      <td>TamilNadu</td>\n",
              "      <td>0</td>\n",
              "      <td>0.0</td>\n",
              "      <td>0</td>\n",
              "    </tr>\n",
              "    <tr>\n",
              "      <th>4</th>\n",
              "      <td>665740</td>\n",
              "      <td>3.388880e+17</td>\n",
              "      <td>2016-05-06 03:51:05</td>\n",
              "      <td>85.997745</td>\n",
              "      <td>23.842609</td>\n",
              "      <td>Bokaro</td>\n",
              "      <td>Jharkhand</td>\n",
              "      <td>0</td>\n",
              "      <td>0.0</td>\n",
              "      <td>0</td>\n",
              "    </tr>\n",
              "    <tr>\n",
              "      <th>...</th>\n",
              "      <td>...</td>\n",
              "      <td>...</td>\n",
              "      <td>...</td>\n",
              "      <td>...</td>\n",
              "      <td>...</td>\n",
              "      <td>...</td>\n",
              "      <td>...</td>\n",
              "      <td>...</td>\n",
              "      <td>...</td>\n",
              "      <td>...</td>\n",
              "    </tr>\n",
              "    <tr>\n",
              "      <th>3252945</th>\n",
              "      <td>2687452</td>\n",
              "      <td>-1.937028e+18</td>\n",
              "      <td>2016-05-07 23:33:14</td>\n",
              "      <td>73.891597</td>\n",
              "      <td>18.544124</td>\n",
              "      <td>Pune</td>\n",
              "      <td>Maharashtra</td>\n",
              "      <td>0</td>\n",
              "      <td>0.0</td>\n",
              "      <td>0</td>\n",
              "    </tr>\n",
              "    <tr>\n",
              "      <th>3252946</th>\n",
              "      <td>1051580</td>\n",
              "      <td>3.345851e+18</td>\n",
              "      <td>2016-05-03 05:13:30</td>\n",
              "      <td>72.837258</td>\n",
              "      <td>19.018432</td>\n",
              "      <td>Mumbai</td>\n",
              "      <td>Maharashtra</td>\n",
              "      <td>0</td>\n",
              "      <td>0.0</td>\n",
              "      <td>0</td>\n",
              "    </tr>\n",
              "    <tr>\n",
              "      <th>3252947</th>\n",
              "      <td>1316227</td>\n",
              "      <td>-6.406040e+18</td>\n",
              "      <td>2016-05-01 16:03:28</td>\n",
              "      <td>77.235578</td>\n",
              "      <td>28.764065</td>\n",
              "      <td>Delhi</td>\n",
              "      <td>Delhi</td>\n",
              "      <td>0</td>\n",
              "      <td>0.0</td>\n",
              "      <td>0</td>\n",
              "    </tr>\n",
              "    <tr>\n",
              "      <th>3252948</th>\n",
              "      <td>381262</td>\n",
              "      <td>-2.920741e+18</td>\n",
              "      <td>2016-05-05 17:22:36</td>\n",
              "      <td>83.326044</td>\n",
              "      <td>17.765488</td>\n",
              "      <td>Visakhapatnam</td>\n",
              "      <td>AndhraPradesh</td>\n",
              "      <td>0</td>\n",
              "      <td>0.0</td>\n",
              "      <td>0</td>\n",
              "    </tr>\n",
              "    <tr>\n",
              "      <th>3252949</th>\n",
              "      <td>522592</td>\n",
              "      <td>3.212750e+18</td>\n",
              "      <td>2016-05-07 17:34:18</td>\n",
              "      <td>77.308533</td>\n",
              "      <td>9.779918</td>\n",
              "      <td>Kambam</td>\n",
              "      <td>TamilNadu</td>\n",
              "      <td>0</td>\n",
              "      <td>0.0</td>\n",
              "      <td>0</td>\n",
              "    </tr>\n",
              "  </tbody>\n",
              "</table>\n",
              "<p>3252950 rows × 10 columns</p>\n",
              "</div>"
            ],
            "text/plain": [
              "         event_id     device_id            timestamp  ...  Gender   Age Age_Group\n",
              "0         2765368  2.973348e+18  2016-05-07 22:52:05  ...       M  35.0    M32-38\n",
              "1         2955066  4.734221e+18  2016-05-01 20:44:16  ...       0   0.0         0\n",
              "2          605968 -3.264500e+18  2016-05-02 14:23:04  ...       0   0.0         0\n",
              "3          448114  5.731369e+18  2016-05-03 13:21:16  ...       0   0.0         0\n",
              "4          665740  3.388880e+17  2016-05-06 03:51:05  ...       0   0.0         0\n",
              "...           ...           ...                  ...  ...     ...   ...       ...\n",
              "3252945   2687452 -1.937028e+18  2016-05-07 23:33:14  ...       0   0.0         0\n",
              "3252946   1051580  3.345851e+18  2016-05-03 05:13:30  ...       0   0.0         0\n",
              "3252947   1316227 -6.406040e+18  2016-05-01 16:03:28  ...       0   0.0         0\n",
              "3252948    381262 -2.920741e+18  2016-05-05 17:22:36  ...       0   0.0         0\n",
              "3252949    522592  3.212750e+18  2016-05-07 17:34:18  ...       0   0.0         0\n",
              "\n",
              "[3252950 rows x 10 columns]"
            ]
          },
          "metadata": {
            "tags": []
          },
          "execution_count": 53
        }
      ]
    },
    {
      "cell_type": "code",
      "metadata": {
        "colab": {
          "base_uri": "https://localhost:8080/",
          "height": 391
        },
        "id": "k2byoyqqXjqP",
        "outputId": "1b997b56-5900-47cd-9d21-638e624e52c8"
      },
      "source": [
        "device_data_df=pd.merge(device_data_df,phone_brand_device_model_df,on='device_id',how='left')\n",
        "device_data_df.fillna(0,inplace=True)\n",
        "device_data_df"
      ],
      "execution_count": null,
      "outputs": [
        {
          "output_type": "execute_result",
          "data": {
            "text/html": [
              "<div>\n",
              "<style scoped>\n",
              "    .dataframe tbody tr th:only-of-type {\n",
              "        vertical-align: middle;\n",
              "    }\n",
              "\n",
              "    .dataframe tbody tr th {\n",
              "        vertical-align: top;\n",
              "    }\n",
              "\n",
              "    .dataframe thead th {\n",
              "        text-align: right;\n",
              "    }\n",
              "</style>\n",
              "<table border=\"1\" class=\"dataframe\">\n",
              "  <thead>\n",
              "    <tr style=\"text-align: right;\">\n",
              "      <th></th>\n",
              "      <th>event_id</th>\n",
              "      <th>device_id</th>\n",
              "      <th>timestamp</th>\n",
              "      <th>longitude</th>\n",
              "      <th>latitude</th>\n",
              "      <th>city</th>\n",
              "      <th>state</th>\n",
              "      <th>Gender</th>\n",
              "      <th>Age</th>\n",
              "      <th>Age_Group</th>\n",
              "      <th>Brand</th>\n",
              "      <th>Model</th>\n",
              "    </tr>\n",
              "  </thead>\n",
              "  <tbody>\n",
              "    <tr>\n",
              "      <th>0</th>\n",
              "      <td>2765368</td>\n",
              "      <td>2.973348e+18</td>\n",
              "      <td>2016-05-07 22:52:05</td>\n",
              "      <td>77.225676</td>\n",
              "      <td>28.730140</td>\n",
              "      <td>Delhi</td>\n",
              "      <td>Delhi</td>\n",
              "      <td>M</td>\n",
              "      <td>35.0</td>\n",
              "      <td>M32-38</td>\n",
              "      <td>优米</td>\n",
              "      <td>UIMI3</td>\n",
              "    </tr>\n",
              "    <tr>\n",
              "      <th>1</th>\n",
              "      <td>2955066</td>\n",
              "      <td>4.734221e+18</td>\n",
              "      <td>2016-05-01 20:44:16</td>\n",
              "      <td>88.388361</td>\n",
              "      <td>22.660325</td>\n",
              "      <td>Calcutta</td>\n",
              "      <td>WestBengal</td>\n",
              "      <td>0</td>\n",
              "      <td>0.0</td>\n",
              "      <td>0</td>\n",
              "      <td>0</td>\n",
              "      <td>0</td>\n",
              "    </tr>\n",
              "    <tr>\n",
              "      <th>2</th>\n",
              "      <td>605968</td>\n",
              "      <td>-3.264500e+18</td>\n",
              "      <td>2016-05-02 14:23:04</td>\n",
              "      <td>77.256809</td>\n",
              "      <td>28.757906</td>\n",
              "      <td>Delhi</td>\n",
              "      <td>Delhi</td>\n",
              "      <td>0</td>\n",
              "      <td>0.0</td>\n",
              "      <td>0</td>\n",
              "      <td>0</td>\n",
              "      <td>0</td>\n",
              "    </tr>\n",
              "    <tr>\n",
              "      <th>3</th>\n",
              "      <td>448114</td>\n",
              "      <td>5.731369e+18</td>\n",
              "      <td>2016-05-03 13:21:16</td>\n",
              "      <td>80.343613</td>\n",
              "      <td>13.153332</td>\n",
              "      <td>Chennai</td>\n",
              "      <td>TamilNadu</td>\n",
              "      <td>0</td>\n",
              "      <td>0.0</td>\n",
              "      <td>0</td>\n",
              "      <td>0</td>\n",
              "      <td>0</td>\n",
              "    </tr>\n",
              "    <tr>\n",
              "      <th>4</th>\n",
              "      <td>665740</td>\n",
              "      <td>3.388880e+17</td>\n",
              "      <td>2016-05-06 03:51:05</td>\n",
              "      <td>85.997745</td>\n",
              "      <td>23.842609</td>\n",
              "      <td>Bokaro</td>\n",
              "      <td>Jharkhand</td>\n",
              "      <td>0</td>\n",
              "      <td>0.0</td>\n",
              "      <td>0</td>\n",
              "      <td>0</td>\n",
              "      <td>0</td>\n",
              "    </tr>\n",
              "    <tr>\n",
              "      <th>...</th>\n",
              "      <td>...</td>\n",
              "      <td>...</td>\n",
              "      <td>...</td>\n",
              "      <td>...</td>\n",
              "      <td>...</td>\n",
              "      <td>...</td>\n",
              "      <td>...</td>\n",
              "      <td>...</td>\n",
              "      <td>...</td>\n",
              "      <td>...</td>\n",
              "      <td>...</td>\n",
              "      <td>...</td>\n",
              "    </tr>\n",
              "    <tr>\n",
              "      <th>3252945</th>\n",
              "      <td>2687452</td>\n",
              "      <td>-1.937028e+18</td>\n",
              "      <td>2016-05-07 23:33:14</td>\n",
              "      <td>73.891597</td>\n",
              "      <td>18.544124</td>\n",
              "      <td>Pune</td>\n",
              "      <td>Maharashtra</td>\n",
              "      <td>0</td>\n",
              "      <td>0.0</td>\n",
              "      <td>0</td>\n",
              "      <td>0</td>\n",
              "      <td>0</td>\n",
              "    </tr>\n",
              "    <tr>\n",
              "      <th>3252946</th>\n",
              "      <td>1051580</td>\n",
              "      <td>3.345851e+18</td>\n",
              "      <td>2016-05-03 05:13:30</td>\n",
              "      <td>72.837258</td>\n",
              "      <td>19.018432</td>\n",
              "      <td>Mumbai</td>\n",
              "      <td>Maharashtra</td>\n",
              "      <td>0</td>\n",
              "      <td>0.0</td>\n",
              "      <td>0</td>\n",
              "      <td>0</td>\n",
              "      <td>0</td>\n",
              "    </tr>\n",
              "    <tr>\n",
              "      <th>3252947</th>\n",
              "      <td>1316227</td>\n",
              "      <td>-6.406040e+18</td>\n",
              "      <td>2016-05-01 16:03:28</td>\n",
              "      <td>77.235578</td>\n",
              "      <td>28.764065</td>\n",
              "      <td>Delhi</td>\n",
              "      <td>Delhi</td>\n",
              "      <td>0</td>\n",
              "      <td>0.0</td>\n",
              "      <td>0</td>\n",
              "      <td>0</td>\n",
              "      <td>0</td>\n",
              "    </tr>\n",
              "    <tr>\n",
              "      <th>3252948</th>\n",
              "      <td>381262</td>\n",
              "      <td>-2.920741e+18</td>\n",
              "      <td>2016-05-05 17:22:36</td>\n",
              "      <td>83.326044</td>\n",
              "      <td>17.765488</td>\n",
              "      <td>Visakhapatnam</td>\n",
              "      <td>AndhraPradesh</td>\n",
              "      <td>0</td>\n",
              "      <td>0.0</td>\n",
              "      <td>0</td>\n",
              "      <td>0</td>\n",
              "      <td>0</td>\n",
              "    </tr>\n",
              "    <tr>\n",
              "      <th>3252949</th>\n",
              "      <td>522592</td>\n",
              "      <td>3.212750e+18</td>\n",
              "      <td>2016-05-07 17:34:18</td>\n",
              "      <td>77.308533</td>\n",
              "      <td>9.779918</td>\n",
              "      <td>Kambam</td>\n",
              "      <td>TamilNadu</td>\n",
              "      <td>0</td>\n",
              "      <td>0.0</td>\n",
              "      <td>0</td>\n",
              "      <td>0</td>\n",
              "      <td>0</td>\n",
              "    </tr>\n",
              "  </tbody>\n",
              "</table>\n",
              "<p>3252950 rows × 12 columns</p>\n",
              "</div>"
            ],
            "text/plain": [
              "         event_id     device_id            timestamp  ...  Age_Group  Brand  Model\n",
              "0         2765368  2.973348e+18  2016-05-07 22:52:05  ...     M32-38     优米  UIMI3\n",
              "1         2955066  4.734221e+18  2016-05-01 20:44:16  ...          0      0      0\n",
              "2          605968 -3.264500e+18  2016-05-02 14:23:04  ...          0      0      0\n",
              "3          448114  5.731369e+18  2016-05-03 13:21:16  ...          0      0      0\n",
              "4          665740  3.388880e+17  2016-05-06 03:51:05  ...          0      0      0\n",
              "...           ...           ...                  ...  ...        ...    ...    ...\n",
              "3252945   2687452 -1.937028e+18  2016-05-07 23:33:14  ...          0      0      0\n",
              "3252946   1051580  3.345851e+18  2016-05-03 05:13:30  ...          0      0      0\n",
              "3252947   1316227 -6.406040e+18  2016-05-01 16:03:28  ...          0      0      0\n",
              "3252948    381262 -2.920741e+18  2016-05-05 17:22:36  ...          0      0      0\n",
              "3252949    522592  3.212750e+18  2016-05-07 17:34:18  ...          0      0      0\n",
              "\n",
              "[3252950 rows x 12 columns]"
            ]
          },
          "metadata": {
            "tags": []
          },
          "execution_count": 54
        }
      ]
    },
    {
      "cell_type": "code",
      "metadata": {
        "colab": {
          "base_uri": "https://localhost:8080/",
          "height": 391
        },
        "id": "2BK_iI7EXsF2",
        "outputId": "f8880c4e-8cbd-48dd-b79d-db0364820d03"
      },
      "source": [
        "device_data_df[device_data_df['Gender']!=0]"
      ],
      "execution_count": null,
      "outputs": [
        {
          "output_type": "execute_result",
          "data": {
            "text/html": [
              "<div>\n",
              "<style scoped>\n",
              "    .dataframe tbody tr th:only-of-type {\n",
              "        vertical-align: middle;\n",
              "    }\n",
              "\n",
              "    .dataframe tbody tr th {\n",
              "        vertical-align: top;\n",
              "    }\n",
              "\n",
              "    .dataframe thead th {\n",
              "        text-align: right;\n",
              "    }\n",
              "</style>\n",
              "<table border=\"1\" class=\"dataframe\">\n",
              "  <thead>\n",
              "    <tr style=\"text-align: right;\">\n",
              "      <th></th>\n",
              "      <th>event_id</th>\n",
              "      <th>device_id</th>\n",
              "      <th>timestamp</th>\n",
              "      <th>longitude</th>\n",
              "      <th>latitude</th>\n",
              "      <th>city</th>\n",
              "      <th>state</th>\n",
              "      <th>Gender</th>\n",
              "      <th>Age</th>\n",
              "      <th>Age_Group</th>\n",
              "      <th>Brand</th>\n",
              "      <th>Model</th>\n",
              "    </tr>\n",
              "  </thead>\n",
              "  <tbody>\n",
              "    <tr>\n",
              "      <th>0</th>\n",
              "      <td>2765368</td>\n",
              "      <td>2.973348e+18</td>\n",
              "      <td>2016-05-07 22:52:05</td>\n",
              "      <td>77.225676</td>\n",
              "      <td>28.730140</td>\n",
              "      <td>Delhi</td>\n",
              "      <td>Delhi</td>\n",
              "      <td>M</td>\n",
              "      <td>35.0</td>\n",
              "      <td>M32-38</td>\n",
              "      <td>优米</td>\n",
              "      <td>UIMI3</td>\n",
              "    </tr>\n",
              "    <tr>\n",
              "      <th>73</th>\n",
              "      <td>1355198</td>\n",
              "      <td>2.973348e+18</td>\n",
              "      <td>2016-05-01 01:35:45</td>\n",
              "      <td>77.225676</td>\n",
              "      <td>28.730140</td>\n",
              "      <td>Delhi</td>\n",
              "      <td>Delhi</td>\n",
              "      <td>M</td>\n",
              "      <td>35.0</td>\n",
              "      <td>M32-38</td>\n",
              "      <td>优米</td>\n",
              "      <td>UIMI3</td>\n",
              "    </tr>\n",
              "    <tr>\n",
              "      <th>75</th>\n",
              "      <td>1700164</td>\n",
              "      <td>1.447049e+16</td>\n",
              "      <td>2016-05-07 22:42:50</td>\n",
              "      <td>94.131362</td>\n",
              "      <td>25.765812</td>\n",
              "      <td>Kohima</td>\n",
              "      <td>Nagaland</td>\n",
              "      <td>F</td>\n",
              "      <td>42.0</td>\n",
              "      <td>F33-42</td>\n",
              "      <td>华为</td>\n",
              "      <td>荣耀7</td>\n",
              "    </tr>\n",
              "    <tr>\n",
              "      <th>373</th>\n",
              "      <td>1836426</td>\n",
              "      <td>3.872522e+18</td>\n",
              "      <td>2016-05-01 20:29:14</td>\n",
              "      <td>71.294802</td>\n",
              "      <td>21.661309</td>\n",
              "      <td>Amreli</td>\n",
              "      <td>Gujarat</td>\n",
              "      <td>M</td>\n",
              "      <td>20.0</td>\n",
              "      <td>M22-</td>\n",
              "      <td>酷派</td>\n",
              "      <td>8702</td>\n",
              "    </tr>\n",
              "    <tr>\n",
              "      <th>628</th>\n",
              "      <td>2319906</td>\n",
              "      <td>-4.973076e+16</td>\n",
              "      <td>2016-05-01 10:31:53</td>\n",
              "      <td>80.317379</td>\n",
              "      <td>13.176652</td>\n",
              "      <td>Chennai</td>\n",
              "      <td>TamilNadu</td>\n",
              "      <td>M</td>\n",
              "      <td>31.0</td>\n",
              "      <td>M29-31</td>\n",
              "      <td>三星</td>\n",
              "      <td>K860i</td>\n",
              "    </tr>\n",
              "    <tr>\n",
              "      <th>...</th>\n",
              "      <td>...</td>\n",
              "      <td>...</td>\n",
              "      <td>...</td>\n",
              "      <td>...</td>\n",
              "      <td>...</td>\n",
              "      <td>...</td>\n",
              "      <td>...</td>\n",
              "      <td>...</td>\n",
              "      <td>...</td>\n",
              "      <td>...</td>\n",
              "      <td>...</td>\n",
              "      <td>...</td>\n",
              "    </tr>\n",
              "    <tr>\n",
              "      <th>3251331</th>\n",
              "      <td>1586578</td>\n",
              "      <td>2.036140e+17</td>\n",
              "      <td>2016-05-04 17:53:28</td>\n",
              "      <td>75.874693</td>\n",
              "      <td>22.806684</td>\n",
              "      <td>Indore</td>\n",
              "      <td>MadhyaPradesh</td>\n",
              "      <td>M</td>\n",
              "      <td>57.0</td>\n",
              "      <td>M39+</td>\n",
              "      <td>小米</td>\n",
              "      <td>红米Note2</td>\n",
              "    </tr>\n",
              "    <tr>\n",
              "      <th>3251469</th>\n",
              "      <td>2221680</td>\n",
              "      <td>-5.375128e+17</td>\n",
              "      <td>2016-05-06 21:10:53</td>\n",
              "      <td>72.762445</td>\n",
              "      <td>20.057189</td>\n",
              "      <td>Dahanu</td>\n",
              "      <td>Maharashtra</td>\n",
              "      <td>M</td>\n",
              "      <td>27.0</td>\n",
              "      <td>M27-28</td>\n",
              "      <td>华为</td>\n",
              "      <td>荣耀4A</td>\n",
              "    </tr>\n",
              "    <tr>\n",
              "      <th>3251848</th>\n",
              "      <td>1002673</td>\n",
              "      <td>2.728779e+16</td>\n",
              "      <td>2016-05-06 01:20:30</td>\n",
              "      <td>80.360389</td>\n",
              "      <td>13.168106</td>\n",
              "      <td>Chennai</td>\n",
              "      <td>TamilNadu</td>\n",
              "      <td>M</td>\n",
              "      <td>26.0</td>\n",
              "      <td>M23-26</td>\n",
              "      <td>小米</td>\n",
              "      <td>红米</td>\n",
              "    </tr>\n",
              "    <tr>\n",
              "      <th>3252632</th>\n",
              "      <td>221124</td>\n",
              "      <td>8.492297e+15</td>\n",
              "      <td>2016-05-03 09:04:15</td>\n",
              "      <td>83.310946</td>\n",
              "      <td>17.753248</td>\n",
              "      <td>Visakhapatnam</td>\n",
              "      <td>AndhraPradesh</td>\n",
              "      <td>M</td>\n",
              "      <td>27.0</td>\n",
              "      <td>M27-28</td>\n",
              "      <td>小米</td>\n",
              "      <td>note顶配版</td>\n",
              "    </tr>\n",
              "    <tr>\n",
              "      <th>3252635</th>\n",
              "      <td>1076223</td>\n",
              "      <td>1.337418e+18</td>\n",
              "      <td>2016-05-03 23:44:37</td>\n",
              "      <td>75.917280</td>\n",
              "      <td>22.794318</td>\n",
              "      <td>Indore</td>\n",
              "      <td>MadhyaPradesh</td>\n",
              "      <td>F</td>\n",
              "      <td>49.0</td>\n",
              "      <td>F43+</td>\n",
              "      <td>小米</td>\n",
              "      <td>红米2</td>\n",
              "    </tr>\n",
              "  </tbody>\n",
              "</table>\n",
              "<p>16982 rows × 12 columns</p>\n",
              "</div>"
            ],
            "text/plain": [
              "         event_id     device_id            timestamp  ...  Age_Group  Brand    Model\n",
              "0         2765368  2.973348e+18  2016-05-07 22:52:05  ...     M32-38     优米    UIMI3\n",
              "73        1355198  2.973348e+18  2016-05-01 01:35:45  ...     M32-38     优米    UIMI3\n",
              "75        1700164  1.447049e+16  2016-05-07 22:42:50  ...     F33-42     华为      荣耀7\n",
              "373       1836426  3.872522e+18  2016-05-01 20:29:14  ...       M22-     酷派     8702\n",
              "628       2319906 -4.973076e+16  2016-05-01 10:31:53  ...     M29-31     三星    K860i\n",
              "...           ...           ...                  ...  ...        ...    ...      ...\n",
              "3251331   1586578  2.036140e+17  2016-05-04 17:53:28  ...       M39+     小米  红米Note2\n",
              "3251469   2221680 -5.375128e+17  2016-05-06 21:10:53  ...     M27-28     华为     荣耀4A\n",
              "3251848   1002673  2.728779e+16  2016-05-06 01:20:30  ...     M23-26     小米       红米\n",
              "3252632    221124  8.492297e+15  2016-05-03 09:04:15  ...     M27-28     小米  note顶配版\n",
              "3252635   1076223  1.337418e+18  2016-05-03 23:44:37  ...       F43+     小米      红米2\n",
              "\n",
              "[16982 rows x 12 columns]"
            ]
          },
          "metadata": {
            "tags": []
          },
          "execution_count": 57
        }
      ]
    },
    {
      "cell_type": "code",
      "metadata": {
        "colab": {
          "base_uri": "https://localhost:8080/",
          "height": 391
        },
        "id": "r0GsJkREYA9q",
        "outputId": "6842950f-0e50-4000-8edf-ab48ac13ab24"
      },
      "source": [
        "device_data_df[device_data_df['Brand']!=0]"
      ],
      "execution_count": null,
      "outputs": [
        {
          "output_type": "execute_result",
          "data": {
            "text/html": [
              "<div>\n",
              "<style scoped>\n",
              "    .dataframe tbody tr th:only-of-type {\n",
              "        vertical-align: middle;\n",
              "    }\n",
              "\n",
              "    .dataframe tbody tr th {\n",
              "        vertical-align: top;\n",
              "    }\n",
              "\n",
              "    .dataframe thead th {\n",
              "        text-align: right;\n",
              "    }\n",
              "</style>\n",
              "<table border=\"1\" class=\"dataframe\">\n",
              "  <thead>\n",
              "    <tr style=\"text-align: right;\">\n",
              "      <th></th>\n",
              "      <th>event_id</th>\n",
              "      <th>device_id</th>\n",
              "      <th>timestamp</th>\n",
              "      <th>longitude</th>\n",
              "      <th>latitude</th>\n",
              "      <th>city</th>\n",
              "      <th>state</th>\n",
              "      <th>Gender</th>\n",
              "      <th>Age</th>\n",
              "      <th>Age_Group</th>\n",
              "      <th>Brand</th>\n",
              "      <th>Model</th>\n",
              "    </tr>\n",
              "  </thead>\n",
              "  <tbody>\n",
              "    <tr>\n",
              "      <th>0</th>\n",
              "      <td>2765368</td>\n",
              "      <td>2.973348e+18</td>\n",
              "      <td>2016-05-07 22:52:05</td>\n",
              "      <td>77.225676</td>\n",
              "      <td>28.730140</td>\n",
              "      <td>Delhi</td>\n",
              "      <td>Delhi</td>\n",
              "      <td>M</td>\n",
              "      <td>35.0</td>\n",
              "      <td>M32-38</td>\n",
              "      <td>优米</td>\n",
              "      <td>UIMI3</td>\n",
              "    </tr>\n",
              "    <tr>\n",
              "      <th>73</th>\n",
              "      <td>1355198</td>\n",
              "      <td>2.973348e+18</td>\n",
              "      <td>2016-05-01 01:35:45</td>\n",
              "      <td>77.225676</td>\n",
              "      <td>28.730140</td>\n",
              "      <td>Delhi</td>\n",
              "      <td>Delhi</td>\n",
              "      <td>M</td>\n",
              "      <td>35.0</td>\n",
              "      <td>M32-38</td>\n",
              "      <td>优米</td>\n",
              "      <td>UIMI3</td>\n",
              "    </tr>\n",
              "    <tr>\n",
              "      <th>75</th>\n",
              "      <td>1700164</td>\n",
              "      <td>1.447049e+16</td>\n",
              "      <td>2016-05-07 22:42:50</td>\n",
              "      <td>94.131362</td>\n",
              "      <td>25.765812</td>\n",
              "      <td>Kohima</td>\n",
              "      <td>Nagaland</td>\n",
              "      <td>F</td>\n",
              "      <td>42.0</td>\n",
              "      <td>F33-42</td>\n",
              "      <td>华为</td>\n",
              "      <td>荣耀7</td>\n",
              "    </tr>\n",
              "    <tr>\n",
              "      <th>373</th>\n",
              "      <td>1836426</td>\n",
              "      <td>3.872522e+18</td>\n",
              "      <td>2016-05-01 20:29:14</td>\n",
              "      <td>71.294802</td>\n",
              "      <td>21.661309</td>\n",
              "      <td>Amreli</td>\n",
              "      <td>Gujarat</td>\n",
              "      <td>M</td>\n",
              "      <td>20.0</td>\n",
              "      <td>M22-</td>\n",
              "      <td>酷派</td>\n",
              "      <td>8702</td>\n",
              "    </tr>\n",
              "    <tr>\n",
              "      <th>628</th>\n",
              "      <td>2319906</td>\n",
              "      <td>-4.973076e+16</td>\n",
              "      <td>2016-05-01 10:31:53</td>\n",
              "      <td>80.317379</td>\n",
              "      <td>13.176652</td>\n",
              "      <td>Chennai</td>\n",
              "      <td>TamilNadu</td>\n",
              "      <td>M</td>\n",
              "      <td>31.0</td>\n",
              "      <td>M29-31</td>\n",
              "      <td>三星</td>\n",
              "      <td>K860i</td>\n",
              "    </tr>\n",
              "    <tr>\n",
              "      <th>...</th>\n",
              "      <td>...</td>\n",
              "      <td>...</td>\n",
              "      <td>...</td>\n",
              "      <td>...</td>\n",
              "      <td>...</td>\n",
              "      <td>...</td>\n",
              "      <td>...</td>\n",
              "      <td>...</td>\n",
              "      <td>...</td>\n",
              "      <td>...</td>\n",
              "      <td>...</td>\n",
              "      <td>...</td>\n",
              "    </tr>\n",
              "    <tr>\n",
              "      <th>3251331</th>\n",
              "      <td>1586578</td>\n",
              "      <td>2.036140e+17</td>\n",
              "      <td>2016-05-04 17:53:28</td>\n",
              "      <td>75.874693</td>\n",
              "      <td>22.806684</td>\n",
              "      <td>Indore</td>\n",
              "      <td>MadhyaPradesh</td>\n",
              "      <td>M</td>\n",
              "      <td>57.0</td>\n",
              "      <td>M39+</td>\n",
              "      <td>小米</td>\n",
              "      <td>红米Note2</td>\n",
              "    </tr>\n",
              "    <tr>\n",
              "      <th>3251469</th>\n",
              "      <td>2221680</td>\n",
              "      <td>-5.375128e+17</td>\n",
              "      <td>2016-05-06 21:10:53</td>\n",
              "      <td>72.762445</td>\n",
              "      <td>20.057189</td>\n",
              "      <td>Dahanu</td>\n",
              "      <td>Maharashtra</td>\n",
              "      <td>M</td>\n",
              "      <td>27.0</td>\n",
              "      <td>M27-28</td>\n",
              "      <td>华为</td>\n",
              "      <td>荣耀4A</td>\n",
              "    </tr>\n",
              "    <tr>\n",
              "      <th>3251848</th>\n",
              "      <td>1002673</td>\n",
              "      <td>2.728779e+16</td>\n",
              "      <td>2016-05-06 01:20:30</td>\n",
              "      <td>80.360389</td>\n",
              "      <td>13.168106</td>\n",
              "      <td>Chennai</td>\n",
              "      <td>TamilNadu</td>\n",
              "      <td>M</td>\n",
              "      <td>26.0</td>\n",
              "      <td>M23-26</td>\n",
              "      <td>小米</td>\n",
              "      <td>红米</td>\n",
              "    </tr>\n",
              "    <tr>\n",
              "      <th>3252632</th>\n",
              "      <td>221124</td>\n",
              "      <td>8.492297e+15</td>\n",
              "      <td>2016-05-03 09:04:15</td>\n",
              "      <td>83.310946</td>\n",
              "      <td>17.753248</td>\n",
              "      <td>Visakhapatnam</td>\n",
              "      <td>AndhraPradesh</td>\n",
              "      <td>M</td>\n",
              "      <td>27.0</td>\n",
              "      <td>M27-28</td>\n",
              "      <td>小米</td>\n",
              "      <td>note顶配版</td>\n",
              "    </tr>\n",
              "    <tr>\n",
              "      <th>3252635</th>\n",
              "      <td>1076223</td>\n",
              "      <td>1.337418e+18</td>\n",
              "      <td>2016-05-03 23:44:37</td>\n",
              "      <td>75.917280</td>\n",
              "      <td>22.794318</td>\n",
              "      <td>Indore</td>\n",
              "      <td>MadhyaPradesh</td>\n",
              "      <td>F</td>\n",
              "      <td>49.0</td>\n",
              "      <td>F43+</td>\n",
              "      <td>小米</td>\n",
              "      <td>红米2</td>\n",
              "    </tr>\n",
              "  </tbody>\n",
              "</table>\n",
              "<p>16982 rows × 12 columns</p>\n",
              "</div>"
            ],
            "text/plain": [
              "         event_id     device_id            timestamp  ...  Age_Group  Brand    Model\n",
              "0         2765368  2.973348e+18  2016-05-07 22:52:05  ...     M32-38     优米    UIMI3\n",
              "73        1355198  2.973348e+18  2016-05-01 01:35:45  ...     M32-38     优米    UIMI3\n",
              "75        1700164  1.447049e+16  2016-05-07 22:42:50  ...     F33-42     华为      荣耀7\n",
              "373       1836426  3.872522e+18  2016-05-01 20:29:14  ...       M22-     酷派     8702\n",
              "628       2319906 -4.973076e+16  2016-05-01 10:31:53  ...     M29-31     三星    K860i\n",
              "...           ...           ...                  ...  ...        ...    ...      ...\n",
              "3251331   1586578  2.036140e+17  2016-05-04 17:53:28  ...       M39+     小米  红米Note2\n",
              "3251469   2221680 -5.375128e+17  2016-05-06 21:10:53  ...     M27-28     华为     荣耀4A\n",
              "3251848   1002673  2.728779e+16  2016-05-06 01:20:30  ...     M23-26     小米       红米\n",
              "3252632    221124  8.492297e+15  2016-05-03 09:04:15  ...     M27-28     小米  note顶配版\n",
              "3252635   1076223  1.337418e+18  2016-05-03 23:44:37  ...       F43+     小米      红米2\n",
              "\n",
              "[16982 rows x 12 columns]"
            ]
          },
          "metadata": {
            "tags": []
          },
          "execution_count": 58
        }
      ]
    }
  ]
}