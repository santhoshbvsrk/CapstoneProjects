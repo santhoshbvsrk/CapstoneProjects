{
  "nbformat": 4,
  "nbformat_minor": 0,
  "metadata": {
    "colab": {
      "name": "InsaidTelecom-CDFCapstone.ipynb",
      "provenance": [],
      "collapsed_sections": [],
      "authorship_tag": "ABX9TyMXLJGbGvPmyJHDt8Arm1UE",
      "include_colab_link": true
    },
    "kernelspec": {
      "display_name": "Python 3",
      "name": "python3"
    },
    "language_info": {
      "name": "python"
    }
  },
  "cells": [
    {
      "cell_type": "markdown",
      "metadata": {
        "id": "view-in-github",
        "colab_type": "text"
      },
      "source": [
        "<a href=\"https://colab.research.google.com/github/santhoshbvsrk/CapstoneProjects/blob/main/DataAnalytics_CDF/InsaidTelecom_CDFCapstone.ipynb\" target=\"_parent\"><img src=\"https://colab.research.google.com/assets/colab-badge.svg\" alt=\"Open In Colab\"/></a>"
      ]
    },
    {
      "cell_type": "markdown",
      "metadata": {
        "id": "9QXzNhYu958b"
      },
      "source": [
        " \n",
        "\n",
        "*  As the dataset is huge, we'll zip it, upload the zip file to google drive and mount your google drive to colab, unzip it to access data from your colab.\n",
        "\n",
        "\n",
        "*   Import the drive package from google.colab library to mount your google drive on to google colab.\n",
        "\n",
        "\n",
        "\n"
      ]
    },
    {
      "cell_type": "code",
      "metadata": {
        "id": "QHCIGBMs6ENg",
        "colab": {
          "base_uri": "https://localhost:8080/"
        },
        "outputId": "48c454ba-0fff-4bec-b687-0e4aaeee09d3"
      },
      "source": [
        "from google.colab import drive\n",
        "drive.mount ('/content/gdrive')"
      ],
      "execution_count": 1,
      "outputs": [
        {
          "output_type": "stream",
          "text": [
            "Drive already mounted at /content/gdrive; to attempt to forcibly remount, call drive.mount(\"/content/gdrive\", force_remount=True).\n"
          ],
          "name": "stdout"
        }
      ]
    },
    {
      "cell_type": "markdown",
      "metadata": {
        "id": "x6BVhtcc-Icy"
      },
      "source": [
        "\n",
        "\n",
        "*   Once mounting is completed, mention the path of your zip file which contains the data to read."
      ]
    },
    {
      "cell_type": "code",
      "metadata": {
        "id": "GRHBT_Ui6sYq",
        "colab": {
          "base_uri": "https://localhost:8080/"
        },
        "outputId": "4815d75f-ff07-4805-d8be-5cd5342650ae"
      },
      "source": [
        "!unzip gdrive/My\\ Drive/CDF_Capstone_Project/events_data.zip"
      ],
      "execution_count": 2,
      "outputs": [
        {
          "output_type": "stream",
          "text": [
            "Archive:  gdrive/My Drive/CDF_Capstone_Project/events_data.zip\n",
            "replace events_data.csv? [y]es, [n]o, [A]ll, [N]one, [r]ename: n\n"
          ],
          "name": "stdout"
        }
      ]
    },
    {
      "cell_type": "markdown",
      "metadata": {
        "id": "fmURhSSH-YLT"
      },
      "source": [
        "\n",
        "\n",
        "*   Once mounting and unzipping is completed successfully, you should be able to see the zip file contains in your colab folder.\n"
      ]
    },
    {
      "cell_type": "code",
      "metadata": {
        "id": "LxY5H2kh9m-g"
      },
      "source": [
        "import pandas as pd \n",
        "import numpy as np"
      ],
      "execution_count": 3,
      "outputs": []
    },
    {
      "cell_type": "code",
      "metadata": {
        "id": "_nr1NnqR-hvD"
      },
      "source": [
        "pd.set_option('display.float_format', lambda x: '%18f' %x)"
      ],
      "execution_count": 4,
      "outputs": []
    },
    {
      "cell_type": "code",
      "metadata": {
        "id": "S1u996mX9qa1",
        "colab": {
          "base_uri": "https://localhost:8080/",
          "height": 191
        },
        "outputId": "28c7b950-543e-47a8-cf5b-9fddf99fed6a"
      },
      "source": [
        "events_data_df=pd.read_csv(\"events_data.csv\")\n",
        "events_data_df.head()"
      ],
      "execution_count": 5,
      "outputs": [
        {
          "output_type": "execute_result",
          "data": {
            "text/html": [
              "<div>\n",
              "<style scoped>\n",
              "    .dataframe tbody tr th:only-of-type {\n",
              "        vertical-align: middle;\n",
              "    }\n",
              "\n",
              "    .dataframe tbody tr th {\n",
              "        vertical-align: top;\n",
              "    }\n",
              "\n",
              "    .dataframe thead th {\n",
              "        text-align: right;\n",
              "    }\n",
              "</style>\n",
              "<table border=\"1\" class=\"dataframe\">\n",
              "  <thead>\n",
              "    <tr style=\"text-align: right;\">\n",
              "      <th></th>\n",
              "      <th>event_id</th>\n",
              "      <th>device_id</th>\n",
              "      <th>timestamp</th>\n",
              "      <th>longitude</th>\n",
              "      <th>latitude</th>\n",
              "      <th>city</th>\n",
              "      <th>state</th>\n",
              "    </tr>\n",
              "  </thead>\n",
              "  <tbody>\n",
              "    <tr>\n",
              "      <th>0</th>\n",
              "      <td>2765368</td>\n",
              "      <td>2973347786994914304.000000</td>\n",
              "      <td>2016-05-07 22:52:05</td>\n",
              "      <td>77.225676</td>\n",
              "      <td>28.730140</td>\n",
              "      <td>Delhi</td>\n",
              "      <td>Delhi</td>\n",
              "    </tr>\n",
              "    <tr>\n",
              "      <th>1</th>\n",
              "      <td>2955066</td>\n",
              "      <td>4734221357723754496.000000</td>\n",
              "      <td>2016-05-01 20:44:16</td>\n",
              "      <td>88.388361</td>\n",
              "      <td>22.660325</td>\n",
              "      <td>Calcutta</td>\n",
              "      <td>WestBengal</td>\n",
              "    </tr>\n",
              "    <tr>\n",
              "      <th>2</th>\n",
              "      <td>605968</td>\n",
              "      <td>-3264499652692492800.000000</td>\n",
              "      <td>2016-05-02 14:23:04</td>\n",
              "      <td>77.256809</td>\n",
              "      <td>28.757906</td>\n",
              "      <td>Delhi</td>\n",
              "      <td>Delhi</td>\n",
              "    </tr>\n",
              "    <tr>\n",
              "      <th>3</th>\n",
              "      <td>448114</td>\n",
              "      <td>5731369272434022400.000000</td>\n",
              "      <td>2016-05-03 13:21:16</td>\n",
              "      <td>80.343613</td>\n",
              "      <td>13.153332</td>\n",
              "      <td>Chennai</td>\n",
              "      <td>TamilNadu</td>\n",
              "    </tr>\n",
              "    <tr>\n",
              "      <th>4</th>\n",
              "      <td>665740</td>\n",
              "      <td>338888002570799936.000000</td>\n",
              "      <td>2016-05-06 03:51:05</td>\n",
              "      <td>85.997745</td>\n",
              "      <td>23.842609</td>\n",
              "      <td>Bokaro</td>\n",
              "      <td>Jharkhand</td>\n",
              "    </tr>\n",
              "  </tbody>\n",
              "</table>\n",
              "</div>"
            ],
            "text/plain": [
              "   event_id                   device_id  ...      city       state\n",
              "0   2765368  2973347786994914304.000000  ...     Delhi       Delhi\n",
              "1   2955066  4734221357723754496.000000  ...  Calcutta  WestBengal\n",
              "2    605968 -3264499652692492800.000000  ...     Delhi       Delhi\n",
              "3    448114  5731369272434022400.000000  ...   Chennai   TamilNadu\n",
              "4    665740   338888002570799936.000000  ...    Bokaro   Jharkhand\n",
              "\n",
              "[5 rows x 7 columns]"
            ]
          },
          "metadata": {
            "tags": []
          },
          "execution_count": 5
        }
      ]
    },
    {
      "cell_type": "code",
      "metadata": {
        "id": "ZjoZnWNLjTzs"
      },
      "source": [
        "#storing records where device_id is missing\n",
        "device_data = events_data_df[events_data_df.device_id.isnull()]"
      ],
      "execution_count": 6,
      "outputs": []
    },
    {
      "cell_type": "code",
      "metadata": {
        "colab": {
          "base_uri": "https://localhost:8080/"
        },
        "id": "S7XXKRNKjaX9",
        "outputId": "5971ce88-6ea6-4bd0-8814-ad112850c87a"
      },
      "source": [
        "device_data.info()"
      ],
      "execution_count": 7,
      "outputs": [
        {
          "output_type": "stream",
          "text": [
            "<class 'pandas.core.frame.DataFrame'>\n",
            "Int64Index: 453 entries, 2055 to 3250939\n",
            "Data columns (total 7 columns):\n",
            " #   Column     Non-Null Count  Dtype  \n",
            "---  ------     --------------  -----  \n",
            " 0   event_id   453 non-null    int64  \n",
            " 1   device_id  0 non-null      float64\n",
            " 2   timestamp  453 non-null    object \n",
            " 3   longitude  453 non-null    float64\n",
            " 4   latitude   453 non-null    float64\n",
            " 5   city       453 non-null    object \n",
            " 6   state      453 non-null    object \n",
            "dtypes: float64(3), int64(1), object(3)\n",
            "memory usage: 28.3+ KB\n"
          ],
          "name": "stdout"
        }
      ]
    },
    {
      "cell_type": "markdown",
      "metadata": {
        "id": "JN7DDhsnqTuS"
      },
      "source": [
        "Installing mysql connector for python"
      ]
    },
    {
      "cell_type": "code",
      "metadata": {
        "colab": {
          "base_uri": "https://localhost:8080/"
        },
        "id": "zqVHeEOaqKlP",
        "outputId": "ea34169d-430c-4784-b187-3cd8401b2529"
      },
      "source": [
        "pip install mysql-connector-python-rf"
      ],
      "execution_count": 8,
      "outputs": [
        {
          "output_type": "stream",
          "text": [
            "Requirement already satisfied: mysql-connector-python-rf in /usr/local/lib/python3.7/dist-packages (2.2.2)\n"
          ],
          "name": "stdout"
        }
      ]
    },
    {
      "cell_type": "markdown",
      "metadata": {
        "id": "ncnH2UjaDZpf"
      },
      "source": [
        "import package to connect to mysql and loading data from tables to dataframes"
      ]
    },
    {
      "cell_type": "code",
      "metadata": {
        "colab": {
          "base_uri": "https://localhost:8080/"
        },
        "id": "yzCEUtQfExr-",
        "outputId": "c2b35684-3017-430c-aff2-88b8e45138be"
      },
      "source": [
        "import mysql.connector\n",
        "\n",
        "#this is to connect to mysql database\n",
        "mydb = mysql.connector.connect(\n",
        "  host=\"cpanel.insaid.co\",\n",
        "  user=\"student\",\n",
        "  password=\"student\",\n",
        "  database=\"Capstone1\"\n",
        ")\n",
        "\n",
        "#declaring a cursor variable of database to hold data of a specific table\n",
        "mycursor = mydb.cursor()\n",
        "\n",
        "#mycursor variable holds the entire data from gender_age_train table\n",
        "mycursor.execute(\"SELECT * FROM gender_age_train\")\n",
        "\n",
        "#using fetchall function to get data from cursor and populating in another variable\n",
        "myresult = mycursor.fetchall()\n",
        "\n",
        "#inserting table data from variable into a dataframe\n",
        "gender_age_train_df = pd.DataFrame(myresult,columns=['device_id','Gender','Age','Age_Group'])\n",
        "\n",
        "#mycursor variable holds the entire data from phone_brand_device_model table\n",
        "mycursor.execute(\"SELECT * FROM phone_brand_device_model\")\n",
        "\n",
        "#using fetchall function to get data from cursor and populating in another variable, this overwrites data from previous load\n",
        "myresult = mycursor.fetchall()\n",
        "\n",
        "#inserting table data from variable into a dataframe\n",
        "phone_brand_device_model_df = pd.DataFrame(myresult,columns=['device_id','Brand','Model'])\n",
        "\n",
        "#printing sample data from the dataframes\n",
        "print(\"Data from Gender_Age_Train Table\")\n",
        "print(\"---------------------------------\")\n",
        "print(gender_age_train_df.head())\n",
        "print(\"**************************************\")\n",
        "print(\"\\n\")\n",
        "print(\"Data from Phone_Brand_Device_Model Table\")\n",
        "print(\"-----------------------------------------\")\n",
        "print(phone_brand_device_model_df.head())\n",
        "print(\"**************************************\")"
      ],
      "execution_count": 9,
      "outputs": [
        {
          "output_type": "stream",
          "text": [
            "Data from Gender_Age_Train Table\n",
            "---------------------------------\n",
            "             device_id Gender  Age Age_Group\n",
            "0 -8076087639492063270      M   35    M32-38\n",
            "1 -2897161552818060146      M   35    M32-38\n",
            "2 -8260683887967679142      M   35    M32-38\n",
            "3 -4938849341048082022      M   30    M29-31\n",
            "4   245133531816851882      M   30    M29-31\n",
            "**************************************\n",
            "\n",
            "\n",
            "Data from Phone_Brand_Device_Model Table\n",
            "-----------------------------------------\n",
            "             device_id Brand    Model\n",
            "0  1877775838486905855  vivo      Y13\n",
            "1 -3766087376657242966    小米     V183\n",
            "2 -6238937574958215831  OPPO      R7s\n",
            "3  8973197758510677470    三星    A368t\n",
            "4 -2015528097870762664    小米  红米Note2\n",
            "**************************************\n"
          ],
          "name": "stdout"
        }
      ]
    },
    {
      "cell_type": "code",
      "metadata": {
        "colab": {
          "base_uri": "https://localhost:8080/"
        },
        "id": "Yerj24pk-jSA",
        "outputId": "0fc704f6-67a9-4bad-d3b1-cd7d774bfae1"
      },
      "source": [
        "events_data_df.info()"
      ],
      "execution_count": 10,
      "outputs": [
        {
          "output_type": "stream",
          "text": [
            "<class 'pandas.core.frame.DataFrame'>\n",
            "RangeIndex: 3252950 entries, 0 to 3252949\n",
            "Data columns (total 7 columns):\n",
            " #   Column     Dtype  \n",
            "---  ------     -----  \n",
            " 0   event_id   int64  \n",
            " 1   device_id  float64\n",
            " 2   timestamp  object \n",
            " 3   longitude  float64\n",
            " 4   latitude   float64\n",
            " 5   city       object \n",
            " 6   state      object \n",
            "dtypes: float64(3), int64(1), object(3)\n",
            "memory usage: 173.7+ MB\n"
          ],
          "name": "stdout"
        }
      ]
    },
    {
      "cell_type": "code",
      "metadata": {
        "colab": {
          "base_uri": "https://localhost:8080/"
        },
        "id": "ALDq5S1MyRRd",
        "outputId": "3d3befc3-9d9c-4c4e-c4dd-e893775793df"
      },
      "source": [
        "gender_age_train_df.info()"
      ],
      "execution_count": 11,
      "outputs": [
        {
          "output_type": "stream",
          "text": [
            "<class 'pandas.core.frame.DataFrame'>\n",
            "RangeIndex: 74645 entries, 0 to 74644\n",
            "Data columns (total 4 columns):\n",
            " #   Column     Non-Null Count  Dtype \n",
            "---  ------     --------------  ----- \n",
            " 0   device_id  74645 non-null  int64 \n",
            " 1   Gender     74645 non-null  object\n",
            " 2   Age        74645 non-null  int64 \n",
            " 3   Age_Group  74645 non-null  object\n",
            "dtypes: int64(2), object(2)\n",
            "memory usage: 2.3+ MB\n"
          ],
          "name": "stdout"
        }
      ]
    },
    {
      "cell_type": "code",
      "metadata": {
        "colab": {
          "base_uri": "https://localhost:8080/"
        },
        "id": "DPkzYMmXyRUx",
        "outputId": "9363aa86-637c-4234-91a7-361db46112d7"
      },
      "source": [
        "phone_brand_device_model_df.info()"
      ],
      "execution_count": 12,
      "outputs": [
        {
          "output_type": "stream",
          "text": [
            "<class 'pandas.core.frame.DataFrame'>\n",
            "RangeIndex: 87726 entries, 0 to 87725\n",
            "Data columns (total 3 columns):\n",
            " #   Column     Non-Null Count  Dtype \n",
            "---  ------     --------------  ----- \n",
            " 0   device_id  87726 non-null  int64 \n",
            " 1   Brand      87726 non-null  object\n",
            " 2   Model      87726 non-null  object\n",
            "dtypes: int64(1), object(2)\n",
            "memory usage: 2.0+ MB\n"
          ],
          "name": "stdout"
        }
      ]
    },
    {
      "cell_type": "code",
      "metadata": {
        "colab": {
          "base_uri": "https://localhost:8080/"
        },
        "id": "7lsEUtHmyRYu",
        "outputId": "a1a4e717-5ee7-4884-dc9f-6900bac4238c"
      },
      "source": [
        "#check for missing values\n",
        "events_data_df.isnull().sum()"
      ],
      "execution_count": 13,
      "outputs": [
        {
          "output_type": "execute_result",
          "data": {
            "text/plain": [
              "event_id       0\n",
              "device_id    453\n",
              "timestamp      0\n",
              "longitude    423\n",
              "latitude     423\n",
              "city           0\n",
              "state        377\n",
              "dtype: int64"
            ]
          },
          "metadata": {
            "tags": []
          },
          "execution_count": 13
        }
      ]
    },
    {
      "cell_type": "code",
      "metadata": {
        "colab": {
          "base_uri": "https://localhost:8080/"
        },
        "id": "xNlSqyIWy4GM",
        "outputId": "cff22425-c5c9-4f22-c813-9a806e8cb15b"
      },
      "source": [
        "#check for missing values\n",
        "gender_age_train_df.isnull().sum()"
      ],
      "execution_count": 14,
      "outputs": [
        {
          "output_type": "execute_result",
          "data": {
            "text/plain": [
              "device_id    0\n",
              "Gender       0\n",
              "Age          0\n",
              "Age_Group    0\n",
              "dtype: int64"
            ]
          },
          "metadata": {
            "tags": []
          },
          "execution_count": 14
        }
      ]
    },
    {
      "cell_type": "code",
      "metadata": {
        "colab": {
          "base_uri": "https://localhost:8080/"
        },
        "id": "1bjD3r6tyRbt",
        "outputId": "e2fcc09d-078f-43cf-9993-f770feb18bcb"
      },
      "source": [
        "#check for missing values\n",
        "phone_brand_device_model_df.isnull().sum()"
      ],
      "execution_count": 15,
      "outputs": [
        {
          "output_type": "execute_result",
          "data": {
            "text/plain": [
              "device_id    0\n",
              "Brand        0\n",
              "Model        0\n",
              "dtype: int64"
            ]
          },
          "metadata": {
            "tags": []
          },
          "execution_count": 15
        }
      ]
    },
    {
      "cell_type": "markdown",
      "metadata": {
        "id": "1u4_hg6gEPER"
      },
      "source": [
        "# Data Pre-processing"
      ]
    },
    {
      "cell_type": "code",
      "metadata": {
        "colab": {
          "base_uri": "https://localhost:8080/"
        },
        "id": "HYFCP7eZMtYp",
        "outputId": "d4cc87e2-fb0e-4baf-b5fc-78c6fd61074b"
      },
      "source": [
        "events_data_df.info()"
      ],
      "execution_count": 16,
      "outputs": [
        {
          "output_type": "stream",
          "text": [
            "<class 'pandas.core.frame.DataFrame'>\n",
            "RangeIndex: 3252950 entries, 0 to 3252949\n",
            "Data columns (total 7 columns):\n",
            " #   Column     Dtype  \n",
            "---  ------     -----  \n",
            " 0   event_id   int64  \n",
            " 1   device_id  float64\n",
            " 2   timestamp  object \n",
            " 3   longitude  float64\n",
            " 4   latitude   float64\n",
            " 5   city       object \n",
            " 6   state      object \n",
            "dtypes: float64(3), int64(1), object(3)\n",
            "memory usage: 173.7+ MB\n"
          ],
          "name": "stdout"
        }
      ]
    },
    {
      "cell_type": "code",
      "metadata": {
        "colab": {
          "base_uri": "https://localhost:8080/"
        },
        "id": "nbiT1DF9MpBU",
        "outputId": "e6165259-6bb2-4f85-ab41-64ad643977e5"
      },
      "source": [
        "events_data_df.isnull().sum()"
      ],
      "execution_count": 17,
      "outputs": [
        {
          "output_type": "execute_result",
          "data": {
            "text/plain": [
              "event_id       0\n",
              "device_id    453\n",
              "timestamp      0\n",
              "longitude    423\n",
              "latitude     423\n",
              "city           0\n",
              "state        377\n",
              "dtype: int64"
            ]
          },
          "metadata": {
            "tags": []
          },
          "execution_count": 17
        }
      ]
    },
    {
      "cell_type": "markdown",
      "metadata": {
        "id": "g4K1kYxhKP64"
      },
      "source": [
        "## Imputing missing values in \"device_id\""
      ]
    },
    {
      "cell_type": "code",
      "metadata": {
        "colab": {
          "base_uri": "https://localhost:8080/"
        },
        "id": "D2bR6fHTKaHl",
        "outputId": "1aec6c7a-8acb-4554-bdbe-cd17a69e68cf"
      },
      "source": [
        "events_data_df.isnull().sum()"
      ],
      "execution_count": 18,
      "outputs": [
        {
          "output_type": "execute_result",
          "data": {
            "text/plain": [
              "event_id       0\n",
              "device_id    453\n",
              "timestamp      0\n",
              "longitude    423\n",
              "latitude     423\n",
              "city           0\n",
              "state        377\n",
              "dtype: int64"
            ]
          },
          "metadata": {
            "tags": []
          },
          "execution_count": 18
        }
      ]
    },
    {
      "cell_type": "code",
      "metadata": {
        "colab": {
          "base_uri": "https://localhost:8080/",
          "height": 191
        },
        "id": "LUR_fDMsQLrj",
        "outputId": "0baeb64a-6858-432c-c33b-7391dc608271"
      },
      "source": [
        "events_data_df.head()"
      ],
      "execution_count": 19,
      "outputs": [
        {
          "output_type": "execute_result",
          "data": {
            "text/html": [
              "<div>\n",
              "<style scoped>\n",
              "    .dataframe tbody tr th:only-of-type {\n",
              "        vertical-align: middle;\n",
              "    }\n",
              "\n",
              "    .dataframe tbody tr th {\n",
              "        vertical-align: top;\n",
              "    }\n",
              "\n",
              "    .dataframe thead th {\n",
              "        text-align: right;\n",
              "    }\n",
              "</style>\n",
              "<table border=\"1\" class=\"dataframe\">\n",
              "  <thead>\n",
              "    <tr style=\"text-align: right;\">\n",
              "      <th></th>\n",
              "      <th>event_id</th>\n",
              "      <th>device_id</th>\n",
              "      <th>timestamp</th>\n",
              "      <th>longitude</th>\n",
              "      <th>latitude</th>\n",
              "      <th>city</th>\n",
              "      <th>state</th>\n",
              "    </tr>\n",
              "  </thead>\n",
              "  <tbody>\n",
              "    <tr>\n",
              "      <th>0</th>\n",
              "      <td>2765368</td>\n",
              "      <td>2973347786994914304.000000</td>\n",
              "      <td>2016-05-07 22:52:05</td>\n",
              "      <td>77.225676</td>\n",
              "      <td>28.730140</td>\n",
              "      <td>Delhi</td>\n",
              "      <td>Delhi</td>\n",
              "    </tr>\n",
              "    <tr>\n",
              "      <th>1</th>\n",
              "      <td>2955066</td>\n",
              "      <td>4734221357723754496.000000</td>\n",
              "      <td>2016-05-01 20:44:16</td>\n",
              "      <td>88.388361</td>\n",
              "      <td>22.660325</td>\n",
              "      <td>Calcutta</td>\n",
              "      <td>WestBengal</td>\n",
              "    </tr>\n",
              "    <tr>\n",
              "      <th>2</th>\n",
              "      <td>605968</td>\n",
              "      <td>-3264499652692492800.000000</td>\n",
              "      <td>2016-05-02 14:23:04</td>\n",
              "      <td>77.256809</td>\n",
              "      <td>28.757906</td>\n",
              "      <td>Delhi</td>\n",
              "      <td>Delhi</td>\n",
              "    </tr>\n",
              "    <tr>\n",
              "      <th>3</th>\n",
              "      <td>448114</td>\n",
              "      <td>5731369272434022400.000000</td>\n",
              "      <td>2016-05-03 13:21:16</td>\n",
              "      <td>80.343613</td>\n",
              "      <td>13.153332</td>\n",
              "      <td>Chennai</td>\n",
              "      <td>TamilNadu</td>\n",
              "    </tr>\n",
              "    <tr>\n",
              "      <th>4</th>\n",
              "      <td>665740</td>\n",
              "      <td>338888002570799936.000000</td>\n",
              "      <td>2016-05-06 03:51:05</td>\n",
              "      <td>85.997745</td>\n",
              "      <td>23.842609</td>\n",
              "      <td>Bokaro</td>\n",
              "      <td>Jharkhand</td>\n",
              "    </tr>\n",
              "  </tbody>\n",
              "</table>\n",
              "</div>"
            ],
            "text/plain": [
              "   event_id                   device_id  ...      city       state\n",
              "0   2765368  2973347786994914304.000000  ...     Delhi       Delhi\n",
              "1   2955066  4734221357723754496.000000  ...  Calcutta  WestBengal\n",
              "2    605968 -3264499652692492800.000000  ...     Delhi       Delhi\n",
              "3    448114  5731369272434022400.000000  ...   Chennai   TamilNadu\n",
              "4    665740   338888002570799936.000000  ...    Bokaro   Jharkhand\n",
              "\n",
              "[5 rows x 7 columns]"
            ]
          },
          "metadata": {
            "tags": []
          },
          "execution_count": 19
        }
      ]
    },
    {
      "cell_type": "code",
      "metadata": {
        "id": "NuxNc1LAKeMw"
      },
      "source": [
        "#Preparing list of unique latitude values for the missing deviceid records.\n",
        "latlon_df = events_data_df[events_data_df.device_id.isnull()]['latitude'].unique()"
      ],
      "execution_count": 20,
      "outputs": []
    },
    {
      "cell_type": "code",
      "metadata": {
        "colab": {
          "base_uri": "https://localhost:8080/"
        },
        "id": "HLWZKGi4UXiD",
        "outputId": "3c2511d6-2f9e-4fc0-b850-3225168f156d"
      },
      "source": [
        "latlon_df"
      ],
      "execution_count": 21,
      "outputs": [
        {
          "output_type": "execute_result",
          "data": {
            "text/plain": [
              "array([22.814519, 26.948689, 26.960796, 22.777781, 31.561747, 18.628057,\n",
              "       18.566925, 17.805195, 28.719966, 18.614812, 13.153332, 13.149176,\n",
              "       28.721053, 17.752819, 22.817526, 17.822906, 26.95399 , 13.189053,\n",
              "       21.194283, 21.790693, 28.728888])"
            ]
          },
          "metadata": {
            "tags": []
          },
          "execution_count": 21
        }
      ]
    },
    {
      "cell_type": "code",
      "metadata": {
        "colab": {
          "base_uri": "https://localhost:8080/"
        },
        "id": "KvhlnG3KUh-B",
        "outputId": "da332541-c183-4989-e1ee-38539abc5312"
      },
      "source": [
        "#For imputing Missing values in DeviceId, we've fetched unique latitude for the missing deviceid and found that for that latitude there is only one deviceid throughout the dataset.\n",
        "#Hence, we'll be imputing missing deviceid values by replacing the deviceid which the same latitudeid shares\n",
        "for latitude in latlon_df:\n",
        "  devid = list(events_data_df[(events_data_df.latitude == latitude) & (events_data_df.device_id.notnull())].device_id)[0]\n",
        "  print('Latitude is {} for DeviceID: {}'.format(devid,latitude))\n",
        "  events_data_df.loc[events_data_df.latitude == latitude, 'device_id'] = devid"
      ],
      "execution_count": 22,
      "outputs": [
        {
          "output_type": "stream",
          "text": [
            "Latitude is 3.1328613559497626e+18 for DeviceID: 22.814519\n",
            "Latitude is -9.177251100412943e+17 for DeviceID: 26.948689\n",
            "Latitude is -8.460337302442786e+18 for DeviceID: 26.960796\n",
            "Latitude is 7.597735768595925e+18 for DeviceID: 22.777781\n",
            "Latitude is 1.750778632182067e+18 for DeviceID: 31.561746999999997\n",
            "Latitude is 9.027085705222633e+18 for DeviceID: 18.628057\n",
            "Latitude is 8.539870903150472e+18 for DeviceID: 18.566925\n",
            "Latitude is 6.844192269280791e+18 for DeviceID: 17.805195\n",
            "Latitude is 5.098778421671838e+18 for DeviceID: 28.719966000000003\n",
            "Latitude is 1.771585711650787e+17 for DeviceID: 18.614812\n",
            "Latitude is 5.731369272434022e+18 for DeviceID: 13.153332\n",
            "Latitude is 7.66213914371992e+18 for DeviceID: 13.149176\n",
            "Latitude is 3.724654925765159e+18 for DeviceID: 28.721053\n",
            "Latitude is -3.1309031770761733e+18 for DeviceID: 17.752819\n",
            "Latitude is -2.399250255599833e+18 for DeviceID: 22.817526\n",
            "Latitude is 6.619714762103552e+18 for DeviceID: 17.822906\n",
            "Latitude is 3.562355872640618e+18 for DeviceID: 26.95399\n",
            "Latitude is 7.983871429718485e+18 for DeviceID: 13.189053\n",
            "Latitude is -8.215770519233686e+18 for DeviceID: 21.194283\n",
            "Latitude is -1.688015122502424e+18 for DeviceID: 21.790693\n",
            "Latitude is -6.875585507485886e+18 for DeviceID: 28.728888\n"
          ],
          "name": "stdout"
        }
      ]
    },
    {
      "cell_type": "code",
      "metadata": {
        "colab": {
          "base_uri": "https://localhost:8080/"
        },
        "id": "ZPQYJMWtLbVR",
        "outputId": "74e2147c-1b5c-4150-90c2-6d7ddb56b8b7"
      },
      "source": [
        "#checking if device_id imputation is successful or not\n",
        "events_data_df.isnull().sum()"
      ],
      "execution_count": 23,
      "outputs": [
        {
          "output_type": "execute_result",
          "data": {
            "text/plain": [
              "event_id       0\n",
              "device_id      0\n",
              "timestamp      0\n",
              "longitude    423\n",
              "latitude     423\n",
              "city           0\n",
              "state        377\n",
              "dtype: int64"
            ]
          },
          "metadata": {
            "tags": []
          },
          "execution_count": 23
        }
      ]
    },
    {
      "cell_type": "markdown",
      "metadata": {
        "id": "BHDbeAJjizFQ"
      },
      "source": [
        "## Imputing Missing values in \"State\""
      ]
    },
    {
      "cell_type": "code",
      "metadata": {
        "colab": {
          "base_uri": "https://localhost:8080/"
        },
        "id": "Ov_YLpQpe_zQ",
        "outputId": "ac07bd0f-2fb4-41e5-8ba4-7a07a69bd689"
      },
      "source": [
        "#State wise count before imputing missing state values\n",
        "events_data_df[(events_data_df.state == 'WestBengal') | (events_data_df.state == 'Karnataka') | (events_data_df.state == 'Gujarat') | (events_data_df.state == 'Bihar') | (events_data_df.state == 'Punjab') | (events_data_df.state == 'Kerala')]['state'].value_counts()"
      ],
      "execution_count": 24,
      "outputs": [
        {
          "output_type": "execute_result",
          "data": {
            "text/plain": [
              "WestBengal    196161\n",
              "Karnataka      99058\n",
              "Gujarat        42881\n",
              "Bihar          35472\n",
              "Punjab         26195\n",
              "Kerala         23148\n",
              "Name: state, dtype: int64"
            ]
          },
          "metadata": {
            "tags": []
          },
          "execution_count": 24
        }
      ]
    },
    {
      "cell_type": "code",
      "metadata": {
        "id": "ODmVPuxaPdBY"
      },
      "source": [
        "#For imputing the missing values in State, we'll first find all their respecitve city values\n",
        "city_list = list(events_data_df[events_data_df.state.isnull()].city.unique())"
      ],
      "execution_count": 25,
      "outputs": []
    },
    {
      "cell_type": "code",
      "metadata": {
        "colab": {
          "base_uri": "https://localhost:8080/"
        },
        "id": "DEk43yyfeAu4",
        "outputId": "0138ed59-70c3-4268-fbf7-6715cdf74a8f"
      },
      "source": [
        "city_list"
      ],
      "execution_count": 26,
      "outputs": [
        {
          "output_type": "execute_result",
          "data": {
            "text/plain": [
              "['Pune',\n",
              " 'Visakhapatnam',\n",
              " 'Indore',\n",
              " 'Chennai',\n",
              " 'Delhi',\n",
              " 'Channapatna',\n",
              " 'Jaipur',\n",
              " 'Gangarampur',\n",
              " 'Arambagh']"
            ]
          },
          "metadata": {
            "tags": []
          },
          "execution_count": 26
        }
      ]
    },
    {
      "cell_type": "code",
      "metadata": {
        "colab": {
          "base_uri": "https://localhost:8080/"
        },
        "id": "mC42rsF_T7Gm",
        "outputId": "0332c13c-24f9-4715-83e1-8e09e84996a0"
      },
      "source": [
        "#Will loop over the above cities list, fetch it's relevant state value where state value is not null and then populate that to all the records where city value is matching with the city value from our list\n",
        "for city in city_list:\n",
        "  state = list(events_data_df[(events_data_df.city == city) & (events_data_df.state.notnull())].state)[0]\n",
        "  print(\"State is {} for City {}\".format(state,city))\n",
        "  events_data_df.loc[events_data_df.city == city, 'state'] = state"
      ],
      "execution_count": 27,
      "outputs": [
        {
          "output_type": "stream",
          "text": [
            "State is Maharashtra for City Pune\n",
            "State is AndhraPradesh for City Visakhapatnam\n",
            "State is MadhyaPradesh for City Indore\n",
            "State is TamilNadu for City Chennai\n",
            "State is Delhi for City Delhi\n",
            "State is Karnataka for City Channapatna\n",
            "State is Rajasthan for City Jaipur\n",
            "State is WestBengal for City Gangarampur\n",
            "State is WestBengal for City Arambagh\n"
          ],
          "name": "stdout"
        }
      ]
    },
    {
      "cell_type": "code",
      "metadata": {
        "colab": {
          "base_uri": "https://localhost:8080/"
        },
        "id": "wZWN2A5jXbhL",
        "outputId": "cc06789b-67cf-4e3c-cdbf-46d14b1069d8"
      },
      "source": [
        "#State wise count after imputing missing values\n",
        "events_data_df[(events_data_df.state == 'WestBengal') | (events_data_df.state == 'Karnataka') | (events_data_df.state == 'Gujarat') | (events_data_df.state == 'Bihar') | (events_data_df.state == 'Punjab') | (events_data_df.state == 'Kerala')]['state'].value_counts()"
      ],
      "execution_count": 28,
      "outputs": [
        {
          "output_type": "execute_result",
          "data": {
            "text/plain": [
              "WestBengal    196203\n",
              "Karnataka      99072\n",
              "Gujarat        42881\n",
              "Bihar          35472\n",
              "Punjab         26195\n",
              "Kerala         23148\n",
              "Name: state, dtype: int64"
            ]
          },
          "metadata": {
            "tags": []
          },
          "execution_count": 28
        }
      ]
    },
    {
      "cell_type": "code",
      "metadata": {
        "colab": {
          "base_uri": "https://localhost:8080/"
        },
        "id": "oosR_E6vXbcQ",
        "outputId": "c471ba48-de99-4ce8-d3b9-75f4b7450fd0"
      },
      "source": [
        "#checking for missing state values post updation\n",
        "events_data_df.isnull().sum()"
      ],
      "execution_count": 29,
      "outputs": [
        {
          "output_type": "execute_result",
          "data": {
            "text/plain": [
              "event_id       0\n",
              "device_id      0\n",
              "timestamp      0\n",
              "longitude    423\n",
              "latitude     423\n",
              "city           0\n",
              "state          0\n",
              "dtype: int64"
            ]
          },
          "metadata": {
            "tags": []
          },
          "execution_count": 29
        }
      ]
    },
    {
      "cell_type": "markdown",
      "metadata": {
        "id": "Q-9ddhPvi48Q"
      },
      "source": [
        "## Imputing missing values in \"Latitude & Longitude\""
      ]
    },
    {
      "cell_type": "code",
      "metadata": {
        "colab": {
          "base_uri": "https://localhost:8080/",
          "height": 47
        },
        "id": "zu14Pxw71KXV",
        "outputId": "6b7f6835-f555-4906-8539-7c200f061945"
      },
      "source": [
        "#Check if device_id is null for those records which have missing values in latitude or longitude or not\n",
        "events_data_df[(events_data_df.device_id.isnull()) & ((events_data_df.latitude.isnull()) | (events_data_df.longitude.isnull()))]"
      ],
      "execution_count": 30,
      "outputs": [
        {
          "output_type": "execute_result",
          "data": {
            "text/html": [
              "<div>\n",
              "<style scoped>\n",
              "    .dataframe tbody tr th:only-of-type {\n",
              "        vertical-align: middle;\n",
              "    }\n",
              "\n",
              "    .dataframe tbody tr th {\n",
              "        vertical-align: top;\n",
              "    }\n",
              "\n",
              "    .dataframe thead th {\n",
              "        text-align: right;\n",
              "    }\n",
              "</style>\n",
              "<table border=\"1\" class=\"dataframe\">\n",
              "  <thead>\n",
              "    <tr style=\"text-align: right;\">\n",
              "      <th></th>\n",
              "      <th>event_id</th>\n",
              "      <th>device_id</th>\n",
              "      <th>timestamp</th>\n",
              "      <th>longitude</th>\n",
              "      <th>latitude</th>\n",
              "      <th>city</th>\n",
              "      <th>state</th>\n",
              "    </tr>\n",
              "  </thead>\n",
              "  <tbody>\n",
              "  </tbody>\n",
              "</table>\n",
              "</div>"
            ],
            "text/plain": [
              "Empty DataFrame\n",
              "Columns: [event_id, device_id, timestamp, longitude, latitude, city, state]\n",
              "Index: []"
            ]
          },
          "metadata": {
            "tags": []
          },
          "execution_count": 30
        }
      ]
    },
    {
      "cell_type": "markdown",
      "metadata": {
        "id": "ZuMYE7SN2luT"
      },
      "source": [
        "From this we can say that records which have null values in device_id have data in latitude & longitude columns."
      ]
    },
    {
      "cell_type": "code",
      "metadata": {
        "id": "K-KYPDwpI-X9"
      },
      "source": [
        "#Replacing nan value in Device_id with NULL\n",
        "#events_data_df['device_id'].fillna('NULL',inplace=True)"
      ],
      "execution_count": 31,
      "outputs": []
    },
    {
      "cell_type": "code",
      "metadata": {
        "id": "jfzMe4kFzT7R"
      },
      "source": [
        "#Dropping device Id for now as the same device_id is present in multiple cities. Hence, imputing device_id based on latitude or longitude or city or state is not possible\n",
        "#events_data_df.drop(events_data_df.index[events_data_df.device_id == 'NULL'],inplace=True)"
      ],
      "execution_count": 32,
      "outputs": []
    },
    {
      "cell_type": "code",
      "metadata": {
        "colab": {
          "base_uri": "https://localhost:8080/",
          "height": 47
        },
        "id": "zWilujrZLHDb",
        "outputId": "a1beb224-81e8-40b9-98ab-ea3f7b5dc44a"
      },
      "source": [
        "#checking if all the Device_ID with Null values are deleted or not \n",
        "events_data_df[events_data_df.device_id == 'NULL']"
      ],
      "execution_count": 33,
      "outputs": [
        {
          "output_type": "execute_result",
          "data": {
            "text/html": [
              "<div>\n",
              "<style scoped>\n",
              "    .dataframe tbody tr th:only-of-type {\n",
              "        vertical-align: middle;\n",
              "    }\n",
              "\n",
              "    .dataframe tbody tr th {\n",
              "        vertical-align: top;\n",
              "    }\n",
              "\n",
              "    .dataframe thead th {\n",
              "        text-align: right;\n",
              "    }\n",
              "</style>\n",
              "<table border=\"1\" class=\"dataframe\">\n",
              "  <thead>\n",
              "    <tr style=\"text-align: right;\">\n",
              "      <th></th>\n",
              "      <th>event_id</th>\n",
              "      <th>device_id</th>\n",
              "      <th>timestamp</th>\n",
              "      <th>longitude</th>\n",
              "      <th>latitude</th>\n",
              "      <th>city</th>\n",
              "      <th>state</th>\n",
              "    </tr>\n",
              "  </thead>\n",
              "  <tbody>\n",
              "  </tbody>\n",
              "</table>\n",
              "</div>"
            ],
            "text/plain": [
              "Empty DataFrame\n",
              "Columns: [event_id, device_id, timestamp, longitude, latitude, city, state]\n",
              "Index: []"
            ]
          },
          "metadata": {
            "tags": []
          },
          "execution_count": 33
        }
      ]
    },
    {
      "cell_type": "code",
      "metadata": {
        "colab": {
          "base_uri": "https://localhost:8080/"
        },
        "id": "DBuosYvrzT-d",
        "outputId": "2b4b1cfe-7bdd-489a-8159-f937e65808ef"
      },
      "source": [
        "#Check for missing values in events_data_set\n",
        "events_data_df.isnull().sum()"
      ],
      "execution_count": 34,
      "outputs": [
        {
          "output_type": "execute_result",
          "data": {
            "text/plain": [
              "event_id       0\n",
              "device_id      0\n",
              "timestamp      0\n",
              "longitude    423\n",
              "latitude     423\n",
              "city           0\n",
              "state          0\n",
              "dtype: int64"
            ]
          },
          "metadata": {
            "tags": []
          },
          "execution_count": 34
        }
      ]
    },
    {
      "cell_type": "code",
      "metadata": {
        "colab": {
          "base_uri": "https://localhost:8080/",
          "height": 391
        },
        "id": "chBfysaZ3TLC",
        "outputId": "4c8ed6a7-f1ab-41b2-cb30-03b51365d481"
      },
      "source": [
        "#checking if latitude and longitude are null for the same set of records\n",
        "events_data_df[(events_data_df.latitude.isnull()) & (events_data_df.longitude.isnull())]"
      ],
      "execution_count": 35,
      "outputs": [
        {
          "output_type": "execute_result",
          "data": {
            "text/html": [
              "<div>\n",
              "<style scoped>\n",
              "    .dataframe tbody tr th:only-of-type {\n",
              "        vertical-align: middle;\n",
              "    }\n",
              "\n",
              "    .dataframe tbody tr th {\n",
              "        vertical-align: top;\n",
              "    }\n",
              "\n",
              "    .dataframe thead th {\n",
              "        text-align: right;\n",
              "    }\n",
              "</style>\n",
              "<table border=\"1\" class=\"dataframe\">\n",
              "  <thead>\n",
              "    <tr style=\"text-align: right;\">\n",
              "      <th></th>\n",
              "      <th>event_id</th>\n",
              "      <th>device_id</th>\n",
              "      <th>timestamp</th>\n",
              "      <th>longitude</th>\n",
              "      <th>latitude</th>\n",
              "      <th>city</th>\n",
              "      <th>state</th>\n",
              "    </tr>\n",
              "  </thead>\n",
              "  <tbody>\n",
              "    <tr>\n",
              "      <th>8015</th>\n",
              "      <td>2929521</td>\n",
              "      <td>1779631023439405312.000000</td>\n",
              "      <td>2016-05-05 01:15:22</td>\n",
              "      <td>nan</td>\n",
              "      <td>nan</td>\n",
              "      <td>Delhi</td>\n",
              "      <td>Delhi</td>\n",
              "    </tr>\n",
              "    <tr>\n",
              "      <th>9697</th>\n",
              "      <td>1017749</td>\n",
              "      <td>-8790560034584249344.000000</td>\n",
              "      <td>2016-05-03 17:22:52</td>\n",
              "      <td>nan</td>\n",
              "      <td>nan</td>\n",
              "      <td>Indore</td>\n",
              "      <td>MadhyaPradesh</td>\n",
              "    </tr>\n",
              "    <tr>\n",
              "      <th>10949</th>\n",
              "      <td>2132415</td>\n",
              "      <td>4865606571395668992.000000</td>\n",
              "      <td>2016-05-07 19:57:06</td>\n",
              "      <td>nan</td>\n",
              "      <td>nan</td>\n",
              "      <td>Visakhapatnam</td>\n",
              "      <td>AndhraPradesh</td>\n",
              "    </tr>\n",
              "    <tr>\n",
              "      <th>16038</th>\n",
              "      <td>926804</td>\n",
              "      <td>7983871429718484992.000000</td>\n",
              "      <td>2016-05-03 12:29:47</td>\n",
              "      <td>nan</td>\n",
              "      <td>nan</td>\n",
              "      <td>Chennai</td>\n",
              "      <td>TamilNadu</td>\n",
              "    </tr>\n",
              "    <tr>\n",
              "      <th>20586</th>\n",
              "      <td>3074782</td>\n",
              "      <td>-7364840628879980544.000000</td>\n",
              "      <td>2016-05-04 19:39:28</td>\n",
              "      <td>nan</td>\n",
              "      <td>nan</td>\n",
              "      <td>Pune</td>\n",
              "      <td>Maharashtra</td>\n",
              "    </tr>\n",
              "    <tr>\n",
              "      <th>...</th>\n",
              "      <td>...</td>\n",
              "      <td>...</td>\n",
              "      <td>...</td>\n",
              "      <td>...</td>\n",
              "      <td>...</td>\n",
              "      <td>...</td>\n",
              "      <td>...</td>\n",
              "    </tr>\n",
              "    <tr>\n",
              "      <th>3226082</th>\n",
              "      <td>1955966</td>\n",
              "      <td>6774071338248978432.000000</td>\n",
              "      <td>2016-05-06 01:10:38</td>\n",
              "      <td>nan</td>\n",
              "      <td>nan</td>\n",
              "      <td>Moga</td>\n",
              "      <td>Punjab</td>\n",
              "    </tr>\n",
              "    <tr>\n",
              "      <th>3240057</th>\n",
              "      <td>2318768</td>\n",
              "      <td>1779631023439405312.000000</td>\n",
              "      <td>2016-05-06 09:22:44</td>\n",
              "      <td>nan</td>\n",
              "      <td>nan</td>\n",
              "      <td>Delhi</td>\n",
              "      <td>Delhi</td>\n",
              "    </tr>\n",
              "    <tr>\n",
              "      <th>3240304</th>\n",
              "      <td>2387314</td>\n",
              "      <td>-7364840628879980544.000000</td>\n",
              "      <td>2016-05-05 06:20:46</td>\n",
              "      <td>nan</td>\n",
              "      <td>nan</td>\n",
              "      <td>Pune</td>\n",
              "      <td>Maharashtra</td>\n",
              "    </tr>\n",
              "    <tr>\n",
              "      <th>3246545</th>\n",
              "      <td>2857050</td>\n",
              "      <td>4580179444377397760.000000</td>\n",
              "      <td>2016-05-07 14:25:41</td>\n",
              "      <td>nan</td>\n",
              "      <td>nan</td>\n",
              "      <td>Jaipur</td>\n",
              "      <td>Rajasthan</td>\n",
              "    </tr>\n",
              "    <tr>\n",
              "      <th>3249260</th>\n",
              "      <td>1565626</td>\n",
              "      <td>2350979402202438656.000000</td>\n",
              "      <td>2016-05-03 22:31:58</td>\n",
              "      <td>nan</td>\n",
              "      <td>nan</td>\n",
              "      <td>Indore</td>\n",
              "      <td>MadhyaPradesh</td>\n",
              "    </tr>\n",
              "  </tbody>\n",
              "</table>\n",
              "<p>423 rows × 7 columns</p>\n",
              "</div>"
            ],
            "text/plain": [
              "         event_id                   device_id  ...           city          state\n",
              "8015      2929521  1779631023439405312.000000  ...          Delhi          Delhi\n",
              "9697      1017749 -8790560034584249344.000000  ...         Indore  MadhyaPradesh\n",
              "10949     2132415  4865606571395668992.000000  ...  Visakhapatnam  AndhraPradesh\n",
              "16038      926804  7983871429718484992.000000  ...        Chennai      TamilNadu\n",
              "20586     3074782 -7364840628879980544.000000  ...           Pune    Maharashtra\n",
              "...           ...                         ...  ...            ...            ...\n",
              "3226082   1955966  6774071338248978432.000000  ...           Moga         Punjab\n",
              "3240057   2318768  1779631023439405312.000000  ...          Delhi          Delhi\n",
              "3240304   2387314 -7364840628879980544.000000  ...           Pune    Maharashtra\n",
              "3246545   2857050  4580179444377397760.000000  ...         Jaipur      Rajasthan\n",
              "3249260   1565626  2350979402202438656.000000  ...         Indore  MadhyaPradesh\n",
              "\n",
              "[423 rows x 7 columns]"
            ]
          },
          "metadata": {
            "tags": []
          },
          "execution_count": 35
        }
      ]
    },
    {
      "cell_type": "markdown",
      "metadata": {
        "id": "5V62YIqM3cT3"
      },
      "source": [
        "From this we can say that latitude & longitude are null for the same set of records."
      ]
    },
    {
      "cell_type": "code",
      "metadata": {
        "colab": {
          "base_uri": "https://localhost:8080/",
          "height": 391
        },
        "id": "LPtaTn2C1rBG",
        "outputId": "ea2ce4f4-6679-4f2e-e3cc-eeea38dbf9b8"
      },
      "source": [
        "events_data_df[(events_data_df.latitude.isnull()) & (events_data_df.longitude.isnull())].sort_values(by=['device_id'])"
      ],
      "execution_count": 36,
      "outputs": [
        {
          "output_type": "execute_result",
          "data": {
            "text/html": [
              "<div>\n",
              "<style scoped>\n",
              "    .dataframe tbody tr th:only-of-type {\n",
              "        vertical-align: middle;\n",
              "    }\n",
              "\n",
              "    .dataframe tbody tr th {\n",
              "        vertical-align: top;\n",
              "    }\n",
              "\n",
              "    .dataframe thead th {\n",
              "        text-align: right;\n",
              "    }\n",
              "</style>\n",
              "<table border=\"1\" class=\"dataframe\">\n",
              "  <thead>\n",
              "    <tr style=\"text-align: right;\">\n",
              "      <th></th>\n",
              "      <th>event_id</th>\n",
              "      <th>device_id</th>\n",
              "      <th>timestamp</th>\n",
              "      <th>longitude</th>\n",
              "      <th>latitude</th>\n",
              "      <th>city</th>\n",
              "      <th>state</th>\n",
              "    </tr>\n",
              "  </thead>\n",
              "  <tbody>\n",
              "    <tr>\n",
              "      <th>1954607</th>\n",
              "      <td>1670103</td>\n",
              "      <td>-8790560034584249344.000000</td>\n",
              "      <td>2016-05-01 09:35:01</td>\n",
              "      <td>nan</td>\n",
              "      <td>nan</td>\n",
              "      <td>Indore</td>\n",
              "      <td>MadhyaPradesh</td>\n",
              "    </tr>\n",
              "    <tr>\n",
              "      <th>2884578</th>\n",
              "      <td>763705</td>\n",
              "      <td>-8790560034584249344.000000</td>\n",
              "      <td>2016-05-04 08:55:07</td>\n",
              "      <td>nan</td>\n",
              "      <td>nan</td>\n",
              "      <td>Indore</td>\n",
              "      <td>MadhyaPradesh</td>\n",
              "    </tr>\n",
              "    <tr>\n",
              "      <th>785836</th>\n",
              "      <td>2151512</td>\n",
              "      <td>-8790560034584249344.000000</td>\n",
              "      <td>2016-05-07 11:41:40</td>\n",
              "      <td>nan</td>\n",
              "      <td>nan</td>\n",
              "      <td>Indore</td>\n",
              "      <td>MadhyaPradesh</td>\n",
              "    </tr>\n",
              "    <tr>\n",
              "      <th>1572025</th>\n",
              "      <td>3028339</td>\n",
              "      <td>-8790560034584249344.000000</td>\n",
              "      <td>2016-05-05 14:32:56</td>\n",
              "      <td>nan</td>\n",
              "      <td>nan</td>\n",
              "      <td>Indore</td>\n",
              "      <td>MadhyaPradesh</td>\n",
              "    </tr>\n",
              "    <tr>\n",
              "      <th>2291796</th>\n",
              "      <td>1622109</td>\n",
              "      <td>-8790560034584249344.000000</td>\n",
              "      <td>2016-05-04 21:16:19</td>\n",
              "      <td>nan</td>\n",
              "      <td>nan</td>\n",
              "      <td>Indore</td>\n",
              "      <td>MadhyaPradesh</td>\n",
              "    </tr>\n",
              "    <tr>\n",
              "      <th>...</th>\n",
              "      <td>...</td>\n",
              "      <td>...</td>\n",
              "      <td>...</td>\n",
              "      <td>...</td>\n",
              "      <td>...</td>\n",
              "      <td>...</td>\n",
              "      <td>...</td>\n",
              "    </tr>\n",
              "    <tr>\n",
              "      <th>118629</th>\n",
              "      <td>53798</td>\n",
              "      <td>7983871429718484992.000000</td>\n",
              "      <td>2016-05-04 18:34:29</td>\n",
              "      <td>nan</td>\n",
              "      <td>nan</td>\n",
              "      <td>Chennai</td>\n",
              "      <td>TamilNadu</td>\n",
              "    </tr>\n",
              "    <tr>\n",
              "      <th>600419</th>\n",
              "      <td>2419252</td>\n",
              "      <td>7983871429718484992.000000</td>\n",
              "      <td>2016-05-02 22:04:57</td>\n",
              "      <td>nan</td>\n",
              "      <td>nan</td>\n",
              "      <td>Chennai</td>\n",
              "      <td>TamilNadu</td>\n",
              "    </tr>\n",
              "    <tr>\n",
              "      <th>2047699</th>\n",
              "      <td>1840751</td>\n",
              "      <td>7983871429718484992.000000</td>\n",
              "      <td>2016-05-01 22:58:43</td>\n",
              "      <td>nan</td>\n",
              "      <td>nan</td>\n",
              "      <td>Chennai</td>\n",
              "      <td>TamilNadu</td>\n",
              "    </tr>\n",
              "    <tr>\n",
              "      <th>2843793</th>\n",
              "      <td>2128528</td>\n",
              "      <td>7983871429718484992.000000</td>\n",
              "      <td>2016-05-05 18:04:43</td>\n",
              "      <td>nan</td>\n",
              "      <td>nan</td>\n",
              "      <td>Chennai</td>\n",
              "      <td>TamilNadu</td>\n",
              "    </tr>\n",
              "    <tr>\n",
              "      <th>2409244</th>\n",
              "      <td>2338192</td>\n",
              "      <td>7983871429718484992.000000</td>\n",
              "      <td>2016-05-02 13:03:15</td>\n",
              "      <td>nan</td>\n",
              "      <td>nan</td>\n",
              "      <td>Chennai</td>\n",
              "      <td>TamilNadu</td>\n",
              "    </tr>\n",
              "  </tbody>\n",
              "</table>\n",
              "<p>423 rows × 7 columns</p>\n",
              "</div>"
            ],
            "text/plain": [
              "         event_id                   device_id  ...     city          state\n",
              "1954607   1670103 -8790560034584249344.000000  ...   Indore  MadhyaPradesh\n",
              "2884578    763705 -8790560034584249344.000000  ...   Indore  MadhyaPradesh\n",
              "785836    2151512 -8790560034584249344.000000  ...   Indore  MadhyaPradesh\n",
              "1572025   3028339 -8790560034584249344.000000  ...   Indore  MadhyaPradesh\n",
              "2291796   1622109 -8790560034584249344.000000  ...   Indore  MadhyaPradesh\n",
              "...           ...                         ...  ...      ...            ...\n",
              "118629      53798  7983871429718484992.000000  ...  Chennai      TamilNadu\n",
              "600419    2419252  7983871429718484992.000000  ...  Chennai      TamilNadu\n",
              "2047699   1840751  7983871429718484992.000000  ...  Chennai      TamilNadu\n",
              "2843793   2128528  7983871429718484992.000000  ...  Chennai      TamilNadu\n",
              "2409244   2338192  7983871429718484992.000000  ...  Chennai      TamilNadu\n",
              "\n",
              "[423 rows x 7 columns]"
            ]
          },
          "metadata": {
            "tags": []
          },
          "execution_count": 36
        }
      ]
    },
    {
      "cell_type": "code",
      "metadata": {
        "colab": {
          "base_uri": "https://localhost:8080/"
        },
        "id": "GJXXy7qh0LHN",
        "outputId": "fd1ed2d6-5a0b-4ac1-e7f0-a5de66431a76"
      },
      "source": [
        "events_data_df[events_data_df.device_id == -8790560034584249344.000000][['city','state']].value_counts()"
      ],
      "execution_count": 37,
      "outputs": [
        {
          "output_type": "execute_result",
          "data": {
            "text/plain": [
              "city    state        \n",
              "Indore  MadhyaPradesh    810\n",
              "dtype: int64"
            ]
          },
          "metadata": {
            "tags": []
          },
          "execution_count": 37
        }
      ]
    },
    {
      "cell_type": "code",
      "metadata": {
        "id": "l6w_34mq49Tk"
      },
      "source": [
        "#checking if the device_id is different for the records where latitude & longitude are null\n",
        "dev_id = events_data_df[(events_data_df.latitude.isnull()) & (events_data_df.longitude.isnull())].sort_values(by=['device_id'])['device_id'].unique()"
      ],
      "execution_count": 38,
      "outputs": []
    },
    {
      "cell_type": "code",
      "metadata": {
        "colab": {
          "base_uri": "https://localhost:8080/"
        },
        "id": "JdAWLStRMQeJ",
        "outputId": "a85ca7bc-7aed-4468-e01d-9bca2d074be5"
      },
      "source": [
        "dev_id"
      ],
      "execution_count": 39,
      "outputs": [
        {
          "output_type": "execute_result",
          "data": {
            "text/plain": [
              "array([-8.79056003e+18, -7.36484063e+18, -6.03379839e+18,  3.05848775e+17,\n",
              "        1.32005098e+18,  1.77963102e+18,  2.35097940e+18,  3.09916855e+18,\n",
              "        3.73828049e+18,  4.37503983e+18,  4.58017944e+18,  4.78258205e+18,\n",
              "        4.86560657e+18,  5.11518528e+18,  5.37559902e+18,  5.51865960e+18,\n",
              "        5.73136927e+18,  6.77407134e+18,  7.01860038e+18,  7.66213914e+18,\n",
              "        7.98387143e+18])"
            ]
          },
          "metadata": {
            "tags": []
          },
          "execution_count": 39
        }
      ]
    },
    {
      "cell_type": "code",
      "metadata": {
        "colab": {
          "base_uri": "https://localhost:8080/"
        },
        "id": "IWJpgS5vWvsQ",
        "outputId": "511d0d53-5217-4a45-de36-06bd4451b231"
      },
      "source": [
        "#checking how many records does each device_id has to update for latitude & longitude\n",
        "events_data_df[(events_data_df.latitude.isnull()) & (events_data_df.longitude.isnull())].sort_values(by=['device_id'])['device_id'].value_counts()"
      ],
      "execution_count": 40,
      "outputs": [
        {
          "output_type": "execute_result",
          "data": {
            "text/plain": [
              "305848775386534912.000000      22\n",
              "4375039830232869888.000000     22\n",
              "4580179444377397760.000000     22\n",
              "1779631023439405312.000000     21\n",
              "7018600380123445248.000000     21\n",
              "5731369272434022400.000000     21\n",
              "4782582047729166336.000000     21\n",
              "5115185276392512512.000000     21\n",
              "5375599021847303168.000000     21\n",
              "5518659601894557696.000000     21\n",
              "2350979402202438656.000000     21\n",
              "3738280493453803008.000000     21\n",
              "4865606571395668992.000000     21\n",
              "-7364840628879980544.000000    21\n",
              "7983871429718484992.000000     21\n",
              "-8790560034584249344.000000    21\n",
              "-6033798388179802112.000000    21\n",
              "7662139143719919616.000000     21\n",
              "3099168546198768640.000000     14\n",
              "6774071338248978432.000000     14\n",
              "1320050977019711232.000000     14\n",
              "Name: device_id, dtype: int64"
            ]
          },
          "metadata": {
            "tags": []
          },
          "execution_count": 40
        }
      ]
    },
    {
      "cell_type": "code",
      "metadata": {
        "colab": {
          "base_uri": "https://localhost:8080/"
        },
        "id": "_HAEtwnGWFvq",
        "outputId": "2b3639f8-12f5-4e25-b0b9-a9984e5b48c4"
      },
      "source": [
        "#noting down the count for a sample device to check later if the count is increasing post updation for missing values\n",
        "events_data_df[events_data_df.device_id == 305848775386534912.000000][['latitude','longitude']].value_counts()"
      ],
      "execution_count": 41,
      "outputs": [
        {
          "output_type": "execute_result",
          "data": {
            "text/plain": [
              "latitude   longitude\n",
              "26.987566  75.865534    560\n",
              "dtype: int64"
            ]
          },
          "metadata": {
            "tags": []
          },
          "execution_count": 41
        }
      ]
    },
    {
      "cell_type": "markdown",
      "metadata": {
        "id": "4dMkHLVFXG16"
      },
      "source": [
        "* From the above cell we see that for device_id == 305848775386534912.000000 latitude & longitude is present in 560 records.\n",
        "* From the above cells we see that for device_id == 305848775386534912.000000 latitude & longitude are null for 22 records.\n",
        "* So, post updating latitude & longitude for  device_id == 305848775386534912.000000 total number of records with latitude & longitude populated should be 582."
      ]
    },
    {
      "cell_type": "code",
      "metadata": {
        "colab": {
          "base_uri": "https://localhost:8080/"
        },
        "id": "lU54s3MoE9fQ",
        "outputId": "f70e30ee-2e7e-4556-f802-ad4fad3ce282"
      },
      "source": [
        "#Imputing missing values in latitude & longitude\n",
        "#From the previous steps we found that there are 21 device_ids for the missing latitude & longitude records.\n",
        "#For these 21 device_ids there are unique latitude & longitude combination. Hence, we'll be replacing the missing latitude & longitude values for these devices with the same latitude & longitude values\n",
        "\n",
        "for i in dev_id:\n",
        "  lat = list(events_data_df[(events_data_df.device_id == i) & (events_data_df.latitude.notnull())].latitude)[0]\n",
        "  lon = list(events_data_df[(events_data_df.device_id == i) & (events_data_df.latitude.notnull())].longitude)[0]\n",
        "  city = list(events_data_df[events_data_df.device_id == i].city)[0]\n",
        "  state = list(events_data_df[events_data_df.device_id == i].state)[0]\n",
        "  print('For DeviceID {} Latitude is: {}, Longitude is: {}, city is: {} & State is: {}'.format(i,lat,lon,city,state))\n",
        "  events_data_df.loc[events_data_df.device_id == i, 'latitude'] = lat\n",
        "  events_data_df.loc[events_data_df.device_id == i, 'longitude'] = lon"
      ],
      "execution_count": 42,
      "outputs": [
        {
          "output_type": "stream",
          "text": [
            "For DeviceID -8.790560034584249e+18 Latitude is: 22.761965, Longitude is: 75.933778, city is: Indore & State is: MadhyaPradesh\n",
            "For DeviceID -7.364840628879981e+18 Latitude is: 18.54074, Longitude is: 73.931944, city is: Pune & State is: Maharashtra\n",
            "For DeviceID -6.033798388179802e+18 Latitude is: 17.816579, Longitude is: 83.31978699999998, city is: Visakhapatnam & State is: AndhraPradesh\n",
            "For DeviceID 3.058487753865349e+17 Latitude is: 26.987565999999998, Longitude is: 75.865534, city is: Jaipur & State is: Rajasthan\n",
            "For DeviceID 1.3200509770197112e+18 Latitude is: 26.211919, Longitude is: 87.570736, city is: Araria & State is: Bihar\n",
            "For DeviceID 1.7796310234394053e+18 Latitude is: 28.738901, Longitude is: 77.235416, city is: Delhi & State is: Delhi\n",
            "For DeviceID 2.3509794022024387e+18 Latitude is: 22.745063000000002, Longitude is: 75.888474, city is: Indore & State is: MadhyaPradesh\n",
            "For DeviceID 3.0991685461987686e+18 Latitude is: 27.17739700000001, Longitude is: 84.1409, city is: Bagaha & State is: Bihar\n",
            "For DeviceID 3.738280493453803e+18 Latitude is: 22.76201, Longitude is: 75.937988, city is: Indore & State is: MadhyaPradesh\n",
            "For DeviceID 4.37503983023287e+18 Latitude is: 26.980345000000003, Longitude is: 75.824489, city is: Jaipur & State is: Rajasthan\n",
            "For DeviceID 4.580179444377398e+18 Latitude is: 26.960220000000003, Longitude is: 75.835756, city is: Jaipur & State is: Rajasthan\n",
            "For DeviceID 4.782582047729166e+18 Latitude is: 28.718379, Longitude is: 77.22522, city is: Delhi & State is: Delhi\n",
            "For DeviceID 4.865606571395669e+18 Latitude is: 17.772251999999995, Longitude is: 83.35144199999998, city is: Visakhapatnam & State is: AndhraPradesh\n",
            "For DeviceID 5.115185276392513e+18 Latitude is: 18.556741, Longitude is: 73.88868000000002, city is: Pune & State is: Maharashtra\n",
            "For DeviceID 5.375599021847303e+18 Latitude is: 28.718391999999998, Longitude is: 77.283447, city is: Delhi & State is: Delhi\n",
            "For DeviceID 5.518659601894558e+18 Latitude is: 17.817945, Longitude is: 83.384242, city is: Visakhapatnam & State is: AndhraPradesh\n",
            "For DeviceID 5.731369272434022e+18 Latitude is: 13.153332, Longitude is: 80.34361299999998, city is: Chennai & State is: TamilNadu\n",
            "For DeviceID 6.774071338248978e+18 Latitude is: 30.904178, Longitude is: 75.268748, city is: Moga & State is: Punjab\n",
            "For DeviceID 7.018600380123445e+18 Latitude is: 18.575747, Longitude is: 73.92622300000002, city is: Pune & State is: Maharashtra\n",
            "For DeviceID 7.66213914371992e+18 Latitude is: 13.149176, Longitude is: 80.30927199999998, city is: Chennai & State is: TamilNadu\n",
            "For DeviceID 7.983871429718485e+18 Latitude is: 13.189053, Longitude is: 80.33543499999998, city is: Chennai & State is: TamilNadu\n"
          ],
          "name": "stdout"
        }
      ]
    },
    {
      "cell_type": "code",
      "metadata": {
        "colab": {
          "base_uri": "https://localhost:8080/"
        },
        "id": "pWvI8J-9VoF4",
        "outputId": "a2915de9-221d-489b-cef4-df21c44dd1b1"
      },
      "source": [
        "#checking for a sample device if the count has increased\n",
        "events_data_df[events_data_df.device_id == 305848775386534912.000000][['latitude','longitude']].value_counts()"
      ],
      "execution_count": 43,
      "outputs": [
        {
          "output_type": "execute_result",
          "data": {
            "text/plain": [
              "latitude   longitude\n",
              "26.987566  75.865534    582\n",
              "dtype: int64"
            ]
          },
          "metadata": {
            "tags": []
          },
          "execution_count": 43
        }
      ]
    },
    {
      "cell_type": "code",
      "metadata": {
        "colab": {
          "base_uri": "https://localhost:8080/"
        },
        "id": "-nuMJQmgVVVd",
        "outputId": "260aec99-3bfb-458e-895f-54be4d07c91c"
      },
      "source": [
        "#checking if we still have missing values in any column\n",
        "events_data_df.isnull().sum()"
      ],
      "execution_count": 44,
      "outputs": [
        {
          "output_type": "execute_result",
          "data": {
            "text/plain": [
              "event_id     0\n",
              "device_id    0\n",
              "timestamp    0\n",
              "longitude    0\n",
              "latitude     0\n",
              "city         0\n",
              "state        0\n",
              "dtype: int64"
            ]
          },
          "metadata": {
            "tags": []
          },
          "execution_count": 44
        }
      ]
    },
    {
      "cell_type": "markdown",
      "metadata": {
        "id": "R3ZCycdWvFco"
      },
      "source": [
        "## Handling Non-English characters in Phone Brand"
      ]
    },
    {
      "cell_type": "code",
      "metadata": {
        "id": "6tAw1Ahz0LQG",
        "colab": {
          "base_uri": "https://localhost:8080/"
        },
        "outputId": "04c5589d-37d6-4710-ec2a-fed24c783f8f"
      },
      "source": [
        "phone_brand_device_model_df.Brand.value_counts()"
      ],
      "execution_count": 50,
      "outputs": [
        {
          "output_type": "execute_result",
          "data": {
            "text/plain": [
              "小米      21645\n",
              "三星      19211\n",
              "华为      15181\n",
              "vivo     7596\n",
              "OPPO     6717\n",
              "        ...  \n",
              "E人E本        1\n",
              "瑞高          1\n",
              "世纪星         1\n",
              "西门子         1\n",
              "恒宇丰         1\n",
              "Name: Brand, Length: 116, dtype: int64"
            ]
          },
          "metadata": {
            "tags": []
          },
          "execution_count": 50
        }
      ]
    },
    {
      "cell_type": "code",
      "metadata": {
        "colab": {
          "base_uri": "https://localhost:8080/"
        },
        "id": "zyJn9p7dI3Iv",
        "outputId": "5bc9a988-e49e-4cfa-ac5e-23913e6864bb"
      },
      "source": [
        "!pip3 uninstall googletrans==3.1.0a0"
      ],
      "execution_count": 51,
      "outputs": [
        {
          "output_type": "stream",
          "text": [
            "Uninstalling googletrans-3.1.0a0:\n",
            "  Would remove:\n",
            "    /usr/local/bin/translate\n",
            "    /usr/local/lib/python3.7/dist-packages/googletrans-3.1.0a0.dist-info/*\n",
            "    /usr/local/lib/python3.7/dist-packages/googletrans/*\n",
            "Proceed (y/n)? y\n",
            "  Successfully uninstalled googletrans-3.1.0a0\n"
          ],
          "name": "stdout"
        }
      ]
    },
    {
      "cell_type": "code",
      "metadata": {
        "id": "12nTqybkzUBc",
        "colab": {
          "base_uri": "https://localhost:8080/"
        },
        "outputId": "2dfd0761-423e-416e-e6b0-4a5d8382c37f"
      },
      "source": [
        "!pip3 install googletrans==3.1.0a0"
      ],
      "execution_count": 51,
      "outputs": [
        {
          "output_type": "stream",
          "text": [
            "Requirement already satisfied: googletrans==3.1.0a0 in /usr/local/lib/python3.7/dist-packages (3.1.0a0)\n",
            "Requirement already satisfied: httpx==0.13.3 in /usr/local/lib/python3.7/dist-packages (from googletrans==3.1.0a0) (0.13.3)\n",
            "Requirement already satisfied: chardet==3.* in /usr/local/lib/python3.7/dist-packages (from httpx==0.13.3->googletrans==3.1.0a0) (3.0.4)\n",
            "Requirement already satisfied: idna==2.* in /usr/local/lib/python3.7/dist-packages (from httpx==0.13.3->googletrans==3.1.0a0) (2.10)\n",
            "Requirement already satisfied: rfc3986<2,>=1.3 in /usr/local/lib/python3.7/dist-packages (from httpx==0.13.3->googletrans==3.1.0a0) (1.4.0)\n",
            "Requirement already satisfied: sniffio in /usr/local/lib/python3.7/dist-packages (from httpx==0.13.3->googletrans==3.1.0a0) (1.2.0)\n",
            "Requirement already satisfied: httpcore==0.9.* in /usr/local/lib/python3.7/dist-packages (from httpx==0.13.3->googletrans==3.1.0a0) (0.9.1)\n",
            "Requirement already satisfied: hstspreload in /usr/local/lib/python3.7/dist-packages (from httpx==0.13.3->googletrans==3.1.0a0) (2020.12.22)\n",
            "Requirement already satisfied: certifi in /usr/local/lib/python3.7/dist-packages (from httpx==0.13.3->googletrans==3.1.0a0) (2020.12.5)\n",
            "Requirement already satisfied: h2==3.* in /usr/local/lib/python3.7/dist-packages (from httpcore==0.9.*->httpx==0.13.3->googletrans==3.1.0a0) (3.2.0)\n",
            "Requirement already satisfied: h11<0.10,>=0.8 in /usr/local/lib/python3.7/dist-packages (from httpcore==0.9.*->httpx==0.13.3->googletrans==3.1.0a0) (0.9.0)\n",
            "Requirement already satisfied: hyperframe<6,>=5.2.0 in /usr/local/lib/python3.7/dist-packages (from h2==3.*->httpcore==0.9.*->httpx==0.13.3->googletrans==3.1.0a0) (5.2.0)\n",
            "Requirement already satisfied: hpack<4,>=3.0 in /usr/local/lib/python3.7/dist-packages (from h2==3.*->httpcore==0.9.*->httpx==0.13.3->googletrans==3.1.0a0) (3.0.0)\n"
          ],
          "name": "stdout"
        }
      ]
    },
    {
      "cell_type": "code",
      "metadata": {
        "id": "TCt0hcIQzUEN"
      },
      "source": [
        "from googletrans import Translator, constants\n",
        "#from pprint import pprint"
      ],
      "execution_count": 52,
      "outputs": []
    },
    {
      "cell_type": "code",
      "metadata": {
        "id": "GGc1FznS0oJv"
      },
      "source": [
        "# init the Google API translator\n",
        "translator = Translator()"
      ],
      "execution_count": 53,
      "outputs": []
    },
    {
      "cell_type": "code",
      "metadata": {
        "colab": {
          "base_uri": "https://localhost:8080/"
        },
        "id": "tyAOvfPz2I2T",
        "outputId": "5dd953c6-f500-47b6-a3c2-18198ed55431"
      },
      "source": [
        "translation = translator.translate(\"三星\", dest='en')\n",
        "print(f\"{translation.origin} ({translation.src}) --> {translation.text} ({translation.dest})\")"
      ],
      "execution_count": 54,
      "outputs": [
        {
          "output_type": "stream",
          "text": [
            "三星 (en) --> 三星 (en)\n"
          ],
          "name": "stdout"
        }
      ]
    },
    {
      "cell_type": "code",
      "metadata": {
        "id": "NOY2N0NevbY_"
      },
      "source": [
        "translator = Translator()\n",
        "translations = {}\n",
        "brand_list = list(phone_brand_device_model_df.Brand.unique())\n",
        "\n",
        "for Brand in brand_list:\n",
        "  phone_brand_device_model_df.loc[phone_brand_device_model_df.Brand == Brand, 'latitude'] = translator.translate(Brand, dest='en').text\n",
        "  print(translator.translate(Brand, dest='en').text)"
      ],
      "execution_count": null,
      "outputs": []
    },
    {
      "cell_type": "code",
      "metadata": {
        "colab": {
          "base_uri": "https://localhost:8080/"
        },
        "id": "kct2tCht3nZG",
        "outputId": "f65f07e6-07dc-4434-d1ed-2615e9f7438f"
      },
      "source": [
        "print(translator.translate(\"三星\").text)"
      ],
      "execution_count": null,
      "outputs": [
        {
          "output_type": "stream",
          "text": [
            "三星\n"
          ],
          "name": "stdout"
        }
      ]
    },
    {
      "cell_type": "code",
      "metadata": {
        "colab": {
          "base_uri": "https://localhost:8080/"
        },
        "id": "MRQFX8TmyK1M",
        "outputId": "63ad19ae-cdaf-492f-e77e-387f3f8cc26b"
      },
      "source": [
        "result = translator.translate(\"三星\",src='zh-CN', dest=\"en\")\n",
        "print(f\"{result.origin} ({result.src}) --> {result.text} ({result.dest})\")"
      ],
      "execution_count": null,
      "outputs": [
        {
          "output_type": "stream",
          "text": [
            "三星 (en) --> 三星 (en)\n"
          ],
          "name": "stdout"
        }
      ]
    },
    {
      "cell_type": "code",
      "metadata": {
        "id": "Skie51jRvbf3"
      },
      "source": [
        "list(phone_brand_device_model_df.Brand.unique())"
      ],
      "execution_count": null,
      "outputs": []
    },
    {
      "cell_type": "code",
      "metadata": {
        "id": "MJfLjUu6vbj-"
      },
      "source": [
        ""
      ],
      "execution_count": null,
      "outputs": []
    },
    {
      "cell_type": "code",
      "metadata": {
        "id": "mtGhfAihvbnu"
      },
      "source": [
        ""
      ],
      "execution_count": null,
      "outputs": []
    },
    {
      "cell_type": "code",
      "metadata": {
        "id": "oUOnnC3X6WGq"
      },
      "source": [
        ""
      ],
      "execution_count": null,
      "outputs": []
    },
    {
      "cell_type": "code",
      "metadata": {
        "id": "hyZ--pZv6WK-"
      },
      "source": [
        ""
      ],
      "execution_count": null,
      "outputs": []
    },
    {
      "cell_type": "code",
      "metadata": {
        "id": "Gc1CbLX66WTF"
      },
      "source": [
        ""
      ],
      "execution_count": null,
      "outputs": []
    },
    {
      "cell_type": "code",
      "metadata": {
        "colab": {
          "base_uri": "https://localhost:8080/",
          "height": 688
        },
        "id": "7d_QEL6F6WXP",
        "outputId": "28b3775a-e0f3-46c7-cb1f-91ac36cbb463"
      },
      "source": [
        "!pip install --upgrade google-cloud-translate"
      ],
      "execution_count": null,
      "outputs": [
        {
          "output_type": "stream",
          "text": [
            "Collecting google-cloud-translate\n",
            "\u001b[?25l  Downloading https://files.pythonhosted.org/packages/90/0f/76cf965718c1a76ec1e285ff25466d2adb267a2cc1a1aa5b3f6fc1013502/google_cloud_translate-3.1.0-py2.py3-none-any.whl (101kB)\n",
            "\u001b[K     |████████████████████████████████| 102kB 4.2MB/s \n",
            "\u001b[?25hCollecting google-cloud-core<2.0dev,>=1.3.0\n",
            "  Downloading https://files.pythonhosted.org/packages/ad/fc/6e8c449185cb8862af353c1164100ff75e32d55ba1de3baf9eaa01b7d2a9/google_cloud_core-1.6.0-py2.py3-none-any.whl\n",
            "Collecting proto-plus>=0.4.0\n",
            "\u001b[?25l  Downloading https://files.pythonhosted.org/packages/b4/8a/61c5a9b9b6288f9b060b6e3d88374fc083953a29aeac7206616c2d3c9c8e/proto_plus-1.18.1-py3-none-any.whl (42kB)\n",
            "\u001b[K     |████████████████████████████████| 51kB 5.1MB/s \n",
            "\u001b[?25hRequirement already satisfied, skipping upgrade: google-api-core[grpc]<2.0.0dev,>=1.22.2 in /usr/local/lib/python3.7/dist-packages (from google-cloud-translate) (1.26.3)\n",
            "Requirement already satisfied, skipping upgrade: google-auth<2.0dev,>=1.24.0 in /usr/local/lib/python3.7/dist-packages (from google-cloud-core<2.0dev,>=1.3.0->google-cloud-translate) (1.28.1)\n",
            "Requirement already satisfied, skipping upgrade: six>=1.12.0 in /usr/local/lib/python3.7/dist-packages (from google-cloud-core<2.0dev,>=1.3.0->google-cloud-translate) (1.15.0)\n",
            "Requirement already satisfied, skipping upgrade: protobuf>=3.12.0 in /usr/local/lib/python3.7/dist-packages (from proto-plus>=0.4.0->google-cloud-translate) (3.12.4)\n",
            "Requirement already satisfied, skipping upgrade: setuptools>=40.3.0 in /usr/local/lib/python3.7/dist-packages (from google-api-core[grpc]<2.0.0dev,>=1.22.2->google-cloud-translate) (56.0.0)\n",
            "Requirement already satisfied, skipping upgrade: googleapis-common-protos<2.0dev,>=1.6.0 in /usr/local/lib/python3.7/dist-packages (from google-api-core[grpc]<2.0.0dev,>=1.22.2->google-cloud-translate) (1.53.0)\n",
            "Requirement already satisfied, skipping upgrade: requests<3.0.0dev,>=2.18.0 in /usr/local/lib/python3.7/dist-packages (from google-api-core[grpc]<2.0.0dev,>=1.22.2->google-cloud-translate) (2.23.0)\n",
            "Requirement already satisfied, skipping upgrade: pytz in /usr/local/lib/python3.7/dist-packages (from google-api-core[grpc]<2.0.0dev,>=1.22.2->google-cloud-translate) (2018.9)\n",
            "Requirement already satisfied, skipping upgrade: packaging>=14.3 in /usr/local/lib/python3.7/dist-packages (from google-api-core[grpc]<2.0.0dev,>=1.22.2->google-cloud-translate) (20.9)\n",
            "Requirement already satisfied, skipping upgrade: grpcio<2.0dev,>=1.29.0; extra == \"grpc\" in /usr/local/lib/python3.7/dist-packages (from google-api-core[grpc]<2.0.0dev,>=1.22.2->google-cloud-translate) (1.32.0)\n",
            "Requirement already satisfied, skipping upgrade: pyasn1-modules>=0.2.1 in /usr/local/lib/python3.7/dist-packages (from google-auth<2.0dev,>=1.24.0->google-cloud-core<2.0dev,>=1.3.0->google-cloud-translate) (0.2.8)\n",
            "Requirement already satisfied, skipping upgrade: rsa<5,>=3.1.4; python_version >= \"3.6\" in /usr/local/lib/python3.7/dist-packages (from google-auth<2.0dev,>=1.24.0->google-cloud-core<2.0dev,>=1.3.0->google-cloud-translate) (4.7.2)\n",
            "Requirement already satisfied, skipping upgrade: cachetools<5.0,>=2.0.0 in /usr/local/lib/python3.7/dist-packages (from google-auth<2.0dev,>=1.24.0->google-cloud-core<2.0dev,>=1.3.0->google-cloud-translate) (4.2.1)\n",
            "Requirement already satisfied, skipping upgrade: chardet<4,>=3.0.2 in /usr/local/lib/python3.7/dist-packages (from requests<3.0.0dev,>=2.18.0->google-api-core[grpc]<2.0.0dev,>=1.22.2->google-cloud-translate) (3.0.4)\n",
            "Requirement already satisfied, skipping upgrade: idna<3,>=2.5 in /usr/local/lib/python3.7/dist-packages (from requests<3.0.0dev,>=2.18.0->google-api-core[grpc]<2.0.0dev,>=1.22.2->google-cloud-translate) (2.10)\n",
            "Requirement already satisfied, skipping upgrade: urllib3!=1.25.0,!=1.25.1,<1.26,>=1.21.1 in /usr/local/lib/python3.7/dist-packages (from requests<3.0.0dev,>=2.18.0->google-api-core[grpc]<2.0.0dev,>=1.22.2->google-cloud-translate) (1.24.3)\n",
            "Requirement already satisfied, skipping upgrade: certifi>=2017.4.17 in /usr/local/lib/python3.7/dist-packages (from requests<3.0.0dev,>=2.18.0->google-api-core[grpc]<2.0.0dev,>=1.22.2->google-cloud-translate) (2020.12.5)\n",
            "Requirement already satisfied, skipping upgrade: pyparsing>=2.0.2 in /usr/local/lib/python3.7/dist-packages (from packaging>=14.3->google-api-core[grpc]<2.0.0dev,>=1.22.2->google-cloud-translate) (2.4.7)\n",
            "Requirement already satisfied, skipping upgrade: pyasn1<0.5.0,>=0.4.6 in /usr/local/lib/python3.7/dist-packages (from pyasn1-modules>=0.2.1->google-auth<2.0dev,>=1.24.0->google-cloud-core<2.0dev,>=1.3.0->google-cloud-translate) (0.4.8)\n",
            "Installing collected packages: google-cloud-core, proto-plus, google-cloud-translate\n",
            "  Found existing installation: google-cloud-core 1.0.3\n",
            "    Uninstalling google-cloud-core-1.0.3:\n",
            "      Successfully uninstalled google-cloud-core-1.0.3\n",
            "  Found existing installation: google-cloud-translate 1.5.0\n",
            "    Uninstalling google-cloud-translate-1.5.0:\n",
            "      Successfully uninstalled google-cloud-translate-1.5.0\n",
            "Successfully installed google-cloud-core-1.6.0 google-cloud-translate-3.1.0 proto-plus-1.18.1\n"
          ],
          "name": "stdout"
        },
        {
          "output_type": "display_data",
          "data": {
            "application/vnd.colab-display-data+json": {
              "pip_warning": {
                "packages": [
                  "google"
                ]
              }
            }
          },
          "metadata": {
            "tags": []
          }
        }
      ]
    },
    {
      "cell_type": "code",
      "metadata": {
        "id": "2K6D7oCr6WbC"
      },
      "source": [
        "from google.cloud import translate"
      ],
      "execution_count": null,
      "outputs": []
    },
    {
      "cell_type": "code",
      "metadata": {
        "id": "n7bDHRPn7DOK"
      },
      "source": [
        "from translate import translator"
      ],
      "execution_count": null,
      "outputs": []
    },
    {
      "cell_type": "code",
      "metadata": {
        "id": "Fn-T7hXC7DSf"
      },
      "source": [
        "result = translator(target='en',phrase=\"三星\", source=\"zh-cn\")"
      ],
      "execution_count": null,
      "outputs": []
    },
    {
      "cell_type": "code",
      "metadata": {
        "colab": {
          "base_uri": "https://localhost:8080/"
        },
        "id": "M6SRvv0j7DWP",
        "outputId": "aec3b146-2a70-46bf-f751-e313f348cad3"
      },
      "source": [
        "result[0]"
      ],
      "execution_count": null,
      "outputs": [
        {
          "output_type": "execute_result",
          "data": {
            "text/plain": [
              "[['Samsung',\n",
              "  '三星',\n",
              "  None,\n",
              "  None,\n",
              "  3,\n",
              "  None,\n",
              "  None,\n",
              "  [[None, None, None, None, None, None, None, True]],\n",
              "  [[['676e6bfae35bd1f419abe83d5bb33621', 'offline_launch_doc.md']]]]]"
            ]
          },
          "metadata": {
            "tags": []
          },
          "execution_count": 70
        }
      ]
    },
    {
      "cell_type": "code",
      "metadata": {
        "id": "p7z05Uev7DZ9"
      },
      "source": [
        ""
      ],
      "execution_count": null,
      "outputs": []
    },
    {
      "cell_type": "code",
      "metadata": {
        "id": "sW474USi6WfT"
      },
      "source": [
        ""
      ],
      "execution_count": null,
      "outputs": []
    },
    {
      "cell_type": "code",
      "metadata": {
        "id": "HzgE403HzUG_",
        "colab": {
          "base_uri": "https://localhost:8080/"
        },
        "outputId": "2c6785fe-7012-41fa-f8b7-604886e7bf3e"
      },
      "source": [
        "phone_brand_device_model_df.Brand.nunique()"
      ],
      "execution_count": null,
      "outputs": [
        {
          "output_type": "execute_result",
          "data": {
            "text/plain": [
              "116"
            ]
          },
          "metadata": {
            "tags": []
          },
          "execution_count": 194
        }
      ]
    },
    {
      "cell_type": "code",
      "metadata": {
        "id": "Gel0YINjzUJy"
      },
      "source": [
        ""
      ],
      "execution_count": null,
      "outputs": []
    },
    {
      "cell_type": "code",
      "metadata": {
        "id": "4Fd_dv6CDK9s"
      },
      "source": [
        "lang_dict = {'华为' : 'Huawei', \n",
        "             '小米' : 'Xiaomi',\n",
        "             '三星' : 'Samsung',\n",
        "             '魅族' : 'Meizu',\n",
        "             '酷派' : 'Coolpad',\n",
        "             '乐视' : 'LeEco',\n",
        "             '联想' : 'Lenovo'}\n",
        "\n",
        "phone_brand_device_model_df.Brand = phone_brand_device_model_df.Brand.apply(lambda x: lang_dict.setdefault(x,x))\n",
        "phone_brand_device_model_df.sample(5)"
      ],
      "execution_count": null,
      "outputs": []
    },
    {
      "cell_type": "code",
      "metadata": {
        "id": "-1iYf7rnzUM3"
      },
      "source": [
        ""
      ],
      "execution_count": null,
      "outputs": []
    },
    {
      "cell_type": "code",
      "metadata": {
        "id": "X7mZs7W1zUPw"
      },
      "source": [
        ""
      ],
      "execution_count": null,
      "outputs": []
    },
    {
      "cell_type": "code",
      "metadata": {
        "id": "RHYxO1Q1zUS6"
      },
      "source": [
        ""
      ],
      "execution_count": null,
      "outputs": []
    },
    {
      "cell_type": "code",
      "metadata": {
        "id": "3WaB1TV4zUV2"
      },
      "source": [
        ""
      ],
      "execution_count": null,
      "outputs": []
    },
    {
      "cell_type": "code",
      "metadata": {
        "colab": {
          "base_uri": "https://localhost:8080/"
        },
        "id": "BP9xwNbdrmru",
        "outputId": "d2ef96cf-f6c8-4654-c4f7-d0e210639b51"
      },
      "source": [
        "events_data_df[(events_data_df.latitude == 26.960796) | (events_data_df.longitude == 75.846007)][['device_id','city','state']].value_counts()"
      ],
      "execution_count": null,
      "outputs": [
        {
          "output_type": "execute_result",
          "data": {
            "text/plain": [
              "device_id                    city    state    \n",
              "-8460337302442785792.000000  Jaipur  Rajasthan    525\n",
              "dtype: int64"
            ]
          },
          "metadata": {
            "tags": []
          },
          "execution_count": 11
        }
      ]
    },
    {
      "cell_type": "code",
      "metadata": {
        "colab": {
          "base_uri": "https://localhost:8080/",
          "height": 391
        },
        "id": "F_ihFYtMsTy4",
        "outputId": "2c51c34e-1704-4417-9e10-59db7cc1141c"
      },
      "source": [
        "events_data_df[events_data_df.device_id == '-8460337302442785792.000000']"
      ],
      "execution_count": null,
      "outputs": [
        {
          "output_type": "execute_result",
          "data": {
            "text/html": [
              "<div>\n",
              "<style scoped>\n",
              "    .dataframe tbody tr th:only-of-type {\n",
              "        vertical-align: middle;\n",
              "    }\n",
              "\n",
              "    .dataframe tbody tr th {\n",
              "        vertical-align: top;\n",
              "    }\n",
              "\n",
              "    .dataframe thead th {\n",
              "        text-align: right;\n",
              "    }\n",
              "</style>\n",
              "<table border=\"1\" class=\"dataframe\">\n",
              "  <thead>\n",
              "    <tr style=\"text-align: right;\">\n",
              "      <th></th>\n",
              "      <th>event_id</th>\n",
              "      <th>device_id</th>\n",
              "      <th>timestamp</th>\n",
              "      <th>longitude</th>\n",
              "      <th>latitude</th>\n",
              "      <th>city</th>\n",
              "      <th>state</th>\n",
              "    </tr>\n",
              "  </thead>\n",
              "  <tbody>\n",
              "    <tr>\n",
              "      <th>0</th>\n",
              "      <td>2765368</td>\n",
              "      <td>-8460337302442785792.000000</td>\n",
              "      <td>2016-05-07 22:52:05</td>\n",
              "      <td>77.225676</td>\n",
              "      <td>28.730140</td>\n",
              "      <td>Delhi</td>\n",
              "      <td>Delhi</td>\n",
              "    </tr>\n",
              "    <tr>\n",
              "      <th>1</th>\n",
              "      <td>2955066</td>\n",
              "      <td>-8460337302442785792.000000</td>\n",
              "      <td>2016-05-01 20:44:16</td>\n",
              "      <td>88.388361</td>\n",
              "      <td>22.660325</td>\n",
              "      <td>Calcutta</td>\n",
              "      <td>WestBengal</td>\n",
              "    </tr>\n",
              "    <tr>\n",
              "      <th>2</th>\n",
              "      <td>605968</td>\n",
              "      <td>-8460337302442785792.000000</td>\n",
              "      <td>2016-05-02 14:23:04</td>\n",
              "      <td>77.256809</td>\n",
              "      <td>28.757906</td>\n",
              "      <td>Delhi</td>\n",
              "      <td>Delhi</td>\n",
              "    </tr>\n",
              "    <tr>\n",
              "      <th>3</th>\n",
              "      <td>448114</td>\n",
              "      <td>-8460337302442785792.000000</td>\n",
              "      <td>2016-05-03 13:21:16</td>\n",
              "      <td>80.343613</td>\n",
              "      <td>13.153332</td>\n",
              "      <td>Chennai</td>\n",
              "      <td>TamilNadu</td>\n",
              "    </tr>\n",
              "    <tr>\n",
              "      <th>4</th>\n",
              "      <td>665740</td>\n",
              "      <td>-8460337302442785792.000000</td>\n",
              "      <td>2016-05-06 03:51:05</td>\n",
              "      <td>85.997745</td>\n",
              "      <td>23.842609</td>\n",
              "      <td>Bokaro</td>\n",
              "      <td>Jharkhand</td>\n",
              "    </tr>\n",
              "    <tr>\n",
              "      <th>...</th>\n",
              "      <td>...</td>\n",
              "      <td>...</td>\n",
              "      <td>...</td>\n",
              "      <td>...</td>\n",
              "      <td>...</td>\n",
              "      <td>...</td>\n",
              "      <td>...</td>\n",
              "    </tr>\n",
              "    <tr>\n",
              "      <th>3252945</th>\n",
              "      <td>2687452</td>\n",
              "      <td>-8460337302442785792.000000</td>\n",
              "      <td>2016-05-07 23:33:14</td>\n",
              "      <td>73.891597</td>\n",
              "      <td>18.544124</td>\n",
              "      <td>Pune</td>\n",
              "      <td>Maharashtra</td>\n",
              "    </tr>\n",
              "    <tr>\n",
              "      <th>3252946</th>\n",
              "      <td>1051580</td>\n",
              "      <td>-8460337302442785792.000000</td>\n",
              "      <td>2016-05-03 05:13:30</td>\n",
              "      <td>72.837258</td>\n",
              "      <td>19.018432</td>\n",
              "      <td>Mumbai</td>\n",
              "      <td>Maharashtra</td>\n",
              "    </tr>\n",
              "    <tr>\n",
              "      <th>3252947</th>\n",
              "      <td>1316227</td>\n",
              "      <td>-8460337302442785792.000000</td>\n",
              "      <td>2016-05-01 16:03:28</td>\n",
              "      <td>77.235578</td>\n",
              "      <td>28.764065</td>\n",
              "      <td>Delhi</td>\n",
              "      <td>Delhi</td>\n",
              "    </tr>\n",
              "    <tr>\n",
              "      <th>3252948</th>\n",
              "      <td>381262</td>\n",
              "      <td>-8460337302442785792.000000</td>\n",
              "      <td>2016-05-05 17:22:36</td>\n",
              "      <td>83.326044</td>\n",
              "      <td>17.765488</td>\n",
              "      <td>Visakhapatnam</td>\n",
              "      <td>AndhraPradesh</td>\n",
              "    </tr>\n",
              "    <tr>\n",
              "      <th>3252949</th>\n",
              "      <td>522592</td>\n",
              "      <td>-8460337302442785792.000000</td>\n",
              "      <td>2016-05-07 17:34:18</td>\n",
              "      <td>77.308533</td>\n",
              "      <td>9.779918</td>\n",
              "      <td>Kambam</td>\n",
              "      <td>TamilNadu</td>\n",
              "    </tr>\n",
              "  </tbody>\n",
              "</table>\n",
              "<p>3252950 rows × 7 columns</p>\n",
              "</div>"
            ],
            "text/plain": [
              "         event_id                    device_id  ...           city          state\n",
              "0         2765368  -8460337302442785792.000000  ...          Delhi          Delhi\n",
              "1         2955066  -8460337302442785792.000000  ...       Calcutta     WestBengal\n",
              "2          605968  -8460337302442785792.000000  ...          Delhi          Delhi\n",
              "3          448114  -8460337302442785792.000000  ...        Chennai      TamilNadu\n",
              "4          665740  -8460337302442785792.000000  ...         Bokaro      Jharkhand\n",
              "...           ...                          ...  ...            ...            ...\n",
              "3252945   2687452  -8460337302442785792.000000  ...           Pune    Maharashtra\n",
              "3252946   1051580  -8460337302442785792.000000  ...         Mumbai    Maharashtra\n",
              "3252947   1316227  -8460337302442785792.000000  ...          Delhi          Delhi\n",
              "3252948    381262  -8460337302442785792.000000  ...  Visakhapatnam  AndhraPradesh\n",
              "3252949    522592  -8460337302442785792.000000  ...         Kambam      TamilNadu\n",
              "\n",
              "[3252950 rows x 7 columns]"
            ]
          },
          "metadata": {
            "tags": []
          },
          "execution_count": 14
        }
      ]
    },
    {
      "cell_type": "code",
      "metadata": {
        "colab": {
          "base_uri": "https://localhost:8080/",
          "height": 391
        },
        "id": "ToUetYc2sx_p",
        "outputId": "faf0c7c0-06c9-4f4d-e041-4a880c425a10"
      },
      "source": [
        "events_data_df[(events_data_df.city=='Jaipur') & (events_data_df.state=='Rajasthan') & (events_data_df.device_id == '-8460337302442785792.000000')]"
      ],
      "execution_count": null,
      "outputs": [
        {
          "output_type": "execute_result",
          "data": {
            "text/html": [
              "<div>\n",
              "<style scoped>\n",
              "    .dataframe tbody tr th:only-of-type {\n",
              "        vertical-align: middle;\n",
              "    }\n",
              "\n",
              "    .dataframe tbody tr th {\n",
              "        vertical-align: top;\n",
              "    }\n",
              "\n",
              "    .dataframe thead th {\n",
              "        text-align: right;\n",
              "    }\n",
              "</style>\n",
              "<table border=\"1\" class=\"dataframe\">\n",
              "  <thead>\n",
              "    <tr style=\"text-align: right;\">\n",
              "      <th></th>\n",
              "      <th>event_id</th>\n",
              "      <th>device_id</th>\n",
              "      <th>timestamp</th>\n",
              "      <th>longitude</th>\n",
              "      <th>latitude</th>\n",
              "      <th>city</th>\n",
              "      <th>state</th>\n",
              "    </tr>\n",
              "  </thead>\n",
              "  <tbody>\n",
              "    <tr>\n",
              "      <th>54</th>\n",
              "      <td>1888847</td>\n",
              "      <td>-8460337302442785792.000000</td>\n",
              "      <td>2016-05-02 15:52:42</td>\n",
              "      <td>75.863671</td>\n",
              "      <td>26.931170</td>\n",
              "      <td>Jaipur</td>\n",
              "      <td>Rajasthan</td>\n",
              "    </tr>\n",
              "    <tr>\n",
              "      <th>57</th>\n",
              "      <td>2342814</td>\n",
              "      <td>-8460337302442785792.000000</td>\n",
              "      <td>2016-05-04 16:26:56</td>\n",
              "      <td>75.813028</td>\n",
              "      <td>26.955495</td>\n",
              "      <td>Jaipur</td>\n",
              "      <td>Rajasthan</td>\n",
              "    </tr>\n",
              "    <tr>\n",
              "      <th>101</th>\n",
              "      <td>2787217</td>\n",
              "      <td>-8460337302442785792.000000</td>\n",
              "      <td>2016-05-07 19:29:03</td>\n",
              "      <td>75.867452</td>\n",
              "      <td>26.985617</td>\n",
              "      <td>Jaipur</td>\n",
              "      <td>Rajasthan</td>\n",
              "    </tr>\n",
              "    <tr>\n",
              "      <th>107</th>\n",
              "      <td>1856551</td>\n",
              "      <td>-8460337302442785792.000000</td>\n",
              "      <td>2016-05-05 15:27:28</td>\n",
              "      <td>75.841276</td>\n",
              "      <td>26.978374</td>\n",
              "      <td>Jaipur</td>\n",
              "      <td>Rajasthan</td>\n",
              "    </tr>\n",
              "    <tr>\n",
              "      <th>113</th>\n",
              "      <td>1752747</td>\n",
              "      <td>-8460337302442785792.000000</td>\n",
              "      <td>2016-05-04 16:58:47</td>\n",
              "      <td>75.861558</td>\n",
              "      <td>26.986656</td>\n",
              "      <td>Jaipur</td>\n",
              "      <td>Rajasthan</td>\n",
              "    </tr>\n",
              "    <tr>\n",
              "      <th>...</th>\n",
              "      <td>...</td>\n",
              "      <td>...</td>\n",
              "      <td>...</td>\n",
              "      <td>...</td>\n",
              "      <td>...</td>\n",
              "      <td>...</td>\n",
              "      <td>...</td>\n",
              "    </tr>\n",
              "    <tr>\n",
              "      <th>3252904</th>\n",
              "      <td>1044472</td>\n",
              "      <td>-8460337302442785792.000000</td>\n",
              "      <td>2016-05-06 17:40:53</td>\n",
              "      <td>75.861197</td>\n",
              "      <td>26.985418</td>\n",
              "      <td>Jaipur</td>\n",
              "      <td>Rajasthan</td>\n",
              "    </tr>\n",
              "    <tr>\n",
              "      <th>3252908</th>\n",
              "      <td>2603389</td>\n",
              "      <td>-8460337302442785792.000000</td>\n",
              "      <td>2016-05-07 00:32:29</td>\n",
              "      <td>75.885594</td>\n",
              "      <td>26.948387</td>\n",
              "      <td>Jaipur</td>\n",
              "      <td>Rajasthan</td>\n",
              "    </tr>\n",
              "    <tr>\n",
              "      <th>3252911</th>\n",
              "      <td>3113603</td>\n",
              "      <td>-8460337302442785792.000000</td>\n",
              "      <td>2016-05-01 12:38:05</td>\n",
              "      <td>75.835737</td>\n",
              "      <td>26.948521</td>\n",
              "      <td>Jaipur</td>\n",
              "      <td>Rajasthan</td>\n",
              "    </tr>\n",
              "    <tr>\n",
              "      <th>3252914</th>\n",
              "      <td>18399</td>\n",
              "      <td>-8460337302442785792.000000</td>\n",
              "      <td>2016-05-07 16:18:52</td>\n",
              "      <td>75.846714</td>\n",
              "      <td>26.989496</td>\n",
              "      <td>Jaipur</td>\n",
              "      <td>Rajasthan</td>\n",
              "    </tr>\n",
              "    <tr>\n",
              "      <th>3252939</th>\n",
              "      <td>516730</td>\n",
              "      <td>-8460337302442785792.000000</td>\n",
              "      <td>2016-05-05 13:18:24</td>\n",
              "      <td>75.844364</td>\n",
              "      <td>27.003391</td>\n",
              "      <td>Jaipur</td>\n",
              "      <td>Rajasthan</td>\n",
              "    </tr>\n",
              "  </tbody>\n",
              "</table>\n",
              "<p>156997 rows × 7 columns</p>\n",
              "</div>"
            ],
            "text/plain": [
              "         event_id                    device_id  ...    city      state\n",
              "54        1888847  -8460337302442785792.000000  ...  Jaipur  Rajasthan\n",
              "57        2342814  -8460337302442785792.000000  ...  Jaipur  Rajasthan\n",
              "101       2787217  -8460337302442785792.000000  ...  Jaipur  Rajasthan\n",
              "107       1856551  -8460337302442785792.000000  ...  Jaipur  Rajasthan\n",
              "113       1752747  -8460337302442785792.000000  ...  Jaipur  Rajasthan\n",
              "...           ...                          ...  ...     ...        ...\n",
              "3252904   1044472  -8460337302442785792.000000  ...  Jaipur  Rajasthan\n",
              "3252908   2603389  -8460337302442785792.000000  ...  Jaipur  Rajasthan\n",
              "3252911   3113603  -8460337302442785792.000000  ...  Jaipur  Rajasthan\n",
              "3252914     18399  -8460337302442785792.000000  ...  Jaipur  Rajasthan\n",
              "3252939    516730  -8460337302442785792.000000  ...  Jaipur  Rajasthan\n",
              "\n",
              "[156997 rows x 7 columns]"
            ]
          },
          "metadata": {
            "tags": []
          },
          "execution_count": 19
        }
      ]
    },
    {
      "cell_type": "code",
      "metadata": {
        "colab": {
          "base_uri": "https://localhost:8080/"
        },
        "id": "Or-ad2hVEl9N",
        "outputId": "8e28aa5b-a918-4066-baa6-5500bff388bc"
      },
      "source": [
        "events_data_df.isnull().sum()"
      ],
      "execution_count": null,
      "outputs": [
        {
          "output_type": "execute_result",
          "data": {
            "text/plain": [
              "event_id       0\n",
              "device_id    453\n",
              "timestamp      0\n",
              "longitude    423\n",
              "latitude     423\n",
              "city           0\n",
              "state        377\n",
              "dtype: int64"
            ]
          },
          "metadata": {
            "tags": []
          },
          "execution_count": 145
        }
      ]
    },
    {
      "cell_type": "code",
      "metadata": {
        "colab": {
          "base_uri": "https://localhost:8080/",
          "height": 47
        },
        "id": "G4VQ4CD80jUa",
        "outputId": "842ff230-394e-4365-eaa3-9432bc430e0b"
      },
      "source": [
        " events_data_df[events_data_df['state'].isnull()]"
      ],
      "execution_count": null,
      "outputs": [
        {
          "output_type": "execute_result",
          "data": {
            "text/html": [
              "<div>\n",
              "<style scoped>\n",
              "    .dataframe tbody tr th:only-of-type {\n",
              "        vertical-align: middle;\n",
              "    }\n",
              "\n",
              "    .dataframe tbody tr th {\n",
              "        vertical-align: top;\n",
              "    }\n",
              "\n",
              "    .dataframe thead th {\n",
              "        text-align: right;\n",
              "    }\n",
              "</style>\n",
              "<table border=\"1\" class=\"dataframe\">\n",
              "  <thead>\n",
              "    <tr style=\"text-align: right;\">\n",
              "      <th></th>\n",
              "      <th>event_id</th>\n",
              "      <th>device_id</th>\n",
              "      <th>timestamp</th>\n",
              "      <th>longitude</th>\n",
              "      <th>latitude</th>\n",
              "      <th>city</th>\n",
              "      <th>state</th>\n",
              "    </tr>\n",
              "  </thead>\n",
              "  <tbody>\n",
              "  </tbody>\n",
              "</table>\n",
              "</div>"
            ],
            "text/plain": [
              "Empty DataFrame\n",
              "Columns: [event_id, device_id, timestamp, longitude, latitude, city, state]\n",
              "Index: []"
            ]
          },
          "metadata": {
            "tags": []
          },
          "execution_count": 62
        }
      ]
    },
    {
      "cell_type": "code",
      "metadata": {
        "id": "KxRfDq_Bgkvs"
      },
      "source": [
        "#events_data_df.fillna(0,inplace=True)  #filling all missing values with 0"
      ],
      "execution_count": null,
      "outputs": []
    },
    {
      "cell_type": "code",
      "metadata": {
        "id": "v0xDHGauiiBX"
      },
      "source": [
        "events_data_df[(events_data_df[events_data_df['longitude'].isnull()]) & (events_data_df[events_data_df['latitude'].isnull()])] #checking if it is the same records which have missing latitude & longitude values"
      ],
      "execution_count": null,
      "outputs": []
    },
    {
      "cell_type": "code",
      "metadata": {
        "id": "4f4PlYL7u_hB"
      },
      "source": [
        "llat = 32.77\n",
        "ulat = -1.49\n",
        "\n",
        "llon = 66.18\n",
        "ulon = 93.69"
      ],
      "execution_count": null,
      "outputs": []
    },
    {
      "cell_type": "code",
      "metadata": {
        "colab": {
          "base_uri": "https://localhost:8080/"
        },
        "id": "HA7jsBzpkrsT",
        "outputId": "747952eb-97f7-46d3-d515-bc77a44eaf67"
      },
      "source": [
        "events_data_df[(events_data_df.city == 'Visakhapatnam') & (events_data_df.state == 'AndhraPradesh')][['latitude','longitude']].value_counts()"
      ],
      "execution_count": null,
      "outputs": [
        {
          "output_type": "execute_result",
          "data": {
            "text/plain": [
              "latitude   longitude\n",
              "17.829748  83.326714    2070\n",
              "17.775418  83.373009    1644\n",
              "17.757190  83.366564    1594\n",
              "17.817945  83.384242    1490\n",
              "17.816579  83.319787    1317\n",
              "                        ... \n",
              "17.748306  83.336540       1\n",
              "17.769770  83.341861       1\n",
              "17.749928  83.363726       1\n",
              "17.762473  83.334313       1\n",
              "17.800646  83.367603       1\n",
              "Length: 1550, dtype: int64"
            ]
          },
          "metadata": {
            "tags": []
          },
          "execution_count": 22
        }
      ]
    },
    {
      "cell_type": "code",
      "metadata": {
        "colab": {
          "base_uri": "https://localhost:8080/"
        },
        "id": "xixTEwPw-NVq",
        "outputId": "ceab2b33-94ed-4def-b2dd-b9dbc1a6e259"
      },
      "source": [
        "events_data_df[events_data_df.state.isnull()]['city'].value_counts()"
      ],
      "execution_count": null,
      "outputs": [
        {
          "output_type": "execute_result",
          "data": {
            "text/plain": [
              "Series([], Name: city, dtype: int64)"
            ]
          },
          "metadata": {
            "tags": []
          },
          "execution_count": 111
        }
      ]
    },
    {
      "cell_type": "markdown",
      "metadata": {
        "id": "zkkrOPsEFhYG"
      },
      "source": [
        "From among the above missing States we are concerned about 3 cities which are part of the 6 states we are supposed to work on which are:\n",
        "* Arambagh ---> WestBengal\n",
        "* Channapatna ---> Karnataka\n",
        "* Gangarampur ---> WestBengal"
      ]
    },
    {
      "cell_type": "markdown",
      "metadata": {
        "id": "sI9plkARzHBD"
      },
      "source": [
        "Filtering out events_data for only 6 states as per the requirement given i.e., WestBengal, Karnataka, Gujarat, Bihar, Punjab & Kerala."
      ]
    },
    {
      "cell_type": "code",
      "metadata": {
        "id": "h63K94kLtzMK"
      },
      "source": [
        "events_data_filtered_df= events_data_df[(events_data_df.state == 'WestBengal') | (events_data_df.state == 'Karnataka') | (events_data_df.state == 'Gujarat') | (events_data_df.state == 'Bihar') | (events_data_df.state == 'Punjab') | (events_data_df.state == 'Kerala')]"
      ],
      "execution_count": null,
      "outputs": []
    },
    {
      "cell_type": "code",
      "metadata": {
        "colab": {
          "base_uri": "https://localhost:8080/"
        },
        "id": "TRHAsDT8MHz9",
        "outputId": "ce03f32d-a266-4ce6-a5ae-7fc78cdd7537"
      },
      "source": [
        "events_data_filtered_df.info()"
      ],
      "execution_count": null,
      "outputs": [
        {
          "output_type": "stream",
          "text": [
            "<class 'pandas.core.frame.DataFrame'>\n",
            "Int64Index: 422971 entries, 1 to 3252921\n",
            "Data columns (total 7 columns):\n",
            " #   Column     Non-Null Count   Dtype  \n",
            "---  ------     --------------   -----  \n",
            " 0   event_id   422971 non-null  int64  \n",
            " 1   device_id  422923 non-null  float64\n",
            " 2   timestamp  422971 non-null  object \n",
            " 3   longitude  422929 non-null  float64\n",
            " 4   latitude   422929 non-null  float64\n",
            " 5   city       422971 non-null  object \n",
            " 6   state      422971 non-null  object \n",
            "dtypes: float64(3), int64(1), object(3)\n",
            "memory usage: 25.8+ MB\n"
          ],
          "name": "stdout"
        }
      ]
    },
    {
      "cell_type": "code",
      "metadata": {
        "colab": {
          "base_uri": "https://localhost:8080/"
        },
        "id": "ONMl2ZzuMTuB",
        "outputId": "285bfa83-e8e1-4b9b-dee3-737229722a5a"
      },
      "source": [
        "gender_age_train_df.info()"
      ],
      "execution_count": null,
      "outputs": [
        {
          "output_type": "stream",
          "text": [
            "<class 'pandas.core.frame.DataFrame'>\n",
            "RangeIndex: 74645 entries, 0 to 74644\n",
            "Data columns (total 4 columns):\n",
            " #   Column     Non-Null Count  Dtype \n",
            "---  ------     --------------  ----- \n",
            " 0   device_id  74645 non-null  int64 \n",
            " 1   Gender     74645 non-null  object\n",
            " 2   Age        74645 non-null  int64 \n",
            " 3   Age_Group  74645 non-null  object\n",
            "dtypes: int64(2), object(2)\n",
            "memory usage: 2.3+ MB\n"
          ],
          "name": "stdout"
        }
      ]
    },
    {
      "cell_type": "code",
      "metadata": {
        "colab": {
          "base_uri": "https://localhost:8080/"
        },
        "id": "z_3nXwjnOjRa",
        "outputId": "87f4781f-51f8-4b06-83d7-804fd5a61a24"
      },
      "source": [
        "events_data_filtered_df.isna().sum()"
      ],
      "execution_count": null,
      "outputs": [
        {
          "output_type": "execute_result",
          "data": {
            "text/plain": [
              "event_id      0\n",
              "device_id    48\n",
              "timestamp     0\n",
              "longitude    42\n",
              "latitude     42\n",
              "city          0\n",
              "state         0\n",
              "dtype: int64"
            ]
          },
          "metadata": {
            "tags": []
          },
          "execution_count": 110
        }
      ]
    },
    {
      "cell_type": "markdown",
      "metadata": {
        "id": "1L7aIltxgcVj"
      },
      "source": [
        "Dropping Null values w.r.t Device_id, latitude & longitude."
      ]
    },
    {
      "cell_type": "code",
      "metadata": {
        "id": "4mCMOlUCOtHU",
        "colab": {
          "base_uri": "https://localhost:8080/"
        },
        "outputId": "cc12feda-c8a1-44b5-b276-48e593f3ad0c"
      },
      "source": [
        "events_data_filtered_df.dropna(inplace=True)"
      ],
      "execution_count": null,
      "outputs": [
        {
          "output_type": "stream",
          "text": [
            "/usr/local/lib/python3.7/dist-packages/ipykernel_launcher.py:1: SettingWithCopyWarning: \n",
            "A value is trying to be set on a copy of a slice from a DataFrame\n",
            "\n",
            "See the caveats in the documentation: https://pandas.pydata.org/pandas-docs/stable/user_guide/indexing.html#returning-a-view-versus-a-copy\n",
            "  \"\"\"Entry point for launching an IPython kernel.\n"
          ],
          "name": "stderr"
        }
      ]
    },
    {
      "cell_type": "code",
      "metadata": {
        "id": "oX9RID-pOXZs"
      },
      "source": [
        "events_data_filtered_df['device_id'] = events_data_filtered_df['device_id'].astype('int64')"
      ],
      "execution_count": null,
      "outputs": []
    },
    {
      "cell_type": "code",
      "metadata": {
        "colab": {
          "base_uri": "https://localhost:8080/"
        },
        "id": "RmQCvNB1MT2r",
        "outputId": "5f59249c-9bca-48d9-8a00-f103e304cdfd"
      },
      "source": [
        "phone_brand_device_model_df.info()"
      ],
      "execution_count": null,
      "outputs": [
        {
          "output_type": "stream",
          "text": [
            "<class 'pandas.core.frame.DataFrame'>\n",
            "RangeIndex: 87726 entries, 0 to 87725\n",
            "Data columns (total 3 columns):\n",
            " #   Column     Non-Null Count  Dtype \n",
            "---  ------     --------------  ----- \n",
            " 0   device_id  87726 non-null  int64 \n",
            " 1   Brand      87726 non-null  object\n",
            " 2   Model      87726 non-null  object\n",
            "dtypes: int64(1), object(2)\n",
            "memory usage: 2.0+ MB\n"
          ],
          "name": "stdout"
        }
      ]
    },
    {
      "cell_type": "code",
      "metadata": {
        "colab": {
          "base_uri": "https://localhost:8080/"
        },
        "id": "2Qco7DdQ8bW2",
        "outputId": "aadc6ae3-be7d-4d0d-8787-d1a6724282ef"
      },
      "source": [
        "gender_age_train_df['Gender'].value_counts()"
      ],
      "execution_count": null,
      "outputs": [
        {
          "output_type": "execute_result",
          "data": {
            "text/plain": [
              "M    47904\n",
              "F    26741\n",
              "Name: Gender, dtype: int64"
            ]
          },
          "metadata": {
            "tags": []
          },
          "execution_count": 17
        }
      ]
    },
    {
      "cell_type": "markdown",
      "metadata": {
        "id": "Zj4cuU7m7iZo"
      },
      "source": [
        "No entries in gender_age_train dataframe with null Gender"
      ]
    },
    {
      "cell_type": "code",
      "metadata": {
        "colab": {
          "base_uri": "https://localhost:8080/"
        },
        "id": "jVr0tdAt8zca",
        "outputId": "c04f5608-58a2-4902-be46-0b4a239751a6"
      },
      "source": [
        "phone_brand_device_model_df['Brand'].value_counts(ascending=False)"
      ],
      "execution_count": null,
      "outputs": [
        {
          "output_type": "execute_result",
          "data": {
            "text/plain": [
              "小米      21645\n",
              "三星      19211\n",
              "华为      15181\n",
              "vivo     7596\n",
              "OPPO     6717\n",
              "        ...  \n",
              "E人E本        1\n",
              "帷幄          1\n",
              "恒宇丰         1\n",
              "瑞米          1\n",
              "大显          1\n",
              "Name: Brand, Length: 116, dtype: int64"
            ]
          },
          "metadata": {
            "tags": []
          },
          "execution_count": 18
        }
      ]
    },
    {
      "cell_type": "markdown",
      "metadata": {
        "id": "eIiWW9cW7mD5"
      },
      "source": [
        "No records in phone_brand_device_model dataframe with null Brand"
      ]
    },
    {
      "cell_type": "markdown",
      "metadata": {
        "id": "LKuMGCZxWh5g"
      },
      "source": [
        "Merging Dataframes on device_id to create a single dataframe which contains customer age, gender, mobile brand and model"
      ]
    },
    {
      "cell_type": "code",
      "metadata": {
        "colab": {
          "base_uri": "https://localhost:8080/",
          "height": 391
        },
        "id": "R-0klUXfWP4o",
        "outputId": "3b480135-d323-4989-af9b-63eac6a3a2a6"
      },
      "source": [
        "device_data_df=pd.merge(events_data_filtered_df,gender_age_train_df,on='device_id',how='inner') #performing inner join to fetch only matching device_id records\n",
        "device_data_df.fillna(0,inplace=True) #replacing null values in the columns with 0\n",
        "device_data_df"
      ],
      "execution_count": null,
      "outputs": [
        {
          "output_type": "execute_result",
          "data": {
            "text/html": [
              "<div>\n",
              "<style scoped>\n",
              "    .dataframe tbody tr th:only-of-type {\n",
              "        vertical-align: middle;\n",
              "    }\n",
              "\n",
              "    .dataframe tbody tr th {\n",
              "        vertical-align: top;\n",
              "    }\n",
              "\n",
              "    .dataframe thead th {\n",
              "        text-align: right;\n",
              "    }\n",
              "</style>\n",
              "<table border=\"1\" class=\"dataframe\">\n",
              "  <thead>\n",
              "    <tr style=\"text-align: right;\">\n",
              "      <th></th>\n",
              "      <th>event_id</th>\n",
              "      <th>device_id</th>\n",
              "      <th>timestamp</th>\n",
              "      <th>longitude</th>\n",
              "      <th>latitude</th>\n",
              "      <th>city</th>\n",
              "      <th>state</th>\n",
              "      <th>Gender</th>\n",
              "      <th>Age</th>\n",
              "      <th>Age_Group</th>\n",
              "    </tr>\n",
              "  </thead>\n",
              "  <tbody>\n",
              "    <tr>\n",
              "      <th>0</th>\n",
              "      <td>1836426</td>\n",
              "      <td>3872521790238090752</td>\n",
              "      <td>2016-05-01 20:29:14</td>\n",
              "      <td>71.294802</td>\n",
              "      <td>21.661309</td>\n",
              "      <td>Amreli</td>\n",
              "      <td>Gujarat</td>\n",
              "      <td>M</td>\n",
              "      <td>20</td>\n",
              "      <td>M22-</td>\n",
              "    </tr>\n",
              "    <tr>\n",
              "      <th>1</th>\n",
              "      <td>225132</td>\n",
              "      <td>3872521790238090752</td>\n",
              "      <td>2016-05-01 12:52:44</td>\n",
              "      <td>71.294802</td>\n",
              "      <td>21.661309</td>\n",
              "      <td>Amreli</td>\n",
              "      <td>Gujarat</td>\n",
              "      <td>M</td>\n",
              "      <td>20</td>\n",
              "      <td>M22-</td>\n",
              "    </tr>\n",
              "    <tr>\n",
              "      <th>2</th>\n",
              "      <td>815723</td>\n",
              "      <td>3872521790238090752</td>\n",
              "      <td>2016-05-01 12:28:56</td>\n",
              "      <td>71.294802</td>\n",
              "      <td>21.661309</td>\n",
              "      <td>Amreli</td>\n",
              "      <td>Gujarat</td>\n",
              "      <td>M</td>\n",
              "      <td>20</td>\n",
              "      <td>M22-</td>\n",
              "    </tr>\n",
              "    <tr>\n",
              "      <th>3</th>\n",
              "      <td>1300157</td>\n",
              "      <td>3872521790238090752</td>\n",
              "      <td>2016-05-04 23:24:57</td>\n",
              "      <td>71.294802</td>\n",
              "      <td>21.661309</td>\n",
              "      <td>Amreli</td>\n",
              "      <td>Gujarat</td>\n",
              "      <td>M</td>\n",
              "      <td>20</td>\n",
              "      <td>M22-</td>\n",
              "    </tr>\n",
              "    <tr>\n",
              "      <th>4</th>\n",
              "      <td>233682</td>\n",
              "      <td>3872521790238090752</td>\n",
              "      <td>2016-05-04 19:09:26</td>\n",
              "      <td>71.294802</td>\n",
              "      <td>21.661309</td>\n",
              "      <td>Amreli</td>\n",
              "      <td>Gujarat</td>\n",
              "      <td>M</td>\n",
              "      <td>20</td>\n",
              "      <td>M22-</td>\n",
              "    </tr>\n",
              "    <tr>\n",
              "      <th>...</th>\n",
              "      <td>...</td>\n",
              "      <td>...</td>\n",
              "      <td>...</td>\n",
              "      <td>...</td>\n",
              "      <td>...</td>\n",
              "      <td>...</td>\n",
              "      <td>...</td>\n",
              "      <td>...</td>\n",
              "      <td>...</td>\n",
              "      <td>...</td>\n",
              "    </tr>\n",
              "    <tr>\n",
              "      <th>2636</th>\n",
              "      <td>1530731</td>\n",
              "      <td>-228846787598753152</td>\n",
              "      <td>2016-05-07 10:35:00</td>\n",
              "      <td>88.413496</td>\n",
              "      <td>22.561318</td>\n",
              "      <td>Chakdaha</td>\n",
              "      <td>WestBengal</td>\n",
              "      <td>F</td>\n",
              "      <td>63</td>\n",
              "      <td>F43+</td>\n",
              "    </tr>\n",
              "    <tr>\n",
              "      <th>2637</th>\n",
              "      <td>2967042</td>\n",
              "      <td>-228846787598753152</td>\n",
              "      <td>2016-05-01 08:08:46</td>\n",
              "      <td>88.413496</td>\n",
              "      <td>22.561318</td>\n",
              "      <td>Chakdaha</td>\n",
              "      <td>WestBengal</td>\n",
              "      <td>F</td>\n",
              "      <td>63</td>\n",
              "      <td>F43+</td>\n",
              "    </tr>\n",
              "    <tr>\n",
              "      <th>2638</th>\n",
              "      <td>1334106</td>\n",
              "      <td>-2734689217401949696</td>\n",
              "      <td>2016-05-05 10:00:05</td>\n",
              "      <td>72.616658</td>\n",
              "      <td>23.056911</td>\n",
              "      <td>Ahmadabad</td>\n",
              "      <td>Gujarat</td>\n",
              "      <td>M</td>\n",
              "      <td>27</td>\n",
              "      <td>M27-28</td>\n",
              "    </tr>\n",
              "    <tr>\n",
              "      <th>2639</th>\n",
              "      <td>1776773</td>\n",
              "      <td>3711361681074975744</td>\n",
              "      <td>2016-05-02 15:54:13</td>\n",
              "      <td>70.861036</td>\n",
              "      <td>22.872394</td>\n",
              "      <td>Morvi</td>\n",
              "      <td>Gujarat</td>\n",
              "      <td>M</td>\n",
              "      <td>31</td>\n",
              "      <td>M29-31</td>\n",
              "    </tr>\n",
              "    <tr>\n",
              "      <th>2640</th>\n",
              "      <td>1608869</td>\n",
              "      <td>3501846588781962240</td>\n",
              "      <td>2016-05-04 13:27:20</td>\n",
              "      <td>72.607350</td>\n",
              "      <td>23.763381</td>\n",
              "      <td>Visnagar</td>\n",
              "      <td>Gujarat</td>\n",
              "      <td>M</td>\n",
              "      <td>28</td>\n",
              "      <td>M27-28</td>\n",
              "    </tr>\n",
              "  </tbody>\n",
              "</table>\n",
              "<p>2641 rows × 10 columns</p>\n",
              "</div>"
            ],
            "text/plain": [
              "      event_id            device_id            timestamp  ...  Gender  Age Age_Group\n",
              "0      1836426  3872521790238090752  2016-05-01 20:29:14  ...       M   20      M22-\n",
              "1       225132  3872521790238090752  2016-05-01 12:52:44  ...       M   20      M22-\n",
              "2       815723  3872521790238090752  2016-05-01 12:28:56  ...       M   20      M22-\n",
              "3      1300157  3872521790238090752  2016-05-04 23:24:57  ...       M   20      M22-\n",
              "4       233682  3872521790238090752  2016-05-04 19:09:26  ...       M   20      M22-\n",
              "...        ...                  ...                  ...  ...     ...  ...       ...\n",
              "2636   1530731  -228846787598753152  2016-05-07 10:35:00  ...       F   63      F43+\n",
              "2637   2967042  -228846787598753152  2016-05-01 08:08:46  ...       F   63      F43+\n",
              "2638   1334106 -2734689217401949696  2016-05-05 10:00:05  ...       M   27    M27-28\n",
              "2639   1776773  3711361681074975744  2016-05-02 15:54:13  ...       M   31    M29-31\n",
              "2640   1608869  3501846588781962240  2016-05-04 13:27:20  ...       M   28    M27-28\n",
              "\n",
              "[2641 rows x 10 columns]"
            ]
          },
          "metadata": {
            "tags": []
          },
          "execution_count": 19
        }
      ]
    },
    {
      "cell_type": "code",
      "metadata": {
        "colab": {
          "base_uri": "https://localhost:8080/",
          "height": 391
        },
        "id": "k2byoyqqXjqP",
        "outputId": "25f48e1a-98bf-4743-8fbd-ee96a6a7b267"
      },
      "source": [
        "device_data_df=pd.merge(device_data_df,phone_brand_device_model_df,on='device_id',how='inner')\n",
        "device_data_df.fillna(0,inplace=True)\n",
        "device_data_df"
      ],
      "execution_count": null,
      "outputs": [
        {
          "output_type": "execute_result",
          "data": {
            "text/html": [
              "<div>\n",
              "<style scoped>\n",
              "    .dataframe tbody tr th:only-of-type {\n",
              "        vertical-align: middle;\n",
              "    }\n",
              "\n",
              "    .dataframe tbody tr th {\n",
              "        vertical-align: top;\n",
              "    }\n",
              "\n",
              "    .dataframe thead th {\n",
              "        text-align: right;\n",
              "    }\n",
              "</style>\n",
              "<table border=\"1\" class=\"dataframe\">\n",
              "  <thead>\n",
              "    <tr style=\"text-align: right;\">\n",
              "      <th></th>\n",
              "      <th>event_id</th>\n",
              "      <th>device_id</th>\n",
              "      <th>timestamp</th>\n",
              "      <th>longitude</th>\n",
              "      <th>latitude</th>\n",
              "      <th>city</th>\n",
              "      <th>state</th>\n",
              "      <th>Gender</th>\n",
              "      <th>Age</th>\n",
              "      <th>Age_Group</th>\n",
              "      <th>Brand</th>\n",
              "      <th>Model</th>\n",
              "    </tr>\n",
              "  </thead>\n",
              "  <tbody>\n",
              "    <tr>\n",
              "      <th>0</th>\n",
              "      <td>1836426</td>\n",
              "      <td>3872521790238090752</td>\n",
              "      <td>2016-05-01 20:29:14</td>\n",
              "      <td>71.294802</td>\n",
              "      <td>21.661309</td>\n",
              "      <td>Amreli</td>\n",
              "      <td>Gujarat</td>\n",
              "      <td>M</td>\n",
              "      <td>20</td>\n",
              "      <td>M22-</td>\n",
              "      <td>酷派</td>\n",
              "      <td>8702</td>\n",
              "    </tr>\n",
              "    <tr>\n",
              "      <th>1</th>\n",
              "      <td>225132</td>\n",
              "      <td>3872521790238090752</td>\n",
              "      <td>2016-05-01 12:52:44</td>\n",
              "      <td>71.294802</td>\n",
              "      <td>21.661309</td>\n",
              "      <td>Amreli</td>\n",
              "      <td>Gujarat</td>\n",
              "      <td>M</td>\n",
              "      <td>20</td>\n",
              "      <td>M22-</td>\n",
              "      <td>酷派</td>\n",
              "      <td>8702</td>\n",
              "    </tr>\n",
              "    <tr>\n",
              "      <th>2</th>\n",
              "      <td>815723</td>\n",
              "      <td>3872521790238090752</td>\n",
              "      <td>2016-05-01 12:28:56</td>\n",
              "      <td>71.294802</td>\n",
              "      <td>21.661309</td>\n",
              "      <td>Amreli</td>\n",
              "      <td>Gujarat</td>\n",
              "      <td>M</td>\n",
              "      <td>20</td>\n",
              "      <td>M22-</td>\n",
              "      <td>酷派</td>\n",
              "      <td>8702</td>\n",
              "    </tr>\n",
              "    <tr>\n",
              "      <th>3</th>\n",
              "      <td>1300157</td>\n",
              "      <td>3872521790238090752</td>\n",
              "      <td>2016-05-04 23:24:57</td>\n",
              "      <td>71.294802</td>\n",
              "      <td>21.661309</td>\n",
              "      <td>Amreli</td>\n",
              "      <td>Gujarat</td>\n",
              "      <td>M</td>\n",
              "      <td>20</td>\n",
              "      <td>M22-</td>\n",
              "      <td>酷派</td>\n",
              "      <td>8702</td>\n",
              "    </tr>\n",
              "    <tr>\n",
              "      <th>4</th>\n",
              "      <td>233682</td>\n",
              "      <td>3872521790238090752</td>\n",
              "      <td>2016-05-04 19:09:26</td>\n",
              "      <td>71.294802</td>\n",
              "      <td>21.661309</td>\n",
              "      <td>Amreli</td>\n",
              "      <td>Gujarat</td>\n",
              "      <td>M</td>\n",
              "      <td>20</td>\n",
              "      <td>M22-</td>\n",
              "      <td>酷派</td>\n",
              "      <td>8702</td>\n",
              "    </tr>\n",
              "    <tr>\n",
              "      <th>...</th>\n",
              "      <td>...</td>\n",
              "      <td>...</td>\n",
              "      <td>...</td>\n",
              "      <td>...</td>\n",
              "      <td>...</td>\n",
              "      <td>...</td>\n",
              "      <td>...</td>\n",
              "      <td>...</td>\n",
              "      <td>...</td>\n",
              "      <td>...</td>\n",
              "      <td>...</td>\n",
              "      <td>...</td>\n",
              "    </tr>\n",
              "    <tr>\n",
              "      <th>2636</th>\n",
              "      <td>1530731</td>\n",
              "      <td>-228846787598753152</td>\n",
              "      <td>2016-05-07 10:35:00</td>\n",
              "      <td>88.413496</td>\n",
              "      <td>22.561318</td>\n",
              "      <td>Chakdaha</td>\n",
              "      <td>WestBengal</td>\n",
              "      <td>F</td>\n",
              "      <td>63</td>\n",
              "      <td>F43+</td>\n",
              "      <td>魅族</td>\n",
              "      <td>MX3</td>\n",
              "    </tr>\n",
              "    <tr>\n",
              "      <th>2637</th>\n",
              "      <td>2967042</td>\n",
              "      <td>-228846787598753152</td>\n",
              "      <td>2016-05-01 08:08:46</td>\n",
              "      <td>88.413496</td>\n",
              "      <td>22.561318</td>\n",
              "      <td>Chakdaha</td>\n",
              "      <td>WestBengal</td>\n",
              "      <td>F</td>\n",
              "      <td>63</td>\n",
              "      <td>F43+</td>\n",
              "      <td>魅族</td>\n",
              "      <td>MX3</td>\n",
              "    </tr>\n",
              "    <tr>\n",
              "      <th>2638</th>\n",
              "      <td>1334106</td>\n",
              "      <td>-2734689217401949696</td>\n",
              "      <td>2016-05-05 10:00:05</td>\n",
              "      <td>72.616658</td>\n",
              "      <td>23.056911</td>\n",
              "      <td>Ahmadabad</td>\n",
              "      <td>Gujarat</td>\n",
              "      <td>M</td>\n",
              "      <td>27</td>\n",
              "      <td>M27-28</td>\n",
              "      <td>华为</td>\n",
              "      <td>荣耀3X畅玩版</td>\n",
              "    </tr>\n",
              "    <tr>\n",
              "      <th>2639</th>\n",
              "      <td>1776773</td>\n",
              "      <td>3711361681074975744</td>\n",
              "      <td>2016-05-02 15:54:13</td>\n",
              "      <td>70.861036</td>\n",
              "      <td>22.872394</td>\n",
              "      <td>Morvi</td>\n",
              "      <td>Gujarat</td>\n",
              "      <td>M</td>\n",
              "      <td>31</td>\n",
              "      <td>M29-31</td>\n",
              "      <td>三星</td>\n",
              "      <td>Galaxy S6</td>\n",
              "    </tr>\n",
              "    <tr>\n",
              "      <th>2640</th>\n",
              "      <td>1608869</td>\n",
              "      <td>3501846588781962240</td>\n",
              "      <td>2016-05-04 13:27:20</td>\n",
              "      <td>72.607350</td>\n",
              "      <td>23.763381</td>\n",
              "      <td>Visnagar</td>\n",
              "      <td>Gujarat</td>\n",
              "      <td>M</td>\n",
              "      <td>28</td>\n",
              "      <td>M27-28</td>\n",
              "      <td>小米</td>\n",
              "      <td>E5</td>\n",
              "    </tr>\n",
              "  </tbody>\n",
              "</table>\n",
              "<p>2641 rows × 12 columns</p>\n",
              "</div>"
            ],
            "text/plain": [
              "      event_id            device_id  ... Brand      Model\n",
              "0      1836426  3872521790238090752  ...    酷派       8702\n",
              "1       225132  3872521790238090752  ...    酷派       8702\n",
              "2       815723  3872521790238090752  ...    酷派       8702\n",
              "3      1300157  3872521790238090752  ...    酷派       8702\n",
              "4       233682  3872521790238090752  ...    酷派       8702\n",
              "...        ...                  ...  ...   ...        ...\n",
              "2636   1530731  -228846787598753152  ...    魅族        MX3\n",
              "2637   2967042  -228846787598753152  ...    魅族        MX3\n",
              "2638   1334106 -2734689217401949696  ...    华为    荣耀3X畅玩版\n",
              "2639   1776773  3711361681074975744  ...    三星  Galaxy S6\n",
              "2640   1608869  3501846588781962240  ...    小米         E5\n",
              "\n",
              "[2641 rows x 12 columns]"
            ]
          },
          "metadata": {
            "tags": []
          },
          "execution_count": 20
        }
      ]
    },
    {
      "cell_type": "code",
      "metadata": {
        "colab": {
          "base_uri": "https://localhost:8080/"
        },
        "id": "LIz3sU1snCtI",
        "outputId": "fe44b78f-5d78-4555-8088-ec809c481adb"
      },
      "source": [
        "events_data_filtered_df['device_id'].nunique()"
      ],
      "execution_count": null,
      "outputs": [
        {
          "output_type": "execute_result",
          "data": {
            "text/plain": [
              "19032"
            ]
          },
          "metadata": {
            "tags": []
          },
          "execution_count": 21
        }
      ]
    },
    {
      "cell_type": "markdown",
      "metadata": {
        "id": "X9SnuJzOl3lO"
      },
      "source": [
        "For the 6 states in consideration there are 19032 devices."
      ]
    },
    {
      "cell_type": "code",
      "metadata": {
        "colab": {
          "base_uri": "https://localhost:8080/"
        },
        "id": "T9kBsDc3mNgm",
        "outputId": "87f1b49a-dfc5-4dfc-c801-a383cc18dd4a"
      },
      "source": [
        "device_data_df['device_id'].nunique()"
      ],
      "execution_count": null,
      "outputs": [
        {
          "output_type": "execute_result",
          "data": {
            "text/plain": [
              "120"
            ]
          },
          "metadata": {
            "tags": []
          },
          "execution_count": 22
        }
      ]
    },
    {
      "cell_type": "markdown",
      "metadata": {
        "id": "4MqtSjuAnRl5"
      },
      "source": [
        "For all the 6 states under consideration we've customer data for only 120 devices."
      ]
    },
    {
      "cell_type": "code",
      "metadata": {
        "colab": {
          "base_uri": "https://localhost:8080/"
        },
        "id": "KxP0P5PJmhjE",
        "outputId": "3b183de1-4ea4-448f-eae8-de01ca68f1be"
      },
      "source": [
        "((events_data_filtered_df['device_id'].nunique() - device_data_df['device_id'].nunique()) / events_data_filtered_df['device_id'].nunique()) * 100"
      ],
      "execution_count": null,
      "outputs": [
        {
          "output_type": "execute_result",
          "data": {
            "text/plain": [
              "99.36948297604036"
            ]
          },
          "metadata": {
            "tags": []
          },
          "execution_count": 23
        }
      ]
    },
    {
      "cell_type": "markdown",
      "metadata": {
        "id": "Zrx31Y7F-1Z_"
      },
      "source": [
        "1.   Only 2641 records have matching device_id from all the 3 dataframes.\n",
        "2.   Of 2641 matching records there are 120 unique DeviceIDs which mean that there are multiple events for few Devices.\n",
        "3.    For all the 6 states under consideration customer data is not available for ~99.4% of the devices.\n"
      ]
    },
    {
      "cell_type": "code",
      "metadata": {
        "colab": {
          "base_uri": "https://localhost:8080/"
        },
        "id": "1cka-Rj-82D5",
        "outputId": "b7e3ab76-6b40-4b32-9ec8-db0d82c06ac2"
      },
      "source": [
        "device_data_df['Model'].nunique()"
      ],
      "execution_count": null,
      "outputs": [
        {
          "output_type": "execute_result",
          "data": {
            "text/plain": [
              "85"
            ]
          },
          "metadata": {
            "tags": []
          },
          "execution_count": 24
        }
      ]
    },
    {
      "cell_type": "code",
      "metadata": {
        "colab": {
          "base_uri": "https://localhost:8080/"
        },
        "id": "r0GsJkREYA9q",
        "outputId": "a8e35632-a197-4d2e-cb09-35dec0a9231b"
      },
      "source": [
        "device_data_df['Brand'].nunique()"
      ],
      "execution_count": null,
      "outputs": [
        {
          "output_type": "execute_result",
          "data": {
            "text/plain": [
              "14"
            ]
          },
          "metadata": {
            "tags": []
          },
          "execution_count": 25
        }
      ]
    },
    {
      "cell_type": "markdown",
      "metadata": {
        "id": "DoHBTfIjA_Ol"
      },
      "source": [
        "Upon merging all the 3 dataframes we've data for around 85 models from 14 Brands."
      ]
    },
    {
      "cell_type": "code",
      "metadata": {
        "colab": {
          "base_uri": "https://localhost:8080/",
          "height": 191
        },
        "id": "8sDh7XkSozFb",
        "outputId": "93314aa3-f792-4914-9c71-23796345b803"
      },
      "source": [
        "device_data_df.head()"
      ],
      "execution_count": null,
      "outputs": [
        {
          "output_type": "execute_result",
          "data": {
            "text/html": [
              "<div>\n",
              "<style scoped>\n",
              "    .dataframe tbody tr th:only-of-type {\n",
              "        vertical-align: middle;\n",
              "    }\n",
              "\n",
              "    .dataframe tbody tr th {\n",
              "        vertical-align: top;\n",
              "    }\n",
              "\n",
              "    .dataframe thead th {\n",
              "        text-align: right;\n",
              "    }\n",
              "</style>\n",
              "<table border=\"1\" class=\"dataframe\">\n",
              "  <thead>\n",
              "    <tr style=\"text-align: right;\">\n",
              "      <th></th>\n",
              "      <th>event_id</th>\n",
              "      <th>device_id</th>\n",
              "      <th>timestamp</th>\n",
              "      <th>longitude</th>\n",
              "      <th>latitude</th>\n",
              "      <th>city</th>\n",
              "      <th>state</th>\n",
              "      <th>Gender</th>\n",
              "      <th>Age</th>\n",
              "      <th>Age_Group</th>\n",
              "      <th>Brand</th>\n",
              "      <th>Model</th>\n",
              "    </tr>\n",
              "  </thead>\n",
              "  <tbody>\n",
              "    <tr>\n",
              "      <th>0</th>\n",
              "      <td>1836426</td>\n",
              "      <td>3872521790238090752</td>\n",
              "      <td>2016-05-01 20:29:14</td>\n",
              "      <td>71.294802</td>\n",
              "      <td>21.661309</td>\n",
              "      <td>Amreli</td>\n",
              "      <td>Gujarat</td>\n",
              "      <td>M</td>\n",
              "      <td>20</td>\n",
              "      <td>M22-</td>\n",
              "      <td>酷派</td>\n",
              "      <td>8702</td>\n",
              "    </tr>\n",
              "    <tr>\n",
              "      <th>1</th>\n",
              "      <td>225132</td>\n",
              "      <td>3872521790238090752</td>\n",
              "      <td>2016-05-01 12:52:44</td>\n",
              "      <td>71.294802</td>\n",
              "      <td>21.661309</td>\n",
              "      <td>Amreli</td>\n",
              "      <td>Gujarat</td>\n",
              "      <td>M</td>\n",
              "      <td>20</td>\n",
              "      <td>M22-</td>\n",
              "      <td>酷派</td>\n",
              "      <td>8702</td>\n",
              "    </tr>\n",
              "    <tr>\n",
              "      <th>2</th>\n",
              "      <td>815723</td>\n",
              "      <td>3872521790238090752</td>\n",
              "      <td>2016-05-01 12:28:56</td>\n",
              "      <td>71.294802</td>\n",
              "      <td>21.661309</td>\n",
              "      <td>Amreli</td>\n",
              "      <td>Gujarat</td>\n",
              "      <td>M</td>\n",
              "      <td>20</td>\n",
              "      <td>M22-</td>\n",
              "      <td>酷派</td>\n",
              "      <td>8702</td>\n",
              "    </tr>\n",
              "    <tr>\n",
              "      <th>3</th>\n",
              "      <td>1300157</td>\n",
              "      <td>3872521790238090752</td>\n",
              "      <td>2016-05-04 23:24:57</td>\n",
              "      <td>71.294802</td>\n",
              "      <td>21.661309</td>\n",
              "      <td>Amreli</td>\n",
              "      <td>Gujarat</td>\n",
              "      <td>M</td>\n",
              "      <td>20</td>\n",
              "      <td>M22-</td>\n",
              "      <td>酷派</td>\n",
              "      <td>8702</td>\n",
              "    </tr>\n",
              "    <tr>\n",
              "      <th>4</th>\n",
              "      <td>233682</td>\n",
              "      <td>3872521790238090752</td>\n",
              "      <td>2016-05-04 19:09:26</td>\n",
              "      <td>71.294802</td>\n",
              "      <td>21.661309</td>\n",
              "      <td>Amreli</td>\n",
              "      <td>Gujarat</td>\n",
              "      <td>M</td>\n",
              "      <td>20</td>\n",
              "      <td>M22-</td>\n",
              "      <td>酷派</td>\n",
              "      <td>8702</td>\n",
              "    </tr>\n",
              "  </tbody>\n",
              "</table>\n",
              "</div>"
            ],
            "text/plain": [
              "   event_id            device_id            timestamp  ...  Age_Group  Brand Model\n",
              "0   1836426  3872521790238090752  2016-05-01 20:29:14  ...       M22-     酷派  8702\n",
              "1    225132  3872521790238090752  2016-05-01 12:52:44  ...       M22-     酷派  8702\n",
              "2    815723  3872521790238090752  2016-05-01 12:28:56  ...       M22-     酷派  8702\n",
              "3   1300157  3872521790238090752  2016-05-04 23:24:57  ...       M22-     酷派  8702\n",
              "4    233682  3872521790238090752  2016-05-04 19:09:26  ...       M22-     酷派  8702\n",
              "\n",
              "[5 rows x 12 columns]"
            ]
          },
          "metadata": {
            "tags": []
          },
          "execution_count": 26
        }
      ]
    },
    {
      "cell_type": "code",
      "metadata": {
        "colab": {
          "base_uri": "https://localhost:8080/"
        },
        "id": "kImEQOlIZ6t8",
        "outputId": "163290c7-6550-4f12-d2eb-b4cf34e41e68"
      },
      "source": [
        "pip install sweetviz"
      ],
      "execution_count": null,
      "outputs": [
        {
          "output_type": "stream",
          "text": [
            "Collecting sweetviz\n",
            "\u001b[?25l  Downloading https://files.pythonhosted.org/packages/6c/ab/5ef84ee47e5344e9a23d69e0b52c11aba9d8be658d4e85c3c52d4e7d9130/sweetviz-2.1.0-py3-none-any.whl (15.1MB)\n",
            "\u001b[K     |████████████████████████████████| 15.1MB 324kB/s \n",
            "\u001b[?25hRequirement already satisfied: importlib-resources>=1.2.0 in /usr/local/lib/python3.7/dist-packages (from sweetviz) (5.1.2)\n",
            "Requirement already satisfied: matplotlib>=3.1.3 in /usr/local/lib/python3.7/dist-packages (from sweetviz) (3.2.2)\n",
            "Requirement already satisfied: pandas!=1.0.0,!=1.0.1,!=1.0.2,>=0.25.3 in /usr/local/lib/python3.7/dist-packages (from sweetviz) (1.1.5)\n",
            "Requirement already satisfied: jinja2>=2.11.1 in /usr/local/lib/python3.7/dist-packages (from sweetviz) (2.11.3)\n",
            "Collecting tqdm>=4.43.0\n",
            "\u001b[?25l  Downloading https://files.pythonhosted.org/packages/72/8a/34efae5cf9924328a8f34eeb2fdaae14c011462d9f0e3fcded48e1266d1c/tqdm-4.60.0-py2.py3-none-any.whl (75kB)\n",
            "\u001b[K     |████████████████████████████████| 81kB 9.8MB/s \n",
            "\u001b[?25hRequirement already satisfied: numpy>=1.16.0 in /usr/local/lib/python3.7/dist-packages (from sweetviz) (1.19.5)\n",
            "Requirement already satisfied: scipy>=1.3.2 in /usr/local/lib/python3.7/dist-packages (from sweetviz) (1.4.1)\n",
            "Requirement already satisfied: zipp>=0.4; python_version < \"3.8\" in /usr/local/lib/python3.7/dist-packages (from importlib-resources>=1.2.0->sweetviz) (3.4.1)\n",
            "Requirement already satisfied: pyparsing!=2.0.4,!=2.1.2,!=2.1.6,>=2.0.1 in /usr/local/lib/python3.7/dist-packages (from matplotlib>=3.1.3->sweetviz) (2.4.7)\n",
            "Requirement already satisfied: cycler>=0.10 in /usr/local/lib/python3.7/dist-packages (from matplotlib>=3.1.3->sweetviz) (0.10.0)\n",
            "Requirement already satisfied: python-dateutil>=2.1 in /usr/local/lib/python3.7/dist-packages (from matplotlib>=3.1.3->sweetviz) (2.8.1)\n",
            "Requirement already satisfied: kiwisolver>=1.0.1 in /usr/local/lib/python3.7/dist-packages (from matplotlib>=3.1.3->sweetviz) (1.3.1)\n",
            "Requirement already satisfied: pytz>=2017.2 in /usr/local/lib/python3.7/dist-packages (from pandas!=1.0.0,!=1.0.1,!=1.0.2,>=0.25.3->sweetviz) (2018.9)\n",
            "Requirement already satisfied: MarkupSafe>=0.23 in /usr/local/lib/python3.7/dist-packages (from jinja2>=2.11.1->sweetviz) (1.1.1)\n",
            "Requirement already satisfied: six in /usr/local/lib/python3.7/dist-packages (from cycler>=0.10->matplotlib>=3.1.3->sweetviz) (1.15.0)\n",
            "Installing collected packages: tqdm, sweetviz\n",
            "  Found existing installation: tqdm 4.41.1\n",
            "    Uninstalling tqdm-4.41.1:\n",
            "      Successfully uninstalled tqdm-4.41.1\n",
            "Successfully installed sweetviz-2.1.0 tqdm-4.60.0\n"
          ],
          "name": "stdout"
        }
      ]
    },
    {
      "cell_type": "code",
      "metadata": {
        "id": "H4xVxrI4aGFC"
      },
      "source": [
        "import sweetviz as swtvz"
      ],
      "execution_count": null,
      "outputs": []
    },
    {
      "cell_type": "code",
      "metadata": {
        "id": "ZNK5jbUUc-Fi"
      },
      "source": [
        "device_data_sweetviz=swtvz.analyze(device_data_df)"
      ],
      "execution_count": null,
      "outputs": []
    },
    {
      "cell_type": "code",
      "metadata": {
        "colab": {
          "base_uri": "https://localhost:8080/"
        },
        "id": "QP1D-7QreENk",
        "outputId": "48bcbdf5-1921-47a8-a174-d61fe899e5f9"
      },
      "source": [
        "device_data_sweetviz.show_html(\"devicedata_sweetviz_output.html\")"
      ],
      "execution_count": null,
      "outputs": [
        {
          "output_type": "stream",
          "text": [
            "Report devicedata_sweetviz_output.html was generated! NOTEBOOK/COLAB USERS: the web browser MAY not pop up, regardless, the report IS saved in your notebook/colab files.\n"
          ],
          "name": "stdout"
        }
      ]
    },
    {
      "cell_type": "code",
      "metadata": {
        "colab": {
          "base_uri": "https://localhost:8080/"
        },
        "id": "iAKnI_gE4jYp",
        "outputId": "6f37e71e-a3df-465a-b3e9-4a7b2a42afc4"
      },
      "source": [
        "events_data_df[(events_data_df.state == 'WestBengal') | (events_data_df.state == 'Karnataka') | (events_data_df.state == 'Gujarat') | (events_data_df.state == 'Bihar') | (events_data_df.state == 'Punjab') | (events_data_df.state == 'Kerala')].isna().sum()"
      ],
      "execution_count": null,
      "outputs": [
        {
          "output_type": "execute_result",
          "data": {
            "text/plain": [
              "event_id      0\n",
              "device_id    48\n",
              "timestamp     0\n",
              "longitude    42\n",
              "latitude     42\n",
              "city          0\n",
              "state         0\n",
              "dtype: int64"
            ]
          },
          "metadata": {
            "tags": []
          },
          "execution_count": 175
        }
      ]
    },
    {
      "cell_type": "code",
      "metadata": {
        "colab": {
          "base_uri": "https://localhost:8080/"
        },
        "id": "ommbb9TZ5cIK",
        "outputId": "e18c7b6c-59ab-412d-cbae-1736c376964c"
      },
      "source": [
        "gender_age_train_df.isna().sum()"
      ],
      "execution_count": null,
      "outputs": [
        {
          "output_type": "execute_result",
          "data": {
            "text/plain": [
              "device_id    0\n",
              "Gender       0\n",
              "Age          0\n",
              "Age_Group    0\n",
              "dtype: int64"
            ]
          },
          "metadata": {
            "tags": []
          },
          "execution_count": 82
        }
      ]
    },
    {
      "cell_type": "code",
      "metadata": {
        "colab": {
          "base_uri": "https://localhost:8080/"
        },
        "id": "K6h1gvHL6WJU",
        "outputId": "dc2a4358-b72a-467d-be9e-fc990ae1e0a2"
      },
      "source": [
        "phone_brand_device_model_df.isna().sum()"
      ],
      "execution_count": null,
      "outputs": [
        {
          "output_type": "execute_result",
          "data": {
            "text/plain": [
              "device_id    0\n",
              "Brand        0\n",
              "Model        0\n",
              "dtype: int64"
            ]
          },
          "metadata": {
            "tags": []
          },
          "execution_count": 83
        }
      ]
    },
    {
      "cell_type": "markdown",
      "metadata": {
        "id": "j9A8BifHBgBG"
      },
      "source": [
        "# Observations\n",
        "\n",
        "#### Observations from Individual Dataframes\n",
        "\n",
        "1. ~0.01% of the data has missing values in Device_id, Latitude & Longitude fields from events_data dataframe. As the missing values % is very less we can ignore them.\n",
        "2. No missing values in gender_age_train & phone_brand_device_model dataframes.\n",
        "3. The age grouping for Male & Female is different which will be handled as part of Data Pre-processing.\n",
        "4. Around 5 Mobile Brands doesn't have mapping provided for Chinese characters which will be grouped as Others as part of Data Pre-processing.\n",
        "5. No mapping given for Brand Model which contains Chinese characters.\n",
        "\n",
        "#### Observations from Merged Dataframe\n",
        "1.   There are 19032 devices with event data for the 6 states being considered of which customer data w.r.t mobile model, brand, customer details are present for ~0.6% only.\n",
        "2.   Among the 0.6% of Customer data available there are 85 Models of mobiles from among 14 Brands are being used.\n",
        "3. Among the 0.6% of customer data available for the 6 States.\n",
        "4. Among the 0.6% of available customer data 73.7% of them are Male.\n",
        "5. Most of the Male customers are in the age group of 23-26 & 29-31.\n",
        "6. Most of the Female customers are in the age group of 27-28 followed by 29-32.\n",
        "7. Of the available customer data most (~36.4%) of them are from WestBengal followed by Gujarat, Karnataka & Bihar states.\n",
        "8. 82% of the customers in WestBengal state are from Calcutta.\n",
        "9. Calcutta constitutes to ~29.8% of customers followed by Bangalore which constitutes to ~12.4%.\n",
        "10. Of the device data available ~35.6% of them belong to the brand Xiaomi.\n",
        "11. Of the device data available ~11.6% of them belong to Note model of Xiaomi brand.\n",
        "\n",
        "\n"
      ]
    },
    {
      "cell_type": "markdown",
      "metadata": {
        "id": "FGQHdYj8BgkS"
      },
      "source": [
        "# Data Pre-processing"
      ]
    },
    {
      "cell_type": "markdown",
      "metadata": {
        "id": "re8ORfAqM2IA"
      },
      "source": [
        "Let us start by imputing missing values in state"
      ]
    },
    {
      "cell_type": "code",
      "metadata": {
        "id": "PrN3K29kEpIx"
      },
      "source": [
        "events_data_df['state'].fillna('NULL',inplace=True) #filling in Null where State value is missing"
      ],
      "execution_count": null,
      "outputs": []
    },
    {
      "cell_type": "code",
      "metadata": {
        "colab": {
          "base_uri": "https://localhost:8080/"
        },
        "id": "Ooi03IZPMemm",
        "outputId": "947502c3-e78e-4cdd-d893-56eaf82411e5"
      },
      "source": [
        "events_data_df[events_data_df['state'].isnull()]['city'].value_counts() #finding the city value for the missing state"
      ],
      "execution_count": null,
      "outputs": [
        {
          "output_type": "execute_result",
          "data": {
            "text/plain": [
              "Delhi            64\n",
              "Pune             63\n",
              "Indore           51\n",
              "Jaipur           49\n",
              "Chennai          47\n",
              "Visakhapatnam    47\n",
              "Gangarampur      26\n",
              "Arambagh         16\n",
              "Channapatna      14\n",
              "Name: city, dtype: int64"
            ]
          },
          "metadata": {
            "tags": []
          },
          "execution_count": 42
        }
      ]
    },
    {
      "cell_type": "code",
      "metadata": {
        "colab": {
          "base_uri": "https://localhost:8080/"
        },
        "id": "cgCJ4I9rMbuo",
        "outputId": "1c619046-71ce-4819-c9d3-6f0da5d3b96b"
      },
      "source": [
        "events_data_df[events_data_df.city=='Visakhapatnam']['state'].unique()"
      ],
      "execution_count": null,
      "outputs": [
        {
          "output_type": "execute_result",
          "data": {
            "text/plain": [
              "array(['AndhraPradesh', nan], dtype=object)"
            ]
          },
          "metadata": {
            "tags": []
          },
          "execution_count": 48
        }
      ]
    },
    {
      "cell_type": "code",
      "metadata": {
        "id": "rRx11t8Z63F4"
      },
      "source": [
        "events_data_df.dropna(inplace=True)"
      ],
      "execution_count": null,
      "outputs": []
    },
    {
      "cell_type": "code",
      "metadata": {
        "colab": {
          "base_uri": "https://localhost:8080/"
        },
        "id": "e5vKmLDS7AUy",
        "outputId": "9e87c285-ab40-47f2-cf2d-32fcfb4f9c48"
      },
      "source": [
        "events_data_df.info()"
      ],
      "execution_count": null,
      "outputs": [
        {
          "output_type": "stream",
          "text": [
            "<class 'pandas.core.frame.DataFrame'>\n",
            "Int64Index: 3252074 entries, 0 to 3252949\n",
            "Data columns (total 7 columns):\n",
            " #   Column     Dtype  \n",
            "---  ------     -----  \n",
            " 0   event_id   int64  \n",
            " 1   device_id  float64\n",
            " 2   timestamp  object \n",
            " 3   longitude  float64\n",
            " 4   latitude   float64\n",
            " 5   city       object \n",
            " 6   state      object \n",
            "dtypes: float64(3), int64(1), object(3)\n",
            "memory usage: 198.5+ MB\n"
          ],
          "name": "stdout"
        }
      ]
    },
    {
      "cell_type": "code",
      "metadata": {
        "id": "-8QzUt0Q6lQ1"
      },
      "source": [
        "lat_list = events_data_df.latitude.unique()\n",
        "lon_list = events_data_df.longitude.unique()"
      ],
      "execution_count": null,
      "outputs": []
    },
    {
      "cell_type": "code",
      "metadata": {
        "colab": {
          "base_uri": "https://localhost:8080/"
        },
        "id": "04bm1BYbBtzI",
        "outputId": "fd3a7400-b025-4233-fc96-c71b74e843c9"
      },
      "source": [
        "events_data_df.latitude.max()"
      ],
      "execution_count": null,
      "outputs": [
        {
          "output_type": "execute_result",
          "data": {
            "text/plain": [
              "41.8719"
            ]
          },
          "metadata": {
            "tags": []
          },
          "execution_count": 76
        }
      ]
    },
    {
      "cell_type": "code",
      "metadata": {
        "colab": {
          "base_uri": "https://localhost:8080/",
          "height": 191
        },
        "id": "UdYtFVtcB5UA",
        "outputId": "924ff0ec-7f1e-470d-9cfc-5baee59ab055"
      },
      "source": [
        "events_data_df.head()"
      ],
      "execution_count": null,
      "outputs": [
        {
          "output_type": "execute_result",
          "data": {
            "text/html": [
              "<div>\n",
              "<style scoped>\n",
              "    .dataframe tbody tr th:only-of-type {\n",
              "        vertical-align: middle;\n",
              "    }\n",
              "\n",
              "    .dataframe tbody tr th {\n",
              "        vertical-align: top;\n",
              "    }\n",
              "\n",
              "    .dataframe thead th {\n",
              "        text-align: right;\n",
              "    }\n",
              "</style>\n",
              "<table border=\"1\" class=\"dataframe\">\n",
              "  <thead>\n",
              "    <tr style=\"text-align: right;\">\n",
              "      <th></th>\n",
              "      <th>event_id</th>\n",
              "      <th>device_id</th>\n",
              "      <th>timestamp</th>\n",
              "      <th>longitude</th>\n",
              "      <th>latitude</th>\n",
              "      <th>city</th>\n",
              "      <th>state</th>\n",
              "    </tr>\n",
              "  </thead>\n",
              "  <tbody>\n",
              "    <tr>\n",
              "      <th>0</th>\n",
              "      <td>2765368</td>\n",
              "      <td>2973347786994914304.000000</td>\n",
              "      <td>2016-05-07 22:52:05</td>\n",
              "      <td>77.225676</td>\n",
              "      <td>28.730140</td>\n",
              "      <td>Delhi</td>\n",
              "      <td>Delhi</td>\n",
              "    </tr>\n",
              "    <tr>\n",
              "      <th>1</th>\n",
              "      <td>2955066</td>\n",
              "      <td>4734221357723754496.000000</td>\n",
              "      <td>2016-05-01 20:44:16</td>\n",
              "      <td>88.388361</td>\n",
              "      <td>22.660325</td>\n",
              "      <td>Calcutta</td>\n",
              "      <td>WestBengal</td>\n",
              "    </tr>\n",
              "    <tr>\n",
              "      <th>2</th>\n",
              "      <td>605968</td>\n",
              "      <td>-3264499652692492800.000000</td>\n",
              "      <td>2016-05-02 14:23:04</td>\n",
              "      <td>77.256809</td>\n",
              "      <td>28.757906</td>\n",
              "      <td>Delhi</td>\n",
              "      <td>Delhi</td>\n",
              "    </tr>\n",
              "    <tr>\n",
              "      <th>3</th>\n",
              "      <td>448114</td>\n",
              "      <td>5731369272434022400.000000</td>\n",
              "      <td>2016-05-03 13:21:16</td>\n",
              "      <td>80.343613</td>\n",
              "      <td>13.153332</td>\n",
              "      <td>Chennai</td>\n",
              "      <td>TamilNadu</td>\n",
              "    </tr>\n",
              "    <tr>\n",
              "      <th>4</th>\n",
              "      <td>665740</td>\n",
              "      <td>338888002570799936.000000</td>\n",
              "      <td>2016-05-06 03:51:05</td>\n",
              "      <td>85.997745</td>\n",
              "      <td>23.842609</td>\n",
              "      <td>Bokaro</td>\n",
              "      <td>Jharkhand</td>\n",
              "    </tr>\n",
              "  </tbody>\n",
              "</table>\n",
              "</div>"
            ],
            "text/plain": [
              "   event_id                   device_id  ...      city       state\n",
              "0   2765368  2973347786994914304.000000  ...     Delhi       Delhi\n",
              "1   2955066  4734221357723754496.000000  ...  Calcutta  WestBengal\n",
              "2    605968 -3264499652692492800.000000  ...     Delhi       Delhi\n",
              "3    448114  5731369272434022400.000000  ...   Chennai   TamilNadu\n",
              "4    665740   338888002570799936.000000  ...    Bokaro   Jharkhand\n",
              "\n",
              "[5 rows x 7 columns]"
            ]
          },
          "metadata": {
            "tags": []
          },
          "execution_count": 83
        }
      ]
    },
    {
      "cell_type": "code",
      "metadata": {
        "colab": {
          "base_uri": "https://localhost:8080/"
        },
        "id": "1PFRkWHXR23l",
        "outputId": "d212c066-f57f-4225-86ba-8831da4fe356"
      },
      "source": [
        "events_data_df.latitude.max()"
      ],
      "execution_count": null,
      "outputs": [
        {
          "output_type": "execute_result",
          "data": {
            "text/plain": [
              "41.8719"
            ]
          },
          "metadata": {
            "tags": []
          },
          "execution_count": 106
        }
      ]
    },
    {
      "cell_type": "code",
      "metadata": {
        "colab": {
          "base_uri": "https://localhost:8080/",
          "height": 651
        },
        "id": "Rio95ZG1R5aV",
        "outputId": "100b3547-b009-444b-8383-ceedbfd695fb"
      },
      "source": [
        "events_data_df[events_data_df.latitude == events_data_df.latitude.max()]"
      ],
      "execution_count": null,
      "outputs": [
        {
          "output_type": "execute_result",
          "data": {
            "text/html": [
              "<div>\n",
              "<style scoped>\n",
              "    .dataframe tbody tr th:only-of-type {\n",
              "        vertical-align: middle;\n",
              "    }\n",
              "\n",
              "    .dataframe tbody tr th {\n",
              "        vertical-align: top;\n",
              "    }\n",
              "\n",
              "    .dataframe thead th {\n",
              "        text-align: right;\n",
              "    }\n",
              "</style>\n",
              "<table border=\"1\" class=\"dataframe\">\n",
              "  <thead>\n",
              "    <tr style=\"text-align: right;\">\n",
              "      <th></th>\n",
              "      <th>event_id</th>\n",
              "      <th>device_id</th>\n",
              "      <th>timestamp</th>\n",
              "      <th>longitude</th>\n",
              "      <th>latitude</th>\n",
              "      <th>city</th>\n",
              "      <th>state</th>\n",
              "    </tr>\n",
              "  </thead>\n",
              "  <tbody>\n",
              "    <tr>\n",
              "      <th>82827</th>\n",
              "      <td>170433</td>\n",
              "      <td>4718752803626400768.000000</td>\n",
              "      <td>2016-05-07 01:39:40</td>\n",
              "      <td>12.567400</td>\n",
              "      <td>41.871900</td>\n",
              "      <td>Jaipur</td>\n",
              "      <td>Rajasthan</td>\n",
              "    </tr>\n",
              "    <tr>\n",
              "      <th>91260</th>\n",
              "      <td>563738</td>\n",
              "      <td>-170254198178616704.000000</td>\n",
              "      <td>2016-05-02 01:05:02</td>\n",
              "      <td>12.567400</td>\n",
              "      <td>41.871900</td>\n",
              "      <td>Chennai</td>\n",
              "      <td>TamilNadu</td>\n",
              "    </tr>\n",
              "    <tr>\n",
              "      <th>144191</th>\n",
              "      <td>452839</td>\n",
              "      <td>-1448078833416777984.000000</td>\n",
              "      <td>2016-05-01 16:44:00</td>\n",
              "      <td>12.567400</td>\n",
              "      <td>41.871900</td>\n",
              "      <td>Delhi</td>\n",
              "      <td>Delhi</td>\n",
              "    </tr>\n",
              "    <tr>\n",
              "      <th>218308</th>\n",
              "      <td>451415</td>\n",
              "      <td>-3300282771940051456.000000</td>\n",
              "      <td>2016-05-06 14:37:28</td>\n",
              "      <td>12.567000</td>\n",
              "      <td>41.871900</td>\n",
              "      <td>Pune</td>\n",
              "      <td>Maharashtra</td>\n",
              "    </tr>\n",
              "    <tr>\n",
              "      <th>245718</th>\n",
              "      <td>351833</td>\n",
              "      <td>-170254198178616704.000000</td>\n",
              "      <td>2016-05-04 16:26:38</td>\n",
              "      <td>12.567400</td>\n",
              "      <td>41.871900</td>\n",
              "      <td>Chennai</td>\n",
              "      <td>TamilNadu</td>\n",
              "    </tr>\n",
              "    <tr>\n",
              "      <th>291818</th>\n",
              "      <td>594503</td>\n",
              "      <td>-170254198178616704.000000</td>\n",
              "      <td>2016-05-06 06:17:27</td>\n",
              "      <td>12.567400</td>\n",
              "      <td>41.871900</td>\n",
              "      <td>Chennai</td>\n",
              "      <td>TamilNadu</td>\n",
              "    </tr>\n",
              "    <tr>\n",
              "      <th>666553</th>\n",
              "      <td>226298</td>\n",
              "      <td>9078282559555458048.000000</td>\n",
              "      <td>2016-05-05 15:21:49</td>\n",
              "      <td>12.567400</td>\n",
              "      <td>41.871900</td>\n",
              "      <td>Visakhapatnam</td>\n",
              "      <td>AndhraPradesh</td>\n",
              "    </tr>\n",
              "    <tr>\n",
              "      <th>812011</th>\n",
              "      <td>483087</td>\n",
              "      <td>-3300282771940051456.000000</td>\n",
              "      <td>2016-05-01 10:57:32</td>\n",
              "      <td>12.567000</td>\n",
              "      <td>41.871900</td>\n",
              "      <td>Pune</td>\n",
              "      <td>Maharashtra</td>\n",
              "    </tr>\n",
              "    <tr>\n",
              "      <th>950601</th>\n",
              "      <td>571466</td>\n",
              "      <td>-2796107298017636352.000000</td>\n",
              "      <td>2016-05-05 10:07:28</td>\n",
              "      <td>12.567400</td>\n",
              "      <td>41.871900</td>\n",
              "      <td>Indore</td>\n",
              "      <td>MadhyaPradesh</td>\n",
              "    </tr>\n",
              "    <tr>\n",
              "      <th>1101656</th>\n",
              "      <td>419288</td>\n",
              "      <td>-1448078833416777984.000000</td>\n",
              "      <td>2016-05-04 09:06:44</td>\n",
              "      <td>12.567400</td>\n",
              "      <td>41.871900</td>\n",
              "      <td>Delhi</td>\n",
              "      <td>Delhi</td>\n",
              "    </tr>\n",
              "    <tr>\n",
              "      <th>1265395</th>\n",
              "      <td>560457</td>\n",
              "      <td>6171733141545328640.000000</td>\n",
              "      <td>2016-05-04 22:35:39</td>\n",
              "      <td>12.567400</td>\n",
              "      <td>41.871900</td>\n",
              "      <td>Purnia</td>\n",
              "      <td>Bihar</td>\n",
              "    </tr>\n",
              "    <tr>\n",
              "      <th>1462160</th>\n",
              "      <td>387968</td>\n",
              "      <td>-2796107298017636352.000000</td>\n",
              "      <td>2016-05-07 17:53:20</td>\n",
              "      <td>12.567400</td>\n",
              "      <td>41.871900</td>\n",
              "      <td>Indore</td>\n",
              "      <td>MadhyaPradesh</td>\n",
              "    </tr>\n",
              "    <tr>\n",
              "      <th>1514689</th>\n",
              "      <td>515181</td>\n",
              "      <td>6171733141545328640.000000</td>\n",
              "      <td>2016-05-02 21:23:51</td>\n",
              "      <td>12.567400</td>\n",
              "      <td>41.871900</td>\n",
              "      <td>Purnia</td>\n",
              "      <td>Bihar</td>\n",
              "    </tr>\n",
              "    <tr>\n",
              "      <th>1550112</th>\n",
              "      <td>311979</td>\n",
              "      <td>-3300282771940051456.000000</td>\n",
              "      <td>2016-05-04 18:12:47</td>\n",
              "      <td>12.567000</td>\n",
              "      <td>41.871900</td>\n",
              "      <td>Pune</td>\n",
              "      <td>Maharashtra</td>\n",
              "    </tr>\n",
              "    <tr>\n",
              "      <th>1598260</th>\n",
              "      <td>3228359</td>\n",
              "      <td>4718752803626400768.000000</td>\n",
              "      <td>2016-05-02 11:50:26</td>\n",
              "      <td>12.567400</td>\n",
              "      <td>41.871900</td>\n",
              "      <td>Jaipur</td>\n",
              "      <td>Rajasthan</td>\n",
              "    </tr>\n",
              "    <tr>\n",
              "      <th>1630122</th>\n",
              "      <td>3020905</td>\n",
              "      <td>9078282559555458048.000000</td>\n",
              "      <td>2016-05-05 11:57:30</td>\n",
              "      <td>12.567400</td>\n",
              "      <td>41.871900</td>\n",
              "      <td>Visakhapatnam</td>\n",
              "      <td>AndhraPradesh</td>\n",
              "    </tr>\n",
              "    <tr>\n",
              "      <th>2029146</th>\n",
              "      <td>3188661</td>\n",
              "      <td>4718752803626400768.000000</td>\n",
              "      <td>2016-05-07 16:08:20</td>\n",
              "      <td>12.567400</td>\n",
              "      <td>41.871900</td>\n",
              "      <td>Jaipur</td>\n",
              "      <td>Rajasthan</td>\n",
              "    </tr>\n",
              "    <tr>\n",
              "      <th>2055160</th>\n",
              "      <td>596824</td>\n",
              "      <td>-2796107298017636352.000000</td>\n",
              "      <td>2016-05-06 09:44:36</td>\n",
              "      <td>12.567400</td>\n",
              "      <td>41.871900</td>\n",
              "      <td>Indore</td>\n",
              "      <td>MadhyaPradesh</td>\n",
              "    </tr>\n",
              "    <tr>\n",
              "      <th>2205965</th>\n",
              "      <td>282400</td>\n",
              "      <td>-1448078833416777984.000000</td>\n",
              "      <td>2016-05-05 17:33:57</td>\n",
              "      <td>12.567400</td>\n",
              "      <td>41.871900</td>\n",
              "      <td>Delhi</td>\n",
              "      <td>Delhi</td>\n",
              "    </tr>\n",
              "    <tr>\n",
              "      <th>2207461</th>\n",
              "      <td>2976723</td>\n",
              "      <td>9078282559555458048.000000</td>\n",
              "      <td>2016-05-06 17:00:08</td>\n",
              "      <td>12.567400</td>\n",
              "      <td>41.871900</td>\n",
              "      <td>Visakhapatnam</td>\n",
              "      <td>AndhraPradesh</td>\n",
              "    </tr>\n",
              "    <tr>\n",
              "      <th>2460768</th>\n",
              "      <td>286380</td>\n",
              "      <td>6171733141545328640.000000</td>\n",
              "      <td>2016-05-02 21:12:53</td>\n",
              "      <td>12.567400</td>\n",
              "      <td>41.871900</td>\n",
              "      <td>Purnia</td>\n",
              "      <td>Bihar</td>\n",
              "    </tr>\n",
              "  </tbody>\n",
              "</table>\n",
              "</div>"
            ],
            "text/plain": [
              "         event_id                   device_id  ...           city          state\n",
              "82827      170433  4718752803626400768.000000  ...         Jaipur      Rajasthan\n",
              "91260      563738  -170254198178616704.000000  ...        Chennai      TamilNadu\n",
              "144191     452839 -1448078833416777984.000000  ...          Delhi          Delhi\n",
              "218308     451415 -3300282771940051456.000000  ...           Pune    Maharashtra\n",
              "245718     351833  -170254198178616704.000000  ...        Chennai      TamilNadu\n",
              "291818     594503  -170254198178616704.000000  ...        Chennai      TamilNadu\n",
              "666553     226298  9078282559555458048.000000  ...  Visakhapatnam  AndhraPradesh\n",
              "812011     483087 -3300282771940051456.000000  ...           Pune    Maharashtra\n",
              "950601     571466 -2796107298017636352.000000  ...         Indore  MadhyaPradesh\n",
              "1101656    419288 -1448078833416777984.000000  ...          Delhi          Delhi\n",
              "1265395    560457  6171733141545328640.000000  ...         Purnia          Bihar\n",
              "1462160    387968 -2796107298017636352.000000  ...         Indore  MadhyaPradesh\n",
              "1514689    515181  6171733141545328640.000000  ...         Purnia          Bihar\n",
              "1550112    311979 -3300282771940051456.000000  ...           Pune    Maharashtra\n",
              "1598260   3228359  4718752803626400768.000000  ...         Jaipur      Rajasthan\n",
              "1630122   3020905  9078282559555458048.000000  ...  Visakhapatnam  AndhraPradesh\n",
              "2029146   3188661  4718752803626400768.000000  ...         Jaipur      Rajasthan\n",
              "2055160    596824 -2796107298017636352.000000  ...         Indore  MadhyaPradesh\n",
              "2205965    282400 -1448078833416777984.000000  ...          Delhi          Delhi\n",
              "2207461   2976723  9078282559555458048.000000  ...  Visakhapatnam  AndhraPradesh\n",
              "2460768    286380  6171733141545328640.000000  ...         Purnia          Bihar\n",
              "\n",
              "[21 rows x 7 columns]"
            ]
          },
          "metadata": {
            "tags": []
          },
          "execution_count": 111
        }
      ]
    },
    {
      "cell_type": "code",
      "metadata": {
        "id": "OilS3dd36Ltb"
      },
      "source": [
        "!pip install folium"
      ],
      "execution_count": null,
      "outputs": []
    },
    {
      "cell_type": "code",
      "metadata": {
        "colab": {
          "base_uri": "https://localhost:8080/",
          "height": 371
        },
        "id": "lnccPnx06iqf",
        "outputId": "98a3a105-225a-4b48-e476-00fdcf76ee3b"
      },
      "source": [
        "import folium\n",
        "from branca.element import Figure\n",
        "\n",
        "fig3=Figure(width=550,height=350)\n",
        "m3=folium.Map(location=[20.5937, 78.9629],tiles='cartodbpositron',zoom_start=11)\n",
        "fig3.add_child(m3)\n",
        "\n",
        "#Adding markers to the map\n",
        "\n",
        "folium.Marker(location=[28.730140, 77.225676],popup='<h3 style=\"color:green;\">Marker2</h3>',tooltip='<strong>Click here to see Popup</strong>').add_to(m3)\n",
        "folium.Marker(location=[22.660325, 88.388361],popup='<h3 style=\"color:green;\">Marker2</h3>',tooltip='<strong>Click here to see Popup</strong>').add_to(m3)\n",
        "folium.Marker(location=[13.153332, 80.343613],popup='<h3 style=\"color:green;\">Marker2</h3>',tooltip='<strong>Click here to see Popup</strong>').add_to(m3)\n",
        "folium.Marker(location=[8.190110, 77.511124],popup='<h3 style=\"color:green;\">Marker2</h3>',tooltip='<strong>Click here to see Popup</strong>').add_to(m3) #lat min\n",
        "\n",
        "folium.Marker(location=[27.564245, 95.459457],popup='<h3 style=\"color:green;\">Marker2</h3>',tooltip='<strong>Click here to see Popup</strong>').add_to(m3) #long max\n",
        "\n",
        "m3"
      ],
      "execution_count": null,
      "outputs": [
        {
          "output_type": "execute_result",
          "data": {
            "text/html": [
              "<iframe src=\"about:blank\" width=\"550\" height=\"350\"style=\"border:none !important;\" data-html=%3C%21DOCTYPE%20html%3E%0A%3Chead%3E%20%20%20%20%0A%20%20%20%20%3Cmeta%20http-equiv%3D%22content-type%22%20content%3D%22text/html%3B%20charset%3DUTF-8%22%20/%3E%0A%20%20%20%20%3Cscript%3EL_PREFER_CANVAS%3Dfalse%3B%20L_NO_TOUCH%3Dfalse%3B%20L_DISABLE_3D%3Dfalse%3B%3C/script%3E%0A%20%20%20%20%3Cscript%20src%3D%22https%3A//cdn.jsdelivr.net/npm/leaflet%401.4.0/dist/leaflet.js%22%3E%3C/script%3E%0A%20%20%20%20%3Cscript%20src%3D%22https%3A//code.jquery.com/jquery-1.12.4.min.js%22%3E%3C/script%3E%0A%20%20%20%20%3Cscript%20src%3D%22https%3A//maxcdn.bootstrapcdn.com/bootstrap/3.2.0/js/bootstrap.min.js%22%3E%3C/script%3E%0A%20%20%20%20%3Cscript%20src%3D%22https%3A//cdnjs.cloudflare.com/ajax/libs/Leaflet.awesome-markers/2.0.2/leaflet.awesome-markers.js%22%3E%3C/script%3E%0A%20%20%20%20%3Clink%20rel%3D%22stylesheet%22%20href%3D%22https%3A//cdn.jsdelivr.net/npm/leaflet%401.4.0/dist/leaflet.css%22/%3E%0A%20%20%20%20%3Clink%20rel%3D%22stylesheet%22%20href%3D%22https%3A//maxcdn.bootstrapcdn.com/bootstrap/3.2.0/css/bootstrap.min.css%22/%3E%0A%20%20%20%20%3Clink%20rel%3D%22stylesheet%22%20href%3D%22https%3A//maxcdn.bootstrapcdn.com/bootstrap/3.2.0/css/bootstrap-theme.min.css%22/%3E%0A%20%20%20%20%3Clink%20rel%3D%22stylesheet%22%20href%3D%22https%3A//maxcdn.bootstrapcdn.com/font-awesome/4.6.3/css/font-awesome.min.css%22/%3E%0A%20%20%20%20%3Clink%20rel%3D%22stylesheet%22%20href%3D%22https%3A//cdnjs.cloudflare.com/ajax/libs/Leaflet.awesome-markers/2.0.2/leaflet.awesome-markers.css%22/%3E%0A%20%20%20%20%3Clink%20rel%3D%22stylesheet%22%20href%3D%22https%3A//rawcdn.githack.com/python-visualization/folium/master/folium/templates/leaflet.awesome.rotate.css%22/%3E%0A%20%20%20%20%3Cstyle%3Ehtml%2C%20body%20%7Bwidth%3A%20100%25%3Bheight%3A%20100%25%3Bmargin%3A%200%3Bpadding%3A%200%3B%7D%3C/style%3E%0A%20%20%20%20%3Cstyle%3E%23map%20%7Bposition%3Aabsolute%3Btop%3A0%3Bbottom%3A0%3Bright%3A0%3Bleft%3A0%3B%7D%3C/style%3E%0A%20%20%20%20%0A%20%20%20%20%3Cmeta%20name%3D%22viewport%22%20content%3D%22width%3Ddevice-width%2C%0A%20%20%20%20%20%20%20%20initial-scale%3D1.0%2C%20maximum-scale%3D1.0%2C%20user-scalable%3Dno%22%20/%3E%0A%20%20%20%20%3Cstyle%3E%23map_59fd8ec7489d48b18dee7814b560ad36%20%7B%0A%20%20%20%20%20%20%20%20position%3A%20relative%3B%0A%20%20%20%20%20%20%20%20width%3A%20100.0%25%3B%0A%20%20%20%20%20%20%20%20height%3A%20100.0%25%3B%0A%20%20%20%20%20%20%20%20left%3A%200.0%25%3B%0A%20%20%20%20%20%20%20%20top%3A%200.0%25%3B%0A%20%20%20%20%20%20%20%20%7D%0A%20%20%20%20%3C/style%3E%0A%3C/head%3E%0A%3Cbody%3E%20%20%20%20%0A%20%20%20%20%0A%20%20%20%20%3Cdiv%20class%3D%22folium-map%22%20id%3D%22map_59fd8ec7489d48b18dee7814b560ad36%22%20%3E%3C/div%3E%0A%3C/body%3E%0A%3Cscript%3E%20%20%20%20%0A%20%20%20%20%0A%20%20%20%20%0A%20%20%20%20%20%20%20%20var%20bounds%20%3D%20null%3B%0A%20%20%20%20%0A%0A%20%20%20%20var%20map_59fd8ec7489d48b18dee7814b560ad36%20%3D%20L.map%28%0A%20%20%20%20%20%20%20%20%27map_59fd8ec7489d48b18dee7814b560ad36%27%2C%20%7B%0A%20%20%20%20%20%20%20%20center%3A%20%5B20.5937%2C%2078.9629%5D%2C%0A%20%20%20%20%20%20%20%20zoom%3A%2011%2C%0A%20%20%20%20%20%20%20%20maxBounds%3A%20bounds%2C%0A%20%20%20%20%20%20%20%20layers%3A%20%5B%5D%2C%0A%20%20%20%20%20%20%20%20worldCopyJump%3A%20false%2C%0A%20%20%20%20%20%20%20%20crs%3A%20L.CRS.EPSG3857%2C%0A%20%20%20%20%20%20%20%20zoomControl%3A%20true%2C%0A%20%20%20%20%20%20%20%20%7D%29%3B%0A%0A%0A%20%20%20%20%0A%20%20%20%20var%20tile_layer_c64aaace338148d2af2d1f3e9cc83daa%20%3D%20L.tileLayer%28%0A%20%20%20%20%20%20%20%20%27https%3A//cartodb-basemaps-%7Bs%7D.global.ssl.fastly.net/light_all/%7Bz%7D/%7Bx%7D/%7By%7D.png%27%2C%0A%20%20%20%20%20%20%20%20%7B%0A%20%20%20%20%20%20%20%20%22attribution%22%3A%20null%2C%0A%20%20%20%20%20%20%20%20%22detectRetina%22%3A%20false%2C%0A%20%20%20%20%20%20%20%20%22maxNativeZoom%22%3A%2018%2C%0A%20%20%20%20%20%20%20%20%22maxZoom%22%3A%2018%2C%0A%20%20%20%20%20%20%20%20%22minZoom%22%3A%200%2C%0A%20%20%20%20%20%20%20%20%22noWrap%22%3A%20false%2C%0A%20%20%20%20%20%20%20%20%22opacity%22%3A%201%2C%0A%20%20%20%20%20%20%20%20%22subdomains%22%3A%20%22abc%22%2C%0A%20%20%20%20%20%20%20%20%22tms%22%3A%20false%0A%7D%29.addTo%28map_59fd8ec7489d48b18dee7814b560ad36%29%3B%0A%20%20%20%20%0A%20%20%20%20%20%20%20%20var%20marker_db5a48fc9af54e06a614d4ef34f2c237%20%3D%20L.marker%28%0A%20%20%20%20%20%20%20%20%20%20%20%20%5B28.73014%2C%2077.225676%5D%2C%0A%20%20%20%20%20%20%20%20%20%20%20%20%7B%0A%20%20%20%20%20%20%20%20%20%20%20%20%20%20%20%20icon%3A%20new%20L.Icon.Default%28%29%2C%0A%20%20%20%20%20%20%20%20%20%20%20%20%20%20%20%20%7D%0A%20%20%20%20%20%20%20%20%20%20%20%20%29.addTo%28map_59fd8ec7489d48b18dee7814b560ad36%29%3B%0A%20%20%20%20%20%20%20%20%0A%20%20%20%20%0A%20%20%20%20%20%20%20%20%20%20%20%20var%20popup_f86c69f185f34eadae93fd0e665e8cb9%20%3D%20L.popup%28%7BmaxWidth%3A%20%27100%25%27%0A%20%20%20%20%20%20%20%20%20%20%20%20%0A%20%20%20%20%20%20%20%20%20%20%20%20%7D%29%3B%0A%0A%20%20%20%20%20%20%20%20%20%20%20%20%0A%20%20%20%20%20%20%20%20%20%20%20%20%20%20%20%20var%20html_a499b58f0bca4fcfa254ca11046168d0%20%3D%20%24%28%60%3Cdiv%20id%3D%22html_a499b58f0bca4fcfa254ca11046168d0%22%20style%3D%22width%3A%20100.0%25%3B%20height%3A%20100.0%25%3B%22%3E%3Ch3%20style%3D%22color%3Agreen%3B%22%3EMarker2%3C/h3%3E%3C/div%3E%60%29%5B0%5D%3B%0A%20%20%20%20%20%20%20%20%20%20%20%20%20%20%20%20popup_f86c69f185f34eadae93fd0e665e8cb9.setContent%28html_a499b58f0bca4fcfa254ca11046168d0%29%3B%0A%20%20%20%20%20%20%20%20%20%20%20%20%0A%0A%20%20%20%20%20%20%20%20%20%20%20%20marker_db5a48fc9af54e06a614d4ef34f2c237.bindPopup%28popup_f86c69f185f34eadae93fd0e665e8cb9%29%0A%20%20%20%20%20%20%20%20%20%20%20%20%3B%0A%0A%20%20%20%20%20%20%20%20%20%20%20%20%0A%20%20%20%20%20%20%20%20%0A%20%20%20%20%0A%20%20%20%20%20%20%20%20marker_db5a48fc9af54e06a614d4ef34f2c237.bindTooltip%28%0A%20%20%20%20%20%20%20%20%20%20%20%20%60%3Cdiv%3E%60%0A%20%20%20%20%20%20%20%20%20%20%20%20%2B%20%60%3Cstrong%3EClick%20here%20to%20see%20Popup%3C/strong%3E%60%20%2B%20%60%3C/div%3E%60%2C%0A%20%20%20%20%20%20%20%20%20%20%20%20%7B%22sticky%22%3A%20true%7D%0A%20%20%20%20%20%20%20%20%29%3B%0A%20%20%20%20%20%20%20%20%0A%20%20%20%20%0A%20%20%20%20%20%20%20%20var%20marker_93d8517fb0a8424c9bc254dc5ce62def%20%3D%20L.marker%28%0A%20%20%20%20%20%20%20%20%20%20%20%20%5B22.660325%2C%2088.388361%5D%2C%0A%20%20%20%20%20%20%20%20%20%20%20%20%7B%0A%20%20%20%20%20%20%20%20%20%20%20%20%20%20%20%20icon%3A%20new%20L.Icon.Default%28%29%2C%0A%20%20%20%20%20%20%20%20%20%20%20%20%20%20%20%20%7D%0A%20%20%20%20%20%20%20%20%20%20%20%20%29.addTo%28map_59fd8ec7489d48b18dee7814b560ad36%29%3B%0A%20%20%20%20%20%20%20%20%0A%20%20%20%20%0A%20%20%20%20%20%20%20%20%20%20%20%20var%20popup_c93bd7d590d24d74b3dca0e6fbd812c3%20%3D%20L.popup%28%7BmaxWidth%3A%20%27100%25%27%0A%20%20%20%20%20%20%20%20%20%20%20%20%0A%20%20%20%20%20%20%20%20%20%20%20%20%7D%29%3B%0A%0A%20%20%20%20%20%20%20%20%20%20%20%20%0A%20%20%20%20%20%20%20%20%20%20%20%20%20%20%20%20var%20html_bf37be2df7684b288b3cfe4f206f5a6f%20%3D%20%24%28%60%3Cdiv%20id%3D%22html_bf37be2df7684b288b3cfe4f206f5a6f%22%20style%3D%22width%3A%20100.0%25%3B%20height%3A%20100.0%25%3B%22%3E%3Ch3%20style%3D%22color%3Agreen%3B%22%3EMarker2%3C/h3%3E%3C/div%3E%60%29%5B0%5D%3B%0A%20%20%20%20%20%20%20%20%20%20%20%20%20%20%20%20popup_c93bd7d590d24d74b3dca0e6fbd812c3.setContent%28html_bf37be2df7684b288b3cfe4f206f5a6f%29%3B%0A%20%20%20%20%20%20%20%20%20%20%20%20%0A%0A%20%20%20%20%20%20%20%20%20%20%20%20marker_93d8517fb0a8424c9bc254dc5ce62def.bindPopup%28popup_c93bd7d590d24d74b3dca0e6fbd812c3%29%0A%20%20%20%20%20%20%20%20%20%20%20%20%3B%0A%0A%20%20%20%20%20%20%20%20%20%20%20%20%0A%20%20%20%20%20%20%20%20%0A%20%20%20%20%0A%20%20%20%20%20%20%20%20marker_93d8517fb0a8424c9bc254dc5ce62def.bindTooltip%28%0A%20%20%20%20%20%20%20%20%20%20%20%20%60%3Cdiv%3E%60%0A%20%20%20%20%20%20%20%20%20%20%20%20%2B%20%60%3Cstrong%3EClick%20here%20to%20see%20Popup%3C/strong%3E%60%20%2B%20%60%3C/div%3E%60%2C%0A%20%20%20%20%20%20%20%20%20%20%20%20%7B%22sticky%22%3A%20true%7D%0A%20%20%20%20%20%20%20%20%29%3B%0A%20%20%20%20%20%20%20%20%0A%20%20%20%20%0A%20%20%20%20%20%20%20%20var%20marker_783bfebe94e04348ad3b70a68c10b859%20%3D%20L.marker%28%0A%20%20%20%20%20%20%20%20%20%20%20%20%5B13.153332%2C%2080.343613%5D%2C%0A%20%20%20%20%20%20%20%20%20%20%20%20%7B%0A%20%20%20%20%20%20%20%20%20%20%20%20%20%20%20%20icon%3A%20new%20L.Icon.Default%28%29%2C%0A%20%20%20%20%20%20%20%20%20%20%20%20%20%20%20%20%7D%0A%20%20%20%20%20%20%20%20%20%20%20%20%29.addTo%28map_59fd8ec7489d48b18dee7814b560ad36%29%3B%0A%20%20%20%20%20%20%20%20%0A%20%20%20%20%0A%20%20%20%20%20%20%20%20%20%20%20%20var%20popup_cb83259b60de44eea0c7c677d7cee0cc%20%3D%20L.popup%28%7BmaxWidth%3A%20%27100%25%27%0A%20%20%20%20%20%20%20%20%20%20%20%20%0A%20%20%20%20%20%20%20%20%20%20%20%20%7D%29%3B%0A%0A%20%20%20%20%20%20%20%20%20%20%20%20%0A%20%20%20%20%20%20%20%20%20%20%20%20%20%20%20%20var%20html_2a78d83dad9b434ebf1d68a6ac8c1ea0%20%3D%20%24%28%60%3Cdiv%20id%3D%22html_2a78d83dad9b434ebf1d68a6ac8c1ea0%22%20style%3D%22width%3A%20100.0%25%3B%20height%3A%20100.0%25%3B%22%3E%3Ch3%20style%3D%22color%3Agreen%3B%22%3EMarker2%3C/h3%3E%3C/div%3E%60%29%5B0%5D%3B%0A%20%20%20%20%20%20%20%20%20%20%20%20%20%20%20%20popup_cb83259b60de44eea0c7c677d7cee0cc.setContent%28html_2a78d83dad9b434ebf1d68a6ac8c1ea0%29%3B%0A%20%20%20%20%20%20%20%20%20%20%20%20%0A%0A%20%20%20%20%20%20%20%20%20%20%20%20marker_783bfebe94e04348ad3b70a68c10b859.bindPopup%28popup_cb83259b60de44eea0c7c677d7cee0cc%29%0A%20%20%20%20%20%20%20%20%20%20%20%20%3B%0A%0A%20%20%20%20%20%20%20%20%20%20%20%20%0A%20%20%20%20%20%20%20%20%0A%20%20%20%20%0A%20%20%20%20%20%20%20%20marker_783bfebe94e04348ad3b70a68c10b859.bindTooltip%28%0A%20%20%20%20%20%20%20%20%20%20%20%20%60%3Cdiv%3E%60%0A%20%20%20%20%20%20%20%20%20%20%20%20%2B%20%60%3Cstrong%3EClick%20here%20to%20see%20Popup%3C/strong%3E%60%20%2B%20%60%3C/div%3E%60%2C%0A%20%20%20%20%20%20%20%20%20%20%20%20%7B%22sticky%22%3A%20true%7D%0A%20%20%20%20%20%20%20%20%29%3B%0A%20%20%20%20%20%20%20%20%0A%20%20%20%20%0A%20%20%20%20%20%20%20%20var%20marker_87e840927eed439c8dc8d02d5079c733%20%3D%20L.marker%28%0A%20%20%20%20%20%20%20%20%20%20%20%20%5B8.19011%2C%2077.511124%5D%2C%0A%20%20%20%20%20%20%20%20%20%20%20%20%7B%0A%20%20%20%20%20%20%20%20%20%20%20%20%20%20%20%20icon%3A%20new%20L.Icon.Default%28%29%2C%0A%20%20%20%20%20%20%20%20%20%20%20%20%20%20%20%20%7D%0A%20%20%20%20%20%20%20%20%20%20%20%20%29.addTo%28map_59fd8ec7489d48b18dee7814b560ad36%29%3B%0A%20%20%20%20%20%20%20%20%0A%20%20%20%20%0A%20%20%20%20%20%20%20%20%20%20%20%20var%20popup_c04cab07ac3246aabb0bc71d63884925%20%3D%20L.popup%28%7BmaxWidth%3A%20%27100%25%27%0A%20%20%20%20%20%20%20%20%20%20%20%20%0A%20%20%20%20%20%20%20%20%20%20%20%20%7D%29%3B%0A%0A%20%20%20%20%20%20%20%20%20%20%20%20%0A%20%20%20%20%20%20%20%20%20%20%20%20%20%20%20%20var%20html_df3ed3c5a4244cadb991b89ecd9abf6a%20%3D%20%24%28%60%3Cdiv%20id%3D%22html_df3ed3c5a4244cadb991b89ecd9abf6a%22%20style%3D%22width%3A%20100.0%25%3B%20height%3A%20100.0%25%3B%22%3E%3Ch3%20style%3D%22color%3Agreen%3B%22%3EMarker2%3C/h3%3E%3C/div%3E%60%29%5B0%5D%3B%0A%20%20%20%20%20%20%20%20%20%20%20%20%20%20%20%20popup_c04cab07ac3246aabb0bc71d63884925.setContent%28html_df3ed3c5a4244cadb991b89ecd9abf6a%29%3B%0A%20%20%20%20%20%20%20%20%20%20%20%20%0A%0A%20%20%20%20%20%20%20%20%20%20%20%20marker_87e840927eed439c8dc8d02d5079c733.bindPopup%28popup_c04cab07ac3246aabb0bc71d63884925%29%0A%20%20%20%20%20%20%20%20%20%20%20%20%3B%0A%0A%20%20%20%20%20%20%20%20%20%20%20%20%0A%20%20%20%20%20%20%20%20%0A%20%20%20%20%0A%20%20%20%20%20%20%20%20marker_87e840927eed439c8dc8d02d5079c733.bindTooltip%28%0A%20%20%20%20%20%20%20%20%20%20%20%20%60%3Cdiv%3E%60%0A%20%20%20%20%20%20%20%20%20%20%20%20%2B%20%60%3Cstrong%3EClick%20here%20to%20see%20Popup%3C/strong%3E%60%20%2B%20%60%3C/div%3E%60%2C%0A%20%20%20%20%20%20%20%20%20%20%20%20%7B%22sticky%22%3A%20true%7D%0A%20%20%20%20%20%20%20%20%29%3B%0A%20%20%20%20%20%20%20%20%0A%20%20%20%20%0A%20%20%20%20%20%20%20%20var%20marker_e929bae2bc8940dcb347f2e8c0a64f67%20%3D%20L.marker%28%0A%20%20%20%20%20%20%20%20%20%20%20%20%5B27.564245%2C%2095.459457%5D%2C%0A%20%20%20%20%20%20%20%20%20%20%20%20%7B%0A%20%20%20%20%20%20%20%20%20%20%20%20%20%20%20%20icon%3A%20new%20L.Icon.Default%28%29%2C%0A%20%20%20%20%20%20%20%20%20%20%20%20%20%20%20%20%7D%0A%20%20%20%20%20%20%20%20%20%20%20%20%29.addTo%28map_59fd8ec7489d48b18dee7814b560ad36%29%3B%0A%20%20%20%20%20%20%20%20%0A%20%20%20%20%0A%20%20%20%20%20%20%20%20%20%20%20%20var%20popup_aa929aa591d64136bbe6a93aa04b3d6e%20%3D%20L.popup%28%7BmaxWidth%3A%20%27100%25%27%0A%20%20%20%20%20%20%20%20%20%20%20%20%0A%20%20%20%20%20%20%20%20%20%20%20%20%7D%29%3B%0A%0A%20%20%20%20%20%20%20%20%20%20%20%20%0A%20%20%20%20%20%20%20%20%20%20%20%20%20%20%20%20var%20html_49d40881dcd649dc9539ef72d0ee886f%20%3D%20%24%28%60%3Cdiv%20id%3D%22html_49d40881dcd649dc9539ef72d0ee886f%22%20style%3D%22width%3A%20100.0%25%3B%20height%3A%20100.0%25%3B%22%3E%3Ch3%20style%3D%22color%3Agreen%3B%22%3EMarker2%3C/h3%3E%3C/div%3E%60%29%5B0%5D%3B%0A%20%20%20%20%20%20%20%20%20%20%20%20%20%20%20%20popup_aa929aa591d64136bbe6a93aa04b3d6e.setContent%28html_49d40881dcd649dc9539ef72d0ee886f%29%3B%0A%20%20%20%20%20%20%20%20%20%20%20%20%0A%0A%20%20%20%20%20%20%20%20%20%20%20%20marker_e929bae2bc8940dcb347f2e8c0a64f67.bindPopup%28popup_aa929aa591d64136bbe6a93aa04b3d6e%29%0A%20%20%20%20%20%20%20%20%20%20%20%20%3B%0A%0A%20%20%20%20%20%20%20%20%20%20%20%20%0A%20%20%20%20%20%20%20%20%0A%20%20%20%20%0A%20%20%20%20%20%20%20%20marker_e929bae2bc8940dcb347f2e8c0a64f67.bindTooltip%28%0A%20%20%20%20%20%20%20%20%20%20%20%20%60%3Cdiv%3E%60%0A%20%20%20%20%20%20%20%20%20%20%20%20%2B%20%60%3Cstrong%3EClick%20here%20to%20see%20Popup%3C/strong%3E%60%20%2B%20%60%3C/div%3E%60%2C%0A%20%20%20%20%20%20%20%20%20%20%20%20%7B%22sticky%22%3A%20true%7D%0A%20%20%20%20%20%20%20%20%29%3B%0A%20%20%20%20%20%20%20%20%0A%3C/script%3E onload=\"this.contentDocument.open();this.contentDocument.write(    decodeURIComponent(this.getAttribute('data-html')));this.contentDocument.close();\" \"allowfullscreen\" \"webkitallowfullscreen\" \"mozallowfullscreen\"></iframe>"
            ],
            "text/plain": [
              "<folium.folium.Map at 0x7f0252865e50>"
            ]
          },
          "metadata": {
            "tags": []
          },
          "execution_count": 114
        }
      ]
    },
    {
      "cell_type": "code",
      "metadata": {
        "id": "kphEStNjNXOq"
      },
      "source": [
        "import folium\n",
        "from branca.element import Figure\n",
        "\n",
        "fig3=Figure(width=550,height=350)\n",
        "m3=folium.Map(location=[20.5937, 78.9629],tiles='cartodbpositron',zoom_start=11)\n",
        "fig3.add_child(m3)\n",
        "count =0\n",
        "for latitude,longitude in events_data_df.iterrows():\n",
        "  folium.Marker(location=[latitude, longitude],popup='<h3 style=\"color:green;\">Marker2</h3>',tooltip='<strong>Click here to see Popup</strong>').add_to(m3)\n",
        "  count= count+1\n",
        "  print(count)\n",
        "  if count <10:\n",
        "    continue\n",
        "\n",
        "m3"
      ],
      "execution_count": null,
      "outputs": []
    },
    {
      "cell_type": "code",
      "metadata": {
        "colab": {
          "base_uri": "https://localhost:8080/",
          "height": 191
        },
        "id": "Fm87wgKV6w3n",
        "outputId": "a3c4c9f3-2abf-40dc-8bfb-488ccd79ea43"
      },
      "source": [
        "events_data_df.head()"
      ],
      "execution_count": null,
      "outputs": [
        {
          "output_type": "execute_result",
          "data": {
            "text/html": [
              "<div>\n",
              "<style scoped>\n",
              "    .dataframe tbody tr th:only-of-type {\n",
              "        vertical-align: middle;\n",
              "    }\n",
              "\n",
              "    .dataframe tbody tr th {\n",
              "        vertical-align: top;\n",
              "    }\n",
              "\n",
              "    .dataframe thead th {\n",
              "        text-align: right;\n",
              "    }\n",
              "</style>\n",
              "<table border=\"1\" class=\"dataframe\">\n",
              "  <thead>\n",
              "    <tr style=\"text-align: right;\">\n",
              "      <th></th>\n",
              "      <th>event_id</th>\n",
              "      <th>device_id</th>\n",
              "      <th>timestamp</th>\n",
              "      <th>longitude</th>\n",
              "      <th>latitude</th>\n",
              "      <th>city</th>\n",
              "      <th>state</th>\n",
              "    </tr>\n",
              "  </thead>\n",
              "  <tbody>\n",
              "    <tr>\n",
              "      <th>0</th>\n",
              "      <td>2765368</td>\n",
              "      <td>2.973348e+18</td>\n",
              "      <td>2016-05-07 22:52:05</td>\n",
              "      <td>77.225676</td>\n",
              "      <td>28.730140</td>\n",
              "      <td>Delhi</td>\n",
              "      <td>Delhi</td>\n",
              "    </tr>\n",
              "    <tr>\n",
              "      <th>1</th>\n",
              "      <td>2955066</td>\n",
              "      <td>4.734221e+18</td>\n",
              "      <td>2016-05-01 20:44:16</td>\n",
              "      <td>88.388361</td>\n",
              "      <td>22.660325</td>\n",
              "      <td>Calcutta</td>\n",
              "      <td>WestBengal</td>\n",
              "    </tr>\n",
              "    <tr>\n",
              "      <th>2</th>\n",
              "      <td>605968</td>\n",
              "      <td>-3.264500e+18</td>\n",
              "      <td>2016-05-02 14:23:04</td>\n",
              "      <td>77.256809</td>\n",
              "      <td>28.757906</td>\n",
              "      <td>Delhi</td>\n",
              "      <td>Delhi</td>\n",
              "    </tr>\n",
              "    <tr>\n",
              "      <th>3</th>\n",
              "      <td>448114</td>\n",
              "      <td>5.731369e+18</td>\n",
              "      <td>2016-05-03 13:21:16</td>\n",
              "      <td>80.343613</td>\n",
              "      <td>13.153332</td>\n",
              "      <td>Chennai</td>\n",
              "      <td>TamilNadu</td>\n",
              "    </tr>\n",
              "    <tr>\n",
              "      <th>4</th>\n",
              "      <td>665740</td>\n",
              "      <td>3.388880e+17</td>\n",
              "      <td>2016-05-06 03:51:05</td>\n",
              "      <td>85.997745</td>\n",
              "      <td>23.842609</td>\n",
              "      <td>Bokaro</td>\n",
              "      <td>Jharkhand</td>\n",
              "    </tr>\n",
              "  </tbody>\n",
              "</table>\n",
              "</div>"
            ],
            "text/plain": [
              "   event_id     device_id            timestamp  ...   latitude      city       state\n",
              "0   2765368  2.973348e+18  2016-05-07 22:52:05  ...  28.730140     Delhi       Delhi\n",
              "1   2955066  4.734221e+18  2016-05-01 20:44:16  ...  22.660325  Calcutta  WestBengal\n",
              "2    605968 -3.264500e+18  2016-05-02 14:23:04  ...  28.757906     Delhi       Delhi\n",
              "3    448114  5.731369e+18  2016-05-03 13:21:16  ...  13.153332   Chennai   TamilNadu\n",
              "4    665740  3.388880e+17  2016-05-06 03:51:05  ...  23.842609    Bokaro   Jharkhand\n",
              "\n",
              "[5 rows x 7 columns]"
            ]
          },
          "metadata": {
            "tags": []
          },
          "execution_count": 84
        }
      ]
    },
    {
      "cell_type": "markdown",
      "metadata": {
        "id": "wAxUKNcZBroo"
      },
      "source": [
        "Converting object datatype to timestamp "
      ]
    },
    {
      "cell_type": "code",
      "metadata": {
        "id": "KxDSWxGU7A_o"
      },
      "source": [
        "events_data_filtered_df['timestamp'] = events_data_filtered_df['timestamp'].apply(lambda x : pd.to_datetime(str(x)))"
      ],
      "execution_count": null,
      "outputs": []
    },
    {
      "cell_type": "markdown",
      "metadata": {
        "id": "zpRabwotBwKc"
      },
      "source": [
        "Fetching Date & Time from timestamp column"
      ]
    },
    {
      "cell_type": "code",
      "metadata": {
        "id": "EpAEdcHQ8Gom"
      },
      "source": [
        "events_data_filtered_df['date'] = events_data_filtered_df['timestamp'].dt.date\n",
        "events_data_filtered_df['time'] = events_data_filtered_df['timestamp'].dt.time"
      ],
      "execution_count": null,
      "outputs": []
    },
    {
      "cell_type": "code",
      "metadata": {
        "colab": {
          "base_uri": "https://localhost:8080/",
          "height": 191
        },
        "id": "mSq6bXrV8SHh",
        "outputId": "dd6a1864-0cf8-4bb6-d61f-674ea1e51904"
      },
      "source": [
        "events_data_filtered_df.head()"
      ],
      "execution_count": null,
      "outputs": [
        {
          "output_type": "execute_result",
          "data": {
            "text/html": [
              "<div>\n",
              "<style scoped>\n",
              "    .dataframe tbody tr th:only-of-type {\n",
              "        vertical-align: middle;\n",
              "    }\n",
              "\n",
              "    .dataframe tbody tr th {\n",
              "        vertical-align: top;\n",
              "    }\n",
              "\n",
              "    .dataframe thead th {\n",
              "        text-align: right;\n",
              "    }\n",
              "</style>\n",
              "<table border=\"1\" class=\"dataframe\">\n",
              "  <thead>\n",
              "    <tr style=\"text-align: right;\">\n",
              "      <th></th>\n",
              "      <th>event_id</th>\n",
              "      <th>device_id</th>\n",
              "      <th>timestamp</th>\n",
              "      <th>longitude</th>\n",
              "      <th>latitude</th>\n",
              "      <th>city</th>\n",
              "      <th>state</th>\n",
              "      <th>time</th>\n",
              "      <th>date</th>\n",
              "    </tr>\n",
              "  </thead>\n",
              "  <tbody>\n",
              "    <tr>\n",
              "      <th>1</th>\n",
              "      <td>2955066</td>\n",
              "      <td>4734221357723754496</td>\n",
              "      <td>2016-05-01 20:44:16</td>\n",
              "      <td>88.388361</td>\n",
              "      <td>22.660325</td>\n",
              "      <td>Calcutta</td>\n",
              "      <td>WestBengal</td>\n",
              "      <td>20:44:16</td>\n",
              "      <td>2016-05-01</td>\n",
              "    </tr>\n",
              "    <tr>\n",
              "      <th>28</th>\n",
              "      <td>769546</td>\n",
              "      <td>-1817502319478569728</td>\n",
              "      <td>2016-05-01 14:07:23</td>\n",
              "      <td>88.371813</td>\n",
              "      <td>22.662852</td>\n",
              "      <td>Calcutta</td>\n",
              "      <td>WestBengal</td>\n",
              "      <td>14:07:23</td>\n",
              "      <td>2016-05-01</td>\n",
              "    </tr>\n",
              "    <tr>\n",
              "      <th>30</th>\n",
              "      <td>1750603</td>\n",
              "      <td>-5598137337131307008</td>\n",
              "      <td>2016-05-05 15:47:03</td>\n",
              "      <td>70.212684</td>\n",
              "      <td>23.118370</td>\n",
              "      <td>Gandhidham</td>\n",
              "      <td>Gujarat</td>\n",
              "      <td>15:47:03</td>\n",
              "      <td>2016-05-05</td>\n",
              "    </tr>\n",
              "    <tr>\n",
              "      <th>31</th>\n",
              "      <td>3085968</td>\n",
              "      <td>-3808296883972395520</td>\n",
              "      <td>2016-05-07 01:25:47</td>\n",
              "      <td>75.513019</td>\n",
              "      <td>11.812367</td>\n",
              "      <td>Thalassery</td>\n",
              "      <td>Kerala</td>\n",
              "      <td>01:25:47</td>\n",
              "      <td>2016-05-07</td>\n",
              "    </tr>\n",
              "    <tr>\n",
              "      <th>39</th>\n",
              "      <td>1407594</td>\n",
              "      <td>-2995507760806350336</td>\n",
              "      <td>2016-05-03 20:01:35</td>\n",
              "      <td>77.805194</td>\n",
              "      <td>13.533295</td>\n",
              "      <td>ChikBallapur</td>\n",
              "      <td>Karnataka</td>\n",
              "      <td>20:01:35</td>\n",
              "      <td>2016-05-03</td>\n",
              "    </tr>\n",
              "  </tbody>\n",
              "</table>\n",
              "</div>"
            ],
            "text/plain": [
              "    event_id            device_id  ...      time        date\n",
              "1    2955066  4734221357723754496  ...  20:44:16  2016-05-01\n",
              "28    769546 -1817502319478569728  ...  14:07:23  2016-05-01\n",
              "30   1750603 -5598137337131307008  ...  15:47:03  2016-05-05\n",
              "31   3085968 -3808296883972395520  ...  01:25:47  2016-05-07\n",
              "39   1407594 -2995507760806350336  ...  20:01:35  2016-05-03\n",
              "\n",
              "[5 rows x 9 columns]"
            ]
          },
          "metadata": {
            "tags": []
          },
          "execution_count": 182
        }
      ]
    },
    {
      "cell_type": "code",
      "metadata": {
        "colab": {
          "base_uri": "https://localhost:8080/"
        },
        "id": "mj5ysHHH8Urs",
        "outputId": "3914f9b4-f707-4213-b6b4-d8cbb5ef7d0f"
      },
      "source": [
        "events_data_filtered_df.info()"
      ],
      "execution_count": null,
      "outputs": [
        {
          "output_type": "stream",
          "text": [
            "<class 'pandas.core.frame.DataFrame'>\n",
            "Int64Index: 422825 entries, 1 to 3252921\n",
            "Data columns (total 9 columns):\n",
            " #   Column     Non-Null Count   Dtype         \n",
            "---  ------     --------------   -----         \n",
            " 0   event_id   422825 non-null  int64         \n",
            " 1   device_id  422825 non-null  int64         \n",
            " 2   timestamp  422825 non-null  datetime64[ns]\n",
            " 3   longitude  422825 non-null  float64       \n",
            " 4   latitude   422825 non-null  float64       \n",
            " 5   city       422825 non-null  object        \n",
            " 6   state      422825 non-null  object        \n",
            " 7   time       422825 non-null  object        \n",
            " 8   date       422825 non-null  object        \n",
            "dtypes: datetime64[ns](1), float64(2), int64(2), object(4)\n",
            "memory usage: 32.3+ MB\n"
          ],
          "name": "stdout"
        }
      ]
    },
    {
      "cell_type": "code",
      "metadata": {
        "colab": {
          "base_uri": "https://localhost:8080/",
          "height": 361
        },
        "id": "opNJln6A9CzL",
        "outputId": "f67ac943-cc40-4a06-f2ab-d38e950fdf18"
      },
      "source": [
        "events_data_filtered_df['time'].hist(bins=200,figsize=(20,5))"
      ],
      "execution_count": null,
      "outputs": [
        {
          "output_type": "execute_result",
          "data": {
            "text/plain": [
              "<matplotlib.axes._subplots.AxesSubplot at 0x7f8d0bd74cd0>"
            ]
          },
          "metadata": {
            "tags": []
          },
          "execution_count": 184
        },
        {
          "output_type": "display_data",
          "data": {
            "image/png": "[encoded data removed]",
            "text/plain": [
              "<Figure size 1440x360 with 1 Axes>"
            ]
          },
          "metadata": {
            "tags": []
          }
        }
      ]
    },
    {
      "cell_type": "markdown",
      "metadata": {
        "id": "i2TqM601B-rY"
      },
      "source": [
        "The above histogram states that max usage happened between 10-11am.\n",
        "\n"
      ]
    },
    {
      "cell_type": "markdown",
      "metadata": {
        "id": "Nkwfj9RaCkMk"
      },
      "source": [
        "Replacing Chinese characters with provided English vlaues for Mobile Brands"
      ]
    },
    {
      "cell_type": "code",
      "metadata": {
        "colab": {
          "base_uri": "https://localhost:8080/"
        },
        "id": "eSGv67yeFkG8",
        "outputId": "5addb294-5f26-458c-d62e-93348139e777"
      },
      "source": [
        "device_data_df['Brand'].unique()"
      ],
      "execution_count": null,
      "outputs": [
        {
          "output_type": "execute_result",
          "data": {
            "text/plain": [
              "array(['酷派', '小米', 'vivo', '三星', '华为', '乐视', '酷比魔方', 'OPPO', '魅族', 'HTC',\n",
              "       '一加', '努比亚', '亿通', '锤子'], dtype=object)"
            ]
          },
          "metadata": {
            "tags": []
          },
          "execution_count": 185
        }
      ]
    },
    {
      "cell_type": "code",
      "metadata": {
        "id": "EFbFSYVmGUgO"
      },
      "source": [
        "device_data_df['Brand'] = device_data_df['Brand'].replace('小米','Xiaomi')"
      ],
      "execution_count": null,
      "outputs": []
    },
    {
      "cell_type": "code",
      "metadata": {
        "id": "uS3tLugjfiJ5"
      },
      "source": [
        "device_data_df['Brand'] = device_data_df['Brand'].replace('华为','Huawei')"
      ],
      "execution_count": null,
      "outputs": []
    },
    {
      "cell_type": "code",
      "metadata": {
        "id": "l1ael06Wkneq"
      },
      "source": [
        "device_data_df['Brand'] = device_data_df['Brand'].replace('三星','Samsung')"
      ],
      "execution_count": null,
      "outputs": []
    },
    {
      "cell_type": "code",
      "metadata": {
        "id": "9jsNkK9MGc3P"
      },
      "source": [
        "device_data_df['Brand'] = device_data_df['Brand'].replace('魅族','Meizu')"
      ],
      "execution_count": null,
      "outputs": []
    },
    {
      "cell_type": "code",
      "metadata": {
        "id": "B5dWt8cjlbsC"
      },
      "source": [
        "device_data_df['Brand'] = device_data_df['Brand'].replace('酷派','Coolpad')"
      ],
      "execution_count": null,
      "outputs": []
    },
    {
      "cell_type": "code",
      "metadata": {
        "id": "8MD9GM-BGicU"
      },
      "source": [
        "device_data_df['Brand'] = device_data_df['Brand'].replace('乐视','LeEco')"
      ],
      "execution_count": null,
      "outputs": []
    },
    {
      "cell_type": "code",
      "metadata": {
        "id": "qhdETL23hrMN"
      },
      "source": [
        "device_data_df['Brand'] = device_data_df['Brand'].replace('联想 ','Lenovo')"
      ],
      "execution_count": null,
      "outputs": []
    },
    {
      "cell_type": "code",
      "metadata": {
        "id": "zPF6Mu-0C0nQ"
      },
      "source": [
        "device_data_df['Brand'] = device_data_df['Brand'].replace('一加','Other')"
      ],
      "execution_count": null,
      "outputs": []
    },
    {
      "cell_type": "code",
      "metadata": {
        "id": "yPIl278-GtTI"
      },
      "source": [
        "device_data_df['Brand'] = device_data_df['Brand'].replace('努比亚','Other')"
      ],
      "execution_count": null,
      "outputs": []
    },
    {
      "cell_type": "code",
      "metadata": {
        "id": "6gGKNZQlDqxA"
      },
      "source": [
        "device_data_df['Brand'] = device_data_df['Brand'].replace('锤子','Other')"
      ],
      "execution_count": null,
      "outputs": []
    },
    {
      "cell_type": "code",
      "metadata": {
        "id": "iNnRUwe-G0mi"
      },
      "source": [
        "device_data_df['Brand'] = device_data_df['Brand'].replace('亿通','Other')"
      ],
      "execution_count": null,
      "outputs": []
    },
    {
      "cell_type": "code",
      "metadata": {
        "id": "UlYMvhdCD1Qb"
      },
      "source": [
        "device_data_df['Brand'] = device_data_df['Brand'].replace('努比亚','Other')"
      ],
      "execution_count": null,
      "outputs": []
    },
    {
      "cell_type": "code",
      "metadata": {
        "id": "Fq4XqqsOG9GK"
      },
      "source": [
        "device_data_df['Brand'] = device_data_df['Brand'].replace('酷比魔方','Other')"
      ],
      "execution_count": null,
      "outputs": []
    },
    {
      "cell_type": "code",
      "metadata": {
        "colab": {
          "base_uri": "https://localhost:8080/"
        },
        "id": "lTbOOZdAoMad",
        "outputId": "7b38b506-1ded-4d2d-dd8e-030ea9b2b509"
      },
      "source": [
        "device_data_df['Brand'].unique()"
      ],
      "execution_count": null,
      "outputs": [
        {
          "output_type": "execute_result",
          "data": {
            "text/plain": [
              "array(['LeEco', 'Xiaomi', 'vivo', 'Meizu', 'Other', 'OPPO', 'HTC'],\n",
              "      dtype=object)"
            ]
          },
          "metadata": {
            "tags": []
          },
          "execution_count": 214
        }
      ]
    },
    {
      "cell_type": "code",
      "metadata": {
        "colab": {
          "base_uri": "https://localhost:8080/"
        },
        "id": "h6uHiyLxpqgU",
        "outputId": "ea941025-e408-4ea3-d37a-207575cbb859"
      },
      "source": [
        "device_data_df['Age'].max()"
      ],
      "execution_count": null,
      "outputs": [
        {
          "output_type": "execute_result",
          "data": {
            "text/plain": [
              "67"
            ]
          },
          "metadata": {
            "tags": []
          },
          "execution_count": 215
        }
      ]
    },
    {
      "cell_type": "code",
      "metadata": {
        "id": "Wp55APN2oPgM"
      },
      "source": [
        "device_data_df['age_bins']=pd.cut(device_data_df['Age'].dropna(),[10,20,30,40,50,60,70], labels=['10-20','21-30','31-40','41-50','51-60','61-70'], include_lowest=True)"
      ],
      "execution_count": null,
      "outputs": []
    },
    {
      "cell_type": "code",
      "metadata": {
        "colab": {
          "base_uri": "https://localhost:8080/",
          "height": 191
        },
        "id": "FVFIcbAorIAn",
        "outputId": "38d7fd01-289f-4b37-a0ad-414964dde793"
      },
      "source": [
        "device_data_df.head()"
      ],
      "execution_count": null,
      "outputs": [
        {
          "output_type": "execute_result",
          "data": {
            "text/html": [
              "<div>\n",
              "<style scoped>\n",
              "    .dataframe tbody tr th:only-of-type {\n",
              "        vertical-align: middle;\n",
              "    }\n",
              "\n",
              "    .dataframe tbody tr th {\n",
              "        vertical-align: top;\n",
              "    }\n",
              "\n",
              "    .dataframe thead th {\n",
              "        text-align: right;\n",
              "    }\n",
              "</style>\n",
              "<table border=\"1\" class=\"dataframe\">\n",
              "  <thead>\n",
              "    <tr style=\"text-align: right;\">\n",
              "      <th></th>\n",
              "      <th>event_id</th>\n",
              "      <th>device_id</th>\n",
              "      <th>timestamp</th>\n",
              "      <th>longitude</th>\n",
              "      <th>latitude</th>\n",
              "      <th>city</th>\n",
              "      <th>state</th>\n",
              "      <th>Gender</th>\n",
              "      <th>Age</th>\n",
              "      <th>Age_Group</th>\n",
              "      <th>Brand</th>\n",
              "      <th>Model</th>\n",
              "      <th>age_bins</th>\n",
              "    </tr>\n",
              "  </thead>\n",
              "  <tbody>\n",
              "    <tr>\n",
              "      <th>0</th>\n",
              "      <td>1836426</td>\n",
              "      <td>3872521790238090752</td>\n",
              "      <td>2016-05-01 20:29:14</td>\n",
              "      <td>71.294802</td>\n",
              "      <td>21.661309</td>\n",
              "      <td>Amreli</td>\n",
              "      <td>Gujarat</td>\n",
              "      <td>M</td>\n",
              "      <td>20</td>\n",
              "      <td>M22-</td>\n",
              "      <td>LeEco</td>\n",
              "      <td>8702</td>\n",
              "      <td>10-20</td>\n",
              "    </tr>\n",
              "    <tr>\n",
              "      <th>1</th>\n",
              "      <td>225132</td>\n",
              "      <td>3872521790238090752</td>\n",
              "      <td>2016-05-01 12:52:44</td>\n",
              "      <td>71.294802</td>\n",
              "      <td>21.661309</td>\n",
              "      <td>Amreli</td>\n",
              "      <td>Gujarat</td>\n",
              "      <td>M</td>\n",
              "      <td>20</td>\n",
              "      <td>M22-</td>\n",
              "      <td>LeEco</td>\n",
              "      <td>8702</td>\n",
              "      <td>10-20</td>\n",
              "    </tr>\n",
              "    <tr>\n",
              "      <th>2</th>\n",
              "      <td>815723</td>\n",
              "      <td>3872521790238090752</td>\n",
              "      <td>2016-05-01 12:28:56</td>\n",
              "      <td>71.294802</td>\n",
              "      <td>21.661309</td>\n",
              "      <td>Amreli</td>\n",
              "      <td>Gujarat</td>\n",
              "      <td>M</td>\n",
              "      <td>20</td>\n",
              "      <td>M22-</td>\n",
              "      <td>LeEco</td>\n",
              "      <td>8702</td>\n",
              "      <td>10-20</td>\n",
              "    </tr>\n",
              "    <tr>\n",
              "      <th>3</th>\n",
              "      <td>1300157</td>\n",
              "      <td>3872521790238090752</td>\n",
              "      <td>2016-05-04 23:24:57</td>\n",
              "      <td>71.294802</td>\n",
              "      <td>21.661309</td>\n",
              "      <td>Amreli</td>\n",
              "      <td>Gujarat</td>\n",
              "      <td>M</td>\n",
              "      <td>20</td>\n",
              "      <td>M22-</td>\n",
              "      <td>LeEco</td>\n",
              "      <td>8702</td>\n",
              "      <td>10-20</td>\n",
              "    </tr>\n",
              "    <tr>\n",
              "      <th>4</th>\n",
              "      <td>233682</td>\n",
              "      <td>3872521790238090752</td>\n",
              "      <td>2016-05-04 19:09:26</td>\n",
              "      <td>71.294802</td>\n",
              "      <td>21.661309</td>\n",
              "      <td>Amreli</td>\n",
              "      <td>Gujarat</td>\n",
              "      <td>M</td>\n",
              "      <td>20</td>\n",
              "      <td>M22-</td>\n",
              "      <td>LeEco</td>\n",
              "      <td>8702</td>\n",
              "      <td>10-20</td>\n",
              "    </tr>\n",
              "  </tbody>\n",
              "</table>\n",
              "</div>"
            ],
            "text/plain": [
              "   event_id            device_id            timestamp  ...  Brand  Model age_bins\n",
              "0   1836426  3872521790238090752  2016-05-01 20:29:14  ...  LeEco   8702    10-20\n",
              "1    225132  3872521790238090752  2016-05-01 12:52:44  ...  LeEco   8702    10-20\n",
              "2    815723  3872521790238090752  2016-05-01 12:28:56  ...  LeEco   8702    10-20\n",
              "3   1300157  3872521790238090752  2016-05-04 23:24:57  ...  LeEco   8702    10-20\n",
              "4    233682  3872521790238090752  2016-05-04 19:09:26  ...  LeEco   8702    10-20\n",
              "\n",
              "[5 rows x 13 columns]"
            ]
          },
          "metadata": {
            "tags": []
          },
          "execution_count": 217
        }
      ]
    },
    {
      "cell_type": "code",
      "metadata": {
        "colab": {
          "base_uri": "https://localhost:8080/"
        },
        "id": "rFDTq2OirP-V",
        "outputId": "3453d420-c922-4902-f1de-ebe251bd4559"
      },
      "source": [
        "device_data_df[device_data_df['age_bins']=='21-30']['Age'].max()"
      ],
      "execution_count": null,
      "outputs": [
        {
          "output_type": "execute_result",
          "data": {
            "text/plain": [
              "30"
            ]
          },
          "metadata": {
            "tags": []
          },
          "execution_count": 218
        }
      ]
    },
    {
      "cell_type": "code",
      "metadata": {
        "colab": {
          "base_uri": "https://localhost:8080/"
        },
        "id": "tIwp8yQGqHw4",
        "outputId": "b41d2ea4-ce18-45c0-a76d-417c77b198c0"
      },
      "source": [
        "device_data_df['age_bins'].value_counts()"
      ],
      "execution_count": null,
      "outputs": [
        {
          "output_type": "execute_result",
          "data": {
            "text/plain": [
              "21-30    1549\n",
              "31-40     608\n",
              "10-20     265\n",
              "41-50     187\n",
              "61-70      29\n",
              "51-60       3\n",
              "Name: age_bins, dtype: int64"
            ]
          },
          "metadata": {
            "tags": []
          },
          "execution_count": 219
        }
      ]
    },
    {
      "cell_type": "code",
      "metadata": {
        "colab": {
          "base_uri": "https://localhost:8080/"
        },
        "id": "LirKWpVM-dRz",
        "outputId": "b601f245-6adb-4542-ae47-3ba1024f2977"
      },
      "source": [
        "device_data_df.isna().sum()"
      ],
      "execution_count": null,
      "outputs": [
        {
          "output_type": "execute_result",
          "data": {
            "text/plain": [
              "event_id     0\n",
              "device_id    0\n",
              "timestamp    0\n",
              "longitude    0\n",
              "latitude     0\n",
              "city         0\n",
              "state        0\n",
              "Gender       0\n",
              "Age          0\n",
              "Age_Group    0\n",
              "Brand        0\n",
              "Model        0\n",
              "age_bins     0\n",
              "dtype: int64"
            ]
          },
          "metadata": {
            "tags": []
          },
          "execution_count": 220
        }
      ]
    },
    {
      "cell_type": "markdown",
      "metadata": {
        "id": "CtoRJkrn-wPs"
      },
      "source": [
        "There are no columns with null data"
      ]
    },
    {
      "cell_type": "code",
      "metadata": {
        "id": "e_IQT2PAt1B3"
      },
      "source": [
        "import matplotlib.pyplot as plt\n",
        "%matplotlib inline\n",
        "\n",
        "import seaborn as sns\n",
        "sns.set(style='whitegrid', font_scale=1.3, color_codes=True)      # To apply seaborn styles to the plots."
      ],
      "execution_count": null,
      "outputs": []
    },
    {
      "cell_type": "code",
      "metadata": {
        "colab": {
          "base_uri": "https://localhost:8080/",
          "height": 302
        },
        "id": "YXZsR9FMtlnX",
        "outputId": "5c4a5c79-c0dd-4e37-f743-caf5ec20ea14"
      },
      "source": [
        "device_data_df['Gender'].value_counts().plot(kind='pie', explode=[0.05,0.05], fontsize=15, autopct='%3.1f%%',figsize=(5,5), shadow=True, legend=True, wedgeprops=dict(width=0.15), cmap='seismic')\n",
        "plt.legend(loc='center')\n",
        "plt.show()"
      ],
      "execution_count": null,
      "outputs": [
        {
          "output_type": "display_data",
          "data": {
            "image/png": "[encoded data removed]",
            "text/plain": [
              "<Figure size 360x360 with 1 Axes>"
            ]
          },
          "metadata": {
            "tags": []
          }
        }
      ]
    },
    {
      "cell_type": "code",
      "metadata": {
        "colab": {
          "base_uri": "https://localhost:8080/",
          "height": 592
        },
        "id": "P5e5rHtkunUk",
        "outputId": "6adb50c5-a76c-4be7-bdd1-eb888d5f422e"
      },
      "source": [
        "device_data_df['age_bins'].value_counts().plot(kind='pie', explode=[0.05,0.05,0.05,0.05,0.05,0.05],fontsize=10, autopct='%3.1f%%', figsize=(10,10), shadow=True,legend=True, cmap='Spectral')\n",
        "plt.legend(loc='center')\n",
        "plt.title('Customer Age Group seggregation',fontsize=15)\n",
        "plt.show()"
      ],
      "execution_count": null,
      "outputs": [
        {
          "output_type": "display_data",
          "data": {
            "image/png": "[encoded data removed]",
            "text/plain": [
              "<Figure size 720x720 with 1 Axes>"
            ]
          },
          "metadata": {
            "tags": []
          }
        }
      ]
    },
    {
      "cell_type": "code",
      "metadata": {
        "colab": {
          "base_uri": "https://localhost:8080/",
          "height": 317
        },
        "id": "JkYn4pzJx_Ba",
        "outputId": "d39097b4-6efa-4015-eab5-bdcb67a693ea"
      },
      "source": [
        "age_gender = device_data_df.groupby(['age_bins', 'Gender'])['age_bins'].count().unstack('Gender').fillna(0)\n",
        "age_gender.plot(kind=\"bar\",stacked=True)\n",
        "plt.xlabel(\"Age Group\")\n",
        "plt.ylabel(\"Frequency\")\n",
        "plt.show()"
      ],
      "execution_count": null,
      "outputs": [
        {
          "output_type": "display_data",
          "data": {
            "image/png": "[encoded data removed]",
            "text/plain": [
              "<Figure size 432x288 with 1 Axes>"
            ]
          },
          "metadata": {
            "tags": []
          }
        }
      ]
    },
    {
      "cell_type": "code",
      "metadata": {
        "id": "AjuG1NXz2nxL"
      },
      "source": [
        "import warnings\n",
        "warnings.filterwarnings('ignore')"
      ],
      "execution_count": null,
      "outputs": []
    },
    {
      "cell_type": "code",
      "metadata": {
        "colab": {
          "base_uri": "https://localhost:8080/",
          "height": 1000
        },
        "id": "2qDll_pDwtA6",
        "outputId": "a37d6b73-cd82-4ae5-90f7-69e24842b945"
      },
      "source": [
        "#Scatter Plot to show age Vs City\n",
        "sns.catplot(x=\"Age\",y=\"city\", data=device_data_df,kind='bar')\n",
        "fig=plt.gcf()\n",
        "fig.set_size_inches(15,30)"
      ],
      "execution_count": null,
      "outputs": [
        {
          "output_type": "display_data",
          "data": {
            "image/png": "[encoded data removed]",
            "text/plain": [
              "<Figure size 1080x2160 with 1 Axes>"
            ]
          },
          "metadata": {
            "tags": []
          }
        }
      ]
    },
    {
      "cell_type": "code",
      "metadata": {
        "colab": {
          "base_uri": "https://localhost:8080/",
          "height": 376
        },
        "id": "uOLSig2h5fny",
        "outputId": "4fdbc8bc-bc67-444b-b420-2699da10b5b5"
      },
      "source": [
        "#Scatter Plot to show age Vs state\n",
        "sns.catplot(x=\"Age\",y=\"state\", data=device_data_df,kind='bar')\n",
        "fig=plt.gcf()\n",
        "fig.set_size_inches(15,5)"
      ],
      "execution_count": null,
      "outputs": [
        {
          "output_type": "display_data",
          "data": {
            "image/png": "[encoded data removed]",
            "text/plain": [
              "<Figure size 1080x360 with 1 Axes>"
            ]
          },
          "metadata": {
            "tags": []
          }
        }
      ]
    },
    {
      "cell_type": "code",
      "metadata": {
        "colab": {
          "base_uri": "https://localhost:8080/",
          "height": 191
        },
        "id": "_zk_apaN-6B9",
        "outputId": "f8767339-8ada-41b2-c707-5da3519a00f2"
      },
      "source": [
        "device_data_df.head()"
      ],
      "execution_count": null,
      "outputs": [
        {
          "output_type": "execute_result",
          "data": {
            "text/html": [
              "<div>\n",
              "<style scoped>\n",
              "    .dataframe tbody tr th:only-of-type {\n",
              "        vertical-align: middle;\n",
              "    }\n",
              "\n",
              "    .dataframe tbody tr th {\n",
              "        vertical-align: top;\n",
              "    }\n",
              "\n",
              "    .dataframe thead th {\n",
              "        text-align: right;\n",
              "    }\n",
              "</style>\n",
              "<table border=\"1\" class=\"dataframe\">\n",
              "  <thead>\n",
              "    <tr style=\"text-align: right;\">\n",
              "      <th></th>\n",
              "      <th>event_id</th>\n",
              "      <th>device_id</th>\n",
              "      <th>timestamp</th>\n",
              "      <th>longitude</th>\n",
              "      <th>latitude</th>\n",
              "      <th>city</th>\n",
              "      <th>state</th>\n",
              "      <th>Gender</th>\n",
              "      <th>Age</th>\n",
              "      <th>Age_Group</th>\n",
              "      <th>Brand</th>\n",
              "      <th>Model</th>\n",
              "      <th>age_bins</th>\n",
              "    </tr>\n",
              "  </thead>\n",
              "  <tbody>\n",
              "    <tr>\n",
              "      <th>0</th>\n",
              "      <td>1836426</td>\n",
              "      <td>3872521790238090752</td>\n",
              "      <td>2016-05-01 20:29:14</td>\n",
              "      <td>71.294802</td>\n",
              "      <td>21.661309</td>\n",
              "      <td>Amreli</td>\n",
              "      <td>Gujarat</td>\n",
              "      <td>M</td>\n",
              "      <td>20</td>\n",
              "      <td>M22-</td>\n",
              "      <td>LeEco</td>\n",
              "      <td>8702</td>\n",
              "      <td>10-20</td>\n",
              "    </tr>\n",
              "    <tr>\n",
              "      <th>1</th>\n",
              "      <td>225132</td>\n",
              "      <td>3872521790238090752</td>\n",
              "      <td>2016-05-01 12:52:44</td>\n",
              "      <td>71.294802</td>\n",
              "      <td>21.661309</td>\n",
              "      <td>Amreli</td>\n",
              "      <td>Gujarat</td>\n",
              "      <td>M</td>\n",
              "      <td>20</td>\n",
              "      <td>M22-</td>\n",
              "      <td>LeEco</td>\n",
              "      <td>8702</td>\n",
              "      <td>10-20</td>\n",
              "    </tr>\n",
              "    <tr>\n",
              "      <th>2</th>\n",
              "      <td>815723</td>\n",
              "      <td>3872521790238090752</td>\n",
              "      <td>2016-05-01 12:28:56</td>\n",
              "      <td>71.294802</td>\n",
              "      <td>21.661309</td>\n",
              "      <td>Amreli</td>\n",
              "      <td>Gujarat</td>\n",
              "      <td>M</td>\n",
              "      <td>20</td>\n",
              "      <td>M22-</td>\n",
              "      <td>LeEco</td>\n",
              "      <td>8702</td>\n",
              "      <td>10-20</td>\n",
              "    </tr>\n",
              "    <tr>\n",
              "      <th>3</th>\n",
              "      <td>1300157</td>\n",
              "      <td>3872521790238090752</td>\n",
              "      <td>2016-05-04 23:24:57</td>\n",
              "      <td>71.294802</td>\n",
              "      <td>21.661309</td>\n",
              "      <td>Amreli</td>\n",
              "      <td>Gujarat</td>\n",
              "      <td>M</td>\n",
              "      <td>20</td>\n",
              "      <td>M22-</td>\n",
              "      <td>LeEco</td>\n",
              "      <td>8702</td>\n",
              "      <td>10-20</td>\n",
              "    </tr>\n",
              "    <tr>\n",
              "      <th>4</th>\n",
              "      <td>233682</td>\n",
              "      <td>3872521790238090752</td>\n",
              "      <td>2016-05-04 19:09:26</td>\n",
              "      <td>71.294802</td>\n",
              "      <td>21.661309</td>\n",
              "      <td>Amreli</td>\n",
              "      <td>Gujarat</td>\n",
              "      <td>M</td>\n",
              "      <td>20</td>\n",
              "      <td>M22-</td>\n",
              "      <td>LeEco</td>\n",
              "      <td>8702</td>\n",
              "      <td>10-20</td>\n",
              "    </tr>\n",
              "  </tbody>\n",
              "</table>\n",
              "</div>"
            ],
            "text/plain": [
              "   event_id            device_id            timestamp  ...  Brand  Model age_bins\n",
              "0   1836426  3872521790238090752  2016-05-01 20:29:14  ...  LeEco   8702    10-20\n",
              "1    225132  3872521790238090752  2016-05-01 12:52:44  ...  LeEco   8702    10-20\n",
              "2    815723  3872521790238090752  2016-05-01 12:28:56  ...  LeEco   8702    10-20\n",
              "3   1300157  3872521790238090752  2016-05-04 23:24:57  ...  LeEco   8702    10-20\n",
              "4    233682  3872521790238090752  2016-05-04 19:09:26  ...  LeEco   8702    10-20\n",
              "\n",
              "[5 rows x 13 columns]"
            ]
          },
          "metadata": {
            "tags": []
          },
          "execution_count": 228
        }
      ]
    },
    {
      "cell_type": "code",
      "metadata": {
        "colab": {
          "base_uri": "https://localhost:8080/"
        },
        "id": "OCOgW3wzAGc5",
        "outputId": "ca539d59-56ad-49c6-8a8b-65142cf6afbb"
      },
      "source": [
        "device_data_df.info()"
      ],
      "execution_count": null,
      "outputs": [
        {
          "output_type": "stream",
          "text": [
            "<class 'pandas.core.frame.DataFrame'>\n",
            "Int64Index: 2641 entries, 0 to 2640\n",
            "Data columns (total 13 columns):\n",
            " #   Column     Non-Null Count  Dtype   \n",
            "---  ------     --------------  -----   \n",
            " 0   event_id   2641 non-null   int64   \n",
            " 1   device_id  2641 non-null   int64   \n",
            " 2   timestamp  2641 non-null   object  \n",
            " 3   longitude  2641 non-null   float64 \n",
            " 4   latitude   2641 non-null   float64 \n",
            " 5   city       2641 non-null   object  \n",
            " 6   state      2641 non-null   object  \n",
            " 7   Gender     2641 non-null   object  \n",
            " 8   Age        2641 non-null   int64   \n",
            " 9   Age_Group  2641 non-null   object  \n",
            " 10  Brand      2641 non-null   object  \n",
            " 11  Model      2641 non-null   object  \n",
            " 12  age_bins   2641 non-null   category\n",
            "dtypes: category(1), float64(2), int64(3), object(7)\n",
            "memory usage: 351.0+ KB\n"
          ],
          "name": "stdout"
        }
      ]
    },
    {
      "cell_type": "code",
      "metadata": {
        "colab": {
          "base_uri": "https://localhost:8080/"
        },
        "id": "gUgdG8UwI7n5",
        "outputId": "5a8df607-d92a-42b4-e6c8-8ba058fcf59f"
      },
      "source": [
        "device_data_df['Brand'].value_counts()"
      ],
      "execution_count": null,
      "outputs": [
        {
          "output_type": "execute_result",
          "data": {
            "text/plain": [
              "Xiaomi    1310\n",
              "Meizu      671\n",
              "LeEco      233\n",
              "vivo       205\n",
              "OPPO        95\n",
              "Other       70\n",
              "HTC         57\n",
              "Name: Brand, dtype: int64"
            ]
          },
          "metadata": {
            "tags": []
          },
          "execution_count": 230
        }
      ]
    }
  ]
}