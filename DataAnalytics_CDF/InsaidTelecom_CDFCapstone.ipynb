{
  "nbformat": 4,
  "nbformat_minor": 0,
  "metadata": {
    "colab": {
      "name": "InsaidTelecom-CDFCapstone1.ipynb",
      "provenance": [],
      "authorship_tag": "ABX9TyPmLT8zoXwyTCjsFqkFMibt",
      "include_colab_link": true
    },
    "kernelspec": {
      "name": "python3",
      "display_name": "Python 3"
    },
    "language_info": {
      "name": "python"
    }
  },
  "cells": [
    {
      "cell_type": "markdown",
      "metadata": {
        "id": "view-in-github",
        "colab_type": "text"
      },
      "source": [
        "<a href=\"https://colab.research.google.com/github/santhoshbvsrk/CapstoneProjects/blob/main/DataAnalytics_CDF/InsaidTelecom_CDFCapstone.ipynb\" target=\"_parent\"><img src=\"https://colab.research.google.com/assets/colab-badge.svg\" alt=\"Open In Colab\"/></a>"
      ]
    },
    {
      "cell_type": "markdown",
      "metadata": {
        "id": "9QXzNhYu958b"
      },
      "source": [
        " \n",
        "\n",
        "*  As the dataset is huge, we'll zip it, upload the zip file to google drive and mount your google drive to colab, unzip it to access data from your colab.\n",
        "\n",
        "\n",
        "*   Import the drive package from google.colab library to mount your google drive on to google colab.\n",
        "\n",
        "\n",
        "\n"
      ]
    },
    {
      "cell_type": "code",
      "metadata": {
        "colab": {
          "base_uri": "https://localhost:8080/"
        },
        "id": "QHCIGBMs6ENg",
        "outputId": "024cd7aa-bad9-48f7-bcf7-11f5d1671ce4"
      },
      "source": [
        "from google.colab import drive\n",
        "drive.mount ('/content/gdrive')"
      ],
      "execution_count": 1,
      "outputs": [
        {
          "output_type": "stream",
          "text": [
            "Mounted at /content/gdrive\n"
          ],
          "name": "stdout"
        }
      ]
    },
    {
      "cell_type": "markdown",
      "metadata": {
        "id": "x6BVhtcc-Icy"
      },
      "source": [
        "\n",
        "\n",
        "*   Once mounting is completed, mention the path of your zip file which contains the data to read."
      ]
    },
    {
      "cell_type": "code",
      "metadata": {
        "colab": {
          "base_uri": "https://localhost:8080/"
        },
        "id": "GRHBT_Ui6sYq",
        "outputId": "96567122-2594-4fbf-d03f-ed6e8f0dd33e"
      },
      "source": [
        "!unzip gdrive/My\\ Drive/CDF_Capstone_Project1/events_data.zip"
      ],
      "execution_count": 4,
      "outputs": [
        {
          "output_type": "stream",
          "text": [
            "Archive:  gdrive/My Drive/CDF_Capstone_Project1/events_data.zip\n",
            "  inflating: events_data.csv         \n"
          ],
          "name": "stdout"
        }
      ]
    },
    {
      "cell_type": "markdown",
      "metadata": {
        "id": "fmURhSSH-YLT"
      },
      "source": [
        "\n",
        "\n",
        "*   Once mounting and unzipping is completed successfully, you should be able to see the zip file contains in your colab folder.\n"
      ]
    },
    {
      "cell_type": "code",
      "metadata": {
        "id": "LxY5H2kh9m-g"
      },
      "source": [
        "import pandas as pd \n",
        "import numpy as np"
      ],
      "execution_count": 5,
      "outputs": []
    },
    {
      "cell_type": "code",
      "metadata": {
        "colab": {
          "base_uri": "https://localhost:8080/",
          "height": 191
        },
        "id": "S1u996mX9qa1",
        "outputId": "cfe2b0dd-432d-4c81-c3a0-536ccfa2e90d"
      },
      "source": [
        "df=pd.read_csv(\"events_data.csv\")\n",
        "df.head()"
      ],
      "execution_count": 6,
      "outputs": [
        {
          "output_type": "execute_result",
          "data": {
            "text/html": [
              "<div>\n",
              "<style scoped>\n",
              "    .dataframe tbody tr th:only-of-type {\n",
              "        vertical-align: middle;\n",
              "    }\n",
              "\n",
              "    .dataframe tbody tr th {\n",
              "        vertical-align: top;\n",
              "    }\n",
              "\n",
              "    .dataframe thead th {\n",
              "        text-align: right;\n",
              "    }\n",
              "</style>\n",
              "<table border=\"1\" class=\"dataframe\">\n",
              "  <thead>\n",
              "    <tr style=\"text-align: right;\">\n",
              "      <th></th>\n",
              "      <th>event_id</th>\n",
              "      <th>device_id</th>\n",
              "      <th>timestamp</th>\n",
              "      <th>longitude</th>\n",
              "      <th>latitude</th>\n",
              "      <th>city</th>\n",
              "      <th>state</th>\n",
              "    </tr>\n",
              "  </thead>\n",
              "  <tbody>\n",
              "    <tr>\n",
              "      <th>0</th>\n",
              "      <td>2765368</td>\n",
              "      <td>2.973348e+18</td>\n",
              "      <td>2016-05-07 22:52:05</td>\n",
              "      <td>77.225676</td>\n",
              "      <td>28.730140</td>\n",
              "      <td>Delhi</td>\n",
              "      <td>Delhi</td>\n",
              "    </tr>\n",
              "    <tr>\n",
              "      <th>1</th>\n",
              "      <td>2955066</td>\n",
              "      <td>4.734221e+18</td>\n",
              "      <td>2016-05-01 20:44:16</td>\n",
              "      <td>88.388361</td>\n",
              "      <td>22.660325</td>\n",
              "      <td>Calcutta</td>\n",
              "      <td>WestBengal</td>\n",
              "    </tr>\n",
              "    <tr>\n",
              "      <th>2</th>\n",
              "      <td>605968</td>\n",
              "      <td>-3.264500e+18</td>\n",
              "      <td>2016-05-02 14:23:04</td>\n",
              "      <td>77.256809</td>\n",
              "      <td>28.757906</td>\n",
              "      <td>Delhi</td>\n",
              "      <td>Delhi</td>\n",
              "    </tr>\n",
              "    <tr>\n",
              "      <th>3</th>\n",
              "      <td>448114</td>\n",
              "      <td>5.731369e+18</td>\n",
              "      <td>2016-05-03 13:21:16</td>\n",
              "      <td>80.343613</td>\n",
              "      <td>13.153332</td>\n",
              "      <td>Chennai</td>\n",
              "      <td>TamilNadu</td>\n",
              "    </tr>\n",
              "    <tr>\n",
              "      <th>4</th>\n",
              "      <td>665740</td>\n",
              "      <td>3.388880e+17</td>\n",
              "      <td>2016-05-06 03:51:05</td>\n",
              "      <td>85.997745</td>\n",
              "      <td>23.842609</td>\n",
              "      <td>Bokaro</td>\n",
              "      <td>Jharkhand</td>\n",
              "    </tr>\n",
              "  </tbody>\n",
              "</table>\n",
              "</div>"
            ],
            "text/plain": [
              "   event_id     device_id            timestamp  ...   latitude      city       state\n",
              "0   2765368  2.973348e+18  2016-05-07 22:52:05  ...  28.730140     Delhi       Delhi\n",
              "1   2955066  4.734221e+18  2016-05-01 20:44:16  ...  22.660325  Calcutta  WestBengal\n",
              "2    605968 -3.264500e+18  2016-05-02 14:23:04  ...  28.757906     Delhi       Delhi\n",
              "3    448114  5.731369e+18  2016-05-03 13:21:16  ...  13.153332   Chennai   TamilNadu\n",
              "4    665740  3.388880e+17  2016-05-06 03:51:05  ...  23.842609    Bokaro   Jharkhand\n",
              "\n",
              "[5 rows x 7 columns]"
            ]
          },
          "metadata": {
            "tags": []
          },
          "execution_count": 6
        }
      ]
    }
  ]
}