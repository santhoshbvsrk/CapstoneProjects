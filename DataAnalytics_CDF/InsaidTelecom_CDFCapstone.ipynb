{
  "nbformat": 4,
  "nbformat_minor": 0,
  "metadata": {
    "colab": {
      "name": "InsaidTelecom-CDFCapstone.ipynb",
      "provenance": [],
      "collapsed_sections": [],
      "authorship_tag": "ABX9TyP8/NIdRyhpPrNAB9zEA3DO",
      "include_colab_link": true
    },
    "kernelspec": {
      "display_name": "Python 3",
      "name": "python3"
    },
    "language_info": {
      "name": "python"
    }
  },
  "cells": [
    {
      "cell_type": "markdown",
      "metadata": {
        "id": "view-in-github",
        "colab_type": "text"
      },
      "source": [
        "<a href=\"https://colab.research.google.com/github/santhoshbvsrk/CapstoneProjects/blob/main/DataAnalytics_CDF/InsaidTelecom_CDFCapstone.ipynb\" target=\"_parent\"><img src=\"https://colab.research.google.com/assets/colab-badge.svg\" alt=\"Open In Colab\"/></a>"
      ]
    },
    {
      "cell_type": "markdown",
      "metadata": {
        "id": "9QXzNhYu958b"
      },
      "source": [
        " \n",
        "\n",
        "*  As the dataset is huge, we'll zip it, upload the zip file to google drive and mount your google drive to colab, unzip it to access data from your colab.\n",
        "\n",
        "\n",
        "*   Import the drive package from google.colab library to mount your google drive on to google colab.\n",
        "\n",
        "\n",
        "\n"
      ]
    },
    {
      "cell_type": "code",
      "metadata": {
        "id": "QHCIGBMs6ENg",
        "colab": {
          "base_uri": "https://localhost:8080/"
        },
        "outputId": "e8dbad06-789e-4656-93de-47775563bf3a"
      },
      "source": [
        "from google.colab import drive\n",
        "drive.mount ('/content/gdrive')"
      ],
      "execution_count": 2,
      "outputs": [
        {
          "output_type": "stream",
          "text": [
            "Drive already mounted at /content/gdrive; to attempt to forcibly remount, call drive.mount(\"/content/gdrive\", force_remount=True).\n"
          ],
          "name": "stdout"
        }
      ]
    },
    {
      "cell_type": "markdown",
      "metadata": {
        "id": "x6BVhtcc-Icy"
      },
      "source": [
        "\n",
        "\n",
        "*   Once mounting is completed, mention the path of your zip file which contains the data to read."
      ]
    },
    {
      "cell_type": "code",
      "metadata": {
        "id": "GRHBT_Ui6sYq",
        "colab": {
          "base_uri": "https://localhost:8080/"
        },
        "outputId": "92d52e5b-3675-43a3-86a2-c5c43b3b1fdd"
      },
      "source": [
        "!unzip gdrive/My\\ Drive/CDF_Capstone_Project/events_data.zip"
      ],
      "execution_count": 3,
      "outputs": [
        {
          "output_type": "stream",
          "text": [
            "Archive:  gdrive/My Drive/CDF_Capstone_Project/events_data.zip\n",
            "  inflating: events_data.csv         \n"
          ],
          "name": "stdout"
        }
      ]
    },
    {
      "cell_type": "markdown",
      "metadata": {
        "id": "fmURhSSH-YLT"
      },
      "source": [
        "\n",
        "\n",
        "*   Once mounting and unzipping is completed successfully, you should be able to see the zip file contains in your colab folder.\n"
      ]
    },
    {
      "cell_type": "code",
      "metadata": {
        "id": "LxY5H2kh9m-g"
      },
      "source": [
        "import pandas as pd \n",
        "import numpy as np"
      ],
      "execution_count": 4,
      "outputs": []
    },
    {
      "cell_type": "code",
      "metadata": {
        "id": "S1u996mX9qa1",
        "colab": {
          "base_uri": "https://localhost:8080/",
          "height": 191
        },
        "outputId": "2fde2696-fbe3-4ed6-8f83-b0550f106e6b"
      },
      "source": [
        "events_data_df=pd.read_csv(\"events_data.csv\")\n",
        "events_data_df.head()"
      ],
      "execution_count": 5,
      "outputs": [
        {
          "output_type": "execute_result",
          "data": {
            "text/html": [
              "<div>\n",
              "<style scoped>\n",
              "    .dataframe tbody tr th:only-of-type {\n",
              "        vertical-align: middle;\n",
              "    }\n",
              "\n",
              "    .dataframe tbody tr th {\n",
              "        vertical-align: top;\n",
              "    }\n",
              "\n",
              "    .dataframe thead th {\n",
              "        text-align: right;\n",
              "    }\n",
              "</style>\n",
              "<table border=\"1\" class=\"dataframe\">\n",
              "  <thead>\n",
              "    <tr style=\"text-align: right;\">\n",
              "      <th></th>\n",
              "      <th>event_id</th>\n",
              "      <th>device_id</th>\n",
              "      <th>timestamp</th>\n",
              "      <th>longitude</th>\n",
              "      <th>latitude</th>\n",
              "      <th>city</th>\n",
              "      <th>state</th>\n",
              "    </tr>\n",
              "  </thead>\n",
              "  <tbody>\n",
              "    <tr>\n",
              "      <th>0</th>\n",
              "      <td>2765368</td>\n",
              "      <td>2.973348e+18</td>\n",
              "      <td>2016-05-07 22:52:05</td>\n",
              "      <td>77.225676</td>\n",
              "      <td>28.730140</td>\n",
              "      <td>Delhi</td>\n",
              "      <td>Delhi</td>\n",
              "    </tr>\n",
              "    <tr>\n",
              "      <th>1</th>\n",
              "      <td>2955066</td>\n",
              "      <td>4.734221e+18</td>\n",
              "      <td>2016-05-01 20:44:16</td>\n",
              "      <td>88.388361</td>\n",
              "      <td>22.660325</td>\n",
              "      <td>Calcutta</td>\n",
              "      <td>WestBengal</td>\n",
              "    </tr>\n",
              "    <tr>\n",
              "      <th>2</th>\n",
              "      <td>605968</td>\n",
              "      <td>-3.264500e+18</td>\n",
              "      <td>2016-05-02 14:23:04</td>\n",
              "      <td>77.256809</td>\n",
              "      <td>28.757906</td>\n",
              "      <td>Delhi</td>\n",
              "      <td>Delhi</td>\n",
              "    </tr>\n",
              "    <tr>\n",
              "      <th>3</th>\n",
              "      <td>448114</td>\n",
              "      <td>5.731369e+18</td>\n",
              "      <td>2016-05-03 13:21:16</td>\n",
              "      <td>80.343613</td>\n",
              "      <td>13.153332</td>\n",
              "      <td>Chennai</td>\n",
              "      <td>TamilNadu</td>\n",
              "    </tr>\n",
              "    <tr>\n",
              "      <th>4</th>\n",
              "      <td>665740</td>\n",
              "      <td>3.388880e+17</td>\n",
              "      <td>2016-05-06 03:51:05</td>\n",
              "      <td>85.997745</td>\n",
              "      <td>23.842609</td>\n",
              "      <td>Bokaro</td>\n",
              "      <td>Jharkhand</td>\n",
              "    </tr>\n",
              "  </tbody>\n",
              "</table>\n",
              "</div>"
            ],
            "text/plain": [
              "   event_id     device_id            timestamp  ...   latitude      city       state\n",
              "0   2765368  2.973348e+18  2016-05-07 22:52:05  ...  28.730140     Delhi       Delhi\n",
              "1   2955066  4.734221e+18  2016-05-01 20:44:16  ...  22.660325  Calcutta  WestBengal\n",
              "2    605968 -3.264500e+18  2016-05-02 14:23:04  ...  28.757906     Delhi       Delhi\n",
              "3    448114  5.731369e+18  2016-05-03 13:21:16  ...  13.153332   Chennai   TamilNadu\n",
              "4    665740  3.388880e+17  2016-05-06 03:51:05  ...  23.842609    Bokaro   Jharkhand\n",
              "\n",
              "[5 rows x 7 columns]"
            ]
          },
          "metadata": {
            "tags": []
          },
          "execution_count": 5
        }
      ]
    },
    {
      "cell_type": "code",
      "metadata": {
        "colab": {
          "base_uri": "https://localhost:8080/"
        },
        "id": "sU5F2mCFnomJ",
        "outputId": "6a26942d-2166-4471-b115-bd2bccbcdf87"
      },
      "source": [
        "events_data_df['state'].value_counts()"
      ],
      "execution_count": 6,
      "outputs": [
        {
          "output_type": "execute_result",
          "data": {
            "text/plain": [
              "Delhi                       751733\n",
              "Maharashtra                 677105\n",
              "TamilNadu                   436282\n",
              "AndhraPradesh               321332\n",
              "MadhyaPradesh               232690\n",
              "Rajasthan                   196361\n",
              "WestBengal                  196161\n",
              "Karnataka                    99058\n",
              "UttarPradesh                 94750\n",
              "Gujarat                      42881\n",
              "Bihar                        35472\n",
              "Punjab                       26195\n",
              "Kerala                       23148\n",
              "Haryana                      21053\n",
              "Jharkhand                    18060\n",
              "Orissa                       15904\n",
              "Telangana                    12784\n",
              "Assam                        12021\n",
              "Chhattisgarh                  9754\n",
              "Uttaranchal                   7720\n",
              "JammuandKashmir               5385\n",
              "Goa                           3250\n",
              "Nagaland                      2298\n",
              "Pondicherry                   1741\n",
              "Mizoram                       1613\n",
              "AndamanandNicobarIslands      1515\n",
              "Meghalaya                     1515\n",
              "HimachalPradesh               1409\n",
              "Manipur                        989\n",
              "Chandigarh                     894\n",
              "Tripura                        892\n",
              "ArunachalPradesh               608\n",
              "Name: state, dtype: int64"
            ]
          },
          "metadata": {
            "tags": []
          },
          "execution_count": 6
        }
      ]
    },
    {
      "cell_type": "markdown",
      "metadata": {
        "id": "sI9plkARzHBD"
      },
      "source": [
        "Filtering out events_data for only 6 states as per the requirement given."
      ]
    },
    {
      "cell_type": "code",
      "metadata": {
        "id": "h63K94kLtzMK"
      },
      "source": [
        "events_data_filtered_df= events_data_df[(events_data_df.state == 'WestBengal') | (events_data_df.state == 'Karnataka') | (events_data_df.state == 'Gujarat') | (events_data_df.state == 'Bihar') | (events_data_df.state == 'Punjab') | (events_data_df.state == 'Kerala')]"
      ],
      "execution_count": 7,
      "outputs": []
    },
    {
      "cell_type": "code",
      "metadata": {
        "colab": {
          "base_uri": "https://localhost:8080/"
        },
        "id": "Z4Ab05fzCRTB",
        "outputId": "f780bf8d-e3f6-46e7-859b-7f13b431219a"
      },
      "source": [
        "events_data_filtered_df.info()"
      ],
      "execution_count": 8,
      "outputs": [
        {
          "output_type": "stream",
          "text": [
            "<class 'pandas.core.frame.DataFrame'>\n",
            "Int64Index: 422915 entries, 1 to 3252921\n",
            "Data columns (total 7 columns):\n",
            " #   Column     Non-Null Count   Dtype  \n",
            "---  ------     --------------   -----  \n",
            " 0   event_id   422915 non-null  int64  \n",
            " 1   device_id  422867 non-null  float64\n",
            " 2   timestamp  422915 non-null  object \n",
            " 3   longitude  422873 non-null  float64\n",
            " 4   latitude   422873 non-null  float64\n",
            " 5   city       422915 non-null  object \n",
            " 6   state      422915 non-null  object \n",
            "dtypes: float64(3), int64(1), object(3)\n",
            "memory usage: 25.8+ MB\n"
          ],
          "name": "stdout"
        }
      ]
    },
    {
      "cell_type": "markdown",
      "metadata": {
        "id": "JN7DDhsnqTuS"
      },
      "source": [
        "Installing mysql connector for python"
      ]
    },
    {
      "cell_type": "code",
      "metadata": {
        "colab": {
          "base_uri": "https://localhost:8080/"
        },
        "id": "zqVHeEOaqKlP",
        "outputId": "196327cb-b00d-4b4d-9f1a-14cc539bb34e"
      },
      "source": [
        "pip install mysql-connector-python-rf"
      ],
      "execution_count": 9,
      "outputs": [
        {
          "output_type": "stream",
          "text": [
            "Collecting mysql-connector-python-rf\n",
            "\u001b[?25l  Downloading https://files.pythonhosted.org/packages/21/79/2ff01ab7aa08db3a16b70b990c579c1024c6b2a734263cc7513a758867de/mysql-connector-python-rf-2.2.2.tar.gz (11.9MB)\n",
            "\u001b[K     |████████████████████████████████| 11.9MB 270kB/s \n",
            "\u001b[?25hBuilding wheels for collected packages: mysql-connector-python-rf\n",
            "  Building wheel for mysql-connector-python-rf (setup.py) ... \u001b[?25l\u001b[?25hdone\n",
            "  Created wheel for mysql-connector-python-rf: filename=mysql_connector_python_rf-2.2.2-cp37-cp37m-linux_x86_64.whl size=249456 sha256=e7c5799e68e5abadb2754c1832ff0ed2ccebf7ba3236ee75e3929168aaaf12fe\n",
            "  Stored in directory: /root/.cache/pip/wheels/87/58/fb/d95c84fad7e1bebfed324c13e107ebb08e1997c9226532859a\n",
            "Successfully built mysql-connector-python-rf\n",
            "Installing collected packages: mysql-connector-python-rf\n",
            "Successfully installed mysql-connector-python-rf-2.2.2\n"
          ],
          "name": "stdout"
        }
      ]
    },
    {
      "cell_type": "markdown",
      "metadata": {
        "id": "ncnH2UjaDZpf"
      },
      "source": [
        "import package to connect to mysql and loading data from tables to dataframes"
      ]
    },
    {
      "cell_type": "code",
      "metadata": {
        "colab": {
          "base_uri": "https://localhost:8080/"
        },
        "id": "yzCEUtQfExr-",
        "outputId": "f6e37fd6-6475-40dc-f20e-441387f5d7ce"
      },
      "source": [
        "import mysql.connector\n",
        "\n",
        "#this is to connect to mysql database\n",
        "mydb = mysql.connector.connect(\n",
        "  host=\"cpanel.insaid.co\",\n",
        "  user=\"student\",\n",
        "  password=\"student\",\n",
        "  database=\"Capstone1\"\n",
        ")\n",
        "\n",
        "#declaring a cursor variable of database to hold data of a specific table\n",
        "mycursor = mydb.cursor()\n",
        "\n",
        "#mycursor variable holds the entire data from gender_age_train table\n",
        "mycursor.execute(\"SELECT * FROM gender_age_train\")\n",
        "\n",
        "#using fetchall function to get data from cursor and populating in another variable\n",
        "myresult = mycursor.fetchall()\n",
        "\n",
        "#inserting table data from variable into a dataframe\n",
        "gender_age_train_df = pd.DataFrame(myresult,columns=['device_id','Gender','Age','Age_Group'])\n",
        "\n",
        "#mycursor variable holds the entire data from phone_brand_device_model table\n",
        "mycursor.execute(\"SELECT * FROM phone_brand_device_model\")\n",
        "\n",
        "#using fetchall function to get data from cursor and populating in another variable, this overwrites data from previous load\n",
        "myresult = mycursor.fetchall()\n",
        "\n",
        "#inserting table data from variable into a dataframe\n",
        "phone_brand_device_model_df = pd.DataFrame(myresult,columns=['device_id','Brand','Model'])\n",
        "\n",
        "#printing sample data from the dataframes\n",
        "print(\"Data from Gender_Age_Train Table\")\n",
        "print(\"---------------------------------\")\n",
        "print(gender_age_train_df.head())\n",
        "print(\"**************************************\")\n",
        "print(\"\\n\")\n",
        "print(\"Data from Phone_Brand_Device_Model Table\")\n",
        "print(\"-----------------------------------------\")\n",
        "print(phone_brand_device_model_df.head())\n",
        "print(\"**************************************\")"
      ],
      "execution_count": 10,
      "outputs": [
        {
          "output_type": "stream",
          "text": [
            "Data from Gender_Age_Train Table\n",
            "---------------------------------\n",
            "             device_id Gender  Age Age_Group\n",
            "0 -8076087639492063270      M   35    M32-38\n",
            "1 -2897161552818060146      M   35    M32-38\n",
            "2 -8260683887967679142      M   35    M32-38\n",
            "3 -4938849341048082022      M   30    M29-31\n",
            "4   245133531816851882      M   30    M29-31\n",
            "**************************************\n",
            "\n",
            "\n",
            "Data from Phone_Brand_Device_Model Table\n",
            "-----------------------------------------\n",
            "             device_id Brand    Model\n",
            "0  1877775838486905855  vivo      Y13\n",
            "1 -3766087376657242966    小米     V183\n",
            "2 -6238937574958215831  OPPO      R7s\n",
            "3  8973197758510677470    三星    A368t\n",
            "4 -2015528097870762664    小米  红米Note2\n",
            "**************************************\n"
          ],
          "name": "stdout"
        }
      ]
    },
    {
      "cell_type": "code",
      "metadata": {
        "colab": {
          "base_uri": "https://localhost:8080/"
        },
        "id": "TRHAsDT8MHz9",
        "outputId": "eb8de60a-c1cd-458c-bf5d-195766f17dd1"
      },
      "source": [
        "events_data_filtered_df.info()"
      ],
      "execution_count": 11,
      "outputs": [
        {
          "output_type": "stream",
          "text": [
            "<class 'pandas.core.frame.DataFrame'>\n",
            "Int64Index: 422915 entries, 1 to 3252921\n",
            "Data columns (total 7 columns):\n",
            " #   Column     Non-Null Count   Dtype  \n",
            "---  ------     --------------   -----  \n",
            " 0   event_id   422915 non-null  int64  \n",
            " 1   device_id  422867 non-null  float64\n",
            " 2   timestamp  422915 non-null  object \n",
            " 3   longitude  422873 non-null  float64\n",
            " 4   latitude   422873 non-null  float64\n",
            " 5   city       422915 non-null  object \n",
            " 6   state      422915 non-null  object \n",
            "dtypes: float64(3), int64(1), object(3)\n",
            "memory usage: 25.8+ MB\n"
          ],
          "name": "stdout"
        }
      ]
    },
    {
      "cell_type": "code",
      "metadata": {
        "colab": {
          "base_uri": "https://localhost:8080/"
        },
        "id": "ONMl2ZzuMTuB",
        "outputId": "a2d016ca-ab08-47c4-fce2-efa7d321692b"
      },
      "source": [
        "gender_age_train_df.info()"
      ],
      "execution_count": 12,
      "outputs": [
        {
          "output_type": "stream",
          "text": [
            "<class 'pandas.core.frame.DataFrame'>\n",
            "RangeIndex: 74645 entries, 0 to 74644\n",
            "Data columns (total 4 columns):\n",
            " #   Column     Non-Null Count  Dtype \n",
            "---  ------     --------------  ----- \n",
            " 0   device_id  74645 non-null  int64 \n",
            " 1   Gender     74645 non-null  object\n",
            " 2   Age        74645 non-null  int64 \n",
            " 3   Age_Group  74645 non-null  object\n",
            "dtypes: int64(2), object(2)\n",
            "memory usage: 2.3+ MB\n"
          ],
          "name": "stdout"
        }
      ]
    },
    {
      "cell_type": "code",
      "metadata": {
        "colab": {
          "base_uri": "https://localhost:8080/"
        },
        "id": "RmQCvNB1MT2r",
        "outputId": "6cbee21d-e2b3-4e63-d9bb-c914a5b0f613"
      },
      "source": [
        "phone_brand_device_model_df.info()"
      ],
      "execution_count": 13,
      "outputs": [
        {
          "output_type": "stream",
          "text": [
            "<class 'pandas.core.frame.DataFrame'>\n",
            "RangeIndex: 87726 entries, 0 to 87725\n",
            "Data columns (total 3 columns):\n",
            " #   Column     Non-Null Count  Dtype \n",
            "---  ------     --------------  ----- \n",
            " 0   device_id  87726 non-null  int64 \n",
            " 1   Brand      87726 non-null  object\n",
            " 2   Model      87726 non-null  object\n",
            "dtypes: int64(1), object(2)\n",
            "memory usage: 2.0+ MB\n"
          ],
          "name": "stdout"
        }
      ]
    },
    {
      "cell_type": "code",
      "metadata": {
        "colab": {
          "base_uri": "https://localhost:8080/"
        },
        "id": "2Qco7DdQ8bW2",
        "outputId": "fc0b5e79-c79b-47a3-87f9-c7e397a44313"
      },
      "source": [
        "gender_age_train_df['Gender'].value_counts()"
      ],
      "execution_count": 14,
      "outputs": [
        {
          "output_type": "execute_result",
          "data": {
            "text/plain": [
              "M    47904\n",
              "F    26741\n",
              "Name: Gender, dtype: int64"
            ]
          },
          "metadata": {
            "tags": []
          },
          "execution_count": 14
        }
      ]
    },
    {
      "cell_type": "markdown",
      "metadata": {
        "id": "Zj4cuU7m7iZo"
      },
      "source": [
        "No entries in gender_age_train dataframe with null Gender"
      ]
    },
    {
      "cell_type": "code",
      "metadata": {
        "colab": {
          "base_uri": "https://localhost:8080/"
        },
        "id": "jVr0tdAt8zca",
        "outputId": "4e90eb5a-a51b-457b-e883-2197ecb57161"
      },
      "source": [
        "phone_brand_device_model_df['Brand'].value_counts(ascending=False)"
      ],
      "execution_count": 15,
      "outputs": [
        {
          "output_type": "execute_result",
          "data": {
            "text/plain": [
              "小米      21645\n",
              "三星      19211\n",
              "华为      15181\n",
              "vivo     7596\n",
              "OPPO     6717\n",
              "        ...  \n",
              "瑞高          1\n",
              "世纪星         1\n",
              "恒宇丰         1\n",
              "瑞米          1\n",
              "E人E本        1\n",
              "Name: Brand, Length: 116, dtype: int64"
            ]
          },
          "metadata": {
            "tags": []
          },
          "execution_count": 15
        }
      ]
    },
    {
      "cell_type": "markdown",
      "metadata": {
        "id": "eIiWW9cW7mD5"
      },
      "source": [
        "No records in phone_brand_device_model dataframe with null Brand"
      ]
    },
    {
      "cell_type": "markdown",
      "metadata": {
        "id": "LKuMGCZxWh5g"
      },
      "source": [
        "Merging Dataframes on device_id to create a single dataframe which contains customer age, gender, mobile brand and model"
      ]
    },
    {
      "cell_type": "code",
      "metadata": {
        "colab": {
          "base_uri": "https://localhost:8080/",
          "height": 391
        },
        "id": "R-0klUXfWP4o",
        "outputId": "1e370fb9-6697-4904-ac91-78705f48fc08"
      },
      "source": [
        "device_data_df=pd.merge(events_data_filtered_df,gender_age_train_df,on='device_id',how='inner') #performing inner join to fetch only matching device_id records\n",
        "device_data_df.fillna(0,inplace=True) #replacing null values in the columns with 0\n",
        "device_data_df"
      ],
      "execution_count": 16,
      "outputs": [
        {
          "output_type": "execute_result",
          "data": {
            "text/html": [
              "<div>\n",
              "<style scoped>\n",
              "    .dataframe tbody tr th:only-of-type {\n",
              "        vertical-align: middle;\n",
              "    }\n",
              "\n",
              "    .dataframe tbody tr th {\n",
              "        vertical-align: top;\n",
              "    }\n",
              "\n",
              "    .dataframe thead th {\n",
              "        text-align: right;\n",
              "    }\n",
              "</style>\n",
              "<table border=\"1\" class=\"dataframe\">\n",
              "  <thead>\n",
              "    <tr style=\"text-align: right;\">\n",
              "      <th></th>\n",
              "      <th>event_id</th>\n",
              "      <th>device_id</th>\n",
              "      <th>timestamp</th>\n",
              "      <th>longitude</th>\n",
              "      <th>latitude</th>\n",
              "      <th>city</th>\n",
              "      <th>state</th>\n",
              "      <th>Gender</th>\n",
              "      <th>Age</th>\n",
              "      <th>Age_Group</th>\n",
              "    </tr>\n",
              "  </thead>\n",
              "  <tbody>\n",
              "    <tr>\n",
              "      <th>0</th>\n",
              "      <td>1836426</td>\n",
              "      <td>3.872522e+18</td>\n",
              "      <td>2016-05-01 20:29:14</td>\n",
              "      <td>71.294802</td>\n",
              "      <td>21.661309</td>\n",
              "      <td>Amreli</td>\n",
              "      <td>Gujarat</td>\n",
              "      <td>M</td>\n",
              "      <td>20</td>\n",
              "      <td>M22-</td>\n",
              "    </tr>\n",
              "    <tr>\n",
              "      <th>1</th>\n",
              "      <td>225132</td>\n",
              "      <td>3.872522e+18</td>\n",
              "      <td>2016-05-01 12:52:44</td>\n",
              "      <td>71.294802</td>\n",
              "      <td>21.661309</td>\n",
              "      <td>Amreli</td>\n",
              "      <td>Gujarat</td>\n",
              "      <td>M</td>\n",
              "      <td>20</td>\n",
              "      <td>M22-</td>\n",
              "    </tr>\n",
              "    <tr>\n",
              "      <th>2</th>\n",
              "      <td>815723</td>\n",
              "      <td>3.872522e+18</td>\n",
              "      <td>2016-05-01 12:28:56</td>\n",
              "      <td>71.294802</td>\n",
              "      <td>21.661309</td>\n",
              "      <td>Amreli</td>\n",
              "      <td>Gujarat</td>\n",
              "      <td>M</td>\n",
              "      <td>20</td>\n",
              "      <td>M22-</td>\n",
              "    </tr>\n",
              "    <tr>\n",
              "      <th>3</th>\n",
              "      <td>1300157</td>\n",
              "      <td>3.872522e+18</td>\n",
              "      <td>2016-05-04 23:24:57</td>\n",
              "      <td>71.294802</td>\n",
              "      <td>21.661309</td>\n",
              "      <td>Amreli</td>\n",
              "      <td>Gujarat</td>\n",
              "      <td>M</td>\n",
              "      <td>20</td>\n",
              "      <td>M22-</td>\n",
              "    </tr>\n",
              "    <tr>\n",
              "      <th>4</th>\n",
              "      <td>233682</td>\n",
              "      <td>3.872522e+18</td>\n",
              "      <td>2016-05-04 19:09:26</td>\n",
              "      <td>71.294802</td>\n",
              "      <td>21.661309</td>\n",
              "      <td>Amreli</td>\n",
              "      <td>Gujarat</td>\n",
              "      <td>M</td>\n",
              "      <td>20</td>\n",
              "      <td>M22-</td>\n",
              "    </tr>\n",
              "    <tr>\n",
              "      <th>...</th>\n",
              "      <td>...</td>\n",
              "      <td>...</td>\n",
              "      <td>...</td>\n",
              "      <td>...</td>\n",
              "      <td>...</td>\n",
              "      <td>...</td>\n",
              "      <td>...</td>\n",
              "      <td>...</td>\n",
              "      <td>...</td>\n",
              "      <td>...</td>\n",
              "    </tr>\n",
              "    <tr>\n",
              "      <th>2636</th>\n",
              "      <td>1530731</td>\n",
              "      <td>-2.288468e+17</td>\n",
              "      <td>2016-05-07 10:35:00</td>\n",
              "      <td>88.413496</td>\n",
              "      <td>22.561318</td>\n",
              "      <td>Chakdaha</td>\n",
              "      <td>WestBengal</td>\n",
              "      <td>F</td>\n",
              "      <td>63</td>\n",
              "      <td>F43+</td>\n",
              "    </tr>\n",
              "    <tr>\n",
              "      <th>2637</th>\n",
              "      <td>2967042</td>\n",
              "      <td>-2.288468e+17</td>\n",
              "      <td>2016-05-01 08:08:46</td>\n",
              "      <td>88.413496</td>\n",
              "      <td>22.561318</td>\n",
              "      <td>Chakdaha</td>\n",
              "      <td>WestBengal</td>\n",
              "      <td>F</td>\n",
              "      <td>63</td>\n",
              "      <td>F43+</td>\n",
              "    </tr>\n",
              "    <tr>\n",
              "      <th>2638</th>\n",
              "      <td>1334106</td>\n",
              "      <td>-2.734689e+18</td>\n",
              "      <td>2016-05-05 10:00:05</td>\n",
              "      <td>72.616658</td>\n",
              "      <td>23.056911</td>\n",
              "      <td>Ahmadabad</td>\n",
              "      <td>Gujarat</td>\n",
              "      <td>M</td>\n",
              "      <td>27</td>\n",
              "      <td>M27-28</td>\n",
              "    </tr>\n",
              "    <tr>\n",
              "      <th>2639</th>\n",
              "      <td>1776773</td>\n",
              "      <td>3.711362e+18</td>\n",
              "      <td>2016-05-02 15:54:13</td>\n",
              "      <td>70.861036</td>\n",
              "      <td>22.872394</td>\n",
              "      <td>Morvi</td>\n",
              "      <td>Gujarat</td>\n",
              "      <td>M</td>\n",
              "      <td>31</td>\n",
              "      <td>M29-31</td>\n",
              "    </tr>\n",
              "    <tr>\n",
              "      <th>2640</th>\n",
              "      <td>1608869</td>\n",
              "      <td>3.501847e+18</td>\n",
              "      <td>2016-05-04 13:27:20</td>\n",
              "      <td>72.607350</td>\n",
              "      <td>23.763381</td>\n",
              "      <td>Visnagar</td>\n",
              "      <td>Gujarat</td>\n",
              "      <td>M</td>\n",
              "      <td>28</td>\n",
              "      <td>M27-28</td>\n",
              "    </tr>\n",
              "  </tbody>\n",
              "</table>\n",
              "<p>2641 rows × 10 columns</p>\n",
              "</div>"
            ],
            "text/plain": [
              "      event_id     device_id            timestamp  ...  Gender  Age Age_Group\n",
              "0      1836426  3.872522e+18  2016-05-01 20:29:14  ...       M   20      M22-\n",
              "1       225132  3.872522e+18  2016-05-01 12:52:44  ...       M   20      M22-\n",
              "2       815723  3.872522e+18  2016-05-01 12:28:56  ...       M   20      M22-\n",
              "3      1300157  3.872522e+18  2016-05-04 23:24:57  ...       M   20      M22-\n",
              "4       233682  3.872522e+18  2016-05-04 19:09:26  ...       M   20      M22-\n",
              "...        ...           ...                  ...  ...     ...  ...       ...\n",
              "2636   1530731 -2.288468e+17  2016-05-07 10:35:00  ...       F   63      F43+\n",
              "2637   2967042 -2.288468e+17  2016-05-01 08:08:46  ...       F   63      F43+\n",
              "2638   1334106 -2.734689e+18  2016-05-05 10:00:05  ...       M   27    M27-28\n",
              "2639   1776773  3.711362e+18  2016-05-02 15:54:13  ...       M   31    M29-31\n",
              "2640   1608869  3.501847e+18  2016-05-04 13:27:20  ...       M   28    M27-28\n",
              "\n",
              "[2641 rows x 10 columns]"
            ]
          },
          "metadata": {
            "tags": []
          },
          "execution_count": 16
        }
      ]
    },
    {
      "cell_type": "code",
      "metadata": {
        "colab": {
          "base_uri": "https://localhost:8080/",
          "height": 391
        },
        "id": "k2byoyqqXjqP",
        "outputId": "9c4cf460-fe5d-4eb3-d923-498697b2e158"
      },
      "source": [
        "device_data_df=pd.merge(device_data_df,phone_brand_device_model_df,on='device_id',how='inner')\n",
        "device_data_df.fillna(0,inplace=True)\n",
        "device_data_df"
      ],
      "execution_count": 17,
      "outputs": [
        {
          "output_type": "execute_result",
          "data": {
            "text/html": [
              "<div>\n",
              "<style scoped>\n",
              "    .dataframe tbody tr th:only-of-type {\n",
              "        vertical-align: middle;\n",
              "    }\n",
              "\n",
              "    .dataframe tbody tr th {\n",
              "        vertical-align: top;\n",
              "    }\n",
              "\n",
              "    .dataframe thead th {\n",
              "        text-align: right;\n",
              "    }\n",
              "</style>\n",
              "<table border=\"1\" class=\"dataframe\">\n",
              "  <thead>\n",
              "    <tr style=\"text-align: right;\">\n",
              "      <th></th>\n",
              "      <th>event_id</th>\n",
              "      <th>device_id</th>\n",
              "      <th>timestamp</th>\n",
              "      <th>longitude</th>\n",
              "      <th>latitude</th>\n",
              "      <th>city</th>\n",
              "      <th>state</th>\n",
              "      <th>Gender</th>\n",
              "      <th>Age</th>\n",
              "      <th>Age_Group</th>\n",
              "      <th>Brand</th>\n",
              "      <th>Model</th>\n",
              "    </tr>\n",
              "  </thead>\n",
              "  <tbody>\n",
              "    <tr>\n",
              "      <th>0</th>\n",
              "      <td>1836426</td>\n",
              "      <td>3.872522e+18</td>\n",
              "      <td>2016-05-01 20:29:14</td>\n",
              "      <td>71.294802</td>\n",
              "      <td>21.661309</td>\n",
              "      <td>Amreli</td>\n",
              "      <td>Gujarat</td>\n",
              "      <td>M</td>\n",
              "      <td>20</td>\n",
              "      <td>M22-</td>\n",
              "      <td>酷派</td>\n",
              "      <td>8702</td>\n",
              "    </tr>\n",
              "    <tr>\n",
              "      <th>1</th>\n",
              "      <td>225132</td>\n",
              "      <td>3.872522e+18</td>\n",
              "      <td>2016-05-01 12:52:44</td>\n",
              "      <td>71.294802</td>\n",
              "      <td>21.661309</td>\n",
              "      <td>Amreli</td>\n",
              "      <td>Gujarat</td>\n",
              "      <td>M</td>\n",
              "      <td>20</td>\n",
              "      <td>M22-</td>\n",
              "      <td>酷派</td>\n",
              "      <td>8702</td>\n",
              "    </tr>\n",
              "    <tr>\n",
              "      <th>2</th>\n",
              "      <td>815723</td>\n",
              "      <td>3.872522e+18</td>\n",
              "      <td>2016-05-01 12:28:56</td>\n",
              "      <td>71.294802</td>\n",
              "      <td>21.661309</td>\n",
              "      <td>Amreli</td>\n",
              "      <td>Gujarat</td>\n",
              "      <td>M</td>\n",
              "      <td>20</td>\n",
              "      <td>M22-</td>\n",
              "      <td>酷派</td>\n",
              "      <td>8702</td>\n",
              "    </tr>\n",
              "    <tr>\n",
              "      <th>3</th>\n",
              "      <td>1300157</td>\n",
              "      <td>3.872522e+18</td>\n",
              "      <td>2016-05-04 23:24:57</td>\n",
              "      <td>71.294802</td>\n",
              "      <td>21.661309</td>\n",
              "      <td>Amreli</td>\n",
              "      <td>Gujarat</td>\n",
              "      <td>M</td>\n",
              "      <td>20</td>\n",
              "      <td>M22-</td>\n",
              "      <td>酷派</td>\n",
              "      <td>8702</td>\n",
              "    </tr>\n",
              "    <tr>\n",
              "      <th>4</th>\n",
              "      <td>233682</td>\n",
              "      <td>3.872522e+18</td>\n",
              "      <td>2016-05-04 19:09:26</td>\n",
              "      <td>71.294802</td>\n",
              "      <td>21.661309</td>\n",
              "      <td>Amreli</td>\n",
              "      <td>Gujarat</td>\n",
              "      <td>M</td>\n",
              "      <td>20</td>\n",
              "      <td>M22-</td>\n",
              "      <td>酷派</td>\n",
              "      <td>8702</td>\n",
              "    </tr>\n",
              "    <tr>\n",
              "      <th>...</th>\n",
              "      <td>...</td>\n",
              "      <td>...</td>\n",
              "      <td>...</td>\n",
              "      <td>...</td>\n",
              "      <td>...</td>\n",
              "      <td>...</td>\n",
              "      <td>...</td>\n",
              "      <td>...</td>\n",
              "      <td>...</td>\n",
              "      <td>...</td>\n",
              "      <td>...</td>\n",
              "      <td>...</td>\n",
              "    </tr>\n",
              "    <tr>\n",
              "      <th>2636</th>\n",
              "      <td>1530731</td>\n",
              "      <td>-2.288468e+17</td>\n",
              "      <td>2016-05-07 10:35:00</td>\n",
              "      <td>88.413496</td>\n",
              "      <td>22.561318</td>\n",
              "      <td>Chakdaha</td>\n",
              "      <td>WestBengal</td>\n",
              "      <td>F</td>\n",
              "      <td>63</td>\n",
              "      <td>F43+</td>\n",
              "      <td>魅族</td>\n",
              "      <td>MX3</td>\n",
              "    </tr>\n",
              "    <tr>\n",
              "      <th>2637</th>\n",
              "      <td>2967042</td>\n",
              "      <td>-2.288468e+17</td>\n",
              "      <td>2016-05-01 08:08:46</td>\n",
              "      <td>88.413496</td>\n",
              "      <td>22.561318</td>\n",
              "      <td>Chakdaha</td>\n",
              "      <td>WestBengal</td>\n",
              "      <td>F</td>\n",
              "      <td>63</td>\n",
              "      <td>F43+</td>\n",
              "      <td>魅族</td>\n",
              "      <td>MX3</td>\n",
              "    </tr>\n",
              "    <tr>\n",
              "      <th>2638</th>\n",
              "      <td>1334106</td>\n",
              "      <td>-2.734689e+18</td>\n",
              "      <td>2016-05-05 10:00:05</td>\n",
              "      <td>72.616658</td>\n",
              "      <td>23.056911</td>\n",
              "      <td>Ahmadabad</td>\n",
              "      <td>Gujarat</td>\n",
              "      <td>M</td>\n",
              "      <td>27</td>\n",
              "      <td>M27-28</td>\n",
              "      <td>华为</td>\n",
              "      <td>荣耀3X畅玩版</td>\n",
              "    </tr>\n",
              "    <tr>\n",
              "      <th>2639</th>\n",
              "      <td>1776773</td>\n",
              "      <td>3.711362e+18</td>\n",
              "      <td>2016-05-02 15:54:13</td>\n",
              "      <td>70.861036</td>\n",
              "      <td>22.872394</td>\n",
              "      <td>Morvi</td>\n",
              "      <td>Gujarat</td>\n",
              "      <td>M</td>\n",
              "      <td>31</td>\n",
              "      <td>M29-31</td>\n",
              "      <td>三星</td>\n",
              "      <td>Galaxy S6</td>\n",
              "    </tr>\n",
              "    <tr>\n",
              "      <th>2640</th>\n",
              "      <td>1608869</td>\n",
              "      <td>3.501847e+18</td>\n",
              "      <td>2016-05-04 13:27:20</td>\n",
              "      <td>72.607350</td>\n",
              "      <td>23.763381</td>\n",
              "      <td>Visnagar</td>\n",
              "      <td>Gujarat</td>\n",
              "      <td>M</td>\n",
              "      <td>28</td>\n",
              "      <td>M27-28</td>\n",
              "      <td>小米</td>\n",
              "      <td>E5</td>\n",
              "    </tr>\n",
              "  </tbody>\n",
              "</table>\n",
              "<p>2641 rows × 12 columns</p>\n",
              "</div>"
            ],
            "text/plain": [
              "      event_id     device_id            timestamp  ...  Age_Group  Brand      Model\n",
              "0      1836426  3.872522e+18  2016-05-01 20:29:14  ...       M22-     酷派       8702\n",
              "1       225132  3.872522e+18  2016-05-01 12:52:44  ...       M22-     酷派       8702\n",
              "2       815723  3.872522e+18  2016-05-01 12:28:56  ...       M22-     酷派       8702\n",
              "3      1300157  3.872522e+18  2016-05-04 23:24:57  ...       M22-     酷派       8702\n",
              "4       233682  3.872522e+18  2016-05-04 19:09:26  ...       M22-     酷派       8702\n",
              "...        ...           ...                  ...  ...        ...    ...        ...\n",
              "2636   1530731 -2.288468e+17  2016-05-07 10:35:00  ...       F43+     魅族        MX3\n",
              "2637   2967042 -2.288468e+17  2016-05-01 08:08:46  ...       F43+     魅族        MX3\n",
              "2638   1334106 -2.734689e+18  2016-05-05 10:00:05  ...     M27-28     华为    荣耀3X畅玩版\n",
              "2639   1776773  3.711362e+18  2016-05-02 15:54:13  ...     M29-31     三星  Galaxy S6\n",
              "2640   1608869  3.501847e+18  2016-05-04 13:27:20  ...     M27-28     小米         E5\n",
              "\n",
              "[2641 rows x 12 columns]"
            ]
          },
          "metadata": {
            "tags": []
          },
          "execution_count": 17
        }
      ]
    },
    {
      "cell_type": "code",
      "metadata": {
        "colab": {
          "base_uri": "https://localhost:8080/"
        },
        "id": "LIz3sU1snCtI",
        "outputId": "dd9e1771-c7e3-48dd-a841-aa3243d270a0"
      },
      "source": [
        "events_data_filtered_df['device_id'].nunique()"
      ],
      "execution_count": 18,
      "outputs": [
        {
          "output_type": "execute_result",
          "data": {
            "text/plain": [
              "19032"
            ]
          },
          "metadata": {
            "tags": []
          },
          "execution_count": 18
        }
      ]
    },
    {
      "cell_type": "markdown",
      "metadata": {
        "id": "X9SnuJzOl3lO"
      },
      "source": [
        "For the 6 states in consideration there are 19032 devices."
      ]
    },
    {
      "cell_type": "code",
      "metadata": {
        "colab": {
          "base_uri": "https://localhost:8080/"
        },
        "id": "T9kBsDc3mNgm",
        "outputId": "4f3f5518-cf77-406b-a931-31d5faf76516"
      },
      "source": [
        "device_data_df['device_id'].nunique()"
      ],
      "execution_count": 19,
      "outputs": [
        {
          "output_type": "execute_result",
          "data": {
            "text/plain": [
              "120"
            ]
          },
          "metadata": {
            "tags": []
          },
          "execution_count": 19
        }
      ]
    },
    {
      "cell_type": "markdown",
      "metadata": {
        "id": "4MqtSjuAnRl5"
      },
      "source": [
        "For all the 6 states under consideration we've customer data for only 120 devices."
      ]
    },
    {
      "cell_type": "code",
      "metadata": {
        "colab": {
          "base_uri": "https://localhost:8080/"
        },
        "id": "KxP0P5PJmhjE",
        "outputId": "9c2a9ea4-7b9b-4d29-d543-a3e062c7bd31"
      },
      "source": [
        "((events_data_filtered_df['device_id'].nunique() - device_data_df['device_id'].nunique()) / events_data_filtered_df['device_id'].nunique()) * 100"
      ],
      "execution_count": 20,
      "outputs": [
        {
          "output_type": "execute_result",
          "data": {
            "text/plain": [
              "99.36948297604036"
            ]
          },
          "metadata": {
            "tags": []
          },
          "execution_count": 20
        }
      ]
    },
    {
      "cell_type": "markdown",
      "metadata": {
        "id": "Zrx31Y7F-1Z_"
      },
      "source": [
        "1.   Only 2641 records have matching device_id from all the 3 dataframes.\n",
        "2.   Of 2641 matching records there are 120 unique DeviceIDs which mean that there are multiple events for few Devices.\n",
        "3.    For all the 6 states under consideration customer data is not available for ~99.4% of the devices.\n"
      ]
    },
    {
      "cell_type": "code",
      "metadata": {
        "colab": {
          "base_uri": "https://localhost:8080/"
        },
        "id": "1cka-Rj-82D5",
        "outputId": "299b2f9c-f75d-42b3-c8b8-caf1617cb1f0"
      },
      "source": [
        "device_data_df['Model'].nunique()"
      ],
      "execution_count": 21,
      "outputs": [
        {
          "output_type": "execute_result",
          "data": {
            "text/plain": [
              "85"
            ]
          },
          "metadata": {
            "tags": []
          },
          "execution_count": 21
        }
      ]
    },
    {
      "cell_type": "code",
      "metadata": {
        "colab": {
          "base_uri": "https://localhost:8080/"
        },
        "id": "r0GsJkREYA9q",
        "outputId": "af2a7982-2267-4aff-8b47-3a113648dc7d"
      },
      "source": [
        "device_data_df['Brand'].nunique()"
      ],
      "execution_count": 22,
      "outputs": [
        {
          "output_type": "execute_result",
          "data": {
            "text/plain": [
              "14"
            ]
          },
          "metadata": {
            "tags": []
          },
          "execution_count": 22
        }
      ]
    },
    {
      "cell_type": "markdown",
      "metadata": {
        "id": "DoHBTfIjA_Ol"
      },
      "source": [
        "Upon merging all the 3 dataframes we've data for around 85 models from 14 Brands."
      ]
    },
    {
      "cell_type": "code",
      "metadata": {
        "colab": {
          "base_uri": "https://localhost:8080/",
          "height": 191
        },
        "id": "8sDh7XkSozFb",
        "outputId": "84d6298a-3ac5-4104-ca54-34f0264702d4"
      },
      "source": [
        "device_data_df.head()"
      ],
      "execution_count": 23,
      "outputs": [
        {
          "output_type": "execute_result",
          "data": {
            "text/html": [
              "<div>\n",
              "<style scoped>\n",
              "    .dataframe tbody tr th:only-of-type {\n",
              "        vertical-align: middle;\n",
              "    }\n",
              "\n",
              "    .dataframe tbody tr th {\n",
              "        vertical-align: top;\n",
              "    }\n",
              "\n",
              "    .dataframe thead th {\n",
              "        text-align: right;\n",
              "    }\n",
              "</style>\n",
              "<table border=\"1\" class=\"dataframe\">\n",
              "  <thead>\n",
              "    <tr style=\"text-align: right;\">\n",
              "      <th></th>\n",
              "      <th>event_id</th>\n",
              "      <th>device_id</th>\n",
              "      <th>timestamp</th>\n",
              "      <th>longitude</th>\n",
              "      <th>latitude</th>\n",
              "      <th>city</th>\n",
              "      <th>state</th>\n",
              "      <th>Gender</th>\n",
              "      <th>Age</th>\n",
              "      <th>Age_Group</th>\n",
              "      <th>Brand</th>\n",
              "      <th>Model</th>\n",
              "    </tr>\n",
              "  </thead>\n",
              "  <tbody>\n",
              "    <tr>\n",
              "      <th>0</th>\n",
              "      <td>1836426</td>\n",
              "      <td>3.872522e+18</td>\n",
              "      <td>2016-05-01 20:29:14</td>\n",
              "      <td>71.294802</td>\n",
              "      <td>21.661309</td>\n",
              "      <td>Amreli</td>\n",
              "      <td>Gujarat</td>\n",
              "      <td>M</td>\n",
              "      <td>20</td>\n",
              "      <td>M22-</td>\n",
              "      <td>酷派</td>\n",
              "      <td>8702</td>\n",
              "    </tr>\n",
              "    <tr>\n",
              "      <th>1</th>\n",
              "      <td>225132</td>\n",
              "      <td>3.872522e+18</td>\n",
              "      <td>2016-05-01 12:52:44</td>\n",
              "      <td>71.294802</td>\n",
              "      <td>21.661309</td>\n",
              "      <td>Amreli</td>\n",
              "      <td>Gujarat</td>\n",
              "      <td>M</td>\n",
              "      <td>20</td>\n",
              "      <td>M22-</td>\n",
              "      <td>酷派</td>\n",
              "      <td>8702</td>\n",
              "    </tr>\n",
              "    <tr>\n",
              "      <th>2</th>\n",
              "      <td>815723</td>\n",
              "      <td>3.872522e+18</td>\n",
              "      <td>2016-05-01 12:28:56</td>\n",
              "      <td>71.294802</td>\n",
              "      <td>21.661309</td>\n",
              "      <td>Amreli</td>\n",
              "      <td>Gujarat</td>\n",
              "      <td>M</td>\n",
              "      <td>20</td>\n",
              "      <td>M22-</td>\n",
              "      <td>酷派</td>\n",
              "      <td>8702</td>\n",
              "    </tr>\n",
              "    <tr>\n",
              "      <th>3</th>\n",
              "      <td>1300157</td>\n",
              "      <td>3.872522e+18</td>\n",
              "      <td>2016-05-04 23:24:57</td>\n",
              "      <td>71.294802</td>\n",
              "      <td>21.661309</td>\n",
              "      <td>Amreli</td>\n",
              "      <td>Gujarat</td>\n",
              "      <td>M</td>\n",
              "      <td>20</td>\n",
              "      <td>M22-</td>\n",
              "      <td>酷派</td>\n",
              "      <td>8702</td>\n",
              "    </tr>\n",
              "    <tr>\n",
              "      <th>4</th>\n",
              "      <td>233682</td>\n",
              "      <td>3.872522e+18</td>\n",
              "      <td>2016-05-04 19:09:26</td>\n",
              "      <td>71.294802</td>\n",
              "      <td>21.661309</td>\n",
              "      <td>Amreli</td>\n",
              "      <td>Gujarat</td>\n",
              "      <td>M</td>\n",
              "      <td>20</td>\n",
              "      <td>M22-</td>\n",
              "      <td>酷派</td>\n",
              "      <td>8702</td>\n",
              "    </tr>\n",
              "  </tbody>\n",
              "</table>\n",
              "</div>"
            ],
            "text/plain": [
              "   event_id     device_id            timestamp  ...  Age_Group  Brand Model\n",
              "0   1836426  3.872522e+18  2016-05-01 20:29:14  ...       M22-     酷派  8702\n",
              "1    225132  3.872522e+18  2016-05-01 12:52:44  ...       M22-     酷派  8702\n",
              "2    815723  3.872522e+18  2016-05-01 12:28:56  ...       M22-     酷派  8702\n",
              "3   1300157  3.872522e+18  2016-05-04 23:24:57  ...       M22-     酷派  8702\n",
              "4    233682  3.872522e+18  2016-05-04 19:09:26  ...       M22-     酷派  8702\n",
              "\n",
              "[5 rows x 12 columns]"
            ]
          },
          "metadata": {
            "tags": []
          },
          "execution_count": 23
        }
      ]
    },
    {
      "cell_type": "code",
      "metadata": {
        "colab": {
          "base_uri": "https://localhost:8080/"
        },
        "id": "HqXOjGeLpDh9",
        "outputId": "0e5f373f-ef50-44de-8c33-1889f437b7ba"
      },
      "source": [
        "((device_data_df[device_data_df['Gender'] == 'M']['Gender'].count() - device_data_df[device_data_df['Gender'] == 'F']['Gender'].count()) / device_data_df[device_data_df['Gender'] == 'F']['Gender'].count()) * 100"
      ],
      "execution_count": 24,
      "outputs": [
        {
          "output_type": "execute_result",
          "data": {
            "text/plain": [
              "73.67875647668394"
            ]
          },
          "metadata": {
            "tags": []
          },
          "execution_count": 24
        }
      ]
    },
    {
      "cell_type": "markdown",
      "metadata": {
        "id": "8kGeEQqApyf5"
      },
      "source": [
        "73.7% of the customers are Male."
      ]
    },
    {
      "cell_type": "code",
      "metadata": {
        "colab": {
          "base_uri": "https://localhost:8080/"
        },
        "id": "-oEyZ-1yqEnT",
        "outputId": "ccdba177-a2d3-4277-8fde-03ad4178719b"
      },
      "source": [
        "device_data_df['Age_Group'].value_counts()"
      ],
      "execution_count": 25,
      "outputs": [
        {
          "output_type": "execute_result",
          "data": {
            "text/plain": [
              "M23-26    604\n",
              "M29-31    330\n",
              "F27-28    325\n",
              "M32-38    322\n",
              "M22-      289\n",
              "F29-32    234\n",
              "F23-      153\n",
              "F43+      114\n",
              "M39+       80\n",
              "F33-42     75\n",
              "F24-26     64\n",
              "M27-28     51\n",
              "Name: Age_Group, dtype: int64"
            ]
          },
          "metadata": {
            "tags": []
          },
          "execution_count": 25
        }
      ]
    },
    {
      "cell_type": "code",
      "metadata": {
        "colab": {
          "base_uri": "https://localhost:8080/"
        },
        "id": "5_3RVmBWqo4f",
        "outputId": "68ed5c48-749d-44a1-c29f-10019ba56d88"
      },
      "source": [
        "device_data_df['state'].value_counts()"
      ],
      "execution_count": 26,
      "outputs": [
        {
          "output_type": "execute_result",
          "data": {
            "text/plain": [
              "WestBengal    959\n",
              "Gujarat       707\n",
              "Karnataka     572\n",
              "Bihar         300\n",
              "Kerala         71\n",
              "Punjab         32\n",
              "Name: state, dtype: int64"
            ]
          },
          "metadata": {
            "tags": []
          },
          "execution_count": 26
        }
      ]
    },
    {
      "cell_type": "code",
      "metadata": {
        "colab": {
          "base_uri": "https://localhost:8080/"
        },
        "id": "PjICkDyhq6qG",
        "outputId": "4b083173-cb7e-4d4c-f1a6-c905a4cbcf4d"
      },
      "source": [
        "((device_data_df['state'].count() - device_data_df[device_data_df['state'] == 'WestBengal']['state'].count()) / device_data_df['state'].count()) * 100"
      ],
      "execution_count": 27,
      "outputs": [
        {
          "output_type": "execute_result",
          "data": {
            "text/plain": [
              "63.687996970844374"
            ]
          },
          "metadata": {
            "tags": []
          },
          "execution_count": 27
        }
      ]
    },
    {
      "cell_type": "code",
      "metadata": {
        "colab": {
          "base_uri": "https://localhost:8080/"
        },
        "id": "Gi3sMJNRsY3U",
        "outputId": "20313644-5893-43db-9e9c-e77cc3ca92f8"
      },
      "source": [
        "device_data_df[device_data_df['state'] == 'WestBengal']['city'].value_counts()"
      ],
      "execution_count": 28,
      "outputs": [
        {
          "output_type": "execute_result",
          "data": {
            "text/plain": [
              "Calcutta                787\n",
              "Durgapur                 50\n",
              "Kharagpur                43\n",
              "Ghatal                   28\n",
              "Kandi                    11\n",
              "Kalna                     8\n",
              "Pujali                    6\n",
              "Puruliya                  6\n",
              "Contai                    6\n",
              "Chandannagar              4\n",
              "Chakdaha                  3\n",
              "Naihati                   2\n",
              "Ulubaria                  2\n",
              "AshoknagarKalyangarh      2\n",
              "Shiliguri                 1\n",
              "Name: city, dtype: int64"
            ]
          },
          "metadata": {
            "tags": []
          },
          "execution_count": 28
        }
      ]
    },
    {
      "cell_type": "code",
      "metadata": {
        "colab": {
          "base_uri": "https://localhost:8080/"
        },
        "id": "IEmGT4QMx0Fk",
        "outputId": "11ae8068-9ea2-4c37-b76c-10e95d284367"
      },
      "source": [
        "device_data_df['city'].value_counts()"
      ],
      "execution_count": 29,
      "outputs": [
        {
          "output_type": "execute_result",
          "data": {
            "text/plain": [
              "Calcutta                787\n",
              "Bangalore               327\n",
              "Bardoli                 285\n",
              "Porbandar               224\n",
              "Saharsa                 151\n",
              "DodBallapur              75\n",
              "Amreli                   69\n",
              "Sira                     55\n",
              "Jetpur                   50\n",
              "Durgapur                 50\n",
              "Kozhikkod                49\n",
              "Yelahanka                43\n",
              "Kharagpur                43\n",
              "Bhagalpur                40\n",
              "Supaul                   37\n",
              "Siddhapur                32\n",
              "Puttur                   31\n",
              "Ghatal                   28\n",
              "Surat                    21\n",
              "Munger                   20\n",
              "Tumkur                   19\n",
              "Phulwari                 18\n",
              "Dhoraji                  16\n",
              "Ponnani                  14\n",
              "Sirsi                    14\n",
              "Amritsar                 11\n",
              "Kandi                    11\n",
              "Kishanganj                9\n",
              "Thrissur                  8\n",
              "Sitamarhi                 8\n",
              "Kalna                     8\n",
              "Jahanabad                 7\n",
              "Challakere                7\n",
              "Pujali                    6\n",
              "Puruliya                  6\n",
              "Contai                    6\n",
              "Moga                      6\n",
              "KotKapura                 5\n",
              "Malaut                    5\n",
              "Chandannagar              4\n",
              "MalerKotla                4\n",
              "Dholka                    4\n",
              "Bagaha                    3\n",
              "Khagaul                   3\n",
              "Chakdaha                  3\n",
              "Vapi                      2\n",
              "Naihati                   2\n",
              "AshoknagarKalyangarh      2\n",
              "Ulubaria                  2\n",
              "Motihari                  2\n",
              "Hospet                    1\n",
              "Hoshiarpur                1\n",
              "Ahmadabad                 1\n",
              "Morvi                     1\n",
              "Gaya                      1\n",
              "Upleta                    1\n",
              "Visnagar                  1\n",
              "Jamui                     1\n",
              "Shiliguri                 1\n",
              "Name: city, dtype: int64"
            ]
          },
          "metadata": {
            "tags": []
          },
          "execution_count": 29
        }
      ]
    },
    {
      "cell_type": "code",
      "metadata": {
        "colab": {
          "base_uri": "https://localhost:8080/"
        },
        "id": "0vxD459MyWzs",
        "outputId": "5fe2e3bc-503a-4554-f986-1290746823b6"
      },
      "source": [
        "((device_data_df[device_data_df['state'] == 'WestBengal']['state'].count() - device_data_df[device_data_df['city'] == 'Calcutta']['city'].count()) / device_data_df[device_data_df['state'] == 'WestBengal']['state'].count()) * 100"
      ],
      "execution_count": 30,
      "outputs": [
        {
          "output_type": "execute_result",
          "data": {
            "text/plain": [
              "17.935349322210637"
            ]
          },
          "metadata": {
            "tags": []
          },
          "execution_count": 30
        }
      ]
    },
    {
      "cell_type": "code",
      "metadata": {
        "colab": {
          "base_uri": "https://localhost:8080/"
        },
        "id": "5b9-3qOMy0TF",
        "outputId": "cf1984a2-c8b5-43a8-d704-059dd079a34e"
      },
      "source": [
        "((device_data_df['device_id'].count() - device_data_df[device_data_df['city'] == 'Calcutta']['city'].count()) / device_data_df['device_id'].count()) * 100"
      ],
      "execution_count": 31,
      "outputs": [
        {
          "output_type": "execute_result",
          "data": {
            "text/plain": [
              "70.20068156001514"
            ]
          },
          "metadata": {
            "tags": []
          },
          "execution_count": 31
        }
      ]
    },
    {
      "cell_type": "code",
      "metadata": {
        "colab": {
          "base_uri": "https://localhost:8080/"
        },
        "id": "V1wSumhR6kxB",
        "outputId": "e83596b3-90f8-4002-d0e0-0ade242aaf79"
      },
      "source": [
        "((device_data_df['device_id'].count() - device_data_df[device_data_df['city'] == 'Bangalore']['city'].count()) / device_data_df['device_id'].count()) * 100"
      ],
      "execution_count": 32,
      "outputs": [
        {
          "output_type": "execute_result",
          "data": {
            "text/plain": [
              "87.61832639151837"
            ]
          },
          "metadata": {
            "tags": []
          },
          "execution_count": 32
        }
      ]
    },
    {
      "cell_type": "code",
      "metadata": {
        "colab": {
          "base_uri": "https://localhost:8080/",
          "height": 191
        },
        "id": "olwntTZdh1kZ",
        "outputId": "1d691d1a-c8ae-4835-8df6-29099f707255"
      },
      "source": [
        "device_data_df.head()"
      ],
      "execution_count": 34,
      "outputs": [
        {
          "output_type": "execute_result",
          "data": {
            "text/html": [
              "<div>\n",
              "<style scoped>\n",
              "    .dataframe tbody tr th:only-of-type {\n",
              "        vertical-align: middle;\n",
              "    }\n",
              "\n",
              "    .dataframe tbody tr th {\n",
              "        vertical-align: top;\n",
              "    }\n",
              "\n",
              "    .dataframe thead th {\n",
              "        text-align: right;\n",
              "    }\n",
              "</style>\n",
              "<table border=\"1\" class=\"dataframe\">\n",
              "  <thead>\n",
              "    <tr style=\"text-align: right;\">\n",
              "      <th></th>\n",
              "      <th>event_id</th>\n",
              "      <th>device_id</th>\n",
              "      <th>timestamp</th>\n",
              "      <th>longitude</th>\n",
              "      <th>latitude</th>\n",
              "      <th>city</th>\n",
              "      <th>state</th>\n",
              "      <th>Gender</th>\n",
              "      <th>Age</th>\n",
              "      <th>Age_Group</th>\n",
              "      <th>Brand</th>\n",
              "      <th>Model</th>\n",
              "    </tr>\n",
              "  </thead>\n",
              "  <tbody>\n",
              "    <tr>\n",
              "      <th>0</th>\n",
              "      <td>1836426</td>\n",
              "      <td>3.872522e+18</td>\n",
              "      <td>2016-05-01 20:29:14</td>\n",
              "      <td>71.294802</td>\n",
              "      <td>21.661309</td>\n",
              "      <td>Amreli</td>\n",
              "      <td>Gujarat</td>\n",
              "      <td>M</td>\n",
              "      <td>20</td>\n",
              "      <td>M22-</td>\n",
              "      <td>酷派</td>\n",
              "      <td>8702</td>\n",
              "    </tr>\n",
              "    <tr>\n",
              "      <th>1</th>\n",
              "      <td>225132</td>\n",
              "      <td>3.872522e+18</td>\n",
              "      <td>2016-05-01 12:52:44</td>\n",
              "      <td>71.294802</td>\n",
              "      <td>21.661309</td>\n",
              "      <td>Amreli</td>\n",
              "      <td>Gujarat</td>\n",
              "      <td>M</td>\n",
              "      <td>20</td>\n",
              "      <td>M22-</td>\n",
              "      <td>酷派</td>\n",
              "      <td>8702</td>\n",
              "    </tr>\n",
              "    <tr>\n",
              "      <th>2</th>\n",
              "      <td>815723</td>\n",
              "      <td>3.872522e+18</td>\n",
              "      <td>2016-05-01 12:28:56</td>\n",
              "      <td>71.294802</td>\n",
              "      <td>21.661309</td>\n",
              "      <td>Amreli</td>\n",
              "      <td>Gujarat</td>\n",
              "      <td>M</td>\n",
              "      <td>20</td>\n",
              "      <td>M22-</td>\n",
              "      <td>酷派</td>\n",
              "      <td>8702</td>\n",
              "    </tr>\n",
              "    <tr>\n",
              "      <th>3</th>\n",
              "      <td>1300157</td>\n",
              "      <td>3.872522e+18</td>\n",
              "      <td>2016-05-04 23:24:57</td>\n",
              "      <td>71.294802</td>\n",
              "      <td>21.661309</td>\n",
              "      <td>Amreli</td>\n",
              "      <td>Gujarat</td>\n",
              "      <td>M</td>\n",
              "      <td>20</td>\n",
              "      <td>M22-</td>\n",
              "      <td>酷派</td>\n",
              "      <td>8702</td>\n",
              "    </tr>\n",
              "    <tr>\n",
              "      <th>4</th>\n",
              "      <td>233682</td>\n",
              "      <td>3.872522e+18</td>\n",
              "      <td>2016-05-04 19:09:26</td>\n",
              "      <td>71.294802</td>\n",
              "      <td>21.661309</td>\n",
              "      <td>Amreli</td>\n",
              "      <td>Gujarat</td>\n",
              "      <td>M</td>\n",
              "      <td>20</td>\n",
              "      <td>M22-</td>\n",
              "      <td>酷派</td>\n",
              "      <td>8702</td>\n",
              "    </tr>\n",
              "  </tbody>\n",
              "</table>\n",
              "</div>"
            ],
            "text/plain": [
              "   event_id     device_id            timestamp  ...  Age_Group  Brand Model\n",
              "0   1836426  3.872522e+18  2016-05-01 20:29:14  ...       M22-     酷派  8702\n",
              "1    225132  3.872522e+18  2016-05-01 12:52:44  ...       M22-     酷派  8702\n",
              "2    815723  3.872522e+18  2016-05-01 12:28:56  ...       M22-     酷派  8702\n",
              "3   1300157  3.872522e+18  2016-05-04 23:24:57  ...       M22-     酷派  8702\n",
              "4    233682  3.872522e+18  2016-05-04 19:09:26  ...       M22-     酷派  8702\n",
              "\n",
              "[5 rows x 12 columns]"
            ]
          },
          "metadata": {
            "tags": []
          },
          "execution_count": 34
        }
      ]
    },
    {
      "cell_type": "code",
      "metadata": {
        "colab": {
          "base_uri": "https://localhost:8080/"
        },
        "id": "CETXRTPJh8BO",
        "outputId": "74454ded-07a3-4f34-967a-b5552cc776ca"
      },
      "source": [
        "device_data_df['Brand'].value_counts(ascending=False)"
      ],
      "execution_count": 36,
      "outputs": [
        {
          "output_type": "execute_result",
          "data": {
            "text/plain": [
              "小米      941\n",
              "三星      577\n",
              "华为      369\n",
              "vivo    205\n",
              "酷派      161\n",
              "OPPO     95\n",
              "魅族       94\n",
              "乐视       72\n",
              "HTC      57\n",
              "一加       35\n",
              "亿通       17\n",
              "努比亚       9\n",
              "酷比魔方      8\n",
              "锤子        1\n",
              "Name: Brand, dtype: int64"
            ]
          },
          "metadata": {
            "tags": []
          },
          "execution_count": 36
        }
      ]
    },
    {
      "cell_type": "code",
      "metadata": {
        "colab": {
          "base_uri": "https://localhost:8080/"
        },
        "id": "I2dAcJMsjQ1j",
        "outputId": "4289520a-1155-4f32-8d18-01b2eaf6b564"
      },
      "source": [
        "((device_data_df['device_id'].count() - device_data_df[device_data_df['Brand']=='小米']['device_id'].count()) / device_data_df['device_id'].count()) * 100"
      ],
      "execution_count": 40,
      "outputs": [
        {
          "output_type": "execute_result",
          "data": {
            "text/plain": [
              "64.36955698599014"
            ]
          },
          "metadata": {
            "tags": []
          },
          "execution_count": 40
        }
      ]
    },
    {
      "cell_type": "code",
      "metadata": {
        "colab": {
          "base_uri": "https://localhost:8080/"
        },
        "id": "AKsFjwYLkcr0",
        "outputId": "274e4bce-6f1a-4806-b5cf-4a67296746be"
      },
      "source": [
        "device_data_df['Model'].value_counts(ascending=False)"
      ],
      "execution_count": 42,
      "outputs": [
        {
          "output_type": "execute_result",
          "data": {
            "text/plain": [
              "红米note        306\n",
              "红米Note2       224\n",
              "Galaxy Win    151\n",
              "MI 3          137\n",
              "荣耀畅玩4         115\n",
              "             ... \n",
              "红米note增强版       2\n",
              "T1              1\n",
              "E5              1\n",
              "Z9              1\n",
              "超级手机1           1\n",
              "Name: Model, Length: 85, dtype: int64"
            ]
          },
          "metadata": {
            "tags": []
          },
          "execution_count": 42
        }
      ]
    },
    {
      "cell_type": "code",
      "metadata": {
        "colab": {
          "base_uri": "https://localhost:8080/"
        },
        "id": "ZY8WUHdQlN-a",
        "outputId": "eda2ff5c-bb95-4320-c6dd-9187216e12c5"
      },
      "source": [
        "device_data_df['Model'].value_counts(ascending=False)"
      ],
      "execution_count": 46,
      "outputs": [
        {
          "output_type": "execute_result",
          "data": {
            "text/plain": [
              "2641"
            ]
          },
          "metadata": {
            "tags": []
          },
          "execution_count": 46
        }
      ]
    },
    {
      "cell_type": "code",
      "metadata": {
        "colab": {
          "base_uri": "https://localhost:8080/",
          "height": 391
        },
        "id": "nEPpdLvakneK",
        "outputId": "f1444c84-1d94-4627-bc9e-cbe2ddef208a"
      },
      "source": [
        "device_data_df[device_data_df['Model']=='红米note']"
      ],
      "execution_count": 44,
      "outputs": [
        {
          "output_type": "execute_result",
          "data": {
            "text/html": [
              "<div>\n",
              "<style scoped>\n",
              "    .dataframe tbody tr th:only-of-type {\n",
              "        vertical-align: middle;\n",
              "    }\n",
              "\n",
              "    .dataframe tbody tr th {\n",
              "        vertical-align: top;\n",
              "    }\n",
              "\n",
              "    .dataframe thead th {\n",
              "        text-align: right;\n",
              "    }\n",
              "</style>\n",
              "<table border=\"1\" class=\"dataframe\">\n",
              "  <thead>\n",
              "    <tr style=\"text-align: right;\">\n",
              "      <th></th>\n",
              "      <th>event_id</th>\n",
              "      <th>device_id</th>\n",
              "      <th>timestamp</th>\n",
              "      <th>longitude</th>\n",
              "      <th>latitude</th>\n",
              "      <th>city</th>\n",
              "      <th>state</th>\n",
              "      <th>Gender</th>\n",
              "      <th>Age</th>\n",
              "      <th>Age_Group</th>\n",
              "      <th>Brand</th>\n",
              "      <th>Model</th>\n",
              "    </tr>\n",
              "  </thead>\n",
              "  <tbody>\n",
              "    <tr>\n",
              "      <th>1056</th>\n",
              "      <td>271076</td>\n",
              "      <td>1.274328e+17</td>\n",
              "      <td>2016-05-03 07:37:31</td>\n",
              "      <td>73.139842</td>\n",
              "      <td>21.172943</td>\n",
              "      <td>Bardoli</td>\n",
              "      <td>Gujarat</td>\n",
              "      <td>F</td>\n",
              "      <td>28</td>\n",
              "      <td>F27-28</td>\n",
              "      <td>小米</td>\n",
              "      <td>红米note</td>\n",
              "    </tr>\n",
              "    <tr>\n",
              "      <th>1057</th>\n",
              "      <td>251055</td>\n",
              "      <td>1.274328e+17</td>\n",
              "      <td>2016-05-03 12:32:48</td>\n",
              "      <td>73.139842</td>\n",
              "      <td>21.172943</td>\n",
              "      <td>Bardoli</td>\n",
              "      <td>Gujarat</td>\n",
              "      <td>F</td>\n",
              "      <td>28</td>\n",
              "      <td>F27-28</td>\n",
              "      <td>小米</td>\n",
              "      <td>红米note</td>\n",
              "    </tr>\n",
              "    <tr>\n",
              "      <th>1058</th>\n",
              "      <td>2787201</td>\n",
              "      <td>1.274328e+17</td>\n",
              "      <td>2016-05-07 19:38:26</td>\n",
              "      <td>73.139842</td>\n",
              "      <td>21.172943</td>\n",
              "      <td>Bardoli</td>\n",
              "      <td>Gujarat</td>\n",
              "      <td>F</td>\n",
              "      <td>28</td>\n",
              "      <td>F27-28</td>\n",
              "      <td>小米</td>\n",
              "      <td>红米note</td>\n",
              "    </tr>\n",
              "    <tr>\n",
              "      <th>1059</th>\n",
              "      <td>3056922</td>\n",
              "      <td>1.274328e+17</td>\n",
              "      <td>2016-05-03 08:19:13</td>\n",
              "      <td>73.139842</td>\n",
              "      <td>21.172943</td>\n",
              "      <td>Bardoli</td>\n",
              "      <td>Gujarat</td>\n",
              "      <td>F</td>\n",
              "      <td>28</td>\n",
              "      <td>F27-28</td>\n",
              "      <td>小米</td>\n",
              "      <td>红米note</td>\n",
              "    </tr>\n",
              "    <tr>\n",
              "      <th>1060</th>\n",
              "      <td>2177734</td>\n",
              "      <td>1.274328e+17</td>\n",
              "      <td>2016-05-01 08:37:27</td>\n",
              "      <td>73.139842</td>\n",
              "      <td>21.172943</td>\n",
              "      <td>Bardoli</td>\n",
              "      <td>Gujarat</td>\n",
              "      <td>F</td>\n",
              "      <td>28</td>\n",
              "      <td>F27-28</td>\n",
              "      <td>小米</td>\n",
              "      <td>红米note</td>\n",
              "    </tr>\n",
              "    <tr>\n",
              "      <th>...</th>\n",
              "      <td>...</td>\n",
              "      <td>...</td>\n",
              "      <td>...</td>\n",
              "      <td>...</td>\n",
              "      <td>...</td>\n",
              "      <td>...</td>\n",
              "      <td>...</td>\n",
              "      <td>...</td>\n",
              "      <td>...</td>\n",
              "      <td>...</td>\n",
              "      <td>...</td>\n",
              "      <td>...</td>\n",
              "    </tr>\n",
              "    <tr>\n",
              "      <th>1738</th>\n",
              "      <td>201154</td>\n",
              "      <td>6.737477e+16</td>\n",
              "      <td>2016-05-03 12:33:27</td>\n",
              "      <td>74.519307</td>\n",
              "      <td>30.273474</td>\n",
              "      <td>Malaut</td>\n",
              "      <td>Punjab</td>\n",
              "      <td>F</td>\n",
              "      <td>25</td>\n",
              "      <td>F24-26</td>\n",
              "      <td>小米</td>\n",
              "      <td>红米note</td>\n",
              "    </tr>\n",
              "    <tr>\n",
              "      <th>1739</th>\n",
              "      <td>792606</td>\n",
              "      <td>6.737477e+16</td>\n",
              "      <td>2016-05-07 12:29:59</td>\n",
              "      <td>74.519307</td>\n",
              "      <td>30.273474</td>\n",
              "      <td>Malaut</td>\n",
              "      <td>Punjab</td>\n",
              "      <td>F</td>\n",
              "      <td>25</td>\n",
              "      <td>F24-26</td>\n",
              "      <td>小米</td>\n",
              "      <td>红米note</td>\n",
              "    </tr>\n",
              "    <tr>\n",
              "      <th>1740</th>\n",
              "      <td>201940</td>\n",
              "      <td>6.737477e+16</td>\n",
              "      <td>2016-05-07 12:29:47</td>\n",
              "      <td>74.519307</td>\n",
              "      <td>30.273474</td>\n",
              "      <td>Malaut</td>\n",
              "      <td>Punjab</td>\n",
              "      <td>F</td>\n",
              "      <td>25</td>\n",
              "      <td>F24-26</td>\n",
              "      <td>小米</td>\n",
              "      <td>红米note</td>\n",
              "    </tr>\n",
              "    <tr>\n",
              "      <th>2631</th>\n",
              "      <td>1652210</td>\n",
              "      <td>5.939461e+16</td>\n",
              "      <td>2016-05-05 01:18:22</td>\n",
              "      <td>88.162124</td>\n",
              "      <td>22.528178</td>\n",
              "      <td>Ulubaria</td>\n",
              "      <td>WestBengal</td>\n",
              "      <td>F</td>\n",
              "      <td>39</td>\n",
              "      <td>F33-42</td>\n",
              "      <td>小米</td>\n",
              "      <td>红米note</td>\n",
              "    </tr>\n",
              "    <tr>\n",
              "      <th>2632</th>\n",
              "      <td>30264</td>\n",
              "      <td>5.939461e+16</td>\n",
              "      <td>2016-05-01 01:18:27</td>\n",
              "      <td>88.162124</td>\n",
              "      <td>22.528178</td>\n",
              "      <td>Ulubaria</td>\n",
              "      <td>WestBengal</td>\n",
              "      <td>F</td>\n",
              "      <td>39</td>\n",
              "      <td>F33-42</td>\n",
              "      <td>小米</td>\n",
              "      <td>红米note</td>\n",
              "    </tr>\n",
              "  </tbody>\n",
              "</table>\n",
              "<p>306 rows × 12 columns</p>\n",
              "</div>"
            ],
            "text/plain": [
              "      event_id     device_id            timestamp  ...  Age_Group  Brand   Model\n",
              "1056    271076  1.274328e+17  2016-05-03 07:37:31  ...     F27-28     小米  红米note\n",
              "1057    251055  1.274328e+17  2016-05-03 12:32:48  ...     F27-28     小米  红米note\n",
              "1058   2787201  1.274328e+17  2016-05-07 19:38:26  ...     F27-28     小米  红米note\n",
              "1059   3056922  1.274328e+17  2016-05-03 08:19:13  ...     F27-28     小米  红米note\n",
              "1060   2177734  1.274328e+17  2016-05-01 08:37:27  ...     F27-28     小米  红米note\n",
              "...        ...           ...                  ...  ...        ...    ...     ...\n",
              "1738    201154  6.737477e+16  2016-05-03 12:33:27  ...     F24-26     小米  红米note\n",
              "1739    792606  6.737477e+16  2016-05-07 12:29:59  ...     F24-26     小米  红米note\n",
              "1740    201940  6.737477e+16  2016-05-07 12:29:47  ...     F24-26     小米  红米note\n",
              "2631   1652210  5.939461e+16  2016-05-05 01:18:22  ...     F33-42     小米  红米note\n",
              "2632     30264  5.939461e+16  2016-05-01 01:18:27  ...     F33-42     小米  红米note\n",
              "\n",
              "[306 rows x 12 columns]"
            ]
          },
          "metadata": {
            "tags": []
          },
          "execution_count": 44
        }
      ]
    },
    {
      "cell_type": "code",
      "metadata": {
        "colab": {
          "base_uri": "https://localhost:8080/"
        },
        "id": "b9-UHqnPk6ZE",
        "outputId": "198f62a6-24a6-4730-d8d8-b5fd9e40a481"
      },
      "source": [
        "((device_data_df['Model'].count() - device_data_df[device_data_df['Model']=='红米note']['device_id'].count()) / device_data_df['Model'].count()) * 100"
      ],
      "execution_count": 45,
      "outputs": [
        {
          "output_type": "execute_result",
          "data": {
            "text/plain": [
              "88.41347974252177"
            ]
          },
          "metadata": {
            "tags": []
          },
          "execution_count": 45
        }
      ]
    },
    {
      "cell_type": "markdown",
      "metadata": {
        "id": "j9A8BifHBgBG"
      },
      "source": [
        "# Observations\n",
        "\n",
        "\n",
        "1.   There are 19032 devices with event data for the 6 states being considered of which customer data w.r.t mobile model, brand, customer details are present for ~0.6% only.\n",
        "2.   Among the 0.6% of Customer data available there are 85 Models of mobiles from among 14 Brands are being used.\n",
        "3. Among the 0.6% of customer data available for the 6 States.\n",
        "4. Among the 0.6% of available customer data 73.7% of them are Male.\n",
        "5. Most of the Male customers are in the age group of 23-26 & 29-31.\n",
        "6. Most of the Female customers are in the age group of 27-28 followed by 29-32.\n",
        "7. Of the available customer data most (~36.4%) of them are from WestBengal followed by Gujarat, Karnataka & Bihar states.\n",
        "8. 82% of the customers in WestBengal state are from Calcutta.\n",
        "9. Calcutta constitutes to ~29.8% of customers followed by Bangalore which constitutes to ~12.4%.\n",
        "10. Of the device data available ~35.6% of them belong to the brand Xiaomi.\n",
        "11. Of the device data available ~11.6% of them belong to Note model of Xiaomi brand.\n",
        "\n",
        "\n"
      ]
    }
  ]
}