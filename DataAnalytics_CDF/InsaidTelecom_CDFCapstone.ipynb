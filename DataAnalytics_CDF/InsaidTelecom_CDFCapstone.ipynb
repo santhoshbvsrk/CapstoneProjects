{
  "nbformat": 4,
  "nbformat_minor": 0,
  "metadata": {
    "colab": {
      "name": "InsaidTelecom-CDFCapstone.ipynb",
      "provenance": [],
      "collapsed_sections": [],
      "authorship_tag": "ABX9TyNU04xHROvcNosg9mYmpKd/",
      "include_colab_link": true
    },
    "kernelspec": {
      "display_name": "Python 3",
      "name": "python3"
    },
    "language_info": {
      "name": "python"
    },
    "widgets": {
      "application/vnd.jupyter.widget-state+json": {
        "6070b258c51549368382045b000803d6": {
          "model_module": "@jupyter-widgets/controls",
          "model_name": "HBoxModel",
          "state": {
            "_view_name": "HBoxView",
            "_dom_classes": [],
            "_model_name": "HBoxModel",
            "_view_module": "@jupyter-widgets/controls",
            "_model_module_version": "1.5.0",
            "_view_count": null,
            "_view_module_version": "1.5.0",
            "box_style": "",
            "layout": "IPY_MODEL_9eca2948a4a04daaa810d5f8d7e62823",
            "_model_module": "@jupyter-widgets/controls",
            "children": [
              "IPY_MODEL_818eb22e5c0d4b1fb7b3336696f9b3e2",
              "IPY_MODEL_30992cd5306447c2992bee3a400e45e0",
              "IPY_MODEL_b80a4c58320c4db0a9cd19d3283cd7b3"
            ]
          }
        },
        "9eca2948a4a04daaa810d5f8d7e62823": {
          "model_module": "@jupyter-widgets/base",
          "model_name": "LayoutModel",
          "state": {
            "_view_name": "LayoutView",
            "grid_template_rows": null,
            "right": null,
            "justify_content": null,
            "_view_module": "@jupyter-widgets/base",
            "overflow": null,
            "_model_module_version": "1.2.0",
            "_view_count": null,
            "flex_flow": "row wrap",
            "width": "100%",
            "min_width": null,
            "border": null,
            "align_items": null,
            "bottom": null,
            "_model_module": "@jupyter-widgets/base",
            "top": null,
            "grid_column": null,
            "overflow_y": null,
            "overflow_x": null,
            "grid_auto_flow": null,
            "grid_area": null,
            "grid_template_columns": null,
            "flex": null,
            "_model_name": "LayoutModel",
            "justify_items": null,
            "grid_row": null,
            "max_height": null,
            "align_content": null,
            "visibility": null,
            "align_self": null,
            "height": null,
            "min_height": null,
            "padding": null,
            "grid_auto_rows": null,
            "grid_gap": null,
            "max_width": null,
            "order": null,
            "_view_module_version": "1.2.0",
            "grid_template_areas": null,
            "object_position": null,
            "object_fit": null,
            "grid_auto_columns": null,
            "margin": null,
            "display": "inline-flex",
            "left": null
          }
        },
        "818eb22e5c0d4b1fb7b3336696f9b3e2": {
          "model_module": "@jupyter-widgets/controls",
          "model_name": "HTMLModel",
          "state": {
            "_view_name": "HTMLView",
            "style": "IPY_MODEL_d885d354a79f4a51b25ea979b484f45c",
            "_dom_classes": [],
            "description": "",
            "_model_name": "HTMLModel",
            "placeholder": "​",
            "_view_module": "@jupyter-widgets/controls",
            "_model_module_version": "1.5.0",
            "value": "Done! Use &#x27;show&#x27; commands to display/save.   ",
            "_view_count": null,
            "_view_module_version": "1.5.0",
            "description_tooltip": null,
            "_model_module": "@jupyter-widgets/controls",
            "layout": "IPY_MODEL_93c5bddbd2f04511aa6a0bf8af747822"
          }
        },
        "30992cd5306447c2992bee3a400e45e0": {
          "model_module": "@jupyter-widgets/controls",
          "model_name": "FloatProgressModel",
          "state": {
            "_view_name": "ProgressView",
            "style": "IPY_MODEL_025876e63a74457fbf16480e0f904ef7",
            "_dom_classes": [],
            "description": "",
            "_model_name": "FloatProgressModel",
            "bar_style": "success",
            "max": 1,
            "_view_module": "@jupyter-widgets/controls",
            "_model_module_version": "1.5.0",
            "value": 1,
            "_view_count": null,
            "_view_module_version": "1.5.0",
            "orientation": "horizontal",
            "min": 0,
            "description_tooltip": null,
            "_model_module": "@jupyter-widgets/controls",
            "layout": "IPY_MODEL_c3cce4e0b6dd4bb192e0774f3694b9a2"
          }
        },
        "b80a4c58320c4db0a9cd19d3283cd7b3": {
          "model_module": "@jupyter-widgets/controls",
          "model_name": "HTMLModel",
          "state": {
            "_view_name": "HTMLView",
            "style": "IPY_MODEL_a1d697cf8abe415d8ece7f92466d51ba",
            "_dom_classes": [],
            "description": "",
            "_model_name": "HTMLModel",
            "placeholder": "​",
            "_view_module": "@jupyter-widgets/controls",
            "_model_module_version": "1.5.0",
            "value": " [100%]   00:00 -&gt; (00:00 left)",
            "_view_count": null,
            "_view_module_version": "1.5.0",
            "description_tooltip": null,
            "_model_module": "@jupyter-widgets/controls",
            "layout": "IPY_MODEL_08752a6b2926478eaa7f5397e73be5e8"
          }
        },
        "d885d354a79f4a51b25ea979b484f45c": {
          "model_module": "@jupyter-widgets/controls",
          "model_name": "DescriptionStyleModel",
          "state": {
            "_view_name": "StyleView",
            "_model_name": "DescriptionStyleModel",
            "description_width": "",
            "_view_module": "@jupyter-widgets/base",
            "_model_module_version": "1.5.0",
            "_view_count": null,
            "_view_module_version": "1.2.0",
            "_model_module": "@jupyter-widgets/controls"
          }
        },
        "93c5bddbd2f04511aa6a0bf8af747822": {
          "model_module": "@jupyter-widgets/base",
          "model_name": "LayoutModel",
          "state": {
            "_view_name": "LayoutView",
            "grid_template_rows": null,
            "right": null,
            "justify_content": null,
            "_view_module": "@jupyter-widgets/base",
            "overflow": null,
            "_model_module_version": "1.2.0",
            "_view_count": null,
            "flex_flow": null,
            "width": null,
            "min_width": null,
            "border": null,
            "align_items": null,
            "bottom": null,
            "_model_module": "@jupyter-widgets/base",
            "top": null,
            "grid_column": null,
            "overflow_y": null,
            "overflow_x": null,
            "grid_auto_flow": null,
            "grid_area": null,
            "grid_template_columns": null,
            "flex": null,
            "_model_name": "LayoutModel",
            "justify_items": null,
            "grid_row": null,
            "max_height": null,
            "align_content": null,
            "visibility": null,
            "align_self": null,
            "height": null,
            "min_height": null,
            "padding": null,
            "grid_auto_rows": null,
            "grid_gap": null,
            "max_width": null,
            "order": null,
            "_view_module_version": "1.2.0",
            "grid_template_areas": null,
            "object_position": null,
            "object_fit": null,
            "grid_auto_columns": null,
            "margin": null,
            "display": null,
            "left": null
          }
        },
        "025876e63a74457fbf16480e0f904ef7": {
          "model_module": "@jupyter-widgets/controls",
          "model_name": "ProgressStyleModel",
          "state": {
            "_view_name": "StyleView",
            "_model_name": "ProgressStyleModel",
            "description_width": "",
            "_view_module": "@jupyter-widgets/base",
            "_model_module_version": "1.5.0",
            "_view_count": null,
            "_view_module_version": "1.2.0",
            "bar_color": null,
            "_model_module": "@jupyter-widgets/controls"
          }
        },
        "c3cce4e0b6dd4bb192e0774f3694b9a2": {
          "model_module": "@jupyter-widgets/base",
          "model_name": "LayoutModel",
          "state": {
            "_view_name": "LayoutView",
            "grid_template_rows": null,
            "right": null,
            "justify_content": null,
            "_view_module": "@jupyter-widgets/base",
            "overflow": null,
            "_model_module_version": "1.2.0",
            "_view_count": null,
            "flex_flow": null,
            "width": null,
            "min_width": null,
            "border": null,
            "align_items": null,
            "bottom": null,
            "_model_module": "@jupyter-widgets/base",
            "top": null,
            "grid_column": null,
            "overflow_y": null,
            "overflow_x": null,
            "grid_auto_flow": null,
            "grid_area": null,
            "grid_template_columns": null,
            "flex": "2",
            "_model_name": "LayoutModel",
            "justify_items": null,
            "grid_row": null,
            "max_height": null,
            "align_content": null,
            "visibility": null,
            "align_self": null,
            "height": null,
            "min_height": null,
            "padding": null,
            "grid_auto_rows": null,
            "grid_gap": null,
            "max_width": null,
            "order": null,
            "_view_module_version": "1.2.0",
            "grid_template_areas": null,
            "object_position": null,
            "object_fit": null,
            "grid_auto_columns": null,
            "margin": null,
            "display": null,
            "left": null
          }
        },
        "a1d697cf8abe415d8ece7f92466d51ba": {
          "model_module": "@jupyter-widgets/controls",
          "model_name": "DescriptionStyleModel",
          "state": {
            "_view_name": "StyleView",
            "_model_name": "DescriptionStyleModel",
            "description_width": "",
            "_view_module": "@jupyter-widgets/base",
            "_model_module_version": "1.5.0",
            "_view_count": null,
            "_view_module_version": "1.2.0",
            "_model_module": "@jupyter-widgets/controls"
          }
        },
        "08752a6b2926478eaa7f5397e73be5e8": {
          "model_module": "@jupyter-widgets/base",
          "model_name": "LayoutModel",
          "state": {
            "_view_name": "LayoutView",
            "grid_template_rows": null,
            "right": null,
            "justify_content": null,
            "_view_module": "@jupyter-widgets/base",
            "overflow": null,
            "_model_module_version": "1.2.0",
            "_view_count": null,
            "flex_flow": null,
            "width": null,
            "min_width": null,
            "border": null,
            "align_items": null,
            "bottom": null,
            "_model_module": "@jupyter-widgets/base",
            "top": null,
            "grid_column": null,
            "overflow_y": null,
            "overflow_x": null,
            "grid_auto_flow": null,
            "grid_area": null,
            "grid_template_columns": null,
            "flex": null,
            "_model_name": "LayoutModel",
            "justify_items": null,
            "grid_row": null,
            "max_height": null,
            "align_content": null,
            "visibility": null,
            "align_self": null,
            "height": null,
            "min_height": null,
            "padding": null,
            "grid_auto_rows": null,
            "grid_gap": null,
            "max_width": null,
            "order": null,
            "_view_module_version": "1.2.0",
            "grid_template_areas": null,
            "object_position": null,
            "object_fit": null,
            "grid_auto_columns": null,
            "margin": null,
            "display": null,
            "left": null
          }
        }
      }
    }
  },
  "cells": [
    {
      "cell_type": "markdown",
      "metadata": {
        "id": "view-in-github",
        "colab_type": "text"
      },
      "source": [
        "<a href=\"https://colab.research.google.com/github/santhoshbvsrk/CapstoneProjects/blob/main/DataAnalytics_CDF/InsaidTelecom_CDFCapstone.ipynb\" target=\"_parent\"><img src=\"https://colab.research.google.com/assets/colab-badge.svg\" alt=\"Open In Colab\"/></a>"
      ]
    },
    {
      "cell_type": "markdown",
      "metadata": {
        "id": "9QXzNhYu958b"
      },
      "source": [
        " \n",
        "\n",
        "*  As the dataset is huge, we'll zip it, upload the zip file to google drive and mount your google drive to colab, unzip it to access data from your colab.\n",
        "\n",
        "\n",
        "*   Import the drive package from google.colab library to mount your google drive on to google colab.\n",
        "\n",
        "\n",
        "\n"
      ]
    },
    {
      "cell_type": "code",
      "metadata": {
        "id": "QHCIGBMs6ENg",
        "colab": {
          "base_uri": "https://localhost:8080/"
        },
        "outputId": "d6885067-3a21-4784-98f2-13b7a1aac6b7"
      },
      "source": [
        "from google.colab import drive\n",
        "drive.mount ('/content/gdrive')"
      ],
      "execution_count": 2,
      "outputs": [
        {
          "output_type": "stream",
          "text": [
            "Drive already mounted at /content/gdrive; to attempt to forcibly remount, call drive.mount(\"/content/gdrive\", force_remount=True).\n"
          ],
          "name": "stdout"
        }
      ]
    },
    {
      "cell_type": "markdown",
      "metadata": {
        "id": "x6BVhtcc-Icy"
      },
      "source": [
        "\n",
        "\n",
        "*   Once mounting is completed, mention the path of your zip file which contains the data to read."
      ]
    },
    {
      "cell_type": "code",
      "metadata": {
        "id": "GRHBT_Ui6sYq",
        "colab": {
          "base_uri": "https://localhost:8080/"
        },
        "outputId": "a9a7d68e-aa73-4418-e97f-4af742ee2ba1"
      },
      "source": [
        "!unzip gdrive/My\\ Drive/CDF_Capstone_Project/events_data.zip"
      ],
      "execution_count": 3,
      "outputs": [
        {
          "output_type": "stream",
          "text": [
            "Archive:  gdrive/My Drive/CDF_Capstone_Project/events_data.zip\n",
            "  inflating: events_data.csv         \n"
          ],
          "name": "stdout"
        }
      ]
    },
    {
      "cell_type": "markdown",
      "metadata": {
        "id": "fmURhSSH-YLT"
      },
      "source": [
        "\n",
        "\n",
        "*   Once mounting and unzipping is completed successfully, you should be able to see the zip file contains in your colab folder.\n"
      ]
    },
    {
      "cell_type": "code",
      "metadata": {
        "id": "LxY5H2kh9m-g"
      },
      "source": [
        "import pandas as pd \n",
        "import numpy as np"
      ],
      "execution_count": 4,
      "outputs": []
    },
    {
      "cell_type": "code",
      "metadata": {
        "id": "S1u996mX9qa1",
        "colab": {
          "base_uri": "https://localhost:8080/",
          "height": 191
        },
        "outputId": "05e24e41-942f-4a38-b5f5-f1e1c72a49c7"
      },
      "source": [
        "events_data_df=pd.read_csv(\"events_data.csv\")\n",
        "events_data_df.head()"
      ],
      "execution_count": 5,
      "outputs": [
        {
          "output_type": "execute_result",
          "data": {
            "text/html": [
              "<div>\n",
              "<style scoped>\n",
              "    .dataframe tbody tr th:only-of-type {\n",
              "        vertical-align: middle;\n",
              "    }\n",
              "\n",
              "    .dataframe tbody tr th {\n",
              "        vertical-align: top;\n",
              "    }\n",
              "\n",
              "    .dataframe thead th {\n",
              "        text-align: right;\n",
              "    }\n",
              "</style>\n",
              "<table border=\"1\" class=\"dataframe\">\n",
              "  <thead>\n",
              "    <tr style=\"text-align: right;\">\n",
              "      <th></th>\n",
              "      <th>event_id</th>\n",
              "      <th>device_id</th>\n",
              "      <th>timestamp</th>\n",
              "      <th>longitude</th>\n",
              "      <th>latitude</th>\n",
              "      <th>city</th>\n",
              "      <th>state</th>\n",
              "    </tr>\n",
              "  </thead>\n",
              "  <tbody>\n",
              "    <tr>\n",
              "      <th>0</th>\n",
              "      <td>2765368</td>\n",
              "      <td>2.973348e+18</td>\n",
              "      <td>2016-05-07 22:52:05</td>\n",
              "      <td>77.225676</td>\n",
              "      <td>28.730140</td>\n",
              "      <td>Delhi</td>\n",
              "      <td>Delhi</td>\n",
              "    </tr>\n",
              "    <tr>\n",
              "      <th>1</th>\n",
              "      <td>2955066</td>\n",
              "      <td>4.734221e+18</td>\n",
              "      <td>2016-05-01 20:44:16</td>\n",
              "      <td>88.388361</td>\n",
              "      <td>22.660325</td>\n",
              "      <td>Calcutta</td>\n",
              "      <td>WestBengal</td>\n",
              "    </tr>\n",
              "    <tr>\n",
              "      <th>2</th>\n",
              "      <td>605968</td>\n",
              "      <td>-3.264500e+18</td>\n",
              "      <td>2016-05-02 14:23:04</td>\n",
              "      <td>77.256809</td>\n",
              "      <td>28.757906</td>\n",
              "      <td>Delhi</td>\n",
              "      <td>Delhi</td>\n",
              "    </tr>\n",
              "    <tr>\n",
              "      <th>3</th>\n",
              "      <td>448114</td>\n",
              "      <td>5.731369e+18</td>\n",
              "      <td>2016-05-03 13:21:16</td>\n",
              "      <td>80.343613</td>\n",
              "      <td>13.153332</td>\n",
              "      <td>Chennai</td>\n",
              "      <td>TamilNadu</td>\n",
              "    </tr>\n",
              "    <tr>\n",
              "      <th>4</th>\n",
              "      <td>665740</td>\n",
              "      <td>3.388880e+17</td>\n",
              "      <td>2016-05-06 03:51:05</td>\n",
              "      <td>85.997745</td>\n",
              "      <td>23.842609</td>\n",
              "      <td>Bokaro</td>\n",
              "      <td>Jharkhand</td>\n",
              "    </tr>\n",
              "  </tbody>\n",
              "</table>\n",
              "</div>"
            ],
            "text/plain": [
              "   event_id     device_id            timestamp  ...   latitude      city       state\n",
              "0   2765368  2.973348e+18  2016-05-07 22:52:05  ...  28.730140     Delhi       Delhi\n",
              "1   2955066  4.734221e+18  2016-05-01 20:44:16  ...  22.660325  Calcutta  WestBengal\n",
              "2    605968 -3.264500e+18  2016-05-02 14:23:04  ...  28.757906     Delhi       Delhi\n",
              "3    448114  5.731369e+18  2016-05-03 13:21:16  ...  13.153332   Chennai   TamilNadu\n",
              "4    665740  3.388880e+17  2016-05-06 03:51:05  ...  23.842609    Bokaro   Jharkhand\n",
              "\n",
              "[5 rows x 7 columns]"
            ]
          },
          "metadata": {
            "tags": []
          },
          "execution_count": 5
        }
      ]
    },
    {
      "cell_type": "code",
      "metadata": {
        "colab": {
          "base_uri": "https://localhost:8080/"
        },
        "id": "sU5F2mCFnomJ",
        "outputId": "d33b508e-3a6c-46bd-9d1a-08a962245330"
      },
      "source": [
        "events_data_df['state'].value_counts()"
      ],
      "execution_count": 6,
      "outputs": [
        {
          "output_type": "execute_result",
          "data": {
            "text/plain": [
              "Delhi                       751733\n",
              "Maharashtra                 677105\n",
              "TamilNadu                   436282\n",
              "AndhraPradesh               321332\n",
              "MadhyaPradesh               232690\n",
              "Rajasthan                   196361\n",
              "WestBengal                  196161\n",
              "Karnataka                    99058\n",
              "UttarPradesh                 94750\n",
              "Gujarat                      42881\n",
              "Bihar                        35472\n",
              "Punjab                       26195\n",
              "Kerala                       23148\n",
              "Haryana                      21053\n",
              "Jharkhand                    18060\n",
              "Orissa                       15904\n",
              "Telangana                    12784\n",
              "Assam                        12021\n",
              "Chhattisgarh                  9754\n",
              "Uttaranchal                   7720\n",
              "JammuandKashmir               5385\n",
              "Goa                           3250\n",
              "Nagaland                      2298\n",
              "Pondicherry                   1741\n",
              "Mizoram                       1613\n",
              "AndamanandNicobarIslands      1515\n",
              "Meghalaya                     1515\n",
              "HimachalPradesh               1409\n",
              "Manipur                        989\n",
              "Chandigarh                     894\n",
              "Tripura                        892\n",
              "ArunachalPradesh               608\n",
              "Name: state, dtype: int64"
            ]
          },
          "metadata": {
            "tags": []
          },
          "execution_count": 6
        }
      ]
    },
    {
      "cell_type": "markdown",
      "metadata": {
        "id": "sI9plkARzHBD"
      },
      "source": [
        "Filtering out events_data for only 6 states as per the requirement given."
      ]
    },
    {
      "cell_type": "code",
      "metadata": {
        "id": "h63K94kLtzMK"
      },
      "source": [
        "events_data_filtered_df= events_data_df[(events_data_df.state == 'WestBengal') | (events_data_df.state == 'Karnataka') | (events_data_df.state == 'Gujarat') | (events_data_df.state == 'Bihar') | (events_data_df.state == 'Punjab') | (events_data_df.state == 'Kerala')]"
      ],
      "execution_count": 7,
      "outputs": []
    },
    {
      "cell_type": "code",
      "metadata": {
        "colab": {
          "base_uri": "https://localhost:8080/"
        },
        "id": "Z4Ab05fzCRTB",
        "outputId": "8544c2b6-8c25-4020-acc6-23fde2472234"
      },
      "source": [
        "events_data_filtered_df.info()"
      ],
      "execution_count": 8,
      "outputs": [
        {
          "output_type": "stream",
          "text": [
            "<class 'pandas.core.frame.DataFrame'>\n",
            "Int64Index: 422915 entries, 1 to 3252921\n",
            "Data columns (total 7 columns):\n",
            " #   Column     Non-Null Count   Dtype  \n",
            "---  ------     --------------   -----  \n",
            " 0   event_id   422915 non-null  int64  \n",
            " 1   device_id  422867 non-null  float64\n",
            " 2   timestamp  422915 non-null  object \n",
            " 3   longitude  422873 non-null  float64\n",
            " 4   latitude   422873 non-null  float64\n",
            " 5   city       422915 non-null  object \n",
            " 6   state      422915 non-null  object \n",
            "dtypes: float64(3), int64(1), object(3)\n",
            "memory usage: 25.8+ MB\n"
          ],
          "name": "stdout"
        }
      ]
    },
    {
      "cell_type": "markdown",
      "metadata": {
        "id": "JN7DDhsnqTuS"
      },
      "source": [
        "Installing mysql connector for python"
      ]
    },
    {
      "cell_type": "code",
      "metadata": {
        "colab": {
          "base_uri": "https://localhost:8080/"
        },
        "id": "zqVHeEOaqKlP",
        "outputId": "3350b4a0-5038-43a4-bdb7-b3e16148a3c9"
      },
      "source": [
        "pip install mysql-connector-python-rf"
      ],
      "execution_count": 9,
      "outputs": [
        {
          "output_type": "stream",
          "text": [
            "Collecting mysql-connector-python-rf\n",
            "\u001b[?25l  Downloading https://files.pythonhosted.org/packages/21/79/2ff01ab7aa08db3a16b70b990c579c1024c6b2a734263cc7513a758867de/mysql-connector-python-rf-2.2.2.tar.gz (11.9MB)\n",
            "\u001b[K     |████████████████████████████████| 11.9MB 350kB/s \n",
            "\u001b[?25hBuilding wheels for collected packages: mysql-connector-python-rf\n",
            "  Building wheel for mysql-connector-python-rf (setup.py) ... \u001b[?25l\u001b[?25hdone\n",
            "  Created wheel for mysql-connector-python-rf: filename=mysql_connector_python_rf-2.2.2-cp37-cp37m-linux_x86_64.whl size=249456 sha256=c519ff9b4fa4a16c1c9a4575b4b9c551f82cda02cf543b26d04d30ea872ed736\n",
            "  Stored in directory: /root/.cache/pip/wheels/87/58/fb/d95c84fad7e1bebfed324c13e107ebb08e1997c9226532859a\n",
            "Successfully built mysql-connector-python-rf\n",
            "Installing collected packages: mysql-connector-python-rf\n",
            "Successfully installed mysql-connector-python-rf-2.2.2\n"
          ],
          "name": "stdout"
        }
      ]
    },
    {
      "cell_type": "markdown",
      "metadata": {
        "id": "ncnH2UjaDZpf"
      },
      "source": [
        "import package to connect to mysql and loading data from tables to dataframes"
      ]
    },
    {
      "cell_type": "code",
      "metadata": {
        "colab": {
          "base_uri": "https://localhost:8080/"
        },
        "id": "yzCEUtQfExr-",
        "outputId": "91c4370e-17df-4aa0-8c59-979331533e9f"
      },
      "source": [
        "import mysql.connector\n",
        "\n",
        "#this is to connect to mysql database\n",
        "mydb = mysql.connector.connect(\n",
        "  host=\"cpanel.insaid.co\",\n",
        "  user=\"student\",\n",
        "  password=\"student\",\n",
        "  database=\"Capstone1\"\n",
        ")\n",
        "\n",
        "#declaring a cursor variable of database to hold data of a specific table\n",
        "mycursor = mydb.cursor()\n",
        "\n",
        "#mycursor variable holds the entire data from gender_age_train table\n",
        "mycursor.execute(\"SELECT * FROM gender_age_train\")\n",
        "\n",
        "#using fetchall function to get data from cursor and populating in another variable\n",
        "myresult = mycursor.fetchall()\n",
        "\n",
        "#inserting table data from variable into a dataframe\n",
        "gender_age_train_df = pd.DataFrame(myresult,columns=['device_id','Gender','Age','Age_Group'])\n",
        "\n",
        "#mycursor variable holds the entire data from phone_brand_device_model table\n",
        "mycursor.execute(\"SELECT * FROM phone_brand_device_model\")\n",
        "\n",
        "#using fetchall function to get data from cursor and populating in another variable, this overwrites data from previous load\n",
        "myresult = mycursor.fetchall()\n",
        "\n",
        "#inserting table data from variable into a dataframe\n",
        "phone_brand_device_model_df = pd.DataFrame(myresult,columns=['device_id','Brand','Model'])\n",
        "\n",
        "#printing sample data from the dataframes\n",
        "print(\"Data from Gender_Age_Train Table\")\n",
        "print(\"---------------------------------\")\n",
        "print(gender_age_train_df.head())\n",
        "print(\"**************************************\")\n",
        "print(\"\\n\")\n",
        "print(\"Data from Phone_Brand_Device_Model Table\")\n",
        "print(\"-----------------------------------------\")\n",
        "print(phone_brand_device_model_df.head())\n",
        "print(\"**************************************\")"
      ],
      "execution_count": 10,
      "outputs": [
        {
          "output_type": "stream",
          "text": [
            "Data from Gender_Age_Train Table\n",
            "---------------------------------\n",
            "             device_id Gender  Age Age_Group\n",
            "0 -8076087639492063270      M   35    M32-38\n",
            "1 -2897161552818060146      M   35    M32-38\n",
            "2 -8260683887967679142      M   35    M32-38\n",
            "3 -4938849341048082022      M   30    M29-31\n",
            "4   245133531816851882      M   30    M29-31\n",
            "**************************************\n",
            "\n",
            "\n",
            "Data from Phone_Brand_Device_Model Table\n",
            "-----------------------------------------\n",
            "             device_id Brand    Model\n",
            "0  1877775838486905855  vivo      Y13\n",
            "1 -3766087376657242966    小米     V183\n",
            "2 -6238937574958215831  OPPO      R7s\n",
            "3  8973197758510677470    三星    A368t\n",
            "4 -2015528097870762664    小米  红米Note2\n",
            "**************************************\n"
          ],
          "name": "stdout"
        }
      ]
    },
    {
      "cell_type": "code",
      "metadata": {
        "colab": {
          "base_uri": "https://localhost:8080/"
        },
        "id": "TRHAsDT8MHz9",
        "outputId": "731b136b-5f6c-4ef6-ad77-3e90666816fc"
      },
      "source": [
        "events_data_filtered_df.info()"
      ],
      "execution_count": 11,
      "outputs": [
        {
          "output_type": "stream",
          "text": [
            "<class 'pandas.core.frame.DataFrame'>\n",
            "Int64Index: 422915 entries, 1 to 3252921\n",
            "Data columns (total 7 columns):\n",
            " #   Column     Non-Null Count   Dtype  \n",
            "---  ------     --------------   -----  \n",
            " 0   event_id   422915 non-null  int64  \n",
            " 1   device_id  422867 non-null  float64\n",
            " 2   timestamp  422915 non-null  object \n",
            " 3   longitude  422873 non-null  float64\n",
            " 4   latitude   422873 non-null  float64\n",
            " 5   city       422915 non-null  object \n",
            " 6   state      422915 non-null  object \n",
            "dtypes: float64(3), int64(1), object(3)\n",
            "memory usage: 25.8+ MB\n"
          ],
          "name": "stdout"
        }
      ]
    },
    {
      "cell_type": "code",
      "metadata": {
        "colab": {
          "base_uri": "https://localhost:8080/"
        },
        "id": "z_3nXwjnOjRa",
        "outputId": "7caacd68-6ab5-4031-dca7-0a2823fcb16d"
      },
      "source": [
        "events_data_filtered_df.isna().sum()"
      ],
      "execution_count": 177,
      "outputs": [
        {
          "output_type": "execute_result",
          "data": {
            "text/plain": [
              "event_id      0\n",
              "device_id    48\n",
              "timestamp     0\n",
              "longitude    42\n",
              "latitude     42\n",
              "city          0\n",
              "state         0\n",
              "dtype: int64"
            ]
          },
          "metadata": {
            "tags": []
          },
          "execution_count": 177
        }
      ]
    },
    {
      "cell_type": "code",
      "metadata": {
        "id": "4mCMOlUCOtHU"
      },
      "source": [
        "events_data_filtered_df.dropna(inplace=True)"
      ],
      "execution_count": 179,
      "outputs": []
    },
    {
      "cell_type": "code",
      "metadata": {
        "id": "oX9RID-pOXZs"
      },
      "source": [
        "events_data_filtered_df['device_id'] = events_data_filtered_df['device_id'].astype('int64')"
      ],
      "execution_count": 195,
      "outputs": []
    },
    {
      "cell_type": "code",
      "metadata": {
        "colab": {
          "base_uri": "https://localhost:8080/"
        },
        "id": "BKpJez7HO1m6",
        "outputId": "9ff13053-7139-49a5-94ba-5a0249b9773c"
      },
      "source": [
        "events_data_filtered_df.info()"
      ],
      "execution_count": 181,
      "outputs": [
        {
          "output_type": "stream",
          "text": [
            "<class 'pandas.core.frame.DataFrame'>\n",
            "Int64Index: 422825 entries, 1 to 3252921\n",
            "Data columns (total 7 columns):\n",
            " #   Column     Non-Null Count   Dtype  \n",
            "---  ------     --------------   -----  \n",
            " 0   event_id   422825 non-null  int64  \n",
            " 1   device_id  422825 non-null  int64  \n",
            " 2   timestamp  422825 non-null  object \n",
            " 3   longitude  422825 non-null  float64\n",
            " 4   latitude   422825 non-null  float64\n",
            " 5   city       422825 non-null  object \n",
            " 6   state      422825 non-null  object \n",
            "dtypes: float64(2), int64(2), object(3)\n",
            "memory usage: 25.8+ MB\n"
          ],
          "name": "stdout"
        }
      ]
    },
    {
      "cell_type": "code",
      "metadata": {
        "colab": {
          "base_uri": "https://localhost:8080/"
        },
        "id": "ONMl2ZzuMTuB",
        "outputId": "86ec01f3-d5bc-467d-83e8-db29963e08f0"
      },
      "source": [
        "gender_age_train_df.info()"
      ],
      "execution_count": 12,
      "outputs": [
        {
          "output_type": "stream",
          "text": [
            "<class 'pandas.core.frame.DataFrame'>\n",
            "RangeIndex: 74645 entries, 0 to 74644\n",
            "Data columns (total 4 columns):\n",
            " #   Column     Non-Null Count  Dtype \n",
            "---  ------     --------------  ----- \n",
            " 0   device_id  74645 non-null  int64 \n",
            " 1   Gender     74645 non-null  object\n",
            " 2   Age        74645 non-null  int64 \n",
            " 3   Age_Group  74645 non-null  object\n",
            "dtypes: int64(2), object(2)\n",
            "memory usage: 2.3+ MB\n"
          ],
          "name": "stdout"
        }
      ]
    },
    {
      "cell_type": "code",
      "metadata": {
        "colab": {
          "base_uri": "https://localhost:8080/"
        },
        "id": "RmQCvNB1MT2r",
        "outputId": "ffa9802d-77b7-43f8-d0fd-4824a16c40d8"
      },
      "source": [
        "phone_brand_device_model_df.info()"
      ],
      "execution_count": 13,
      "outputs": [
        {
          "output_type": "stream",
          "text": [
            "<class 'pandas.core.frame.DataFrame'>\n",
            "RangeIndex: 87726 entries, 0 to 87725\n",
            "Data columns (total 3 columns):\n",
            " #   Column     Non-Null Count  Dtype \n",
            "---  ------     --------------  ----- \n",
            " 0   device_id  87726 non-null  int64 \n",
            " 1   Brand      87726 non-null  object\n",
            " 2   Model      87726 non-null  object\n",
            "dtypes: int64(1), object(2)\n",
            "memory usage: 2.0+ MB\n"
          ],
          "name": "stdout"
        }
      ]
    },
    {
      "cell_type": "code",
      "metadata": {
        "colab": {
          "base_uri": "https://localhost:8080/"
        },
        "id": "2Qco7DdQ8bW2",
        "outputId": "0bff2174-d33c-4aa1-80ac-f28c448f8da2"
      },
      "source": [
        "gender_age_train_df['Gender'].value_counts()"
      ],
      "execution_count": 14,
      "outputs": [
        {
          "output_type": "execute_result",
          "data": {
            "text/plain": [
              "M    47904\n",
              "F    26741\n",
              "Name: Gender, dtype: int64"
            ]
          },
          "metadata": {
            "tags": []
          },
          "execution_count": 14
        }
      ]
    },
    {
      "cell_type": "markdown",
      "metadata": {
        "id": "Zj4cuU7m7iZo"
      },
      "source": [
        "No entries in gender_age_train dataframe with null Gender"
      ]
    },
    {
      "cell_type": "code",
      "metadata": {
        "colab": {
          "base_uri": "https://localhost:8080/"
        },
        "id": "jVr0tdAt8zca",
        "outputId": "1de9d597-65e6-491c-94a3-9a10b24ce104"
      },
      "source": [
        "phone_brand_device_model_df['Brand'].value_counts(ascending=False)"
      ],
      "execution_count": 15,
      "outputs": [
        {
          "output_type": "execute_result",
          "data": {
            "text/plain": [
              "小米      21645\n",
              "三星      19211\n",
              "华为      15181\n",
              "vivo     7596\n",
              "OPPO     6717\n",
              "        ...  \n",
              "丰米          1\n",
              "凯利通         1\n",
              "赛博宇华        1\n",
              "瑞米          1\n",
              "西门子         1\n",
              "Name: Brand, Length: 116, dtype: int64"
            ]
          },
          "metadata": {
            "tags": []
          },
          "execution_count": 15
        }
      ]
    },
    {
      "cell_type": "markdown",
      "metadata": {
        "id": "eIiWW9cW7mD5"
      },
      "source": [
        "No records in phone_brand_device_model dataframe with null Brand"
      ]
    },
    {
      "cell_type": "markdown",
      "metadata": {
        "id": "LKuMGCZxWh5g"
      },
      "source": [
        "Merging Dataframes on device_id to create a single dataframe which contains customer age, gender, mobile brand and model"
      ]
    },
    {
      "cell_type": "code",
      "metadata": {
        "colab": {
          "base_uri": "https://localhost:8080/",
          "height": 391
        },
        "id": "R-0klUXfWP4o",
        "outputId": "a46e58fc-61e5-4032-a261-d2266d3bfca3"
      },
      "source": [
        "device_data_df=pd.merge(events_data_filtered_df,gender_age_train_df,on='device_id',how='inner') #performing inner join to fetch only matching device_id records\n",
        "device_data_df.fillna(0,inplace=True) #replacing null values in the columns with 0\n",
        "device_data_df"
      ],
      "execution_count": 183,
      "outputs": [
        {
          "output_type": "execute_result",
          "data": {
            "text/html": [
              "<div>\n",
              "<style scoped>\n",
              "    .dataframe tbody tr th:only-of-type {\n",
              "        vertical-align: middle;\n",
              "    }\n",
              "\n",
              "    .dataframe tbody tr th {\n",
              "        vertical-align: top;\n",
              "    }\n",
              "\n",
              "    .dataframe thead th {\n",
              "        text-align: right;\n",
              "    }\n",
              "</style>\n",
              "<table border=\"1\" class=\"dataframe\">\n",
              "  <thead>\n",
              "    <tr style=\"text-align: right;\">\n",
              "      <th></th>\n",
              "      <th>event_id</th>\n",
              "      <th>device_id</th>\n",
              "      <th>timestamp</th>\n",
              "      <th>longitude</th>\n",
              "      <th>latitude</th>\n",
              "      <th>city</th>\n",
              "      <th>state</th>\n",
              "      <th>Gender</th>\n",
              "      <th>Age</th>\n",
              "      <th>Age_Group</th>\n",
              "    </tr>\n",
              "  </thead>\n",
              "  <tbody>\n",
              "    <tr>\n",
              "      <th>0</th>\n",
              "      <td>1836426</td>\n",
              "      <td>3872521790238090752</td>\n",
              "      <td>2016-05-01 20:29:14</td>\n",
              "      <td>71.294802</td>\n",
              "      <td>21.661309</td>\n",
              "      <td>Amreli</td>\n",
              "      <td>Gujarat</td>\n",
              "      <td>M</td>\n",
              "      <td>20</td>\n",
              "      <td>M22-</td>\n",
              "    </tr>\n",
              "    <tr>\n",
              "      <th>1</th>\n",
              "      <td>225132</td>\n",
              "      <td>3872521790238090752</td>\n",
              "      <td>2016-05-01 12:52:44</td>\n",
              "      <td>71.294802</td>\n",
              "      <td>21.661309</td>\n",
              "      <td>Amreli</td>\n",
              "      <td>Gujarat</td>\n",
              "      <td>M</td>\n",
              "      <td>20</td>\n",
              "      <td>M22-</td>\n",
              "    </tr>\n",
              "    <tr>\n",
              "      <th>2</th>\n",
              "      <td>815723</td>\n",
              "      <td>3872521790238090752</td>\n",
              "      <td>2016-05-01 12:28:56</td>\n",
              "      <td>71.294802</td>\n",
              "      <td>21.661309</td>\n",
              "      <td>Amreli</td>\n",
              "      <td>Gujarat</td>\n",
              "      <td>M</td>\n",
              "      <td>20</td>\n",
              "      <td>M22-</td>\n",
              "    </tr>\n",
              "    <tr>\n",
              "      <th>3</th>\n",
              "      <td>1300157</td>\n",
              "      <td>3872521790238090752</td>\n",
              "      <td>2016-05-04 23:24:57</td>\n",
              "      <td>71.294802</td>\n",
              "      <td>21.661309</td>\n",
              "      <td>Amreli</td>\n",
              "      <td>Gujarat</td>\n",
              "      <td>M</td>\n",
              "      <td>20</td>\n",
              "      <td>M22-</td>\n",
              "    </tr>\n",
              "    <tr>\n",
              "      <th>4</th>\n",
              "      <td>233682</td>\n",
              "      <td>3872521790238090752</td>\n",
              "      <td>2016-05-04 19:09:26</td>\n",
              "      <td>71.294802</td>\n",
              "      <td>21.661309</td>\n",
              "      <td>Amreli</td>\n",
              "      <td>Gujarat</td>\n",
              "      <td>M</td>\n",
              "      <td>20</td>\n",
              "      <td>M22-</td>\n",
              "    </tr>\n",
              "    <tr>\n",
              "      <th>...</th>\n",
              "      <td>...</td>\n",
              "      <td>...</td>\n",
              "      <td>...</td>\n",
              "      <td>...</td>\n",
              "      <td>...</td>\n",
              "      <td>...</td>\n",
              "      <td>...</td>\n",
              "      <td>...</td>\n",
              "      <td>...</td>\n",
              "      <td>...</td>\n",
              "    </tr>\n",
              "    <tr>\n",
              "      <th>2636</th>\n",
              "      <td>1530731</td>\n",
              "      <td>-228846787598753152</td>\n",
              "      <td>2016-05-07 10:35:00</td>\n",
              "      <td>88.413496</td>\n",
              "      <td>22.561318</td>\n",
              "      <td>Chakdaha</td>\n",
              "      <td>WestBengal</td>\n",
              "      <td>F</td>\n",
              "      <td>63</td>\n",
              "      <td>F43+</td>\n",
              "    </tr>\n",
              "    <tr>\n",
              "      <th>2637</th>\n",
              "      <td>2967042</td>\n",
              "      <td>-228846787598753152</td>\n",
              "      <td>2016-05-01 08:08:46</td>\n",
              "      <td>88.413496</td>\n",
              "      <td>22.561318</td>\n",
              "      <td>Chakdaha</td>\n",
              "      <td>WestBengal</td>\n",
              "      <td>F</td>\n",
              "      <td>63</td>\n",
              "      <td>F43+</td>\n",
              "    </tr>\n",
              "    <tr>\n",
              "      <th>2638</th>\n",
              "      <td>1334106</td>\n",
              "      <td>-2734689217401949696</td>\n",
              "      <td>2016-05-05 10:00:05</td>\n",
              "      <td>72.616658</td>\n",
              "      <td>23.056911</td>\n",
              "      <td>Ahmadabad</td>\n",
              "      <td>Gujarat</td>\n",
              "      <td>M</td>\n",
              "      <td>27</td>\n",
              "      <td>M27-28</td>\n",
              "    </tr>\n",
              "    <tr>\n",
              "      <th>2639</th>\n",
              "      <td>1776773</td>\n",
              "      <td>3711361681074975744</td>\n",
              "      <td>2016-05-02 15:54:13</td>\n",
              "      <td>70.861036</td>\n",
              "      <td>22.872394</td>\n",
              "      <td>Morvi</td>\n",
              "      <td>Gujarat</td>\n",
              "      <td>M</td>\n",
              "      <td>31</td>\n",
              "      <td>M29-31</td>\n",
              "    </tr>\n",
              "    <tr>\n",
              "      <th>2640</th>\n",
              "      <td>1608869</td>\n",
              "      <td>3501846588781962240</td>\n",
              "      <td>2016-05-04 13:27:20</td>\n",
              "      <td>72.607350</td>\n",
              "      <td>23.763381</td>\n",
              "      <td>Visnagar</td>\n",
              "      <td>Gujarat</td>\n",
              "      <td>M</td>\n",
              "      <td>28</td>\n",
              "      <td>M27-28</td>\n",
              "    </tr>\n",
              "  </tbody>\n",
              "</table>\n",
              "<p>2641 rows × 10 columns</p>\n",
              "</div>"
            ],
            "text/plain": [
              "      event_id            device_id            timestamp  ...  Gender  Age Age_Group\n",
              "0      1836426  3872521790238090752  2016-05-01 20:29:14  ...       M   20      M22-\n",
              "1       225132  3872521790238090752  2016-05-01 12:52:44  ...       M   20      M22-\n",
              "2       815723  3872521790238090752  2016-05-01 12:28:56  ...       M   20      M22-\n",
              "3      1300157  3872521790238090752  2016-05-04 23:24:57  ...       M   20      M22-\n",
              "4       233682  3872521790238090752  2016-05-04 19:09:26  ...       M   20      M22-\n",
              "...        ...                  ...                  ...  ...     ...  ...       ...\n",
              "2636   1530731  -228846787598753152  2016-05-07 10:35:00  ...       F   63      F43+\n",
              "2637   2967042  -228846787598753152  2016-05-01 08:08:46  ...       F   63      F43+\n",
              "2638   1334106 -2734689217401949696  2016-05-05 10:00:05  ...       M   27    M27-28\n",
              "2639   1776773  3711361681074975744  2016-05-02 15:54:13  ...       M   31    M29-31\n",
              "2640   1608869  3501846588781962240  2016-05-04 13:27:20  ...       M   28    M27-28\n",
              "\n",
              "[2641 rows x 10 columns]"
            ]
          },
          "metadata": {
            "tags": []
          },
          "execution_count": 183
        }
      ]
    },
    {
      "cell_type": "code",
      "metadata": {
        "colab": {
          "base_uri": "https://localhost:8080/",
          "height": 391
        },
        "id": "k2byoyqqXjqP",
        "outputId": "d9247bab-ce0c-45f1-9d0e-69b1c22b653a"
      },
      "source": [
        "device_data_df=pd.merge(device_data_df,phone_brand_device_model_df,on='device_id',how='inner')\n",
        "device_data_df.fillna(0,inplace=True)\n",
        "device_data_df"
      ],
      "execution_count": 184,
      "outputs": [
        {
          "output_type": "execute_result",
          "data": {
            "text/html": [
              "<div>\n",
              "<style scoped>\n",
              "    .dataframe tbody tr th:only-of-type {\n",
              "        vertical-align: middle;\n",
              "    }\n",
              "\n",
              "    .dataframe tbody tr th {\n",
              "        vertical-align: top;\n",
              "    }\n",
              "\n",
              "    .dataframe thead th {\n",
              "        text-align: right;\n",
              "    }\n",
              "</style>\n",
              "<table border=\"1\" class=\"dataframe\">\n",
              "  <thead>\n",
              "    <tr style=\"text-align: right;\">\n",
              "      <th></th>\n",
              "      <th>event_id</th>\n",
              "      <th>device_id</th>\n",
              "      <th>timestamp</th>\n",
              "      <th>longitude</th>\n",
              "      <th>latitude</th>\n",
              "      <th>city</th>\n",
              "      <th>state</th>\n",
              "      <th>Gender</th>\n",
              "      <th>Age</th>\n",
              "      <th>Age_Group</th>\n",
              "      <th>Brand</th>\n",
              "      <th>Model</th>\n",
              "    </tr>\n",
              "  </thead>\n",
              "  <tbody>\n",
              "    <tr>\n",
              "      <th>0</th>\n",
              "      <td>1836426</td>\n",
              "      <td>3872521790238090752</td>\n",
              "      <td>2016-05-01 20:29:14</td>\n",
              "      <td>71.294802</td>\n",
              "      <td>21.661309</td>\n",
              "      <td>Amreli</td>\n",
              "      <td>Gujarat</td>\n",
              "      <td>M</td>\n",
              "      <td>20</td>\n",
              "      <td>M22-</td>\n",
              "      <td>酷派</td>\n",
              "      <td>8702</td>\n",
              "    </tr>\n",
              "    <tr>\n",
              "      <th>1</th>\n",
              "      <td>225132</td>\n",
              "      <td>3872521790238090752</td>\n",
              "      <td>2016-05-01 12:52:44</td>\n",
              "      <td>71.294802</td>\n",
              "      <td>21.661309</td>\n",
              "      <td>Amreli</td>\n",
              "      <td>Gujarat</td>\n",
              "      <td>M</td>\n",
              "      <td>20</td>\n",
              "      <td>M22-</td>\n",
              "      <td>酷派</td>\n",
              "      <td>8702</td>\n",
              "    </tr>\n",
              "    <tr>\n",
              "      <th>2</th>\n",
              "      <td>815723</td>\n",
              "      <td>3872521790238090752</td>\n",
              "      <td>2016-05-01 12:28:56</td>\n",
              "      <td>71.294802</td>\n",
              "      <td>21.661309</td>\n",
              "      <td>Amreli</td>\n",
              "      <td>Gujarat</td>\n",
              "      <td>M</td>\n",
              "      <td>20</td>\n",
              "      <td>M22-</td>\n",
              "      <td>酷派</td>\n",
              "      <td>8702</td>\n",
              "    </tr>\n",
              "    <tr>\n",
              "      <th>3</th>\n",
              "      <td>1300157</td>\n",
              "      <td>3872521790238090752</td>\n",
              "      <td>2016-05-04 23:24:57</td>\n",
              "      <td>71.294802</td>\n",
              "      <td>21.661309</td>\n",
              "      <td>Amreli</td>\n",
              "      <td>Gujarat</td>\n",
              "      <td>M</td>\n",
              "      <td>20</td>\n",
              "      <td>M22-</td>\n",
              "      <td>酷派</td>\n",
              "      <td>8702</td>\n",
              "    </tr>\n",
              "    <tr>\n",
              "      <th>4</th>\n",
              "      <td>233682</td>\n",
              "      <td>3872521790238090752</td>\n",
              "      <td>2016-05-04 19:09:26</td>\n",
              "      <td>71.294802</td>\n",
              "      <td>21.661309</td>\n",
              "      <td>Amreli</td>\n",
              "      <td>Gujarat</td>\n",
              "      <td>M</td>\n",
              "      <td>20</td>\n",
              "      <td>M22-</td>\n",
              "      <td>酷派</td>\n",
              "      <td>8702</td>\n",
              "    </tr>\n",
              "    <tr>\n",
              "      <th>...</th>\n",
              "      <td>...</td>\n",
              "      <td>...</td>\n",
              "      <td>...</td>\n",
              "      <td>...</td>\n",
              "      <td>...</td>\n",
              "      <td>...</td>\n",
              "      <td>...</td>\n",
              "      <td>...</td>\n",
              "      <td>...</td>\n",
              "      <td>...</td>\n",
              "      <td>...</td>\n",
              "      <td>...</td>\n",
              "    </tr>\n",
              "    <tr>\n",
              "      <th>2636</th>\n",
              "      <td>1530731</td>\n",
              "      <td>-228846787598753152</td>\n",
              "      <td>2016-05-07 10:35:00</td>\n",
              "      <td>88.413496</td>\n",
              "      <td>22.561318</td>\n",
              "      <td>Chakdaha</td>\n",
              "      <td>WestBengal</td>\n",
              "      <td>F</td>\n",
              "      <td>63</td>\n",
              "      <td>F43+</td>\n",
              "      <td>魅族</td>\n",
              "      <td>MX3</td>\n",
              "    </tr>\n",
              "    <tr>\n",
              "      <th>2637</th>\n",
              "      <td>2967042</td>\n",
              "      <td>-228846787598753152</td>\n",
              "      <td>2016-05-01 08:08:46</td>\n",
              "      <td>88.413496</td>\n",
              "      <td>22.561318</td>\n",
              "      <td>Chakdaha</td>\n",
              "      <td>WestBengal</td>\n",
              "      <td>F</td>\n",
              "      <td>63</td>\n",
              "      <td>F43+</td>\n",
              "      <td>魅族</td>\n",
              "      <td>MX3</td>\n",
              "    </tr>\n",
              "    <tr>\n",
              "      <th>2638</th>\n",
              "      <td>1334106</td>\n",
              "      <td>-2734689217401949696</td>\n",
              "      <td>2016-05-05 10:00:05</td>\n",
              "      <td>72.616658</td>\n",
              "      <td>23.056911</td>\n",
              "      <td>Ahmadabad</td>\n",
              "      <td>Gujarat</td>\n",
              "      <td>M</td>\n",
              "      <td>27</td>\n",
              "      <td>M27-28</td>\n",
              "      <td>华为</td>\n",
              "      <td>荣耀3X畅玩版</td>\n",
              "    </tr>\n",
              "    <tr>\n",
              "      <th>2639</th>\n",
              "      <td>1776773</td>\n",
              "      <td>3711361681074975744</td>\n",
              "      <td>2016-05-02 15:54:13</td>\n",
              "      <td>70.861036</td>\n",
              "      <td>22.872394</td>\n",
              "      <td>Morvi</td>\n",
              "      <td>Gujarat</td>\n",
              "      <td>M</td>\n",
              "      <td>31</td>\n",
              "      <td>M29-31</td>\n",
              "      <td>三星</td>\n",
              "      <td>Galaxy S6</td>\n",
              "    </tr>\n",
              "    <tr>\n",
              "      <th>2640</th>\n",
              "      <td>1608869</td>\n",
              "      <td>3501846588781962240</td>\n",
              "      <td>2016-05-04 13:27:20</td>\n",
              "      <td>72.607350</td>\n",
              "      <td>23.763381</td>\n",
              "      <td>Visnagar</td>\n",
              "      <td>Gujarat</td>\n",
              "      <td>M</td>\n",
              "      <td>28</td>\n",
              "      <td>M27-28</td>\n",
              "      <td>小米</td>\n",
              "      <td>E5</td>\n",
              "    </tr>\n",
              "  </tbody>\n",
              "</table>\n",
              "<p>2641 rows × 12 columns</p>\n",
              "</div>"
            ],
            "text/plain": [
              "      event_id            device_id  ... Brand      Model\n",
              "0      1836426  3872521790238090752  ...    酷派       8702\n",
              "1       225132  3872521790238090752  ...    酷派       8702\n",
              "2       815723  3872521790238090752  ...    酷派       8702\n",
              "3      1300157  3872521790238090752  ...    酷派       8702\n",
              "4       233682  3872521790238090752  ...    酷派       8702\n",
              "...        ...                  ...  ...   ...        ...\n",
              "2636   1530731  -228846787598753152  ...    魅族        MX3\n",
              "2637   2967042  -228846787598753152  ...    魅族        MX3\n",
              "2638   1334106 -2734689217401949696  ...    华为    荣耀3X畅玩版\n",
              "2639   1776773  3711361681074975744  ...    三星  Galaxy S6\n",
              "2640   1608869  3501846588781962240  ...    小米         E5\n",
              "\n",
              "[2641 rows x 12 columns]"
            ]
          },
          "metadata": {
            "tags": []
          },
          "execution_count": 184
        }
      ]
    },
    {
      "cell_type": "code",
      "metadata": {
        "colab": {
          "base_uri": "https://localhost:8080/"
        },
        "id": "LIz3sU1snCtI",
        "outputId": "953833c6-e9aa-46fe-dd9c-5cca68ddcb5a"
      },
      "source": [
        "events_data_filtered_df['device_id'].nunique()"
      ],
      "execution_count": 18,
      "outputs": [
        {
          "output_type": "execute_result",
          "data": {
            "text/plain": [
              "19032"
            ]
          },
          "metadata": {
            "tags": []
          },
          "execution_count": 18
        }
      ]
    },
    {
      "cell_type": "markdown",
      "metadata": {
        "id": "X9SnuJzOl3lO"
      },
      "source": [
        "For the 6 states in consideration there are 19032 devices."
      ]
    },
    {
      "cell_type": "code",
      "metadata": {
        "colab": {
          "base_uri": "https://localhost:8080/"
        },
        "id": "T9kBsDc3mNgm",
        "outputId": "f2d5fcf4-f812-458a-a4cf-d4f29338f90f"
      },
      "source": [
        "device_data_df['device_id'].nunique()"
      ],
      "execution_count": 19,
      "outputs": [
        {
          "output_type": "execute_result",
          "data": {
            "text/plain": [
              "120"
            ]
          },
          "metadata": {
            "tags": []
          },
          "execution_count": 19
        }
      ]
    },
    {
      "cell_type": "markdown",
      "metadata": {
        "id": "4MqtSjuAnRl5"
      },
      "source": [
        "For all the 6 states under consideration we've customer data for only 120 devices."
      ]
    },
    {
      "cell_type": "code",
      "metadata": {
        "colab": {
          "base_uri": "https://localhost:8080/"
        },
        "id": "KxP0P5PJmhjE",
        "outputId": "16608998-a30e-4619-806a-198e67692d61"
      },
      "source": [
        "((events_data_filtered_df['device_id'].nunique() - device_data_df['device_id'].nunique()) / events_data_filtered_df['device_id'].nunique()) * 100"
      ],
      "execution_count": 20,
      "outputs": [
        {
          "output_type": "execute_result",
          "data": {
            "text/plain": [
              "99.36948297604036"
            ]
          },
          "metadata": {
            "tags": []
          },
          "execution_count": 20
        }
      ]
    },
    {
      "cell_type": "markdown",
      "metadata": {
        "id": "Zrx31Y7F-1Z_"
      },
      "source": [
        "1.   Only 2641 records have matching device_id from all the 3 dataframes.\n",
        "2.   Of 2641 matching records there are 120 unique DeviceIDs which mean that there are multiple events for few Devices.\n",
        "3.    For all the 6 states under consideration customer data is not available for ~99.4% of the devices.\n"
      ]
    },
    {
      "cell_type": "code",
      "metadata": {
        "colab": {
          "base_uri": "https://localhost:8080/"
        },
        "id": "1cka-Rj-82D5",
        "outputId": "70598c6c-d2cf-43f7-a4e2-062bce6f5454"
      },
      "source": [
        "device_data_df['Model'].nunique()"
      ],
      "execution_count": 21,
      "outputs": [
        {
          "output_type": "execute_result",
          "data": {
            "text/plain": [
              "85"
            ]
          },
          "metadata": {
            "tags": []
          },
          "execution_count": 21
        }
      ]
    },
    {
      "cell_type": "code",
      "metadata": {
        "colab": {
          "base_uri": "https://localhost:8080/"
        },
        "id": "r0GsJkREYA9q",
        "outputId": "b692a935-a3ab-4119-ea86-7fe343f4eebd"
      },
      "source": [
        "device_data_df['Brand'].nunique()"
      ],
      "execution_count": 22,
      "outputs": [
        {
          "output_type": "execute_result",
          "data": {
            "text/plain": [
              "14"
            ]
          },
          "metadata": {
            "tags": []
          },
          "execution_count": 22
        }
      ]
    },
    {
      "cell_type": "markdown",
      "metadata": {
        "id": "DoHBTfIjA_Ol"
      },
      "source": [
        "Upon merging all the 3 dataframes we've data for around 85 models from 14 Brands."
      ]
    },
    {
      "cell_type": "code",
      "metadata": {
        "colab": {
          "base_uri": "https://localhost:8080/",
          "height": 191
        },
        "id": "8sDh7XkSozFb",
        "outputId": "4b2e037d-a527-47a8-8540-0f18a1cf09ec"
      },
      "source": [
        "device_data_df.head()"
      ],
      "execution_count": 23,
      "outputs": [
        {
          "output_type": "execute_result",
          "data": {
            "text/html": [
              "<div>\n",
              "<style scoped>\n",
              "    .dataframe tbody tr th:only-of-type {\n",
              "        vertical-align: middle;\n",
              "    }\n",
              "\n",
              "    .dataframe tbody tr th {\n",
              "        vertical-align: top;\n",
              "    }\n",
              "\n",
              "    .dataframe thead th {\n",
              "        text-align: right;\n",
              "    }\n",
              "</style>\n",
              "<table border=\"1\" class=\"dataframe\">\n",
              "  <thead>\n",
              "    <tr style=\"text-align: right;\">\n",
              "      <th></th>\n",
              "      <th>event_id</th>\n",
              "      <th>device_id</th>\n",
              "      <th>timestamp</th>\n",
              "      <th>longitude</th>\n",
              "      <th>latitude</th>\n",
              "      <th>city</th>\n",
              "      <th>state</th>\n",
              "      <th>Gender</th>\n",
              "      <th>Age</th>\n",
              "      <th>Age_Group</th>\n",
              "      <th>Brand</th>\n",
              "      <th>Model</th>\n",
              "    </tr>\n",
              "  </thead>\n",
              "  <tbody>\n",
              "    <tr>\n",
              "      <th>0</th>\n",
              "      <td>1836426</td>\n",
              "      <td>3.872522e+18</td>\n",
              "      <td>2016-05-01 20:29:14</td>\n",
              "      <td>71.294802</td>\n",
              "      <td>21.661309</td>\n",
              "      <td>Amreli</td>\n",
              "      <td>Gujarat</td>\n",
              "      <td>M</td>\n",
              "      <td>20</td>\n",
              "      <td>M22-</td>\n",
              "      <td>酷派</td>\n",
              "      <td>8702</td>\n",
              "    </tr>\n",
              "    <tr>\n",
              "      <th>1</th>\n",
              "      <td>225132</td>\n",
              "      <td>3.872522e+18</td>\n",
              "      <td>2016-05-01 12:52:44</td>\n",
              "      <td>71.294802</td>\n",
              "      <td>21.661309</td>\n",
              "      <td>Amreli</td>\n",
              "      <td>Gujarat</td>\n",
              "      <td>M</td>\n",
              "      <td>20</td>\n",
              "      <td>M22-</td>\n",
              "      <td>酷派</td>\n",
              "      <td>8702</td>\n",
              "    </tr>\n",
              "    <tr>\n",
              "      <th>2</th>\n",
              "      <td>815723</td>\n",
              "      <td>3.872522e+18</td>\n",
              "      <td>2016-05-01 12:28:56</td>\n",
              "      <td>71.294802</td>\n",
              "      <td>21.661309</td>\n",
              "      <td>Amreli</td>\n",
              "      <td>Gujarat</td>\n",
              "      <td>M</td>\n",
              "      <td>20</td>\n",
              "      <td>M22-</td>\n",
              "      <td>酷派</td>\n",
              "      <td>8702</td>\n",
              "    </tr>\n",
              "    <tr>\n",
              "      <th>3</th>\n",
              "      <td>1300157</td>\n",
              "      <td>3.872522e+18</td>\n",
              "      <td>2016-05-04 23:24:57</td>\n",
              "      <td>71.294802</td>\n",
              "      <td>21.661309</td>\n",
              "      <td>Amreli</td>\n",
              "      <td>Gujarat</td>\n",
              "      <td>M</td>\n",
              "      <td>20</td>\n",
              "      <td>M22-</td>\n",
              "      <td>酷派</td>\n",
              "      <td>8702</td>\n",
              "    </tr>\n",
              "    <tr>\n",
              "      <th>4</th>\n",
              "      <td>233682</td>\n",
              "      <td>3.872522e+18</td>\n",
              "      <td>2016-05-04 19:09:26</td>\n",
              "      <td>71.294802</td>\n",
              "      <td>21.661309</td>\n",
              "      <td>Amreli</td>\n",
              "      <td>Gujarat</td>\n",
              "      <td>M</td>\n",
              "      <td>20</td>\n",
              "      <td>M22-</td>\n",
              "      <td>酷派</td>\n",
              "      <td>8702</td>\n",
              "    </tr>\n",
              "  </tbody>\n",
              "</table>\n",
              "</div>"
            ],
            "text/plain": [
              "   event_id     device_id            timestamp  ...  Age_Group  Brand Model\n",
              "0   1836426  3.872522e+18  2016-05-01 20:29:14  ...       M22-     酷派  8702\n",
              "1    225132  3.872522e+18  2016-05-01 12:52:44  ...       M22-     酷派  8702\n",
              "2    815723  3.872522e+18  2016-05-01 12:28:56  ...       M22-     酷派  8702\n",
              "3   1300157  3.872522e+18  2016-05-04 23:24:57  ...       M22-     酷派  8702\n",
              "4    233682  3.872522e+18  2016-05-04 19:09:26  ...       M22-     酷派  8702\n",
              "\n",
              "[5 rows x 12 columns]"
            ]
          },
          "metadata": {
            "tags": []
          },
          "execution_count": 23
        }
      ]
    },
    {
      "cell_type": "code",
      "metadata": {
        "colab": {
          "base_uri": "https://localhost:8080/"
        },
        "id": "HqXOjGeLpDh9",
        "outputId": "29046239-11f0-4785-82d0-2c5168938cf8"
      },
      "source": [
        "((device_data_df[device_data_df['Gender'] == 'M']['Gender'].count() - device_data_df[device_data_df['Gender'] == 'F']['Gender'].count()) / device_data_df[device_data_df['Gender'] == 'F']['Gender'].count()) * 100"
      ],
      "execution_count": 24,
      "outputs": [
        {
          "output_type": "execute_result",
          "data": {
            "text/plain": [
              "73.67875647668394"
            ]
          },
          "metadata": {
            "tags": []
          },
          "execution_count": 24
        }
      ]
    },
    {
      "cell_type": "markdown",
      "metadata": {
        "id": "8kGeEQqApyf5"
      },
      "source": [
        "73.7% of the customers are Male."
      ]
    },
    {
      "cell_type": "code",
      "metadata": {
        "colab": {
          "base_uri": "https://localhost:8080/"
        },
        "id": "-oEyZ-1yqEnT",
        "outputId": "5baf7b54-0f89-4564-c2f9-d3df606f189b"
      },
      "source": [
        "device_data_df['Age_Group'].value_counts()"
      ],
      "execution_count": 25,
      "outputs": [
        {
          "output_type": "execute_result",
          "data": {
            "text/plain": [
              "M23-26    604\n",
              "M29-31    330\n",
              "F27-28    325\n",
              "M32-38    322\n",
              "M22-      289\n",
              "F29-32    234\n",
              "F23-      153\n",
              "F43+      114\n",
              "M39+       80\n",
              "F33-42     75\n",
              "F24-26     64\n",
              "M27-28     51\n",
              "Name: Age_Group, dtype: int64"
            ]
          },
          "metadata": {
            "tags": []
          },
          "execution_count": 25
        }
      ]
    },
    {
      "cell_type": "code",
      "metadata": {
        "colab": {
          "base_uri": "https://localhost:8080/"
        },
        "id": "5_3RVmBWqo4f",
        "outputId": "d4958e22-488a-4a46-f669-fdfe429d46eb"
      },
      "source": [
        "device_data_df['state'].value_counts()"
      ],
      "execution_count": 26,
      "outputs": [
        {
          "output_type": "execute_result",
          "data": {
            "text/plain": [
              "WestBengal    959\n",
              "Gujarat       707\n",
              "Karnataka     572\n",
              "Bihar         300\n",
              "Kerala         71\n",
              "Punjab         32\n",
              "Name: state, dtype: int64"
            ]
          },
          "metadata": {
            "tags": []
          },
          "execution_count": 26
        }
      ]
    },
    {
      "cell_type": "code",
      "metadata": {
        "colab": {
          "base_uri": "https://localhost:8080/"
        },
        "id": "PjICkDyhq6qG",
        "outputId": "8b5ff4ae-b4cc-448a-d0c9-6d4bc699c31a"
      },
      "source": [
        "((device_data_df['state'].count() - device_data_df[device_data_df['state'] == 'WestBengal']['state'].count()) / device_data_df['state'].count()) * 100"
      ],
      "execution_count": 27,
      "outputs": [
        {
          "output_type": "execute_result",
          "data": {
            "text/plain": [
              "63.687996970844374"
            ]
          },
          "metadata": {
            "tags": []
          },
          "execution_count": 27
        }
      ]
    },
    {
      "cell_type": "code",
      "metadata": {
        "colab": {
          "base_uri": "https://localhost:8080/"
        },
        "id": "Gi3sMJNRsY3U",
        "outputId": "45c9d1d5-222b-46aa-9354-c9dddeb582d6"
      },
      "source": [
        "device_data_df[device_data_df['state'] == 'WestBengal']['city'].value_counts()"
      ],
      "execution_count": 28,
      "outputs": [
        {
          "output_type": "execute_result",
          "data": {
            "text/plain": [
              "Calcutta                787\n",
              "Durgapur                 50\n",
              "Kharagpur                43\n",
              "Ghatal                   28\n",
              "Kandi                    11\n",
              "Kalna                     8\n",
              "Contai                    6\n",
              "Puruliya                  6\n",
              "Pujali                    6\n",
              "Chandannagar              4\n",
              "Chakdaha                  3\n",
              "Naihati                   2\n",
              "Ulubaria                  2\n",
              "AshoknagarKalyangarh      2\n",
              "Shiliguri                 1\n",
              "Name: city, dtype: int64"
            ]
          },
          "metadata": {
            "tags": []
          },
          "execution_count": 28
        }
      ]
    },
    {
      "cell_type": "code",
      "metadata": {
        "colab": {
          "base_uri": "https://localhost:8080/"
        },
        "id": "IEmGT4QMx0Fk",
        "outputId": "9824994a-8f03-44cf-c237-b3a2bbe6e946"
      },
      "source": [
        "device_data_df['city'].value_counts()"
      ],
      "execution_count": 29,
      "outputs": [
        {
          "output_type": "execute_result",
          "data": {
            "text/plain": [
              "Calcutta                787\n",
              "Bangalore               327\n",
              "Bardoli                 285\n",
              "Porbandar               224\n",
              "Saharsa                 151\n",
              "DodBallapur              75\n",
              "Amreli                   69\n",
              "Sira                     55\n",
              "Jetpur                   50\n",
              "Durgapur                 50\n",
              "Kozhikkod                49\n",
              "Kharagpur                43\n",
              "Yelahanka                43\n",
              "Bhagalpur                40\n",
              "Supaul                   37\n",
              "Siddhapur                32\n",
              "Puttur                   31\n",
              "Ghatal                   28\n",
              "Surat                    21\n",
              "Munger                   20\n",
              "Tumkur                   19\n",
              "Phulwari                 18\n",
              "Dhoraji                  16\n",
              "Ponnani                  14\n",
              "Sirsi                    14\n",
              "Amritsar                 11\n",
              "Kandi                    11\n",
              "Kishanganj                9\n",
              "Sitamarhi                 8\n",
              "Thrissur                  8\n",
              "Kalna                     8\n",
              "Jahanabad                 7\n",
              "Challakere                7\n",
              "Moga                      6\n",
              "Puruliya                  6\n",
              "Contai                    6\n",
              "Pujali                    6\n",
              "KotKapura                 5\n",
              "Malaut                    5\n",
              "Chandannagar              4\n",
              "MalerKotla                4\n",
              "Dholka                    4\n",
              "Khagaul                   3\n",
              "Chakdaha                  3\n",
              "Bagaha                    3\n",
              "Vapi                      2\n",
              "Motihari                  2\n",
              "AshoknagarKalyangarh      2\n",
              "Naihati                   2\n",
              "Ulubaria                  2\n",
              "Hoshiarpur                1\n",
              "Jamui                     1\n",
              "Visnagar                  1\n",
              "Upleta                    1\n",
              "Shiliguri                 1\n",
              "Morvi                     1\n",
              "Ahmadabad                 1\n",
              "Hospet                    1\n",
              "Gaya                      1\n",
              "Name: city, dtype: int64"
            ]
          },
          "metadata": {
            "tags": []
          },
          "execution_count": 29
        }
      ]
    },
    {
      "cell_type": "code",
      "metadata": {
        "colab": {
          "base_uri": "https://localhost:8080/"
        },
        "id": "0vxD459MyWzs",
        "outputId": "6481e427-9c4a-4e0d-85e4-e1f65818fd13"
      },
      "source": [
        "((device_data_df[device_data_df['state'] == 'WestBengal']['state'].count() - device_data_df[device_data_df['city'] == 'Calcutta']['city'].count()) / device_data_df[device_data_df['state'] == 'WestBengal']['state'].count()) * 100"
      ],
      "execution_count": 30,
      "outputs": [
        {
          "output_type": "execute_result",
          "data": {
            "text/plain": [
              "17.935349322210637"
            ]
          },
          "metadata": {
            "tags": []
          },
          "execution_count": 30
        }
      ]
    },
    {
      "cell_type": "code",
      "metadata": {
        "colab": {
          "base_uri": "https://localhost:8080/"
        },
        "id": "5b9-3qOMy0TF",
        "outputId": "f620a511-eac9-4308-f537-f6a34807d3af"
      },
      "source": [
        "((device_data_df['device_id'].count() - device_data_df[device_data_df['city'] == 'Calcutta']['city'].count()) / device_data_df['device_id'].count()) * 100"
      ],
      "execution_count": 31,
      "outputs": [
        {
          "output_type": "execute_result",
          "data": {
            "text/plain": [
              "70.20068156001514"
            ]
          },
          "metadata": {
            "tags": []
          },
          "execution_count": 31
        }
      ]
    },
    {
      "cell_type": "code",
      "metadata": {
        "colab": {
          "base_uri": "https://localhost:8080/"
        },
        "id": "V1wSumhR6kxB",
        "outputId": "6096246f-47f4-4a55-a6fb-5f45ad2482a0"
      },
      "source": [
        "((device_data_df['device_id'].count() - device_data_df[device_data_df['city'] == 'Bangalore']['city'].count()) / device_data_df['device_id'].count()) * 100"
      ],
      "execution_count": 32,
      "outputs": [
        {
          "output_type": "execute_result",
          "data": {
            "text/plain": [
              "87.61832639151837"
            ]
          },
          "metadata": {
            "tags": []
          },
          "execution_count": 32
        }
      ]
    },
    {
      "cell_type": "code",
      "metadata": {
        "id": "olwntTZdh1kZ",
        "colab": {
          "base_uri": "https://localhost:8080/",
          "height": 191
        },
        "outputId": "d83019dc-b219-44d9-c4f4-cccd1e5f75ea"
      },
      "source": [
        "device_data_df.head()"
      ],
      "execution_count": 33,
      "outputs": [
        {
          "output_type": "execute_result",
          "data": {
            "text/html": [
              "<div>\n",
              "<style scoped>\n",
              "    .dataframe tbody tr th:only-of-type {\n",
              "        vertical-align: middle;\n",
              "    }\n",
              "\n",
              "    .dataframe tbody tr th {\n",
              "        vertical-align: top;\n",
              "    }\n",
              "\n",
              "    .dataframe thead th {\n",
              "        text-align: right;\n",
              "    }\n",
              "</style>\n",
              "<table border=\"1\" class=\"dataframe\">\n",
              "  <thead>\n",
              "    <tr style=\"text-align: right;\">\n",
              "      <th></th>\n",
              "      <th>event_id</th>\n",
              "      <th>device_id</th>\n",
              "      <th>timestamp</th>\n",
              "      <th>longitude</th>\n",
              "      <th>latitude</th>\n",
              "      <th>city</th>\n",
              "      <th>state</th>\n",
              "      <th>Gender</th>\n",
              "      <th>Age</th>\n",
              "      <th>Age_Group</th>\n",
              "      <th>Brand</th>\n",
              "      <th>Model</th>\n",
              "    </tr>\n",
              "  </thead>\n",
              "  <tbody>\n",
              "    <tr>\n",
              "      <th>0</th>\n",
              "      <td>1836426</td>\n",
              "      <td>3.872522e+18</td>\n",
              "      <td>2016-05-01 20:29:14</td>\n",
              "      <td>71.294802</td>\n",
              "      <td>21.661309</td>\n",
              "      <td>Amreli</td>\n",
              "      <td>Gujarat</td>\n",
              "      <td>M</td>\n",
              "      <td>20</td>\n",
              "      <td>M22-</td>\n",
              "      <td>酷派</td>\n",
              "      <td>8702</td>\n",
              "    </tr>\n",
              "    <tr>\n",
              "      <th>1</th>\n",
              "      <td>225132</td>\n",
              "      <td>3.872522e+18</td>\n",
              "      <td>2016-05-01 12:52:44</td>\n",
              "      <td>71.294802</td>\n",
              "      <td>21.661309</td>\n",
              "      <td>Amreli</td>\n",
              "      <td>Gujarat</td>\n",
              "      <td>M</td>\n",
              "      <td>20</td>\n",
              "      <td>M22-</td>\n",
              "      <td>酷派</td>\n",
              "      <td>8702</td>\n",
              "    </tr>\n",
              "    <tr>\n",
              "      <th>2</th>\n",
              "      <td>815723</td>\n",
              "      <td>3.872522e+18</td>\n",
              "      <td>2016-05-01 12:28:56</td>\n",
              "      <td>71.294802</td>\n",
              "      <td>21.661309</td>\n",
              "      <td>Amreli</td>\n",
              "      <td>Gujarat</td>\n",
              "      <td>M</td>\n",
              "      <td>20</td>\n",
              "      <td>M22-</td>\n",
              "      <td>酷派</td>\n",
              "      <td>8702</td>\n",
              "    </tr>\n",
              "    <tr>\n",
              "      <th>3</th>\n",
              "      <td>1300157</td>\n",
              "      <td>3.872522e+18</td>\n",
              "      <td>2016-05-04 23:24:57</td>\n",
              "      <td>71.294802</td>\n",
              "      <td>21.661309</td>\n",
              "      <td>Amreli</td>\n",
              "      <td>Gujarat</td>\n",
              "      <td>M</td>\n",
              "      <td>20</td>\n",
              "      <td>M22-</td>\n",
              "      <td>酷派</td>\n",
              "      <td>8702</td>\n",
              "    </tr>\n",
              "    <tr>\n",
              "      <th>4</th>\n",
              "      <td>233682</td>\n",
              "      <td>3.872522e+18</td>\n",
              "      <td>2016-05-04 19:09:26</td>\n",
              "      <td>71.294802</td>\n",
              "      <td>21.661309</td>\n",
              "      <td>Amreli</td>\n",
              "      <td>Gujarat</td>\n",
              "      <td>M</td>\n",
              "      <td>20</td>\n",
              "      <td>M22-</td>\n",
              "      <td>酷派</td>\n",
              "      <td>8702</td>\n",
              "    </tr>\n",
              "  </tbody>\n",
              "</table>\n",
              "</div>"
            ],
            "text/plain": [
              "   event_id     device_id            timestamp  ...  Age_Group  Brand Model\n",
              "0   1836426  3.872522e+18  2016-05-01 20:29:14  ...       M22-     酷派  8702\n",
              "1    225132  3.872522e+18  2016-05-01 12:52:44  ...       M22-     酷派  8702\n",
              "2    815723  3.872522e+18  2016-05-01 12:28:56  ...       M22-     酷派  8702\n",
              "3   1300157  3.872522e+18  2016-05-04 23:24:57  ...       M22-     酷派  8702\n",
              "4    233682  3.872522e+18  2016-05-04 19:09:26  ...       M22-     酷派  8702\n",
              "\n",
              "[5 rows x 12 columns]"
            ]
          },
          "metadata": {
            "tags": []
          },
          "execution_count": 33
        }
      ]
    },
    {
      "cell_type": "code",
      "metadata": {
        "id": "CETXRTPJh8BO",
        "colab": {
          "base_uri": "https://localhost:8080/"
        },
        "outputId": "b2d2ab79-f982-45a6-a573-0040c25b32f0"
      },
      "source": [
        "device_data_df['Brand'].value_counts(ascending=False)"
      ],
      "execution_count": 34,
      "outputs": [
        {
          "output_type": "execute_result",
          "data": {
            "text/plain": [
              "小米      941\n",
              "三星      577\n",
              "华为      369\n",
              "vivo    205\n",
              "酷派      161\n",
              "OPPO     95\n",
              "魅族       94\n",
              "乐视       72\n",
              "HTC      57\n",
              "一加       35\n",
              "亿通       17\n",
              "努比亚       9\n",
              "酷比魔方      8\n",
              "锤子        1\n",
              "Name: Brand, dtype: int64"
            ]
          },
          "metadata": {
            "tags": []
          },
          "execution_count": 34
        }
      ]
    },
    {
      "cell_type": "code",
      "metadata": {
        "id": "I2dAcJMsjQ1j",
        "colab": {
          "base_uri": "https://localhost:8080/"
        },
        "outputId": "ddd27d62-55c3-4a6a-e882-e47b966533f2"
      },
      "source": [
        "((device_data_df['device_id'].count() - device_data_df[device_data_df['Brand']=='小米']['device_id'].count()) / device_data_df['device_id'].count()) * 100"
      ],
      "execution_count": 35,
      "outputs": [
        {
          "output_type": "execute_result",
          "data": {
            "text/plain": [
              "64.36955698599014"
            ]
          },
          "metadata": {
            "tags": []
          },
          "execution_count": 35
        }
      ]
    },
    {
      "cell_type": "code",
      "metadata": {
        "id": "AKsFjwYLkcr0",
        "colab": {
          "base_uri": "https://localhost:8080/"
        },
        "outputId": "ae1fc4a2-7bb3-4c47-a0ee-fb7d75a5b058"
      },
      "source": [
        "device_data_df['Model'].value_counts(ascending=False)"
      ],
      "execution_count": 36,
      "outputs": [
        {
          "output_type": "execute_result",
          "data": {
            "text/plain": [
              "红米note        306\n",
              "红米Note2       224\n",
              "Galaxy Win    151\n",
              "MI 3          137\n",
              "荣耀畅玩4         115\n",
              "             ... \n",
              "荣耀3X畅玩版         2\n",
              "Z9              1\n",
              "E5              1\n",
              "T1              1\n",
              "超级手机1           1\n",
              "Name: Model, Length: 85, dtype: int64"
            ]
          },
          "metadata": {
            "tags": []
          },
          "execution_count": 36
        }
      ]
    },
    {
      "cell_type": "code",
      "metadata": {
        "id": "ZY8WUHdQlN-a",
        "colab": {
          "base_uri": "https://localhost:8080/"
        },
        "outputId": "13730009-23fa-4a89-eee3-8b6546cd2b19"
      },
      "source": [
        "device_data_df['Model'].value_counts(ascending=False)"
      ],
      "execution_count": 37,
      "outputs": [
        {
          "output_type": "execute_result",
          "data": {
            "text/plain": [
              "红米note        306\n",
              "红米Note2       224\n",
              "Galaxy Win    151\n",
              "MI 3          137\n",
              "荣耀畅玩4         115\n",
              "             ... \n",
              "荣耀3X畅玩版         2\n",
              "Z9              1\n",
              "E5              1\n",
              "T1              1\n",
              "超级手机1           1\n",
              "Name: Model, Length: 85, dtype: int64"
            ]
          },
          "metadata": {
            "tags": []
          },
          "execution_count": 37
        }
      ]
    },
    {
      "cell_type": "code",
      "metadata": {
        "id": "nEPpdLvakneK",
        "colab": {
          "base_uri": "https://localhost:8080/",
          "height": 391
        },
        "outputId": "a6fe4427-cf65-4ce2-cd2b-3c58d0102c86"
      },
      "source": [
        "device_data_df[device_data_df['Model']=='红米note']"
      ],
      "execution_count": 38,
      "outputs": [
        {
          "output_type": "execute_result",
          "data": {
            "text/html": [
              "<div>\n",
              "<style scoped>\n",
              "    .dataframe tbody tr th:only-of-type {\n",
              "        vertical-align: middle;\n",
              "    }\n",
              "\n",
              "    .dataframe tbody tr th {\n",
              "        vertical-align: top;\n",
              "    }\n",
              "\n",
              "    .dataframe thead th {\n",
              "        text-align: right;\n",
              "    }\n",
              "</style>\n",
              "<table border=\"1\" class=\"dataframe\">\n",
              "  <thead>\n",
              "    <tr style=\"text-align: right;\">\n",
              "      <th></th>\n",
              "      <th>event_id</th>\n",
              "      <th>device_id</th>\n",
              "      <th>timestamp</th>\n",
              "      <th>longitude</th>\n",
              "      <th>latitude</th>\n",
              "      <th>city</th>\n",
              "      <th>state</th>\n",
              "      <th>Gender</th>\n",
              "      <th>Age</th>\n",
              "      <th>Age_Group</th>\n",
              "      <th>Brand</th>\n",
              "      <th>Model</th>\n",
              "    </tr>\n",
              "  </thead>\n",
              "  <tbody>\n",
              "    <tr>\n",
              "      <th>1056</th>\n",
              "      <td>271076</td>\n",
              "      <td>1.274328e+17</td>\n",
              "      <td>2016-05-03 07:37:31</td>\n",
              "      <td>73.139842</td>\n",
              "      <td>21.172943</td>\n",
              "      <td>Bardoli</td>\n",
              "      <td>Gujarat</td>\n",
              "      <td>F</td>\n",
              "      <td>28</td>\n",
              "      <td>F27-28</td>\n",
              "      <td>小米</td>\n",
              "      <td>红米note</td>\n",
              "    </tr>\n",
              "    <tr>\n",
              "      <th>1057</th>\n",
              "      <td>251055</td>\n",
              "      <td>1.274328e+17</td>\n",
              "      <td>2016-05-03 12:32:48</td>\n",
              "      <td>73.139842</td>\n",
              "      <td>21.172943</td>\n",
              "      <td>Bardoli</td>\n",
              "      <td>Gujarat</td>\n",
              "      <td>F</td>\n",
              "      <td>28</td>\n",
              "      <td>F27-28</td>\n",
              "      <td>小米</td>\n",
              "      <td>红米note</td>\n",
              "    </tr>\n",
              "    <tr>\n",
              "      <th>1058</th>\n",
              "      <td>2787201</td>\n",
              "      <td>1.274328e+17</td>\n",
              "      <td>2016-05-07 19:38:26</td>\n",
              "      <td>73.139842</td>\n",
              "      <td>21.172943</td>\n",
              "      <td>Bardoli</td>\n",
              "      <td>Gujarat</td>\n",
              "      <td>F</td>\n",
              "      <td>28</td>\n",
              "      <td>F27-28</td>\n",
              "      <td>小米</td>\n",
              "      <td>红米note</td>\n",
              "    </tr>\n",
              "    <tr>\n",
              "      <th>1059</th>\n",
              "      <td>3056922</td>\n",
              "      <td>1.274328e+17</td>\n",
              "      <td>2016-05-03 08:19:13</td>\n",
              "      <td>73.139842</td>\n",
              "      <td>21.172943</td>\n",
              "      <td>Bardoli</td>\n",
              "      <td>Gujarat</td>\n",
              "      <td>F</td>\n",
              "      <td>28</td>\n",
              "      <td>F27-28</td>\n",
              "      <td>小米</td>\n",
              "      <td>红米note</td>\n",
              "    </tr>\n",
              "    <tr>\n",
              "      <th>1060</th>\n",
              "      <td>2177734</td>\n",
              "      <td>1.274328e+17</td>\n",
              "      <td>2016-05-01 08:37:27</td>\n",
              "      <td>73.139842</td>\n",
              "      <td>21.172943</td>\n",
              "      <td>Bardoli</td>\n",
              "      <td>Gujarat</td>\n",
              "      <td>F</td>\n",
              "      <td>28</td>\n",
              "      <td>F27-28</td>\n",
              "      <td>小米</td>\n",
              "      <td>红米note</td>\n",
              "    </tr>\n",
              "    <tr>\n",
              "      <th>...</th>\n",
              "      <td>...</td>\n",
              "      <td>...</td>\n",
              "      <td>...</td>\n",
              "      <td>...</td>\n",
              "      <td>...</td>\n",
              "      <td>...</td>\n",
              "      <td>...</td>\n",
              "      <td>...</td>\n",
              "      <td>...</td>\n",
              "      <td>...</td>\n",
              "      <td>...</td>\n",
              "      <td>...</td>\n",
              "    </tr>\n",
              "    <tr>\n",
              "      <th>1738</th>\n",
              "      <td>201154</td>\n",
              "      <td>6.737477e+16</td>\n",
              "      <td>2016-05-03 12:33:27</td>\n",
              "      <td>74.519307</td>\n",
              "      <td>30.273474</td>\n",
              "      <td>Malaut</td>\n",
              "      <td>Punjab</td>\n",
              "      <td>F</td>\n",
              "      <td>25</td>\n",
              "      <td>F24-26</td>\n",
              "      <td>小米</td>\n",
              "      <td>红米note</td>\n",
              "    </tr>\n",
              "    <tr>\n",
              "      <th>1739</th>\n",
              "      <td>792606</td>\n",
              "      <td>6.737477e+16</td>\n",
              "      <td>2016-05-07 12:29:59</td>\n",
              "      <td>74.519307</td>\n",
              "      <td>30.273474</td>\n",
              "      <td>Malaut</td>\n",
              "      <td>Punjab</td>\n",
              "      <td>F</td>\n",
              "      <td>25</td>\n",
              "      <td>F24-26</td>\n",
              "      <td>小米</td>\n",
              "      <td>红米note</td>\n",
              "    </tr>\n",
              "    <tr>\n",
              "      <th>1740</th>\n",
              "      <td>201940</td>\n",
              "      <td>6.737477e+16</td>\n",
              "      <td>2016-05-07 12:29:47</td>\n",
              "      <td>74.519307</td>\n",
              "      <td>30.273474</td>\n",
              "      <td>Malaut</td>\n",
              "      <td>Punjab</td>\n",
              "      <td>F</td>\n",
              "      <td>25</td>\n",
              "      <td>F24-26</td>\n",
              "      <td>小米</td>\n",
              "      <td>红米note</td>\n",
              "    </tr>\n",
              "    <tr>\n",
              "      <th>2631</th>\n",
              "      <td>1652210</td>\n",
              "      <td>5.939461e+16</td>\n",
              "      <td>2016-05-05 01:18:22</td>\n",
              "      <td>88.162124</td>\n",
              "      <td>22.528178</td>\n",
              "      <td>Ulubaria</td>\n",
              "      <td>WestBengal</td>\n",
              "      <td>F</td>\n",
              "      <td>39</td>\n",
              "      <td>F33-42</td>\n",
              "      <td>小米</td>\n",
              "      <td>红米note</td>\n",
              "    </tr>\n",
              "    <tr>\n",
              "      <th>2632</th>\n",
              "      <td>30264</td>\n",
              "      <td>5.939461e+16</td>\n",
              "      <td>2016-05-01 01:18:27</td>\n",
              "      <td>88.162124</td>\n",
              "      <td>22.528178</td>\n",
              "      <td>Ulubaria</td>\n",
              "      <td>WestBengal</td>\n",
              "      <td>F</td>\n",
              "      <td>39</td>\n",
              "      <td>F33-42</td>\n",
              "      <td>小米</td>\n",
              "      <td>红米note</td>\n",
              "    </tr>\n",
              "  </tbody>\n",
              "</table>\n",
              "<p>306 rows × 12 columns</p>\n",
              "</div>"
            ],
            "text/plain": [
              "      event_id     device_id            timestamp  ...  Age_Group  Brand   Model\n",
              "1056    271076  1.274328e+17  2016-05-03 07:37:31  ...     F27-28     小米  红米note\n",
              "1057    251055  1.274328e+17  2016-05-03 12:32:48  ...     F27-28     小米  红米note\n",
              "1058   2787201  1.274328e+17  2016-05-07 19:38:26  ...     F27-28     小米  红米note\n",
              "1059   3056922  1.274328e+17  2016-05-03 08:19:13  ...     F27-28     小米  红米note\n",
              "1060   2177734  1.274328e+17  2016-05-01 08:37:27  ...     F27-28     小米  红米note\n",
              "...        ...           ...                  ...  ...        ...    ...     ...\n",
              "1738    201154  6.737477e+16  2016-05-03 12:33:27  ...     F24-26     小米  红米note\n",
              "1739    792606  6.737477e+16  2016-05-07 12:29:59  ...     F24-26     小米  红米note\n",
              "1740    201940  6.737477e+16  2016-05-07 12:29:47  ...     F24-26     小米  红米note\n",
              "2631   1652210  5.939461e+16  2016-05-05 01:18:22  ...     F33-42     小米  红米note\n",
              "2632     30264  5.939461e+16  2016-05-01 01:18:27  ...     F33-42     小米  红米note\n",
              "\n",
              "[306 rows x 12 columns]"
            ]
          },
          "metadata": {
            "tags": []
          },
          "execution_count": 38
        }
      ]
    },
    {
      "cell_type": "code",
      "metadata": {
        "id": "b9-UHqnPk6ZE",
        "colab": {
          "base_uri": "https://localhost:8080/"
        },
        "outputId": "ee6ab5f4-4bf1-4187-9a49-6c2e867cd411"
      },
      "source": [
        "((device_data_df['Model'].count() - device_data_df[device_data_df['Model']=='红米note']['device_id'].count()) / device_data_df['Model'].count()) * 100"
      ],
      "execution_count": 39,
      "outputs": [
        {
          "output_type": "execute_result",
          "data": {
            "text/plain": [
              "88.41347974252177"
            ]
          },
          "metadata": {
            "tags": []
          },
          "execution_count": 39
        }
      ]
    },
    {
      "cell_type": "code",
      "metadata": {
        "colab": {
          "base_uri": "https://localhost:8080/"
        },
        "id": "kImEQOlIZ6t8",
        "outputId": "813d5f4c-9cbf-4695-cb8c-c0377e9c4d98"
      },
      "source": [
        "pip install sweetviz"
      ],
      "execution_count": 40,
      "outputs": [
        {
          "output_type": "stream",
          "text": [
            "Collecting sweetviz\n",
            "\u001b[?25l  Downloading https://files.pythonhosted.org/packages/6c/ab/5ef84ee47e5344e9a23d69e0b52c11aba9d8be658d4e85c3c52d4e7d9130/sweetviz-2.1.0-py3-none-any.whl (15.1MB)\n",
            "\u001b[K     |████████████████████████████████| 15.1MB 318kB/s \n",
            "\u001b[?25hRequirement already satisfied: scipy>=1.3.2 in /usr/local/lib/python3.7/dist-packages (from sweetviz) (1.4.1)\n",
            "Collecting tqdm>=4.43.0\n",
            "\u001b[?25l  Downloading https://files.pythonhosted.org/packages/72/8a/34efae5cf9924328a8f34eeb2fdaae14c011462d9f0e3fcded48e1266d1c/tqdm-4.60.0-py2.py3-none-any.whl (75kB)\n",
            "\u001b[K     |████████████████████████████████| 81kB 8.7MB/s \n",
            "\u001b[?25hRequirement already satisfied: jinja2>=2.11.1 in /usr/local/lib/python3.7/dist-packages (from sweetviz) (2.11.3)\n",
            "Requirement already satisfied: pandas!=1.0.0,!=1.0.1,!=1.0.2,>=0.25.3 in /usr/local/lib/python3.7/dist-packages (from sweetviz) (1.1.5)\n",
            "Requirement already satisfied: importlib-resources>=1.2.0 in /usr/local/lib/python3.7/dist-packages (from sweetviz) (5.1.2)\n",
            "Requirement already satisfied: matplotlib>=3.1.3 in /usr/local/lib/python3.7/dist-packages (from sweetviz) (3.2.2)\n",
            "Requirement already satisfied: numpy>=1.16.0 in /usr/local/lib/python3.7/dist-packages (from sweetviz) (1.19.5)\n",
            "Requirement already satisfied: MarkupSafe>=0.23 in /usr/local/lib/python3.7/dist-packages (from jinja2>=2.11.1->sweetviz) (1.1.1)\n",
            "Requirement already satisfied: python-dateutil>=2.7.3 in /usr/local/lib/python3.7/dist-packages (from pandas!=1.0.0,!=1.0.1,!=1.0.2,>=0.25.3->sweetviz) (2.8.1)\n",
            "Requirement already satisfied: pytz>=2017.2 in /usr/local/lib/python3.7/dist-packages (from pandas!=1.0.0,!=1.0.1,!=1.0.2,>=0.25.3->sweetviz) (2018.9)\n",
            "Requirement already satisfied: zipp>=0.4; python_version < \"3.8\" in /usr/local/lib/python3.7/dist-packages (from importlib-resources>=1.2.0->sweetviz) (3.4.1)\n",
            "Requirement already satisfied: pyparsing!=2.0.4,!=2.1.2,!=2.1.6,>=2.0.1 in /usr/local/lib/python3.7/dist-packages (from matplotlib>=3.1.3->sweetviz) (2.4.7)\n",
            "Requirement already satisfied: kiwisolver>=1.0.1 in /usr/local/lib/python3.7/dist-packages (from matplotlib>=3.1.3->sweetviz) (1.3.1)\n",
            "Requirement already satisfied: cycler>=0.10 in /usr/local/lib/python3.7/dist-packages (from matplotlib>=3.1.3->sweetviz) (0.10.0)\n",
            "Requirement already satisfied: six>=1.5 in /usr/local/lib/python3.7/dist-packages (from python-dateutil>=2.7.3->pandas!=1.0.0,!=1.0.1,!=1.0.2,>=0.25.3->sweetviz) (1.15.0)\n",
            "Installing collected packages: tqdm, sweetviz\n",
            "  Found existing installation: tqdm 4.41.1\n",
            "    Uninstalling tqdm-4.41.1:\n",
            "      Successfully uninstalled tqdm-4.41.1\n",
            "Successfully installed sweetviz-2.1.0 tqdm-4.60.0\n"
          ],
          "name": "stdout"
        }
      ]
    },
    {
      "cell_type": "code",
      "metadata": {
        "id": "H4xVxrI4aGFC"
      },
      "source": [
        "import sweetviz as swtvz"
      ],
      "execution_count": 41,
      "outputs": []
    },
    {
      "cell_type": "code",
      "metadata": {
        "colab": {
          "base_uri": "https://localhost:8080/",
          "height": 1000,
          "referenced_widgets": [
            "6070b258c51549368382045b000803d6",
            "9eca2948a4a04daaa810d5f8d7e62823",
            "818eb22e5c0d4b1fb7b3336696f9b3e2",
            "30992cd5306447c2992bee3a400e45e0",
            "b80a4c58320c4db0a9cd19d3283cd7b3",
            "d885d354a79f4a51b25ea979b484f45c",
            "93c5bddbd2f04511aa6a0bf8af747822",
            "025876e63a74457fbf16480e0f904ef7",
            "c3cce4e0b6dd4bb192e0774f3694b9a2",
            "a1d697cf8abe415d8ece7f92466d51ba",
            "08752a6b2926478eaa7f5397e73be5e8"
          ]
        },
        "id": "ZNK5jbUUc-Fi",
        "outputId": "155d8edb-fe10-4fa7-d383-642270595c86"
      },
      "source": [
        "device_data_sweetviz=swtvz.analyze(device_data_df)"
      ],
      "execution_count": 46,
      "outputs": [
        {
          "output_type": "display_data",
          "data": {
            "application/vnd.jupyter.widget-view+json": {
              "model_id": "6070b258c51549368382045b000803d6",
              "version_minor": 0,
              "version_major": 2
            },
            "text/plain": [
              "                                             |          | [  0%]   00:00 -> (? left)"
            ]
          },
          "metadata": {
            "tags": []
          }
        },
        {
          "output_type": "stream",
          "text": [
            "/usr/local/lib/python3.7/dist-packages/matplotlib/backends/backend_agg.py:214: RuntimeWarning: Glyph 21326 missing from current font.\n",
            "  font.set_text(s, 0.0, flags=flags)\n",
            "/usr/local/lib/python3.7/dist-packages/matplotlib/backends/backend_agg.py:214: RuntimeWarning: Glyph 20026 missing from current font.\n",
            "  font.set_text(s, 0.0, flags=flags)\n",
            "/usr/local/lib/python3.7/dist-packages/matplotlib/backends/backend_agg.py:214: RuntimeWarning: Glyph 19977 missing from current font.\n",
            "  font.set_text(s, 0.0, flags=flags)\n",
            "/usr/local/lib/python3.7/dist-packages/matplotlib/backends/backend_agg.py:214: RuntimeWarning: Glyph 26143 missing from current font.\n",
            "  font.set_text(s, 0.0, flags=flags)\n",
            "/usr/local/lib/python3.7/dist-packages/matplotlib/backends/backend_agg.py:214: RuntimeWarning: Glyph 23567 missing from current font.\n",
            "  font.set_text(s, 0.0, flags=flags)\n",
            "/usr/local/lib/python3.7/dist-packages/matplotlib/backends/backend_agg.py:214: RuntimeWarning: Glyph 31859 missing from current font.\n",
            "  font.set_text(s, 0.0, flags=flags)\n",
            "/usr/local/lib/python3.7/dist-packages/matplotlib/backends/backend_agg.py:183: RuntimeWarning: Glyph 21326 missing from current font.\n",
            "  font.set_text(s, 0, flags=flags)\n",
            "/usr/local/lib/python3.7/dist-packages/matplotlib/backends/backend_agg.py:183: RuntimeWarning: Glyph 20026 missing from current font.\n",
            "  font.set_text(s, 0, flags=flags)\n",
            "/usr/local/lib/python3.7/dist-packages/matplotlib/backends/backend_agg.py:183: RuntimeWarning: Glyph 19977 missing from current font.\n",
            "  font.set_text(s, 0, flags=flags)\n",
            "/usr/local/lib/python3.7/dist-packages/matplotlib/backends/backend_agg.py:183: RuntimeWarning: Glyph 26143 missing from current font.\n",
            "  font.set_text(s, 0, flags=flags)\n",
            "/usr/local/lib/python3.7/dist-packages/matplotlib/backends/backend_agg.py:183: RuntimeWarning: Glyph 23567 missing from current font.\n",
            "  font.set_text(s, 0, flags=flags)\n",
            "/usr/local/lib/python3.7/dist-packages/matplotlib/backends/backend_agg.py:183: RuntimeWarning: Glyph 31859 missing from current font.\n",
            "  font.set_text(s, 0, flags=flags)\n",
            "/usr/local/lib/python3.7/dist-packages/matplotlib/backends/backend_agg.py:214: RuntimeWarning: Glyph 38180 missing from current font.\n",
            "  font.set_text(s, 0.0, flags=flags)\n",
            "/usr/local/lib/python3.7/dist-packages/matplotlib/backends/backend_agg.py:214: RuntimeWarning: Glyph 23376 missing from current font.\n",
            "  font.set_text(s, 0.0, flags=flags)\n",
            "/usr/local/lib/python3.7/dist-packages/matplotlib/backends/backend_agg.py:214: RuntimeWarning: Glyph 37239 missing from current font.\n",
            "  font.set_text(s, 0.0, flags=flags)\n",
            "/usr/local/lib/python3.7/dist-packages/matplotlib/backends/backend_agg.py:214: RuntimeWarning: Glyph 27604 missing from current font.\n",
            "  font.set_text(s, 0.0, flags=flags)\n",
            "/usr/local/lib/python3.7/dist-packages/matplotlib/backends/backend_agg.py:214: RuntimeWarning: Glyph 39764 missing from current font.\n",
            "  font.set_text(s, 0.0, flags=flags)\n",
            "/usr/local/lib/python3.7/dist-packages/matplotlib/backends/backend_agg.py:214: RuntimeWarning: Glyph 26041 missing from current font.\n",
            "  font.set_text(s, 0.0, flags=flags)\n",
            "/usr/local/lib/python3.7/dist-packages/matplotlib/backends/backend_agg.py:214: RuntimeWarning: Glyph 21162 missing from current font.\n",
            "  font.set_text(s, 0.0, flags=flags)\n",
            "/usr/local/lib/python3.7/dist-packages/matplotlib/backends/backend_agg.py:214: RuntimeWarning: Glyph 20122 missing from current font.\n",
            "  font.set_text(s, 0.0, flags=flags)\n",
            "/usr/local/lib/python3.7/dist-packages/matplotlib/backends/backend_agg.py:214: RuntimeWarning: Glyph 20159 missing from current font.\n",
            "  font.set_text(s, 0.0, flags=flags)\n",
            "/usr/local/lib/python3.7/dist-packages/matplotlib/backends/backend_agg.py:214: RuntimeWarning: Glyph 36890 missing from current font.\n",
            "  font.set_text(s, 0.0, flags=flags)\n",
            "/usr/local/lib/python3.7/dist-packages/matplotlib/backends/backend_agg.py:214: RuntimeWarning: Glyph 19968 missing from current font.\n",
            "  font.set_text(s, 0.0, flags=flags)\n",
            "/usr/local/lib/python3.7/dist-packages/matplotlib/backends/backend_agg.py:214: RuntimeWarning: Glyph 21152 missing from current font.\n",
            "  font.set_text(s, 0.0, flags=flags)\n",
            "/usr/local/lib/python3.7/dist-packages/matplotlib/backends/backend_agg.py:214: RuntimeWarning: Glyph 20048 missing from current font.\n",
            "  font.set_text(s, 0.0, flags=flags)\n",
            "/usr/local/lib/python3.7/dist-packages/matplotlib/backends/backend_agg.py:214: RuntimeWarning: Glyph 35270 missing from current font.\n",
            "  font.set_text(s, 0.0, flags=flags)\n",
            "/usr/local/lib/python3.7/dist-packages/matplotlib/backends/backend_agg.py:214: RuntimeWarning: Glyph 39749 missing from current font.\n",
            "  font.set_text(s, 0.0, flags=flags)\n",
            "/usr/local/lib/python3.7/dist-packages/matplotlib/backends/backend_agg.py:214: RuntimeWarning: Glyph 26063 missing from current font.\n",
            "  font.set_text(s, 0.0, flags=flags)\n",
            "/usr/local/lib/python3.7/dist-packages/matplotlib/backends/backend_agg.py:214: RuntimeWarning: Glyph 27966 missing from current font.\n",
            "  font.set_text(s, 0.0, flags=flags)\n",
            "/usr/local/lib/python3.7/dist-packages/matplotlib/backends/backend_agg.py:214: RuntimeWarning: Glyph 21326 missing from current font.\n",
            "  font.set_text(s, 0.0, flags=flags)\n",
            "/usr/local/lib/python3.7/dist-packages/matplotlib/backends/backend_agg.py:214: RuntimeWarning: Glyph 20026 missing from current font.\n",
            "  font.set_text(s, 0.0, flags=flags)\n",
            "/usr/local/lib/python3.7/dist-packages/matplotlib/backends/backend_agg.py:214: RuntimeWarning: Glyph 19977 missing from current font.\n",
            "  font.set_text(s, 0.0, flags=flags)\n",
            "/usr/local/lib/python3.7/dist-packages/matplotlib/backends/backend_agg.py:214: RuntimeWarning: Glyph 26143 missing from current font.\n",
            "  font.set_text(s, 0.0, flags=flags)\n",
            "/usr/local/lib/python3.7/dist-packages/matplotlib/backends/backend_agg.py:214: RuntimeWarning: Glyph 23567 missing from current font.\n",
            "  font.set_text(s, 0.0, flags=flags)\n",
            "/usr/local/lib/python3.7/dist-packages/matplotlib/backends/backend_agg.py:214: RuntimeWarning: Glyph 31859 missing from current font.\n",
            "  font.set_text(s, 0.0, flags=flags)\n",
            "/usr/local/lib/python3.7/dist-packages/matplotlib/backends/backend_agg.py:183: RuntimeWarning: Glyph 38180 missing from current font.\n",
            "  font.set_text(s, 0, flags=flags)\n",
            "/usr/local/lib/python3.7/dist-packages/matplotlib/backends/backend_agg.py:183: RuntimeWarning: Glyph 23376 missing from current font.\n",
            "  font.set_text(s, 0, flags=flags)\n",
            "/usr/local/lib/python3.7/dist-packages/matplotlib/backends/backend_agg.py:183: RuntimeWarning: Glyph 37239 missing from current font.\n",
            "  font.set_text(s, 0, flags=flags)\n",
            "/usr/local/lib/python3.7/dist-packages/matplotlib/backends/backend_agg.py:183: RuntimeWarning: Glyph 27604 missing from current font.\n",
            "  font.set_text(s, 0, flags=flags)\n",
            "/usr/local/lib/python3.7/dist-packages/matplotlib/backends/backend_agg.py:183: RuntimeWarning: Glyph 39764 missing from current font.\n",
            "  font.set_text(s, 0, flags=flags)\n",
            "/usr/local/lib/python3.7/dist-packages/matplotlib/backends/backend_agg.py:183: RuntimeWarning: Glyph 26041 missing from current font.\n",
            "  font.set_text(s, 0, flags=flags)\n",
            "/usr/local/lib/python3.7/dist-packages/matplotlib/backends/backend_agg.py:183: RuntimeWarning: Glyph 21162 missing from current font.\n",
            "  font.set_text(s, 0, flags=flags)\n",
            "/usr/local/lib/python3.7/dist-packages/matplotlib/backends/backend_agg.py:183: RuntimeWarning: Glyph 20122 missing from current font.\n",
            "  font.set_text(s, 0, flags=flags)\n",
            "/usr/local/lib/python3.7/dist-packages/matplotlib/backends/backend_agg.py:183: RuntimeWarning: Glyph 20159 missing from current font.\n",
            "  font.set_text(s, 0, flags=flags)\n",
            "/usr/local/lib/python3.7/dist-packages/matplotlib/backends/backend_agg.py:183: RuntimeWarning: Glyph 36890 missing from current font.\n",
            "  font.set_text(s, 0, flags=flags)\n",
            "/usr/local/lib/python3.7/dist-packages/matplotlib/backends/backend_agg.py:183: RuntimeWarning: Glyph 19968 missing from current font.\n",
            "  font.set_text(s, 0, flags=flags)\n",
            "/usr/local/lib/python3.7/dist-packages/matplotlib/backends/backend_agg.py:183: RuntimeWarning: Glyph 21152 missing from current font.\n",
            "  font.set_text(s, 0, flags=flags)\n",
            "/usr/local/lib/python3.7/dist-packages/matplotlib/backends/backend_agg.py:183: RuntimeWarning: Glyph 20048 missing from current font.\n",
            "  font.set_text(s, 0, flags=flags)\n",
            "/usr/local/lib/python3.7/dist-packages/matplotlib/backends/backend_agg.py:183: RuntimeWarning: Glyph 35270 missing from current font.\n",
            "  font.set_text(s, 0, flags=flags)\n",
            "/usr/local/lib/python3.7/dist-packages/matplotlib/backends/backend_agg.py:183: RuntimeWarning: Glyph 39749 missing from current font.\n",
            "  font.set_text(s, 0, flags=flags)\n",
            "/usr/local/lib/python3.7/dist-packages/matplotlib/backends/backend_agg.py:183: RuntimeWarning: Glyph 26063 missing from current font.\n",
            "  font.set_text(s, 0, flags=flags)\n",
            "/usr/local/lib/python3.7/dist-packages/matplotlib/backends/backend_agg.py:183: RuntimeWarning: Glyph 27966 missing from current font.\n",
            "  font.set_text(s, 0, flags=flags)\n",
            "/usr/local/lib/python3.7/dist-packages/matplotlib/backends/backend_agg.py:183: RuntimeWarning: Glyph 21326 missing from current font.\n",
            "  font.set_text(s, 0, flags=flags)\n",
            "/usr/local/lib/python3.7/dist-packages/matplotlib/backends/backend_agg.py:183: RuntimeWarning: Glyph 20026 missing from current font.\n",
            "  font.set_text(s, 0, flags=flags)\n",
            "/usr/local/lib/python3.7/dist-packages/matplotlib/backends/backend_agg.py:183: RuntimeWarning: Glyph 19977 missing from current font.\n",
            "  font.set_text(s, 0, flags=flags)\n",
            "/usr/local/lib/python3.7/dist-packages/matplotlib/backends/backend_agg.py:183: RuntimeWarning: Glyph 26143 missing from current font.\n",
            "  font.set_text(s, 0, flags=flags)\n",
            "/usr/local/lib/python3.7/dist-packages/matplotlib/backends/backend_agg.py:183: RuntimeWarning: Glyph 23567 missing from current font.\n",
            "  font.set_text(s, 0, flags=flags)\n",
            "/usr/local/lib/python3.7/dist-packages/matplotlib/backends/backend_agg.py:183: RuntimeWarning: Glyph 31859 missing from current font.\n",
            "  font.set_text(s, 0, flags=flags)\n",
            "/usr/local/lib/python3.7/dist-packages/matplotlib/backends/backend_agg.py:214: RuntimeWarning: Glyph 32418 missing from current font.\n",
            "  font.set_text(s, 0.0, flags=flags)\n",
            "/usr/local/lib/python3.7/dist-packages/matplotlib/backends/backend_agg.py:214: RuntimeWarning: Glyph 31859 missing from current font.\n",
            "  font.set_text(s, 0.0, flags=flags)\n",
            "/usr/local/lib/python3.7/dist-packages/matplotlib/backends/backend_agg.py:183: RuntimeWarning: Glyph 32418 missing from current font.\n",
            "  font.set_text(s, 0, flags=flags)\n",
            "/usr/local/lib/python3.7/dist-packages/matplotlib/backends/backend_agg.py:183: RuntimeWarning: Glyph 31859 missing from current font.\n",
            "  font.set_text(s, 0, flags=flags)\n",
            "/usr/local/lib/python3.7/dist-packages/matplotlib/backends/backend_agg.py:214: RuntimeWarning: Glyph 32418 missing from current font.\n",
            "  font.set_text(s, 0.0, flags=flags)\n",
            "/usr/local/lib/python3.7/dist-packages/matplotlib/backends/backend_agg.py:214: RuntimeWarning: Glyph 31859 missing from current font.\n",
            "  font.set_text(s, 0.0, flags=flags)\n",
            "/usr/local/lib/python3.7/dist-packages/matplotlib/backends/backend_agg.py:214: RuntimeWarning: Glyph 33635 missing from current font.\n",
            "  font.set_text(s, 0.0, flags=flags)\n",
            "/usr/local/lib/python3.7/dist-packages/matplotlib/backends/backend_agg.py:214: RuntimeWarning: Glyph 32768 missing from current font.\n",
            "  font.set_text(s, 0.0, flags=flags)\n",
            "/usr/local/lib/python3.7/dist-packages/matplotlib/backends/backend_agg.py:214: RuntimeWarning: Glyph 30021 missing from current font.\n",
            "  font.set_text(s, 0.0, flags=flags)\n",
            "/usr/local/lib/python3.7/dist-packages/matplotlib/backends/backend_agg.py:214: RuntimeWarning: Glyph 29609 missing from current font.\n",
            "  font.set_text(s, 0.0, flags=flags)\n",
            "/usr/local/lib/python3.7/dist-packages/matplotlib/backends/backend_agg.py:183: RuntimeWarning: Glyph 32418 missing from current font.\n",
            "  font.set_text(s, 0, flags=flags)\n",
            "/usr/local/lib/python3.7/dist-packages/matplotlib/backends/backend_agg.py:183: RuntimeWarning: Glyph 31859 missing from current font.\n",
            "  font.set_text(s, 0, flags=flags)\n",
            "/usr/local/lib/python3.7/dist-packages/matplotlib/backends/backend_agg.py:183: RuntimeWarning: Glyph 33635 missing from current font.\n",
            "  font.set_text(s, 0, flags=flags)\n",
            "/usr/local/lib/python3.7/dist-packages/matplotlib/backends/backend_agg.py:183: RuntimeWarning: Glyph 32768 missing from current font.\n",
            "  font.set_text(s, 0, flags=flags)\n",
            "/usr/local/lib/python3.7/dist-packages/matplotlib/backends/backend_agg.py:183: RuntimeWarning: Glyph 30021 missing from current font.\n",
            "  font.set_text(s, 0, flags=flags)\n",
            "/usr/local/lib/python3.7/dist-packages/matplotlib/backends/backend_agg.py:183: RuntimeWarning: Glyph 29609 missing from current font.\n",
            "  font.set_text(s, 0, flags=flags)\n"
          ],
          "name": "stderr"
        }
      ]
    },
    {
      "cell_type": "code",
      "metadata": {
        "colab": {
          "base_uri": "https://localhost:8080/"
        },
        "id": "QP1D-7QreENk",
        "outputId": "ff2f32ff-ed11-4b45-d1b4-4faa584cc072"
      },
      "source": [
        "device_data_sweetviz.show_html(\"devicedata_sweetviz_output.html\")"
      ],
      "execution_count": 47,
      "outputs": [
        {
          "output_type": "stream",
          "text": [
            "Report devicedata_sweetviz_output.html was generated! NOTEBOOK/COLAB USERS: the web browser MAY not pop up, regardless, the report IS saved in your notebook/colab files.\n"
          ],
          "name": "stdout"
        }
      ]
    },
    {
      "cell_type": "markdown",
      "metadata": {
        "id": "j9A8BifHBgBG"
      },
      "source": [
        "# Observations\n",
        "\n",
        "\n",
        "1.   There are 19032 devices with event data for the 6 states being considered of which customer data w.r.t mobile model, brand, customer details are present for ~0.6% only.\n",
        "2.   Among the 0.6% of Customer data available there are 85 Models of mobiles from among 14 Brands are being used.\n",
        "3. Among the 0.6% of customer data available for the 6 States.\n",
        "4. Among the 0.6% of available customer data 73.7% of them are Male.\n",
        "5. Most of the Male customers are in the age group of 23-26 & 29-31.\n",
        "6. Most of the Female customers are in the age group of 27-28 followed by 29-32.\n",
        "7. Of the available customer data most (~36.4%) of them are from WestBengal followed by Gujarat, Karnataka & Bihar states.\n",
        "8. 82% of the customers in WestBengal state are from Calcutta.\n",
        "9. Calcutta constitutes to ~29.8% of customers followed by Bangalore which constitutes to ~12.4%.\n",
        "10. Of the device data available ~35.6% of them belong to the brand Xiaomi.\n",
        "11. Of the device data available ~11.6% of them belong to Note model of Xiaomi brand.\n",
        "12. We still have brands in chinese language.\n",
        "13. No mapping given for Brand Model which contains chinese strings.\n",
        "\n",
        "\n"
      ]
    },
    {
      "cell_type": "code",
      "metadata": {
        "colab": {
          "base_uri": "https://localhost:8080/",
          "height": 191
        },
        "id": "X_-vEWy1fQ5c",
        "outputId": "94ce696b-a574-4645-c15c-6a2dd914b768"
      },
      "source": [
        "device_data_df.head()"
      ],
      "execution_count": 56,
      "outputs": [
        {
          "output_type": "execute_result",
          "data": {
            "text/html": [
              "<div>\n",
              "<style scoped>\n",
              "    .dataframe tbody tr th:only-of-type {\n",
              "        vertical-align: middle;\n",
              "    }\n",
              "\n",
              "    .dataframe tbody tr th {\n",
              "        vertical-align: top;\n",
              "    }\n",
              "\n",
              "    .dataframe thead th {\n",
              "        text-align: right;\n",
              "    }\n",
              "</style>\n",
              "<table border=\"1\" class=\"dataframe\">\n",
              "  <thead>\n",
              "    <tr style=\"text-align: right;\">\n",
              "      <th></th>\n",
              "      <th>event_id</th>\n",
              "      <th>device_id</th>\n",
              "      <th>timestamp</th>\n",
              "      <th>longitude</th>\n",
              "      <th>latitude</th>\n",
              "      <th>city</th>\n",
              "      <th>state</th>\n",
              "      <th>Gender</th>\n",
              "      <th>Age</th>\n",
              "      <th>Age_Group</th>\n",
              "      <th>Brand</th>\n",
              "      <th>Model</th>\n",
              "    </tr>\n",
              "  </thead>\n",
              "  <tbody>\n",
              "    <tr>\n",
              "      <th>0</th>\n",
              "      <td>1836426</td>\n",
              "      <td>3.872522e+18</td>\n",
              "      <td>2016-05-01 20:29:14</td>\n",
              "      <td>71.294802</td>\n",
              "      <td>21.661309</td>\n",
              "      <td>Amreli</td>\n",
              "      <td>Gujarat</td>\n",
              "      <td>M</td>\n",
              "      <td>20</td>\n",
              "      <td>M22-</td>\n",
              "      <td>酷派</td>\n",
              "      <td>8702</td>\n",
              "    </tr>\n",
              "    <tr>\n",
              "      <th>1</th>\n",
              "      <td>225132</td>\n",
              "      <td>3.872522e+18</td>\n",
              "      <td>2016-05-01 12:52:44</td>\n",
              "      <td>71.294802</td>\n",
              "      <td>21.661309</td>\n",
              "      <td>Amreli</td>\n",
              "      <td>Gujarat</td>\n",
              "      <td>M</td>\n",
              "      <td>20</td>\n",
              "      <td>M22-</td>\n",
              "      <td>酷派</td>\n",
              "      <td>8702</td>\n",
              "    </tr>\n",
              "    <tr>\n",
              "      <th>2</th>\n",
              "      <td>815723</td>\n",
              "      <td>3.872522e+18</td>\n",
              "      <td>2016-05-01 12:28:56</td>\n",
              "      <td>71.294802</td>\n",
              "      <td>21.661309</td>\n",
              "      <td>Amreli</td>\n",
              "      <td>Gujarat</td>\n",
              "      <td>M</td>\n",
              "      <td>20</td>\n",
              "      <td>M22-</td>\n",
              "      <td>酷派</td>\n",
              "      <td>8702</td>\n",
              "    </tr>\n",
              "    <tr>\n",
              "      <th>3</th>\n",
              "      <td>1300157</td>\n",
              "      <td>3.872522e+18</td>\n",
              "      <td>2016-05-04 23:24:57</td>\n",
              "      <td>71.294802</td>\n",
              "      <td>21.661309</td>\n",
              "      <td>Amreli</td>\n",
              "      <td>Gujarat</td>\n",
              "      <td>M</td>\n",
              "      <td>20</td>\n",
              "      <td>M22-</td>\n",
              "      <td>酷派</td>\n",
              "      <td>8702</td>\n",
              "    </tr>\n",
              "    <tr>\n",
              "      <th>4</th>\n",
              "      <td>233682</td>\n",
              "      <td>3.872522e+18</td>\n",
              "      <td>2016-05-04 19:09:26</td>\n",
              "      <td>71.294802</td>\n",
              "      <td>21.661309</td>\n",
              "      <td>Amreli</td>\n",
              "      <td>Gujarat</td>\n",
              "      <td>M</td>\n",
              "      <td>20</td>\n",
              "      <td>M22-</td>\n",
              "      <td>酷派</td>\n",
              "      <td>8702</td>\n",
              "    </tr>\n",
              "  </tbody>\n",
              "</table>\n",
              "</div>"
            ],
            "text/plain": [
              "   event_id     device_id            timestamp  ...  Age_Group  Brand Model\n",
              "0   1836426  3.872522e+18  2016-05-01 20:29:14  ...       M22-     酷派  8702\n",
              "1    225132  3.872522e+18  2016-05-01 12:52:44  ...       M22-     酷派  8702\n",
              "2    815723  3.872522e+18  2016-05-01 12:28:56  ...       M22-     酷派  8702\n",
              "3   1300157  3.872522e+18  2016-05-04 23:24:57  ...       M22-     酷派  8702\n",
              "4    233682  3.872522e+18  2016-05-04 19:09:26  ...       M22-     酷派  8702\n",
              "\n",
              "[5 rows x 12 columns]"
            ]
          },
          "metadata": {
            "tags": []
          },
          "execution_count": 56
        }
      ]
    },
    {
      "cell_type": "code",
      "metadata": {
        "colab": {
          "base_uri": "https://localhost:8080/",
          "height": 391
        },
        "id": "4ca45NZEesDy",
        "outputId": "7c55c69c-d8c3-47f7-fafe-b49857e99ae8"
      },
      "source": [
        "device_data_df[device_data_df['Brand'].str.contains('华为')]"
      ],
      "execution_count": 54,
      "outputs": [
        {
          "output_type": "execute_result",
          "data": {
            "text/html": [
              "<div>\n",
              "<style scoped>\n",
              "    .dataframe tbody tr th:only-of-type {\n",
              "        vertical-align: middle;\n",
              "    }\n",
              "\n",
              "    .dataframe tbody tr th {\n",
              "        vertical-align: top;\n",
              "    }\n",
              "\n",
              "    .dataframe thead th {\n",
              "        text-align: right;\n",
              "    }\n",
              "</style>\n",
              "<table border=\"1\" class=\"dataframe\">\n",
              "  <thead>\n",
              "    <tr style=\"text-align: right;\">\n",
              "      <th></th>\n",
              "      <th>event_id</th>\n",
              "      <th>device_id</th>\n",
              "      <th>timestamp</th>\n",
              "      <th>longitude</th>\n",
              "      <th>latitude</th>\n",
              "      <th>city</th>\n",
              "      <th>state</th>\n",
              "      <th>Gender</th>\n",
              "      <th>Age</th>\n",
              "      <th>Age_Group</th>\n",
              "      <th>Brand</th>\n",
              "      <th>Model</th>\n",
              "    </tr>\n",
              "  </thead>\n",
              "  <tbody>\n",
              "    <tr>\n",
              "      <th>179</th>\n",
              "      <td>662615</td>\n",
              "      <td>-1.715255e+18</td>\n",
              "      <td>2016-05-06 12:35:37</td>\n",
              "      <td>85.202010</td>\n",
              "      <td>25.665688</td>\n",
              "      <td>Phulwari</td>\n",
              "      <td>Bihar</td>\n",
              "      <td>M</td>\n",
              "      <td>24</td>\n",
              "      <td>M23-26</td>\n",
              "      <td>华为</td>\n",
              "      <td>Mate 7</td>\n",
              "    </tr>\n",
              "    <tr>\n",
              "      <th>180</th>\n",
              "      <td>1421988</td>\n",
              "      <td>-1.715255e+18</td>\n",
              "      <td>2016-05-02 10:16:41</td>\n",
              "      <td>85.202010</td>\n",
              "      <td>25.665688</td>\n",
              "      <td>Phulwari</td>\n",
              "      <td>Bihar</td>\n",
              "      <td>M</td>\n",
              "      <td>24</td>\n",
              "      <td>M23-26</td>\n",
              "      <td>华为</td>\n",
              "      <td>Mate 7</td>\n",
              "    </tr>\n",
              "    <tr>\n",
              "      <th>181</th>\n",
              "      <td>2245207</td>\n",
              "      <td>-1.715255e+18</td>\n",
              "      <td>2016-05-06 18:23:45</td>\n",
              "      <td>85.202010</td>\n",
              "      <td>25.665688</td>\n",
              "      <td>Phulwari</td>\n",
              "      <td>Bihar</td>\n",
              "      <td>M</td>\n",
              "      <td>24</td>\n",
              "      <td>M23-26</td>\n",
              "      <td>华为</td>\n",
              "      <td>Mate 7</td>\n",
              "    </tr>\n",
              "    <tr>\n",
              "      <th>182</th>\n",
              "      <td>672456</td>\n",
              "      <td>-1.715255e+18</td>\n",
              "      <td>2016-05-02 10:18:36</td>\n",
              "      <td>85.202010</td>\n",
              "      <td>25.665688</td>\n",
              "      <td>Phulwari</td>\n",
              "      <td>Bihar</td>\n",
              "      <td>M</td>\n",
              "      <td>24</td>\n",
              "      <td>M23-26</td>\n",
              "      <td>华为</td>\n",
              "      <td>Mate 7</td>\n",
              "    </tr>\n",
              "    <tr>\n",
              "      <th>183</th>\n",
              "      <td>2994053</td>\n",
              "      <td>-1.715255e+18</td>\n",
              "      <td>2016-05-02 10:14:27</td>\n",
              "      <td>85.202010</td>\n",
              "      <td>25.665688</td>\n",
              "      <td>Phulwari</td>\n",
              "      <td>Bihar</td>\n",
              "      <td>M</td>\n",
              "      <td>24</td>\n",
              "      <td>M23-26</td>\n",
              "      <td>华为</td>\n",
              "      <td>Mate 7</td>\n",
              "    </tr>\n",
              "    <tr>\n",
              "      <th>...</th>\n",
              "      <td>...</td>\n",
              "      <td>...</td>\n",
              "      <td>...</td>\n",
              "      <td>...</td>\n",
              "      <td>...</td>\n",
              "      <td>...</td>\n",
              "      <td>...</td>\n",
              "      <td>...</td>\n",
              "      <td>...</td>\n",
              "      <td>...</td>\n",
              "      <td>...</td>\n",
              "      <td>...</td>\n",
              "    </tr>\n",
              "    <tr>\n",
              "      <th>2594</th>\n",
              "      <td>2757022</td>\n",
              "      <td>-6.553937e+16</td>\n",
              "      <td>2016-05-04 17:33:47</td>\n",
              "      <td>75.870742</td>\n",
              "      <td>11.281981</td>\n",
              "      <td>Kozhikkod</td>\n",
              "      <td>Kerala</td>\n",
              "      <td>F</td>\n",
              "      <td>28</td>\n",
              "      <td>F27-28</td>\n",
              "      <td>华为</td>\n",
              "      <td>麦芒4</td>\n",
              "    </tr>\n",
              "    <tr>\n",
              "      <th>2595</th>\n",
              "      <td>1405157</td>\n",
              "      <td>-6.553937e+16</td>\n",
              "      <td>2016-05-05 18:57:45</td>\n",
              "      <td>75.870742</td>\n",
              "      <td>11.281981</td>\n",
              "      <td>Kozhikkod</td>\n",
              "      <td>Kerala</td>\n",
              "      <td>F</td>\n",
              "      <td>28</td>\n",
              "      <td>F27-28</td>\n",
              "      <td>华为</td>\n",
              "      <td>麦芒4</td>\n",
              "    </tr>\n",
              "    <tr>\n",
              "      <th>2616</th>\n",
              "      <td>2668716</td>\n",
              "      <td>-2.137457e+16</td>\n",
              "      <td>2016-05-05 17:47:04</td>\n",
              "      <td>77.643480</td>\n",
              "      <td>12.986248</td>\n",
              "      <td>Bangalore</td>\n",
              "      <td>Karnataka</td>\n",
              "      <td>M</td>\n",
              "      <td>23</td>\n",
              "      <td>M23-26</td>\n",
              "      <td>华为</td>\n",
              "      <td>B199</td>\n",
              "    </tr>\n",
              "    <tr>\n",
              "      <th>2617</th>\n",
              "      <td>381322</td>\n",
              "      <td>-2.137457e+16</td>\n",
              "      <td>2016-05-05 17:47:05</td>\n",
              "      <td>77.643480</td>\n",
              "      <td>12.986248</td>\n",
              "      <td>Bangalore</td>\n",
              "      <td>Karnataka</td>\n",
              "      <td>M</td>\n",
              "      <td>23</td>\n",
              "      <td>M23-26</td>\n",
              "      <td>华为</td>\n",
              "      <td>B199</td>\n",
              "    </tr>\n",
              "    <tr>\n",
              "      <th>2638</th>\n",
              "      <td>1334106</td>\n",
              "      <td>-2.734689e+18</td>\n",
              "      <td>2016-05-05 10:00:05</td>\n",
              "      <td>72.616658</td>\n",
              "      <td>23.056911</td>\n",
              "      <td>Ahmadabad</td>\n",
              "      <td>Gujarat</td>\n",
              "      <td>M</td>\n",
              "      <td>27</td>\n",
              "      <td>M27-28</td>\n",
              "      <td>华为</td>\n",
              "      <td>荣耀3X畅玩版</td>\n",
              "    </tr>\n",
              "  </tbody>\n",
              "</table>\n",
              "<p>369 rows × 12 columns</p>\n",
              "</div>"
            ],
            "text/plain": [
              "      event_id     device_id            timestamp  ...  Age_Group  Brand    Model\n",
              "179     662615 -1.715255e+18  2016-05-06 12:35:37  ...     M23-26     华为   Mate 7\n",
              "180    1421988 -1.715255e+18  2016-05-02 10:16:41  ...     M23-26     华为   Mate 7\n",
              "181    2245207 -1.715255e+18  2016-05-06 18:23:45  ...     M23-26     华为   Mate 7\n",
              "182     672456 -1.715255e+18  2016-05-02 10:18:36  ...     M23-26     华为   Mate 7\n",
              "183    2994053 -1.715255e+18  2016-05-02 10:14:27  ...     M23-26     华为   Mate 7\n",
              "...        ...           ...                  ...  ...        ...    ...      ...\n",
              "2594   2757022 -6.553937e+16  2016-05-04 17:33:47  ...     F27-28     华为      麦芒4\n",
              "2595   1405157 -6.553937e+16  2016-05-05 18:57:45  ...     F27-28     华为      麦芒4\n",
              "2616   2668716 -2.137457e+16  2016-05-05 17:47:04  ...     M23-26     华为     B199\n",
              "2617    381322 -2.137457e+16  2016-05-05 17:47:05  ...     M23-26     华为     B199\n",
              "2638   1334106 -2.734689e+18  2016-05-05 10:00:05  ...     M27-28     华为  荣耀3X畅玩版\n",
              "\n",
              "[369 rows x 12 columns]"
            ]
          },
          "metadata": {
            "tags": []
          },
          "execution_count": 54
        }
      ]
    },
    {
      "cell_type": "code",
      "metadata": {
        "id": "uS3tLugjfiJ5"
      },
      "source": [
        "device_data_df['Brand'] = device_data_df['Brand'].replace('华为','Huawei')"
      ],
      "execution_count": 187,
      "outputs": []
    },
    {
      "cell_type": "code",
      "metadata": {
        "id": "MSUCDFpwkhLc"
      },
      "source": [
        "device_data_df['Brand'] = device_data_df['Brand'].replace('小米','Xiaomi')"
      ],
      "execution_count": 188,
      "outputs": []
    },
    {
      "cell_type": "code",
      "metadata": {
        "id": "l1ael06Wkneq"
      },
      "source": [
        "device_data_df['Brand'] = device_data_df['Brand'].replace('三星','Samsung')"
      ],
      "execution_count": 189,
      "outputs": []
    },
    {
      "cell_type": "code",
      "metadata": {
        "id": "oga-mwCVktXl"
      },
      "source": [
        "device_data_df['Brand'] = device_data_df['Brand'].replace('魅族','Meizu')"
      ],
      "execution_count": 190,
      "outputs": []
    },
    {
      "cell_type": "code",
      "metadata": {
        "id": "B5dWt8cjlbsC"
      },
      "source": [
        "device_data_df['Brand'] = device_data_df['Brand'].replace('酷派','Coolpad')"
      ],
      "execution_count": 191,
      "outputs": []
    },
    {
      "cell_type": "code",
      "metadata": {
        "id": "spk3wbWhlf1T"
      },
      "source": [
        "device_data_df['Brand'] = device_data_df['Brand'].replace('乐视','LeEco')"
      ],
      "execution_count": 192,
      "outputs": []
    },
    {
      "cell_type": "code",
      "metadata": {
        "id": "qhdETL23hrMN"
      },
      "source": [
        "device_data_df['Brand'] = device_data_df['Brand'].replace('联想 ','Lenovo')"
      ],
      "execution_count": 193,
      "outputs": []
    },
    {
      "cell_type": "code",
      "metadata": {
        "colab": {
          "base_uri": "https://localhost:8080/",
          "height": 191
        },
        "id": "lTbOOZdAoMad",
        "outputId": "281ffba6-619e-4d59-ad01-b1be1471374e"
      },
      "source": [
        "device_data_df.head()"
      ],
      "execution_count": 72,
      "outputs": [
        {
          "output_type": "execute_result",
          "data": {
            "text/html": [
              "<div>\n",
              "<style scoped>\n",
              "    .dataframe tbody tr th:only-of-type {\n",
              "        vertical-align: middle;\n",
              "    }\n",
              "\n",
              "    .dataframe tbody tr th {\n",
              "        vertical-align: top;\n",
              "    }\n",
              "\n",
              "    .dataframe thead th {\n",
              "        text-align: right;\n",
              "    }\n",
              "</style>\n",
              "<table border=\"1\" class=\"dataframe\">\n",
              "  <thead>\n",
              "    <tr style=\"text-align: right;\">\n",
              "      <th></th>\n",
              "      <th>event_id</th>\n",
              "      <th>device_id</th>\n",
              "      <th>timestamp</th>\n",
              "      <th>longitude</th>\n",
              "      <th>latitude</th>\n",
              "      <th>city</th>\n",
              "      <th>state</th>\n",
              "      <th>Gender</th>\n",
              "      <th>Age</th>\n",
              "      <th>Age_Group</th>\n",
              "      <th>Brand</th>\n",
              "      <th>Model</th>\n",
              "    </tr>\n",
              "  </thead>\n",
              "  <tbody>\n",
              "    <tr>\n",
              "      <th>0</th>\n",
              "      <td>1836426</td>\n",
              "      <td>3.872522e+18</td>\n",
              "      <td>2016-05-01 20:29:14</td>\n",
              "      <td>71.294802</td>\n",
              "      <td>21.661309</td>\n",
              "      <td>Amreli</td>\n",
              "      <td>Gujarat</td>\n",
              "      <td>M</td>\n",
              "      <td>20</td>\n",
              "      <td>M22-</td>\n",
              "      <td>Coolpad</td>\n",
              "      <td>8702</td>\n",
              "    </tr>\n",
              "    <tr>\n",
              "      <th>1</th>\n",
              "      <td>225132</td>\n",
              "      <td>3.872522e+18</td>\n",
              "      <td>2016-05-01 12:52:44</td>\n",
              "      <td>71.294802</td>\n",
              "      <td>21.661309</td>\n",
              "      <td>Amreli</td>\n",
              "      <td>Gujarat</td>\n",
              "      <td>M</td>\n",
              "      <td>20</td>\n",
              "      <td>M22-</td>\n",
              "      <td>Coolpad</td>\n",
              "      <td>8702</td>\n",
              "    </tr>\n",
              "    <tr>\n",
              "      <th>2</th>\n",
              "      <td>815723</td>\n",
              "      <td>3.872522e+18</td>\n",
              "      <td>2016-05-01 12:28:56</td>\n",
              "      <td>71.294802</td>\n",
              "      <td>21.661309</td>\n",
              "      <td>Amreli</td>\n",
              "      <td>Gujarat</td>\n",
              "      <td>M</td>\n",
              "      <td>20</td>\n",
              "      <td>M22-</td>\n",
              "      <td>Coolpad</td>\n",
              "      <td>8702</td>\n",
              "    </tr>\n",
              "    <tr>\n",
              "      <th>3</th>\n",
              "      <td>1300157</td>\n",
              "      <td>3.872522e+18</td>\n",
              "      <td>2016-05-04 23:24:57</td>\n",
              "      <td>71.294802</td>\n",
              "      <td>21.661309</td>\n",
              "      <td>Amreli</td>\n",
              "      <td>Gujarat</td>\n",
              "      <td>M</td>\n",
              "      <td>20</td>\n",
              "      <td>M22-</td>\n",
              "      <td>Coolpad</td>\n",
              "      <td>8702</td>\n",
              "    </tr>\n",
              "    <tr>\n",
              "      <th>4</th>\n",
              "      <td>233682</td>\n",
              "      <td>3.872522e+18</td>\n",
              "      <td>2016-05-04 19:09:26</td>\n",
              "      <td>71.294802</td>\n",
              "      <td>21.661309</td>\n",
              "      <td>Amreli</td>\n",
              "      <td>Gujarat</td>\n",
              "      <td>M</td>\n",
              "      <td>20</td>\n",
              "      <td>M22-</td>\n",
              "      <td>Coolpad</td>\n",
              "      <td>8702</td>\n",
              "    </tr>\n",
              "  </tbody>\n",
              "</table>\n",
              "</div>"
            ],
            "text/plain": [
              "   event_id     device_id            timestamp  ...  Age_Group    Brand Model\n",
              "0   1836426  3.872522e+18  2016-05-01 20:29:14  ...       M22-  Coolpad  8702\n",
              "1    225132  3.872522e+18  2016-05-01 12:52:44  ...       M22-  Coolpad  8702\n",
              "2    815723  3.872522e+18  2016-05-01 12:28:56  ...       M22-  Coolpad  8702\n",
              "3   1300157  3.872522e+18  2016-05-04 23:24:57  ...       M22-  Coolpad  8702\n",
              "4    233682  3.872522e+18  2016-05-04 19:09:26  ...       M22-  Coolpad  8702\n",
              "\n",
              "[5 rows x 12 columns]"
            ]
          },
          "metadata": {
            "tags": []
          },
          "execution_count": 72
        }
      ]
    },
    {
      "cell_type": "code",
      "metadata": {
        "colab": {
          "base_uri": "https://localhost:8080/"
        },
        "id": "h6uHiyLxpqgU",
        "outputId": "ef6f610e-392a-4368-9f3b-d7d9f3661b3a"
      },
      "source": [
        "device_data_df['Age'].max()"
      ],
      "execution_count": 74,
      "outputs": [
        {
          "output_type": "execute_result",
          "data": {
            "text/plain": [
              "67"
            ]
          },
          "metadata": {
            "tags": []
          },
          "execution_count": 74
        }
      ]
    },
    {
      "cell_type": "code",
      "metadata": {
        "id": "Wp55APN2oPgM"
      },
      "source": [
        "device_data_df['age_bins']=pd.cut(device_data_df['Age'].dropna(),[10,20,30,40,50,60,70], labels=['10-20','21-30','31-40','41-50','51-60','61-70'], include_lowest=True)"
      ],
      "execution_count": 84,
      "outputs": []
    },
    {
      "cell_type": "code",
      "metadata": {
        "colab": {
          "base_uri": "https://localhost:8080/",
          "height": 191
        },
        "id": "FVFIcbAorIAn",
        "outputId": "8129fda3-7636-48ae-f14c-2b34ef2b9060"
      },
      "source": [
        "device_data_df.head()"
      ],
      "execution_count": 85,
      "outputs": [
        {
          "output_type": "execute_result",
          "data": {
            "text/html": [
              "<div>\n",
              "<style scoped>\n",
              "    .dataframe tbody tr th:only-of-type {\n",
              "        vertical-align: middle;\n",
              "    }\n",
              "\n",
              "    .dataframe tbody tr th {\n",
              "        vertical-align: top;\n",
              "    }\n",
              "\n",
              "    .dataframe thead th {\n",
              "        text-align: right;\n",
              "    }\n",
              "</style>\n",
              "<table border=\"1\" class=\"dataframe\">\n",
              "  <thead>\n",
              "    <tr style=\"text-align: right;\">\n",
              "      <th></th>\n",
              "      <th>event_id</th>\n",
              "      <th>device_id</th>\n",
              "      <th>timestamp</th>\n",
              "      <th>longitude</th>\n",
              "      <th>latitude</th>\n",
              "      <th>city</th>\n",
              "      <th>state</th>\n",
              "      <th>Gender</th>\n",
              "      <th>Age</th>\n",
              "      <th>Age_Group</th>\n",
              "      <th>Brand</th>\n",
              "      <th>Model</th>\n",
              "      <th>age_bins</th>\n",
              "    </tr>\n",
              "  </thead>\n",
              "  <tbody>\n",
              "    <tr>\n",
              "      <th>0</th>\n",
              "      <td>1836426</td>\n",
              "      <td>3.872522e+18</td>\n",
              "      <td>2016-05-01 20:29:14</td>\n",
              "      <td>71.294802</td>\n",
              "      <td>21.661309</td>\n",
              "      <td>Amreli</td>\n",
              "      <td>Gujarat</td>\n",
              "      <td>M</td>\n",
              "      <td>20</td>\n",
              "      <td>M22-</td>\n",
              "      <td>Coolpad</td>\n",
              "      <td>8702</td>\n",
              "      <td>10-20</td>\n",
              "    </tr>\n",
              "    <tr>\n",
              "      <th>1</th>\n",
              "      <td>225132</td>\n",
              "      <td>3.872522e+18</td>\n",
              "      <td>2016-05-01 12:52:44</td>\n",
              "      <td>71.294802</td>\n",
              "      <td>21.661309</td>\n",
              "      <td>Amreli</td>\n",
              "      <td>Gujarat</td>\n",
              "      <td>M</td>\n",
              "      <td>20</td>\n",
              "      <td>M22-</td>\n",
              "      <td>Coolpad</td>\n",
              "      <td>8702</td>\n",
              "      <td>10-20</td>\n",
              "    </tr>\n",
              "    <tr>\n",
              "      <th>2</th>\n",
              "      <td>815723</td>\n",
              "      <td>3.872522e+18</td>\n",
              "      <td>2016-05-01 12:28:56</td>\n",
              "      <td>71.294802</td>\n",
              "      <td>21.661309</td>\n",
              "      <td>Amreli</td>\n",
              "      <td>Gujarat</td>\n",
              "      <td>M</td>\n",
              "      <td>20</td>\n",
              "      <td>M22-</td>\n",
              "      <td>Coolpad</td>\n",
              "      <td>8702</td>\n",
              "      <td>10-20</td>\n",
              "    </tr>\n",
              "    <tr>\n",
              "      <th>3</th>\n",
              "      <td>1300157</td>\n",
              "      <td>3.872522e+18</td>\n",
              "      <td>2016-05-04 23:24:57</td>\n",
              "      <td>71.294802</td>\n",
              "      <td>21.661309</td>\n",
              "      <td>Amreli</td>\n",
              "      <td>Gujarat</td>\n",
              "      <td>M</td>\n",
              "      <td>20</td>\n",
              "      <td>M22-</td>\n",
              "      <td>Coolpad</td>\n",
              "      <td>8702</td>\n",
              "      <td>10-20</td>\n",
              "    </tr>\n",
              "    <tr>\n",
              "      <th>4</th>\n",
              "      <td>233682</td>\n",
              "      <td>3.872522e+18</td>\n",
              "      <td>2016-05-04 19:09:26</td>\n",
              "      <td>71.294802</td>\n",
              "      <td>21.661309</td>\n",
              "      <td>Amreli</td>\n",
              "      <td>Gujarat</td>\n",
              "      <td>M</td>\n",
              "      <td>20</td>\n",
              "      <td>M22-</td>\n",
              "      <td>Coolpad</td>\n",
              "      <td>8702</td>\n",
              "      <td>10-20</td>\n",
              "    </tr>\n",
              "  </tbody>\n",
              "</table>\n",
              "</div>"
            ],
            "text/plain": [
              "   event_id     device_id            timestamp  ...    Brand  Model age_bins\n",
              "0   1836426  3.872522e+18  2016-05-01 20:29:14  ...  Coolpad   8702    10-20\n",
              "1    225132  3.872522e+18  2016-05-01 12:52:44  ...  Coolpad   8702    10-20\n",
              "2    815723  3.872522e+18  2016-05-01 12:28:56  ...  Coolpad   8702    10-20\n",
              "3   1300157  3.872522e+18  2016-05-04 23:24:57  ...  Coolpad   8702    10-20\n",
              "4    233682  3.872522e+18  2016-05-04 19:09:26  ...  Coolpad   8702    10-20\n",
              "\n",
              "[5 rows x 13 columns]"
            ]
          },
          "metadata": {
            "tags": []
          },
          "execution_count": 85
        }
      ]
    },
    {
      "cell_type": "code",
      "metadata": {
        "colab": {
          "base_uri": "https://localhost:8080/"
        },
        "id": "rFDTq2OirP-V",
        "outputId": "a6f57a26-4a35-4265-f1f2-bb7ab130d9ca"
      },
      "source": [
        "device_data_df[device_data_df['age_bins']=='21-30']['Age'].max()"
      ],
      "execution_count": 89,
      "outputs": [
        {
          "output_type": "execute_result",
          "data": {
            "text/plain": [
              "30"
            ]
          },
          "metadata": {
            "tags": []
          },
          "execution_count": 89
        }
      ]
    },
    {
      "cell_type": "code",
      "metadata": {
        "colab": {
          "base_uri": "https://localhost:8080/"
        },
        "id": "tIwp8yQGqHw4",
        "outputId": "670267e0-ad7f-4597-8a26-331ffcd65ac5"
      },
      "source": [
        "device_data_df['age_bins'].value_counts()"
      ],
      "execution_count": 90,
      "outputs": [
        {
          "output_type": "execute_result",
          "data": {
            "text/plain": [
              "21-30    1549\n",
              "31-40     608\n",
              "10-20     265\n",
              "41-50     187\n",
              "61-70      29\n",
              "51-60       3\n",
              "Name: age_bins, dtype: int64"
            ]
          },
          "metadata": {
            "tags": []
          },
          "execution_count": 90
        }
      ]
    },
    {
      "cell_type": "code",
      "metadata": {
        "colab": {
          "base_uri": "https://localhost:8080/"
        },
        "id": "LirKWpVM-dRz",
        "outputId": "439b3855-a428-4af5-c947-16e6673b581c"
      },
      "source": [
        "device_data_df.isna().sum()"
      ],
      "execution_count": 161,
      "outputs": [
        {
          "output_type": "execute_result",
          "data": {
            "text/plain": [
              "event_id     0\n",
              "device_id    0\n",
              "timestamp    0\n",
              "longitude    0\n",
              "latitude     0\n",
              "city         0\n",
              "state        0\n",
              "Gender       0\n",
              "Age          0\n",
              "Age_Group    0\n",
              "Brand        0\n",
              "Model        0\n",
              "age_bins     0\n",
              "dtype: int64"
            ]
          },
          "metadata": {
            "tags": []
          },
          "execution_count": 161
        }
      ]
    },
    {
      "cell_type": "markdown",
      "metadata": {
        "id": "CtoRJkrn-wPs"
      },
      "source": [
        "There are no columns with null data"
      ]
    },
    {
      "cell_type": "code",
      "metadata": {
        "id": "e_IQT2PAt1B3"
      },
      "source": [
        "import matplotlib.pyplot as plt\n",
        "%matplotlib inline\n",
        "\n",
        "import seaborn as sns\n",
        "sns.set(style='whitegrid', font_scale=1.3, color_codes=True)      # To apply seaborn styles to the plots."
      ],
      "execution_count": 92,
      "outputs": []
    },
    {
      "cell_type": "code",
      "metadata": {
        "colab": {
          "base_uri": "https://localhost:8080/",
          "height": 302
        },
        "id": "YXZsR9FMtlnX",
        "outputId": "f35d392a-83ad-466d-f0b7-6d8385b332de"
      },
      "source": [
        "device_data_df['Gender'].value_counts().plot(kind='pie', explode=[0.05,0.05], fontsize=15, autopct='%3.1f%%',figsize=(5,5), shadow=True, legend=True, wedgeprops=dict(width=0.15), cmap='seismic')\n",
        "plt.legend(loc='center')\n",
        "plt.show()"
      ],
      "execution_count": 97,
      "outputs": [
        {
          "output_type": "display_data",
          "data": {
            "image/png": "[encoded data removed]",
            "text/plain": [
              "<Figure size 360x360 with 1 Axes>"
            ]
          },
          "metadata": {
            "tags": []
          }
        }
      ]
    },
    {
      "cell_type": "code",
      "metadata": {
        "colab": {
          "base_uri": "https://localhost:8080/",
          "height": 592
        },
        "id": "P5e5rHtkunUk",
        "outputId": "99559809-e863-4487-8ad2-375afb62fbba"
      },
      "source": [
        "device_data_df['age_bins'].value_counts().plot(kind='pie', explode=[0.05,0.05,0.05,0.05,0.05,0.05],fontsize=10, autopct='%3.1f%%', figsize=(10,10), shadow=True,legend=True, cmap='Spectral')\n",
        "plt.legend(loc='center')\n",
        "plt.title('Customer Age Group seggregation',fontsize=15)\n",
        "plt.show()"
      ],
      "execution_count": 111,
      "outputs": [
        {
          "output_type": "display_data",
          "data": {
            "image/png": "[encoded data removed]",
            "text/plain": [
              "<Figure size 720x720 with 1 Axes>"
            ]
          },
          "metadata": {
            "tags": []
          }
        }
      ]
    },
    {
      "cell_type": "code",
      "metadata": {
        "colab": {
          "base_uri": "https://localhost:8080/",
          "height": 317
        },
        "id": "JkYn4pzJx_Ba",
        "outputId": "0a3ff987-e6c9-4ef1-a1a8-4e81ba79ce2a"
      },
      "source": [
        "age_gender = device_data_df.groupby(['age_bins', 'Gender'])['age_bins'].count().unstack('Gender').fillna(0)\n",
        "age_gender.plot(kind=\"bar\",stacked=True)\n",
        "plt.xlabel(\"Age Group\")\n",
        "plt.ylabel(\"Frequency\")\n",
        "plt.show()"
      ],
      "execution_count": 116,
      "outputs": [
        {
          "output_type": "display_data",
          "data": {
            "image/png": "[encoded data removed]",
            "text/plain": [
              "<Figure size 432x288 with 1 Axes>"
            ]
          },
          "metadata": {
            "tags": []
          }
        }
      ]
    },
    {
      "cell_type": "code",
      "metadata": {
        "id": "AjuG1NXz2nxL"
      },
      "source": [
        "import warnings\n",
        "warnings.filterwarnings('ignore')"
      ],
      "execution_count": 120,
      "outputs": []
    },
    {
      "cell_type": "code",
      "metadata": {
        "colab": {
          "base_uri": "https://localhost:8080/",
          "height": 1000
        },
        "id": "2qDll_pDwtA6",
        "outputId": "a309887e-aaef-4541-edc0-77afbf40bd88"
      },
      "source": [
        "#Scatter Plot to show age Vs City\n",
        "sns.catplot(x=\"Age\",y=\"city\", data=device_data_df,kind='bar')\n",
        "fig=plt.gcf()\n",
        "fig.set_size_inches(15,30)"
      ],
      "execution_count": 131,
      "outputs": [
        {
          "output_type": "display_data",
          "data": {
            "image/png": "[encoded data removed]",
            "text/plain": [
              "<Figure size 1080x2160 with 1 Axes>"
            ]
          },
          "metadata": {
            "tags": []
          }
        }
      ]
    },
    {
      "cell_type": "code",
      "metadata": {
        "colab": {
          "base_uri": "https://localhost:8080/",
          "height": 376
        },
        "id": "uOLSig2h5fny",
        "outputId": "c579ee4c-4f90-4f44-f1d6-720e08bdbccf"
      },
      "source": [
        "#Scatter Plot to show age Vs state\n",
        "sns.catplot(x=\"Age\",y=\"state\", data=device_data_df,kind='bar')\n",
        "fig=plt.gcf()\n",
        "fig.set_size_inches(15,5)"
      ],
      "execution_count": 152,
      "outputs": [
        {
          "output_type": "display_data",
          "data": {
            "image/png": "[encoded data removed]",
            "text/plain": [
              "<Figure size 1080x360 with 1 Axes>"
            ]
          },
          "metadata": {
            "tags": []
          }
        }
      ]
    },
    {
      "cell_type": "code",
      "metadata": {
        "colab": {
          "base_uri": "https://localhost:8080/",
          "height": 191
        },
        "id": "_zk_apaN-6B9",
        "outputId": "05a85ba0-ae56-487c-ad92-997eeeaa0b08"
      },
      "source": [
        "device_data_df.head()"
      ],
      "execution_count": 162,
      "outputs": [
        {
          "output_type": "execute_result",
          "data": {
            "text/html": [
              "<div>\n",
              "<style scoped>\n",
              "    .dataframe tbody tr th:only-of-type {\n",
              "        vertical-align: middle;\n",
              "    }\n",
              "\n",
              "    .dataframe tbody tr th {\n",
              "        vertical-align: top;\n",
              "    }\n",
              "\n",
              "    .dataframe thead th {\n",
              "        text-align: right;\n",
              "    }\n",
              "</style>\n",
              "<table border=\"1\" class=\"dataframe\">\n",
              "  <thead>\n",
              "    <tr style=\"text-align: right;\">\n",
              "      <th></th>\n",
              "      <th>event_id</th>\n",
              "      <th>device_id</th>\n",
              "      <th>timestamp</th>\n",
              "      <th>longitude</th>\n",
              "      <th>latitude</th>\n",
              "      <th>city</th>\n",
              "      <th>state</th>\n",
              "      <th>Gender</th>\n",
              "      <th>Age</th>\n",
              "      <th>Age_Group</th>\n",
              "      <th>Brand</th>\n",
              "      <th>Model</th>\n",
              "      <th>age_bins</th>\n",
              "    </tr>\n",
              "  </thead>\n",
              "  <tbody>\n",
              "    <tr>\n",
              "      <th>0</th>\n",
              "      <td>1836426</td>\n",
              "      <td>3.872522e+18</td>\n",
              "      <td>2016-05-01 20:29:14</td>\n",
              "      <td>71.294802</td>\n",
              "      <td>21.661309</td>\n",
              "      <td>Amreli</td>\n",
              "      <td>Gujarat</td>\n",
              "      <td>M</td>\n",
              "      <td>20</td>\n",
              "      <td>M22-</td>\n",
              "      <td>Coolpad</td>\n",
              "      <td>8702</td>\n",
              "      <td>10-20</td>\n",
              "    </tr>\n",
              "    <tr>\n",
              "      <th>1</th>\n",
              "      <td>225132</td>\n",
              "      <td>3.872522e+18</td>\n",
              "      <td>2016-05-01 12:52:44</td>\n",
              "      <td>71.294802</td>\n",
              "      <td>21.661309</td>\n",
              "      <td>Amreli</td>\n",
              "      <td>Gujarat</td>\n",
              "      <td>M</td>\n",
              "      <td>20</td>\n",
              "      <td>M22-</td>\n",
              "      <td>Coolpad</td>\n",
              "      <td>8702</td>\n",
              "      <td>10-20</td>\n",
              "    </tr>\n",
              "    <tr>\n",
              "      <th>2</th>\n",
              "      <td>815723</td>\n",
              "      <td>3.872522e+18</td>\n",
              "      <td>2016-05-01 12:28:56</td>\n",
              "      <td>71.294802</td>\n",
              "      <td>21.661309</td>\n",
              "      <td>Amreli</td>\n",
              "      <td>Gujarat</td>\n",
              "      <td>M</td>\n",
              "      <td>20</td>\n",
              "      <td>M22-</td>\n",
              "      <td>Coolpad</td>\n",
              "      <td>8702</td>\n",
              "      <td>10-20</td>\n",
              "    </tr>\n",
              "    <tr>\n",
              "      <th>3</th>\n",
              "      <td>1300157</td>\n",
              "      <td>3.872522e+18</td>\n",
              "      <td>2016-05-04 23:24:57</td>\n",
              "      <td>71.294802</td>\n",
              "      <td>21.661309</td>\n",
              "      <td>Amreli</td>\n",
              "      <td>Gujarat</td>\n",
              "      <td>M</td>\n",
              "      <td>20</td>\n",
              "      <td>M22-</td>\n",
              "      <td>Coolpad</td>\n",
              "      <td>8702</td>\n",
              "      <td>10-20</td>\n",
              "    </tr>\n",
              "    <tr>\n",
              "      <th>4</th>\n",
              "      <td>233682</td>\n",
              "      <td>3.872522e+18</td>\n",
              "      <td>2016-05-04 19:09:26</td>\n",
              "      <td>71.294802</td>\n",
              "      <td>21.661309</td>\n",
              "      <td>Amreli</td>\n",
              "      <td>Gujarat</td>\n",
              "      <td>M</td>\n",
              "      <td>20</td>\n",
              "      <td>M22-</td>\n",
              "      <td>Coolpad</td>\n",
              "      <td>8702</td>\n",
              "      <td>10-20</td>\n",
              "    </tr>\n",
              "  </tbody>\n",
              "</table>\n",
              "</div>"
            ],
            "text/plain": [
              "   event_id     device_id            timestamp  ...    Brand  Model age_bins\n",
              "0   1836426  3.872522e+18  2016-05-01 20:29:14  ...  Coolpad   8702    10-20\n",
              "1    225132  3.872522e+18  2016-05-01 12:52:44  ...  Coolpad   8702    10-20\n",
              "2    815723  3.872522e+18  2016-05-01 12:28:56  ...  Coolpad   8702    10-20\n",
              "3   1300157  3.872522e+18  2016-05-04 23:24:57  ...  Coolpad   8702    10-20\n",
              "4    233682  3.872522e+18  2016-05-04 19:09:26  ...  Coolpad   8702    10-20\n",
              "\n",
              "[5 rows x 13 columns]"
            ]
          },
          "metadata": {
            "tags": []
          },
          "execution_count": 162
        }
      ]
    },
    {
      "cell_type": "code",
      "metadata": {
        "colab": {
          "base_uri": "https://localhost:8080/"
        },
        "id": "OCOgW3wzAGc5",
        "outputId": "0a7135d8-8c8a-446c-f830-761214845663"
      },
      "source": [
        "device_data_df.info()"
      ],
      "execution_count": 175,
      "outputs": [
        {
          "output_type": "stream",
          "text": [
            "<class 'pandas.core.frame.DataFrame'>\n",
            "Int64Index: 2641 entries, 0 to 2640\n",
            "Data columns (total 13 columns):\n",
            " #   Column     Non-Null Count  Dtype   \n",
            "---  ------     --------------  -----   \n",
            " 0   event_id   2641 non-null   int64   \n",
            " 1   device_id  2641 non-null   float64 \n",
            " 2   timestamp  2641 non-null   object  \n",
            " 3   longitude  2641 non-null   float64 \n",
            " 4   latitude   2641 non-null   float64 \n",
            " 5   city       2641 non-null   object  \n",
            " 6   state      2641 non-null   object  \n",
            " 7   Gender     2641 non-null   object  \n",
            " 8   Age        2641 non-null   int64   \n",
            " 9   Age_Group  2641 non-null   object  \n",
            " 10  Brand      2641 non-null   object  \n",
            " 11  Model      2641 non-null   object  \n",
            " 12  age_bins   2641 non-null   category\n",
            "dtypes: category(1), float64(3), int64(2), object(7)\n",
            "memory usage: 351.0+ KB\n"
          ],
          "name": "stdout"
        }
      ]
    },
    {
      "cell_type": "code",
      "metadata": {
        "colab": {
          "base_uri": "https://localhost:8080/"
        },
        "id": "gUgdG8UwI7n5",
        "outputId": "94146898-9c89-48d5-ca79-b5276e770a09"
      },
      "source": [
        "device_data_df['Brand'].value_counts()"
      ],
      "execution_count": 194,
      "outputs": [
        {
          "output_type": "execute_result",
          "data": {
            "text/plain": [
              "Xiaomi     941\n",
              "Samsung    577\n",
              "Huawei     369\n",
              "vivo       205\n",
              "Coolpad    161\n",
              "OPPO        95\n",
              "Meizu       94\n",
              "LeEco       72\n",
              "HTC         57\n",
              "一加          35\n",
              "亿通          17\n",
              "努比亚          9\n",
              "酷比魔方         8\n",
              "锤子           1\n",
              "Name: Brand, dtype: int64"
            ]
          },
          "metadata": {
            "tags": []
          },
          "execution_count": 194
        }
      ]
    }
  ]
}